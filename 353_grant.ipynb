{
 "cells": [
  {
   "cell_type": "markdown",
   "source": [
    "#CMPT353 summer 2020\n",
    "#SFU\n",
    "#Course Project\n",
    "#Author: Wei Yao (yaoweiy@sfu.ca) Yiran Zhang(yza363@sfu.ca)\n",
    "#Dataset 1: Covid-19\n",
    "#Resource Ref: https://www.kaggle.com/kimjihoo/coronavirusdataset\n",
    "#Dataset 2: COVID19 Global Forecasting\n",
    "#Resource Ref: https://www.kaggle.com/c/covid19-global-forecasting-week-5"
   ],
   "metadata": {
    "collapsed": false
   }
  },
  {
   "cell_type": "code",
   "execution_count": 246,
   "outputs": [],
   "source": [
    "import numpy as np\n",
    "import pandas as pd\n",
    "import matplotlib.pyplot as plt\n",
    "import seaborn\n",
    "import plotly.express as px\n",
    "from sklearn.ensemble import GradientBoostingClassifier, RandomForestClassifier\n",
    "from sklearn.neighbors import KNeighborsClassifier\n",
    "from sklearn.neural_network import MLPClassifier\n",
    "from sklearn.pipeline import make_pipeline\n",
    "from sklearn import tree, metrics\n",
    "from sklearn.metrics import classification_report\n",
    "from sklearn.model_selection import KFold, train_test_split"
   ],
   "metadata": {
    "collapsed": false,
    "pycharm": {
     "name": "#%%\n"
    }
   }
  },
  {
   "cell_type": "markdown",
   "source": [
    "# 1. Cases vs Time"
   ],
   "metadata": {
    "collapsed": false
   }
  },
  {
   "cell_type": "code",
   "execution_count": 247,
   "outputs": [],
   "source": [
    "time_count = pd.read_csv('Time.csv')"
   ],
   "metadata": {
    "collapsed": false,
    "pycharm": {
     "name": "#%%\n"
    }
   }
  },
  {
   "cell_type": "code",
   "execution_count": 248,
   "outputs": [
    {
     "data": {
      "text/plain": "         date  time  test  negative  confirmed  released  deceased\n0  2020-01-20    16     1         0          1         0         0\n1  2020-01-21    16     1         0          1         0         0\n2  2020-01-22    16     4         3          1         0         0\n3  2020-01-23    16    22        21          1         0         0\n4  2020-01-24    16    27        25          2         0         0",
      "text/html": "<div>\n<style scoped>\n    .dataframe tbody tr th:only-of-type {\n        vertical-align: middle;\n    }\n\n    .dataframe tbody tr th {\n        vertical-align: top;\n    }\n\n    .dataframe thead th {\n        text-align: right;\n    }\n</style>\n<table border=\"1\" class=\"dataframe\">\n  <thead>\n    <tr style=\"text-align: right;\">\n      <th></th>\n      <th>date</th>\n      <th>time</th>\n      <th>test</th>\n      <th>negative</th>\n      <th>confirmed</th>\n      <th>released</th>\n      <th>deceased</th>\n    </tr>\n  </thead>\n  <tbody>\n    <tr>\n      <th>0</th>\n      <td>2020-01-20</td>\n      <td>16</td>\n      <td>1</td>\n      <td>0</td>\n      <td>1</td>\n      <td>0</td>\n      <td>0</td>\n    </tr>\n    <tr>\n      <th>1</th>\n      <td>2020-01-21</td>\n      <td>16</td>\n      <td>1</td>\n      <td>0</td>\n      <td>1</td>\n      <td>0</td>\n      <td>0</td>\n    </tr>\n    <tr>\n      <th>2</th>\n      <td>2020-01-22</td>\n      <td>16</td>\n      <td>4</td>\n      <td>3</td>\n      <td>1</td>\n      <td>0</td>\n      <td>0</td>\n    </tr>\n    <tr>\n      <th>3</th>\n      <td>2020-01-23</td>\n      <td>16</td>\n      <td>22</td>\n      <td>21</td>\n      <td>1</td>\n      <td>0</td>\n      <td>0</td>\n    </tr>\n    <tr>\n      <th>4</th>\n      <td>2020-01-24</td>\n      <td>16</td>\n      <td>27</td>\n      <td>25</td>\n      <td>2</td>\n      <td>0</td>\n      <td>0</td>\n    </tr>\n  </tbody>\n</table>\n</div>"
     },
     "execution_count": 248,
     "metadata": {},
     "output_type": "execute_result"
    }
   ],
   "source": [
    "time_count.head()"
   ],
   "metadata": {
    "collapsed": false,
    "pycharm": {
     "name": "#%%\n"
    }
   }
  },
  {
   "cell_type": "code",
   "execution_count": 249,
   "outputs": [
    {
     "data": {
      "text/plain": "(163, 7)"
     },
     "execution_count": 249,
     "metadata": {},
     "output_type": "execute_result"
    }
   ],
   "source": [
    "time_count.shape\n"
   ],
   "metadata": {
    "collapsed": false,
    "pycharm": {
     "name": "#%%\n"
    }
   }
  },
  {
   "cell_type": "code",
   "execution_count": 250,
   "outputs": [
    {
     "data": {
      "text/plain": "           date     test  negative  confirmed  released  deceased\n0    2020-01-20        1         0          1         0         0\n1    2020-01-21        1         0          1         0         0\n2    2020-01-22        4         3          1         0         0\n3    2020-01-23       22        21          1         0         0\n4    2020-01-24       27        25          2         0         0\n..          ...      ...       ...        ...       ...       ...\n158  2020-06-26  1232315   1200885      12602     11172       282\n159  2020-06-27  1243780   1211261      12653     11317       282\n160  2020-06-28  1251695   1219975      12715     11364       282\n161  2020-06-29  1259954   1228698      12757     11429       282\n162  2020-06-30  1273766   1240157      12800     11537       282\n\n[163 rows x 6 columns]",
      "text/html": "<div>\n<style scoped>\n    .dataframe tbody tr th:only-of-type {\n        vertical-align: middle;\n    }\n\n    .dataframe tbody tr th {\n        vertical-align: top;\n    }\n\n    .dataframe thead th {\n        text-align: right;\n    }\n</style>\n<table border=\"1\" class=\"dataframe\">\n  <thead>\n    <tr style=\"text-align: right;\">\n      <th></th>\n      <th>date</th>\n      <th>test</th>\n      <th>negative</th>\n      <th>confirmed</th>\n      <th>released</th>\n      <th>deceased</th>\n    </tr>\n  </thead>\n  <tbody>\n    <tr>\n      <th>0</th>\n      <td>2020-01-20</td>\n      <td>1</td>\n      <td>0</td>\n      <td>1</td>\n      <td>0</td>\n      <td>0</td>\n    </tr>\n    <tr>\n      <th>1</th>\n      <td>2020-01-21</td>\n      <td>1</td>\n      <td>0</td>\n      <td>1</td>\n      <td>0</td>\n      <td>0</td>\n    </tr>\n    <tr>\n      <th>2</th>\n      <td>2020-01-22</td>\n      <td>4</td>\n      <td>3</td>\n      <td>1</td>\n      <td>0</td>\n      <td>0</td>\n    </tr>\n    <tr>\n      <th>3</th>\n      <td>2020-01-23</td>\n      <td>22</td>\n      <td>21</td>\n      <td>1</td>\n      <td>0</td>\n      <td>0</td>\n    </tr>\n    <tr>\n      <th>4</th>\n      <td>2020-01-24</td>\n      <td>27</td>\n      <td>25</td>\n      <td>2</td>\n      <td>0</td>\n      <td>0</td>\n    </tr>\n    <tr>\n      <th>...</th>\n      <td>...</td>\n      <td>...</td>\n      <td>...</td>\n      <td>...</td>\n      <td>...</td>\n      <td>...</td>\n    </tr>\n    <tr>\n      <th>158</th>\n      <td>2020-06-26</td>\n      <td>1232315</td>\n      <td>1200885</td>\n      <td>12602</td>\n      <td>11172</td>\n      <td>282</td>\n    </tr>\n    <tr>\n      <th>159</th>\n      <td>2020-06-27</td>\n      <td>1243780</td>\n      <td>1211261</td>\n      <td>12653</td>\n      <td>11317</td>\n      <td>282</td>\n    </tr>\n    <tr>\n      <th>160</th>\n      <td>2020-06-28</td>\n      <td>1251695</td>\n      <td>1219975</td>\n      <td>12715</td>\n      <td>11364</td>\n      <td>282</td>\n    </tr>\n    <tr>\n      <th>161</th>\n      <td>2020-06-29</td>\n      <td>1259954</td>\n      <td>1228698</td>\n      <td>12757</td>\n      <td>11429</td>\n      <td>282</td>\n    </tr>\n    <tr>\n      <th>162</th>\n      <td>2020-06-30</td>\n      <td>1273766</td>\n      <td>1240157</td>\n      <td>12800</td>\n      <td>11537</td>\n      <td>282</td>\n    </tr>\n  </tbody>\n</table>\n<p>163 rows × 6 columns</p>\n</div>"
     },
     "execution_count": 250,
     "metadata": {},
     "output_type": "execute_result"
    }
   ],
   "source": [
    "#drop null if any and delete the unnecessary column ['time']\n",
    "time_count.dropna()\n",
    "time_count.drop(columns=['time'], inplace=True)\n",
    "time_count"
   ],
   "metadata": {
    "collapsed": false,
    "pycharm": {
     "name": "#%%\n"
    }
   }
  },
  {
   "cell_type": "markdown",
   "source": [
    "## 1.1. Total Cases vs Confirmed"
   ],
   "metadata": {
    "collapsed": false,
    "pycharm": {
     "name": "#%% md\n"
    }
   }
  },
  {
   "cell_type": "code",
   "execution_count": 251,
   "outputs": [
    {
     "name": "stdout",
     "output_type": "stream",
     "text": [
      "         date  test  negative  confirmed  released  deceased\n",
      "0  2020-01-20     1         0          1         0         0\n",
      "1  2020-01-21     1         0          1         0         0\n",
      "2  2020-01-22     4         3          1         0         0\n",
      "3  2020-01-23    22        21          1         0         0\n",
      "4  2020-01-24    27        25          2         0         0\n"
     ]
    },
    {
     "data": {
      "text/plain": "<Figure size 864x288 with 1 Axes>",
      "image/png": "[encoded data removed]"
     },
     "metadata": {},
     "output_type": "display_data"
    }
   ],
   "source": [
    "print(time_count.head())\n",
    "plt.figure(figsize=(12, 4))\n",
    "plt.xticks(rotation=25)\n",
    "plt.title('COVID-19 Confirmed Cases  VS time in 2020 ')\n",
    "plt.xlabel('Time')\n",
    "plt.ylabel('Number of Confirmed Cases')\n",
    "plt.plot(time_count['date'],time_count['confirmed'])\n",
    "plt.show()"
   ],
   "metadata": {
    "collapsed": false,
    "pycharm": {
     "name": "#%%\n"
    }
   }
  },
  {
   "cell_type": "code",
   "execution_count": 252,
   "outputs": [
    {
     "data": {
      "text/plain": "<Figure size 864x288 with 1 Axes>",
      "image/png": "[encoded data removed]"
     },
     "metadata": {},
     "output_type": "display_data"
    }
   ],
   "source": [
    "# The x-axis looks wried, so I tried to modify the data timestamp to give a clear view again\n",
    "seaborn.set()\n",
    "time_count['date']=pd.to_datetime(time_count['date'],format = '%Y-%m-%d')\n",
    "\n",
    "plt.figure(figsize=(12, 4))\n",
    "plt.xticks(rotation=25)\n",
    "plt.title('COVID-19 Confirmed Cases  VS Time in 2020 ')\n",
    "plt.xlabel('Time')\n",
    "plt.ylabel('Number of Confirmed Cases')\n",
    "plt.plot(time_count['date'],time_count['confirmed'])\n",
    "plt.show()"
   ],
   "metadata": {
    "collapsed": false,
    "pycharm": {
     "name": "#%%\n"
    }
   }
  },
  {
   "cell_type": "code",
   "execution_count": 253,
   "outputs": [
    {
     "data": {
      "text/plain": "<Figure size 864x288 with 1 Axes>",
      "image/png": "[encoded data removed]"
     },
     "metadata": {},
     "output_type": "display_data"
    }
   ],
   "source": [
    "# Add more details into the cases ( negative and total tested cases)\n",
    "time_count['percentage'] =time_count['confirmed'] / time_count['test']\n",
    "plt.figure(figsize=(12, 4))\n",
    "plt.xticks(rotation=25)\n",
    "plt.title('COVID-19 Confirmed Cases  VS time in 2020 ')\n",
    "plt.xlabel('Time')\n",
    "plt.ylabel('Number of Confirmed Cases')\n",
    "plt.plot(time_count['date'],time_count['test']/100,'r.')\n",
    "plt.plot(time_count['date'],time_count['negative']/100,'g.')\n",
    "plt.plot(time_count['date'],time_count['confirmed'],'b.')\n",
    "plt.legend(['Total Tested','Negative','Confirmed(Positive)'])\n",
    "plt.show()"
   ],
   "metadata": {
    "collapsed": false,
    "pycharm": {
     "name": "#%%\n"
    }
   }
  },
  {
   "cell_type": "markdown",
   "source": [
    "## 1.2. Percentage Ratio of Confirmed Cases Trends"
   ],
   "metadata": {
    "collapsed": false,
    "pycharm": {
     "name": "#%% md\n"
    }
   }
  },
  {
   "cell_type": "code",
   "execution_count": 254,
   "outputs": [
    {
     "data": {
      "text/plain": "<Figure size 864x288 with 1 Axes>",
      "image/png": "[encoded data removed]"
     },
     "metadata": {},
     "output_type": "display_data"
    }
   ],
   "source": [
    "#print(time_count)\n",
    "plt.figure(figsize=(12, 4))\n",
    "plt.title('COVID-19 Confirmed Cases in Percentage  VS time in 2020 ')\n",
    "plt.xlabel('Time')\n",
    "plt.ylabel('Percentage of Positive/Total Tested')\n",
    "plt.plot(time_count['date'],time_count['percentage'])\n",
    "plt.show()"
   ],
   "metadata": {
    "collapsed": false,
    "pycharm": {
     "name": "#%%\n"
    }
   }
  },
  {
   "cell_type": "markdown",
   "source": [
    "## 1.3. Comparison of New Cases"
   ],
   "metadata": {
    "collapsed": false,
    "pycharm": {
     "name": "#%% md\n"
    }
   }
  },
  {
   "cell_type": "code",
   "execution_count": 255,
   "outputs": [
    {
     "data": {
      "text/plain": "<Figure size 936x504 with 1 Axes>",
      "image/png": "[encoded data removed]"
     },
     "metadata": {},
     "output_type": "display_data"
    }
   ],
   "source": [
    "color_list = ['#8DD3C7', '#FEFFB3', '#BFBBD9'\n",
    "              , '#FA8174', '#81B1D2', '#FDB462'\n",
    "              , '#B3DE69', '#BC82BD', '#CCEBC4']\n",
    "\n",
    "def plot_lines(data, column_list, column_max, title):\n",
    "    \"\"\"\n",
    "    FUNCTION\n",
    "        to show many plots with combinations of lines with consistent colors and legend\n",
    "        useful for plotting lines with different scales at once and then separately\n",
    "\n",
    "    RETURN\n",
    "        None\n",
    "    \"\"\"\n",
    "    for i in column_list:\n",
    "        fig, ax = plt.subplots(figsize=(13, 7))\n",
    "        plt.title(f'{title}', fontsize=17)\n",
    "        color_group = color_list[:-4][-(column_max-i):]\n",
    "        for test_each, color_each in zip(data.columns[i:column_max], color_group):\n",
    "            plt.plot(data.date, data[test_each]\n",
    "                     , label=test_each, color=color_each\n",
    "                    )\n",
    "            label=data[test_each]\n",
    "        ax.set_xticks(ax.get_xticks()[::int(len(data.date)/8)])\n",
    "        plt.xlabel('Date', size=13)\n",
    "        plt.ylabel('Number of cases', size=13)\n",
    "        ax.legend(loc='upper left')\n",
    "        plt.show()\n",
    "\n",
    "\n",
    "for col in time_count.columns[2:7]:\n",
    "    if col in [2, 4]:\n",
    "        new_dict = {0: 1}\n",
    "    else:\n",
    "        new_dict = {0: 0}\n",
    "    new_dict.update({ i : time_count[col][i] - time_count[col][i-1] for i in range(1, len(time_count)) })\n",
    "    time_count[f'new_{col}'] = new_dict.values()\n",
    "\n",
    "plot_lines(time_count, [7],12, 'Cumulative Cases')"
   ],
   "metadata": {
    "collapsed": false,
    "pycharm": {
     "name": "#%%\n"
    }
   }
  },
  {
   "cell_type": "markdown",
   "source": [
    "# 2. Case vs Age"
   ],
   "metadata": {
    "collapsed": false
   }
  },
  {
   "cell_type": "code",
   "execution_count": 256,
   "outputs": [],
   "source": [
    "data = pd.read_csv('PatientInfo.csv')"
   ],
   "metadata": {
    "collapsed": false,
    "pycharm": {
     "name": "#%%\n"
    }
   }
  },
  {
   "cell_type": "code",
   "execution_count": 257,
   "outputs": [
    {
     "data": {
      "text/plain": "   patient_id     sex  age country province         city  \\\n0  1000000001    male  50s   Korea    Seoul   Gangseo-gu   \n1  1000000002    male  30s   Korea    Seoul  Jungnang-gu   \n2  1000000003    male  50s   Korea    Seoul    Jongno-gu   \n3  1000000004    male  20s   Korea    Seoul      Mapo-gu   \n4  1000000005  female  20s   Korea    Seoul  Seongbuk-gu   \n\n         infection_case infected_by contact_number symptom_onset_date  \\\n0       overseas inflow         NaN             75         2020-01-22   \n1       overseas inflow         NaN             31                NaN   \n2  contact with patient  2002000001             17                NaN   \n3       overseas inflow         NaN              9         2020-01-26   \n4  contact with patient  1000000002              2                NaN   \n\n  confirmed_date released_date deceased_date     state  \n0     2020-01-23    2020-02-05           NaN  released  \n1     2020-01-30    2020-03-02           NaN  released  \n2     2020-01-30    2020-02-19           NaN  released  \n3     2020-01-30    2020-02-15           NaN  released  \n4     2020-01-31    2020-02-24           NaN  released  ",
      "text/html": "<div>\n<style scoped>\n    .dataframe tbody tr th:only-of-type {\n        vertical-align: middle;\n    }\n\n    .dataframe tbody tr th {\n        vertical-align: top;\n    }\n\n    .dataframe thead th {\n        text-align: right;\n    }\n</style>\n<table border=\"1\" class=\"dataframe\">\n  <thead>\n    <tr style=\"text-align: right;\">\n      <th></th>\n      <th>patient_id</th>\n      <th>sex</th>\n      <th>age</th>\n      <th>country</th>\n      <th>province</th>\n      <th>city</th>\n      <th>infection_case</th>\n      <th>infected_by</th>\n      <th>contact_number</th>\n      <th>symptom_onset_date</th>\n      <th>confirmed_date</th>\n      <th>released_date</th>\n      <th>deceased_date</th>\n      <th>state</th>\n    </tr>\n  </thead>\n  <tbody>\n    <tr>\n      <th>0</th>\n      <td>1000000001</td>\n      <td>male</td>\n      <td>50s</td>\n      <td>Korea</td>\n      <td>Seoul</td>\n      <td>Gangseo-gu</td>\n      <td>overseas inflow</td>\n      <td>NaN</td>\n      <td>75</td>\n      <td>2020-01-22</td>\n      <td>2020-01-23</td>\n      <td>2020-02-05</td>\n      <td>NaN</td>\n      <td>released</td>\n    </tr>\n    <tr>\n      <th>1</th>\n      <td>1000000002</td>\n      <td>male</td>\n      <td>30s</td>\n      <td>Korea</td>\n      <td>Seoul</td>\n      <td>Jungnang-gu</td>\n      <td>overseas inflow</td>\n      <td>NaN</td>\n      <td>31</td>\n      <td>NaN</td>\n      <td>2020-01-30</td>\n      <td>2020-03-02</td>\n      <td>NaN</td>\n      <td>released</td>\n    </tr>\n    <tr>\n      <th>2</th>\n      <td>1000000003</td>\n      <td>male</td>\n      <td>50s</td>\n      <td>Korea</td>\n      <td>Seoul</td>\n      <td>Jongno-gu</td>\n      <td>contact with patient</td>\n      <td>2002000001</td>\n      <td>17</td>\n      <td>NaN</td>\n      <td>2020-01-30</td>\n      <td>2020-02-19</td>\n      <td>NaN</td>\n      <td>released</td>\n    </tr>\n    <tr>\n      <th>3</th>\n      <td>1000000004</td>\n      <td>male</td>\n      <td>20s</td>\n      <td>Korea</td>\n      <td>Seoul</td>\n      <td>Mapo-gu</td>\n      <td>overseas inflow</td>\n      <td>NaN</td>\n      <td>9</td>\n      <td>2020-01-26</td>\n      <td>2020-01-30</td>\n      <td>2020-02-15</td>\n      <td>NaN</td>\n      <td>released</td>\n    </tr>\n    <tr>\n      <th>4</th>\n      <td>1000000005</td>\n      <td>female</td>\n      <td>20s</td>\n      <td>Korea</td>\n      <td>Seoul</td>\n      <td>Seongbuk-gu</td>\n      <td>contact with patient</td>\n      <td>1000000002</td>\n      <td>2</td>\n      <td>NaN</td>\n      <td>2020-01-31</td>\n      <td>2020-02-24</td>\n      <td>NaN</td>\n      <td>released</td>\n    </tr>\n  </tbody>\n</table>\n</div>"
     },
     "execution_count": 257,
     "metadata": {},
     "output_type": "execute_result"
    }
   ],
   "source": [
    "data.head()"
   ],
   "metadata": {
    "collapsed": false,
    "pycharm": {
     "name": "#%%\n"
    }
   }
  },
  {
   "cell_type": "code",
   "execution_count": 258,
   "outputs": [
    {
     "data": {
      "text/plain": "(5165, 14)"
     },
     "execution_count": 258,
     "metadata": {},
     "output_type": "execute_result"
    }
   ],
   "source": [
    "data.shape"
   ],
   "metadata": {
    "collapsed": false,
    "pycharm": {
     "name": "#%%\n"
    }
   }
  },
  {
   "cell_type": "code",
   "execution_count": 259,
   "outputs": [
    {
     "data": {
      "text/plain": "         sex  age\n0       male  50s\n1       male  30s\n2       male  50s\n3       male  20s\n4     female  20s\n...      ...  ...\n3739  female  20s\n3740    male  30s\n3741  female  20s\n3742  female  30s\n3743  female  30s\n\n[3744 rows x 2 columns]",
      "text/html": "<div>\n<style scoped>\n    .dataframe tbody tr th:only-of-type {\n        vertical-align: middle;\n    }\n\n    .dataframe tbody tr th {\n        vertical-align: top;\n    }\n\n    .dataframe thead th {\n        text-align: right;\n    }\n</style>\n<table border=\"1\" class=\"dataframe\">\n  <thead>\n    <tr style=\"text-align: right;\">\n      <th></th>\n      <th>sex</th>\n      <th>age</th>\n    </tr>\n  </thead>\n  <tbody>\n    <tr>\n      <th>0</th>\n      <td>male</td>\n      <td>50s</td>\n    </tr>\n    <tr>\n      <th>1</th>\n      <td>male</td>\n      <td>30s</td>\n    </tr>\n    <tr>\n      <th>2</th>\n      <td>male</td>\n      <td>50s</td>\n    </tr>\n    <tr>\n      <th>3</th>\n      <td>male</td>\n      <td>20s</td>\n    </tr>\n    <tr>\n      <th>4</th>\n      <td>female</td>\n      <td>20s</td>\n    </tr>\n    <tr>\n      <th>...</th>\n      <td>...</td>\n      <td>...</td>\n    </tr>\n    <tr>\n      <th>3739</th>\n      <td>female</td>\n      <td>20s</td>\n    </tr>\n    <tr>\n      <th>3740</th>\n      <td>male</td>\n      <td>30s</td>\n    </tr>\n    <tr>\n      <th>3741</th>\n      <td>female</td>\n      <td>20s</td>\n    </tr>\n    <tr>\n      <th>3742</th>\n      <td>female</td>\n      <td>30s</td>\n    </tr>\n    <tr>\n      <th>3743</th>\n      <td>female</td>\n      <td>30s</td>\n    </tr>\n  </tbody>\n</table>\n<p>3744 rows × 2 columns</p>\n</div>"
     },
     "execution_count": 259,
     "metadata": {},
     "output_type": "execute_result"
    }
   ],
   "source": [
    "# clean data: drop null if any and select necessary column ['sex','age']\n",
    "data = data[data['country'] == 'Korea']\n",
    "data = data[['sex', 'age']]\n",
    "data = data.dropna().reset_index(drop=True)\n",
    "data"
   ],
   "metadata": {
    "collapsed": false,
    "pycharm": {
     "name": "#%%\n"
    }
   }
  },
  {
   "cell_type": "markdown",
   "source": [
    "## 2.1. Male and Female Case vs Age"
   ],
   "metadata": {
    "collapsed": false
   }
  },
  {
   "cell_type": "code",
   "execution_count": 260,
   "outputs": [
    {
     "data": {
      "text/plain": "     age  counts\n0    20s     885\n1    50s     665\n2    40s     512\n3    30s     510\n4    60s     479\n5    70s     231\n6    10s     177\n7    80s     170\n8     0s      65\n9    90s      49\n10  100s       1",
      "text/html": "<div>\n<style scoped>\n    .dataframe tbody tr th:only-of-type {\n        vertical-align: middle;\n    }\n\n    .dataframe tbody tr th {\n        vertical-align: top;\n    }\n\n    .dataframe thead th {\n        text-align: right;\n    }\n</style>\n<table border=\"1\" class=\"dataframe\">\n  <thead>\n    <tr style=\"text-align: right;\">\n      <th></th>\n      <th>age</th>\n      <th>counts</th>\n    </tr>\n  </thead>\n  <tbody>\n    <tr>\n      <th>0</th>\n      <td>20s</td>\n      <td>885</td>\n    </tr>\n    <tr>\n      <th>1</th>\n      <td>50s</td>\n      <td>665</td>\n    </tr>\n    <tr>\n      <th>2</th>\n      <td>40s</td>\n      <td>512</td>\n    </tr>\n    <tr>\n      <th>3</th>\n      <td>30s</td>\n      <td>510</td>\n    </tr>\n    <tr>\n      <th>4</th>\n      <td>60s</td>\n      <td>479</td>\n    </tr>\n    <tr>\n      <th>5</th>\n      <td>70s</td>\n      <td>231</td>\n    </tr>\n    <tr>\n      <th>6</th>\n      <td>10s</td>\n      <td>177</td>\n    </tr>\n    <tr>\n      <th>7</th>\n      <td>80s</td>\n      <td>170</td>\n    </tr>\n    <tr>\n      <th>8</th>\n      <td>0s</td>\n      <td>65</td>\n    </tr>\n    <tr>\n      <th>9</th>\n      <td>90s</td>\n      <td>49</td>\n    </tr>\n    <tr>\n      <th>10</th>\n      <td>100s</td>\n      <td>1</td>\n    </tr>\n  </tbody>\n</table>\n</div>"
     },
     "execution_count": 260,
     "metadata": {},
     "output_type": "execute_result"
    }
   ],
   "source": [
    "age_count = pd.DataFrame(data['age'].value_counts())\n",
    "age_count.reset_index(level=0, inplace = True)\n",
    "age_count.columns = ['age', 'counts']\n",
    "age_count"
   ],
   "metadata": {
    "collapsed": false,
    "pycharm": {
     "name": "#%%\n"
    }
   }
  },
  {
   "cell_type": "code",
   "execution_count": 261,
   "outputs": [],
   "source": [
    "def str_to_int(age):\n",
    "    for i in range(0,age.shape[0]):\n",
    "        age[i] = int(age[i][:-1])"
   ],
   "metadata": {
    "collapsed": false,
    "pycharm": {
     "name": "#%%\n"
    }
   }
  },
  {
   "cell_type": "code",
   "execution_count": 262,
   "outputs": [
    {
     "name": "stderr",
     "output_type": "stream",
     "text": [
      "<ipython-input-261-604283338679>:3: SettingWithCopyWarning:\n",
      "\n",
      "\n",
      "A value is trying to be set on a copy of a slice from a DataFrame\n",
      "\n",
      "See the caveats in the documentation: https://pandas.pydata.org/pandas-docs/stable/user_guide/indexing.html#returning-a-view-versus-a-copy\n",
      "\n"
     ]
    }
   ],
   "source": [
    "# set age as int\n",
    "str_to_int(age_count['age'])"
   ],
   "metadata": {
    "collapsed": false,
    "pycharm": {
     "name": "#%%\n"
    }
   }
  },
  {
   "cell_type": "code",
   "execution_count": 263,
   "outputs": [
    {
     "data": {
      "text/plain": "    age  counts\n8     0      65\n6    10     177\n0    20     885\n3    30     510\n2    40     512\n1    50     665\n4    60     479\n5    70     231\n7    80     170\n9    90      49\n10  100       1",
      "text/html": "<div>\n<style scoped>\n    .dataframe tbody tr th:only-of-type {\n        vertical-align: middle;\n    }\n\n    .dataframe tbody tr th {\n        vertical-align: top;\n    }\n\n    .dataframe thead th {\n        text-align: right;\n    }\n</style>\n<table border=\"1\" class=\"dataframe\">\n  <thead>\n    <tr style=\"text-align: right;\">\n      <th></th>\n      <th>age</th>\n      <th>counts</th>\n    </tr>\n  </thead>\n  <tbody>\n    <tr>\n      <th>8</th>\n      <td>0</td>\n      <td>65</td>\n    </tr>\n    <tr>\n      <th>6</th>\n      <td>10</td>\n      <td>177</td>\n    </tr>\n    <tr>\n      <th>0</th>\n      <td>20</td>\n      <td>885</td>\n    </tr>\n    <tr>\n      <th>3</th>\n      <td>30</td>\n      <td>510</td>\n    </tr>\n    <tr>\n      <th>2</th>\n      <td>40</td>\n      <td>512</td>\n    </tr>\n    <tr>\n      <th>1</th>\n      <td>50</td>\n      <td>665</td>\n    </tr>\n    <tr>\n      <th>4</th>\n      <td>60</td>\n      <td>479</td>\n    </tr>\n    <tr>\n      <th>5</th>\n      <td>70</td>\n      <td>231</td>\n    </tr>\n    <tr>\n      <th>7</th>\n      <td>80</td>\n      <td>170</td>\n    </tr>\n    <tr>\n      <th>9</th>\n      <td>90</td>\n      <td>49</td>\n    </tr>\n    <tr>\n      <th>10</th>\n      <td>100</td>\n      <td>1</td>\n    </tr>\n  </tbody>\n</table>\n</div>"
     },
     "execution_count": 263,
     "metadata": {},
     "output_type": "execute_result"
    }
   ],
   "source": [
    "# sort age from 0 to 100\n",
    "age_count = age_count.sort_values('age')\n",
    "age_count"
   ],
   "metadata": {
    "collapsed": false,
    "pycharm": {
     "name": "#%%\n"
    }
   }
  },
  {
   "cell_type": "code",
   "execution_count": 264,
   "outputs": [
    {
     "data": {
      "text/plain": "<Figure size 864x288 with 1 Axes>",
      "image/png": "[encoded data removed]"
     },
     "metadata": {},
     "output_type": "display_data"
    }
   ],
   "source": [
    "plt.figure(figsize=(12, 4))\n",
    "plt.xticks(rotation=25)\n",
    "plt.title('COVID-19 Confirmed Cases VS Age in 2020')\n",
    "plt.xlabel('Age')\n",
    "plt.ylabel('Number of Confirmed Cases')\n",
    "plt.plot(age_count['age'],age_count['counts'])\n",
    "plt.show()"
   ],
   "metadata": {
    "collapsed": false,
    "pycharm": {
     "name": "#%%\n"
    }
   }
  },
  {
   "cell_type": "markdown",
   "source": [
    "## 2.2. Male Case vs Age"
   ],
   "metadata": {
    "collapsed": false
   }
  },
  {
   "cell_type": "code",
   "execution_count": 265,
   "outputs": [
    {
     "data": {
      "text/plain": "   age  counts\n0  20s     431\n1  30s     273\n2  50s     262\n3  60s     211\n4  40s     206\n5  10s     110\n6  70s      88\n7  80s      56\n8   0s      37\n9  90s      16",
      "text/html": "<div>\n<style scoped>\n    .dataframe tbody tr th:only-of-type {\n        vertical-align: middle;\n    }\n\n    .dataframe tbody tr th {\n        vertical-align: top;\n    }\n\n    .dataframe thead th {\n        text-align: right;\n    }\n</style>\n<table border=\"1\" class=\"dataframe\">\n  <thead>\n    <tr style=\"text-align: right;\">\n      <th></th>\n      <th>age</th>\n      <th>counts</th>\n    </tr>\n  </thead>\n  <tbody>\n    <tr>\n      <th>0</th>\n      <td>20s</td>\n      <td>431</td>\n    </tr>\n    <tr>\n      <th>1</th>\n      <td>30s</td>\n      <td>273</td>\n    </tr>\n    <tr>\n      <th>2</th>\n      <td>50s</td>\n      <td>262</td>\n    </tr>\n    <tr>\n      <th>3</th>\n      <td>60s</td>\n      <td>211</td>\n    </tr>\n    <tr>\n      <th>4</th>\n      <td>40s</td>\n      <td>206</td>\n    </tr>\n    <tr>\n      <th>5</th>\n      <td>10s</td>\n      <td>110</td>\n    </tr>\n    <tr>\n      <th>6</th>\n      <td>70s</td>\n      <td>88</td>\n    </tr>\n    <tr>\n      <th>7</th>\n      <td>80s</td>\n      <td>56</td>\n    </tr>\n    <tr>\n      <th>8</th>\n      <td>0s</td>\n      <td>37</td>\n    </tr>\n    <tr>\n      <th>9</th>\n      <td>90s</td>\n      <td>16</td>\n    </tr>\n  </tbody>\n</table>\n</div>"
     },
     "execution_count": 265,
     "metadata": {},
     "output_type": "execute_result"
    }
   ],
   "source": [
    "male_data = data[data['sex'] == 'male']\n",
    "male_age_count = pd.DataFrame(male_data['age'].value_counts())\n",
    "male_age_count.reset_index(level=0, inplace = True)\n",
    "male_age_count.columns = ['age', 'counts']\n",
    "male_age_count"
   ],
   "metadata": {
    "collapsed": false,
    "pycharm": {
     "name": "#%%\n"
    }
   }
  },
  {
   "cell_type": "code",
   "execution_count": 266,
   "outputs": [
    {
     "name": "stderr",
     "output_type": "stream",
     "text": [
      "<ipython-input-261-604283338679>:3: SettingWithCopyWarning:\n",
      "\n",
      "\n",
      "A value is trying to be set on a copy of a slice from a DataFrame\n",
      "\n",
      "See the caveats in the documentation: https://pandas.pydata.org/pandas-docs/stable/user_guide/indexing.html#returning-a-view-versus-a-copy\n",
      "\n"
     ]
    },
    {
     "data": {
      "text/plain": "  age  counts\n8   0      37\n5  10     110\n0  20     431\n1  30     273\n4  40     206\n2  50     262\n3  60     211\n6  70      88\n7  80      56\n9  90      16",
      "text/html": "<div>\n<style scoped>\n    .dataframe tbody tr th:only-of-type {\n        vertical-align: middle;\n    }\n\n    .dataframe tbody tr th {\n        vertical-align: top;\n    }\n\n    .dataframe thead th {\n        text-align: right;\n    }\n</style>\n<table border=\"1\" class=\"dataframe\">\n  <thead>\n    <tr style=\"text-align: right;\">\n      <th></th>\n      <th>age</th>\n      <th>counts</th>\n    </tr>\n  </thead>\n  <tbody>\n    <tr>\n      <th>8</th>\n      <td>0</td>\n      <td>37</td>\n    </tr>\n    <tr>\n      <th>5</th>\n      <td>10</td>\n      <td>110</td>\n    </tr>\n    <tr>\n      <th>0</th>\n      <td>20</td>\n      <td>431</td>\n    </tr>\n    <tr>\n      <th>1</th>\n      <td>30</td>\n      <td>273</td>\n    </tr>\n    <tr>\n      <th>4</th>\n      <td>40</td>\n      <td>206</td>\n    </tr>\n    <tr>\n      <th>2</th>\n      <td>50</td>\n      <td>262</td>\n    </tr>\n    <tr>\n      <th>3</th>\n      <td>60</td>\n      <td>211</td>\n    </tr>\n    <tr>\n      <th>6</th>\n      <td>70</td>\n      <td>88</td>\n    </tr>\n    <tr>\n      <th>7</th>\n      <td>80</td>\n      <td>56</td>\n    </tr>\n    <tr>\n      <th>9</th>\n      <td>90</td>\n      <td>16</td>\n    </tr>\n  </tbody>\n</table>\n</div>"
     },
     "execution_count": 266,
     "metadata": {},
     "output_type": "execute_result"
    }
   ],
   "source": [
    "# set age as int\n",
    "str_to_int(male_age_count['age'])\n",
    "# sort age from 0 to 90\n",
    "male_age_count = male_age_count.sort_values('age')\n",
    "male_age_count"
   ],
   "metadata": {
    "collapsed": false,
    "pycharm": {
     "name": "#%%\n"
    }
   }
  },
  {
   "cell_type": "code",
   "execution_count": 267,
   "outputs": [
    {
     "data": {
      "text/plain": "<Figure size 864x288 with 1 Axes>",
      "image/png": "[encoded data removed]"
     },
     "metadata": {},
     "output_type": "display_data"
    }
   ],
   "source": [
    "plt.figure(figsize=(12, 4))\n",
    "plt.xticks(rotation=25)\n",
    "plt.title('COVID-19 Confirmed Male Cases VS Age in 2020')\n",
    "plt.xlabel('Age')\n",
    "plt.ylabel('Number of Confirmed Cases')\n",
    "plt.plot(male_age_count['age'],male_age_count['counts'])\n",
    "plt.show()"
   ],
   "metadata": {
    "collapsed": false,
    "pycharm": {
     "name": "#%%\n"
    }
   }
  },
  {
   "cell_type": "markdown",
   "source": [
    "## 2.3. Female Case vs Age"
   ],
   "metadata": {
    "collapsed": false
   }
  },
  {
   "cell_type": "code",
   "execution_count": 268,
   "outputs": [
    {
     "data": {
      "text/plain": "     age  counts\n0    20s     454\n1    50s     403\n2    40s     306\n3    60s     268\n4    30s     237\n5    70s     143\n6    80s     114\n7    10s      67\n8    90s      33\n9     0s      28\n10  100s       1",
      "text/html": "<div>\n<style scoped>\n    .dataframe tbody tr th:only-of-type {\n        vertical-align: middle;\n    }\n\n    .dataframe tbody tr th {\n        vertical-align: top;\n    }\n\n    .dataframe thead th {\n        text-align: right;\n    }\n</style>\n<table border=\"1\" class=\"dataframe\">\n  <thead>\n    <tr style=\"text-align: right;\">\n      <th></th>\n      <th>age</th>\n      <th>counts</th>\n    </tr>\n  </thead>\n  <tbody>\n    <tr>\n      <th>0</th>\n      <td>20s</td>\n      <td>454</td>\n    </tr>\n    <tr>\n      <th>1</th>\n      <td>50s</td>\n      <td>403</td>\n    </tr>\n    <tr>\n      <th>2</th>\n      <td>40s</td>\n      <td>306</td>\n    </tr>\n    <tr>\n      <th>3</th>\n      <td>60s</td>\n      <td>268</td>\n    </tr>\n    <tr>\n      <th>4</th>\n      <td>30s</td>\n      <td>237</td>\n    </tr>\n    <tr>\n      <th>5</th>\n      <td>70s</td>\n      <td>143</td>\n    </tr>\n    <tr>\n      <th>6</th>\n      <td>80s</td>\n      <td>114</td>\n    </tr>\n    <tr>\n      <th>7</th>\n      <td>10s</td>\n      <td>67</td>\n    </tr>\n    <tr>\n      <th>8</th>\n      <td>90s</td>\n      <td>33</td>\n    </tr>\n    <tr>\n      <th>9</th>\n      <td>0s</td>\n      <td>28</td>\n    </tr>\n    <tr>\n      <th>10</th>\n      <td>100s</td>\n      <td>1</td>\n    </tr>\n  </tbody>\n</table>\n</div>"
     },
     "execution_count": 268,
     "metadata": {},
     "output_type": "execute_result"
    }
   ],
   "source": [
    "female_data = data[data['sex'] == 'female']\n",
    "female_age_count = pd.DataFrame(female_data['age'].value_counts())\n",
    "female_age_count.reset_index(level=0, inplace = True)\n",
    "female_age_count.columns = ['age', 'counts']\n",
    "female_age_count"
   ],
   "metadata": {
    "collapsed": false,
    "pycharm": {
     "name": "#%%\n"
    }
   }
  },
  {
   "cell_type": "code",
   "execution_count": 269,
   "outputs": [
    {
     "name": "stderr",
     "output_type": "stream",
     "text": [
      "<ipython-input-261-604283338679>:3: SettingWithCopyWarning:\n",
      "\n",
      "\n",
      "A value is trying to be set on a copy of a slice from a DataFrame\n",
      "\n",
      "See the caveats in the documentation: https://pandas.pydata.org/pandas-docs/stable/user_guide/indexing.html#returning-a-view-versus-a-copy\n",
      "\n"
     ]
    },
    {
     "data": {
      "text/plain": "    age  counts\n9     0      28\n7    10      67\n0    20     454\n4    30     237\n2    40     306\n1    50     403\n3    60     268\n5    70     143\n6    80     114\n8    90      33\n10  100       1",
      "text/html": "<div>\n<style scoped>\n    .dataframe tbody tr th:only-of-type {\n        vertical-align: middle;\n    }\n\n    .dataframe tbody tr th {\n        vertical-align: top;\n    }\n\n    .dataframe thead th {\n        text-align: right;\n    }\n</style>\n<table border=\"1\" class=\"dataframe\">\n  <thead>\n    <tr style=\"text-align: right;\">\n      <th></th>\n      <th>age</th>\n      <th>counts</th>\n    </tr>\n  </thead>\n  <tbody>\n    <tr>\n      <th>9</th>\n      <td>0</td>\n      <td>28</td>\n    </tr>\n    <tr>\n      <th>7</th>\n      <td>10</td>\n      <td>67</td>\n    </tr>\n    <tr>\n      <th>0</th>\n      <td>20</td>\n      <td>454</td>\n    </tr>\n    <tr>\n      <th>4</th>\n      <td>30</td>\n      <td>237</td>\n    </tr>\n    <tr>\n      <th>2</th>\n      <td>40</td>\n      <td>306</td>\n    </tr>\n    <tr>\n      <th>1</th>\n      <td>50</td>\n      <td>403</td>\n    </tr>\n    <tr>\n      <th>3</th>\n      <td>60</td>\n      <td>268</td>\n    </tr>\n    <tr>\n      <th>5</th>\n      <td>70</td>\n      <td>143</td>\n    </tr>\n    <tr>\n      <th>6</th>\n      <td>80</td>\n      <td>114</td>\n    </tr>\n    <tr>\n      <th>8</th>\n      <td>90</td>\n      <td>33</td>\n    </tr>\n    <tr>\n      <th>10</th>\n      <td>100</td>\n      <td>1</td>\n    </tr>\n  </tbody>\n</table>\n</div>"
     },
     "execution_count": 269,
     "metadata": {},
     "output_type": "execute_result"
    }
   ],
   "source": [
    "# set age as int\n",
    "str_to_int(female_age_count['age'])\n",
    "# sort age from 0 to 100\n",
    "female_age_count = female_age_count.sort_values('age')\n",
    "female_age_count"
   ],
   "metadata": {
    "collapsed": false,
    "pycharm": {
     "name": "#%%\n"
    }
   }
  },
  {
   "cell_type": "code",
   "execution_count": 270,
   "outputs": [
    {
     "data": {
      "text/plain": "<Figure size 864x288 with 1 Axes>",
      "image/png": "[encoded data removed]"
     },
     "metadata": {},
     "output_type": "display_data"
    }
   ],
   "source": [
    "plt.figure(figsize=(12, 4))\n",
    "plt.xticks(rotation=25)\n",
    "plt.title('COVID-19 Confirmed Female Cases VS Age in 2020')\n",
    "plt.xlabel('Age')\n",
    "plt.ylabel('Number of Confirmed Cases')\n",
    "plt.plot(female_age_count['age'],female_age_count['counts'])\n",
    "plt.show()"
   ],
   "metadata": {
    "collapsed": false,
    "pycharm": {
     "name": "#%%\n"
    }
   }
  },
  {
   "cell_type": "markdown",
   "source": [
    "## 2.4. Merge Into One Diagram"
   ],
   "metadata": {
    "collapsed": false
   }
  },
  {
   "cell_type": "code",
   "execution_count": 271,
   "outputs": [
    {
     "data": {
      "text/plain": "<Figure size 864x288 with 1 Axes>",
      "image/png": "[encoded data removed]"
     },
     "metadata": {},
     "output_type": "display_data"
    }
   ],
   "source": [
    "plt.figure(figsize=(12, 4))\n",
    "plt.xticks(rotation=25)\n",
    "plt.title('COVID-19 Confirmed Cases VS Age in 2020 ')\n",
    "plt.xlabel('Age')\n",
    "plt.ylabel('Number of Confirmed Cases')\n",
    "plt.plot(age_count['age'],age_count['counts'],'r')\n",
    "plt.plot(male_age_count['age'],male_age_count['counts'],'g')\n",
    "plt.plot(female_age_count['age'],female_age_count['counts'],'b')\n",
    "plt.legend(['Male & Female','Male','Female'])\n",
    "plt.show()"
   ],
   "metadata": {
    "collapsed": false,
    "pycharm": {
     "name": "#%%\n"
    }
   }
  },
  {
   "cell_type": "markdown",
   "source": [
    "## 2.5. The Proportion of Patients of All Ages was Compared"
   ],
   "metadata": {
    "collapsed": false
   }
  },
  {
   "cell_type": "code",
   "execution_count": 272,
   "outputs": [],
   "source": [
    "# sum the number of cases for three diff ways\n",
    "mf_case = age_count['counts'].sum()\n",
    "m_case = male_age_count['counts'].sum()\n",
    "f_case = female_age_count['counts'].sum()"
   ],
   "metadata": {
    "collapsed": false,
    "pycharm": {
     "name": "#%%\n"
    }
   }
  },
  {
   "cell_type": "code",
   "execution_count": 273,
   "outputs": [],
   "source": [
    "# both male and female\n",
    "age_count['proportion'] = (age_count['counts'] / mf_case) * 100\n",
    "age_count['proportion'] = age_count['proportion'].round(decimals=2)\n",
    "# male\n",
    "male_age_count['proportion'] = (age_count['counts'] / mf_case) * 100\n",
    "male_age_count['proportion'] = age_count['proportion'].round(decimals=2)\n",
    "# female\n",
    "female_age_count['proportion'] = (age_count['counts'] / mf_case) * 100\n",
    "female_age_count['proportion'] = age_count['proportion'].round(decimals=2)"
   ],
   "metadata": {
    "collapsed": false,
    "pycharm": {
     "name": "#%%\n"
    }
   }
  },
  {
   "cell_type": "code",
   "execution_count": 274,
   "outputs": [
    {
     "data": {
      "text/plain": "<Figure size 864x288 with 1 Axes>",
      "image/png": "[encoded data removed]"
     },
     "metadata": {},
     "output_type": "display_data"
    }
   ],
   "source": [
    "plt.figure(figsize=(12, 4))\n",
    "plt.xticks(rotation=25)\n",
    "plt.title('COVID-19 Proportion of Patients VS Age in 2020 (Line)')\n",
    "plt.xlabel('Age')\n",
    "plt.ylabel('The Proportion of Patients')\n",
    "plt.plot(age_count['age'],age_count['proportion'],'r')\n",
    "plt.plot(male_age_count['age'],male_age_count['proportion'],'g--')\n",
    "plt.plot(female_age_count['age'],female_age_count['proportion'],'b-.')\n",
    "plt.legend(['Male & Female','Male','Female'])\n",
    "plt.show()"
   ],
   "metadata": {
    "collapsed": false,
    "pycharm": {
     "name": "#%%\n"
    }
   }
  },
  {
   "cell_type": "code",
   "execution_count": 275,
   "outputs": [
    {
     "data": {
      "text/plain": "<Figure size 864x288 with 1 Axes>",
      "image/png": "[encoded data removed]"
     },
     "metadata": {},
     "output_type": "display_data"
    }
   ],
   "source": [
    "plt.figure(figsize=(12, 4))\n",
    "plt.xticks(rotation=25)\n",
    "plt.title('COVID-19 Proportion of Patients VS Age in 2020 (Dot)')\n",
    "plt.xlabel('Age')\n",
    "plt.ylabel('The Proportion of Patients')\n",
    "plt.plot(age_count['age'],age_count['proportion'],'r.')\n",
    "plt.plot(male_age_count['age'],male_age_count['proportion'],'g.')\n",
    "plt.plot(female_age_count['age'],female_age_count['proportion'],'b.')\n",
    "plt.legend(['Male & Female','Male','Female'])\n",
    "plt.show()"
   ],
   "metadata": {
    "collapsed": false,
    "pycharm": {
     "name": "#%%\n"
    }
   }
  },
  {
   "cell_type": "markdown",
   "source": [
    "# 3. Case vs City"
   ],
   "metadata": {
    "collapsed": false
   }
  },
  {
   "cell_type": "code",
   "execution_count": 323,
   "outputs": [
    {
     "data": {
      "text/plain": "   patient_id     sex  age country province         city  \\\n0  1000000001    male  50s   Korea    Seoul   Gangseo-gu   \n1  1000000002    male  30s   Korea    Seoul  Jungnang-gu   \n2  1000000003    male  50s   Korea    Seoul    Jongno-gu   \n3  1000000004    male  20s   Korea    Seoul      Mapo-gu   \n4  1000000005  female  20s   Korea    Seoul  Seongbuk-gu   \n\n         infection_case infected_by contact_number symptom_onset_date  \\\n0       overseas inflow         NaN             75         2020-01-22   \n1       overseas inflow         NaN             31                NaN   \n2  contact with patient  2002000001             17                NaN   \n3       overseas inflow         NaN              9         2020-01-26   \n4  contact with patient  1000000002              2                NaN   \n\n  confirmed_date released_date deceased_date     state  \n0     2020-01-23    2020-02-05           NaN  released  \n1     2020-01-30    2020-03-02           NaN  released  \n2     2020-01-30    2020-02-19           NaN  released  \n3     2020-01-30    2020-02-15           NaN  released  \n4     2020-01-31    2020-02-24           NaN  released  ",
      "text/html": "<div>\n<style scoped>\n    .dataframe tbody tr th:only-of-type {\n        vertical-align: middle;\n    }\n\n    .dataframe tbody tr th {\n        vertical-align: top;\n    }\n\n    .dataframe thead th {\n        text-align: right;\n    }\n</style>\n<table border=\"1\" class=\"dataframe\">\n  <thead>\n    <tr style=\"text-align: right;\">\n      <th></th>\n      <th>patient_id</th>\n      <th>sex</th>\n      <th>age</th>\n      <th>country</th>\n      <th>province</th>\n      <th>city</th>\n      <th>infection_case</th>\n      <th>infected_by</th>\n      <th>contact_number</th>\n      <th>symptom_onset_date</th>\n      <th>confirmed_date</th>\n      <th>released_date</th>\n      <th>deceased_date</th>\n      <th>state</th>\n    </tr>\n  </thead>\n  <tbody>\n    <tr>\n      <th>0</th>\n      <td>1000000001</td>\n      <td>male</td>\n      <td>50s</td>\n      <td>Korea</td>\n      <td>Seoul</td>\n      <td>Gangseo-gu</td>\n      <td>overseas inflow</td>\n      <td>NaN</td>\n      <td>75</td>\n      <td>2020-01-22</td>\n      <td>2020-01-23</td>\n      <td>2020-02-05</td>\n      <td>NaN</td>\n      <td>released</td>\n    </tr>\n    <tr>\n      <th>1</th>\n      <td>1000000002</td>\n      <td>male</td>\n      <td>30s</td>\n      <td>Korea</td>\n      <td>Seoul</td>\n      <td>Jungnang-gu</td>\n      <td>overseas inflow</td>\n      <td>NaN</td>\n      <td>31</td>\n      <td>NaN</td>\n      <td>2020-01-30</td>\n      <td>2020-03-02</td>\n      <td>NaN</td>\n      <td>released</td>\n    </tr>\n    <tr>\n      <th>2</th>\n      <td>1000000003</td>\n      <td>male</td>\n      <td>50s</td>\n      <td>Korea</td>\n      <td>Seoul</td>\n      <td>Jongno-gu</td>\n      <td>contact with patient</td>\n      <td>2002000001</td>\n      <td>17</td>\n      <td>NaN</td>\n      <td>2020-01-30</td>\n      <td>2020-02-19</td>\n      <td>NaN</td>\n      <td>released</td>\n    </tr>\n    <tr>\n      <th>3</th>\n      <td>1000000004</td>\n      <td>male</td>\n      <td>20s</td>\n      <td>Korea</td>\n      <td>Seoul</td>\n      <td>Mapo-gu</td>\n      <td>overseas inflow</td>\n      <td>NaN</td>\n      <td>9</td>\n      <td>2020-01-26</td>\n      <td>2020-01-30</td>\n      <td>2020-02-15</td>\n      <td>NaN</td>\n      <td>released</td>\n    </tr>\n    <tr>\n      <th>4</th>\n      <td>1000000005</td>\n      <td>female</td>\n      <td>20s</td>\n      <td>Korea</td>\n      <td>Seoul</td>\n      <td>Seongbuk-gu</td>\n      <td>contact with patient</td>\n      <td>1000000002</td>\n      <td>2</td>\n      <td>NaN</td>\n      <td>2020-01-31</td>\n      <td>2020-02-24</td>\n      <td>NaN</td>\n      <td>released</td>\n    </tr>\n  </tbody>\n</table>\n</div>"
     },
     "execution_count": 323,
     "metadata": {},
     "output_type": "execute_result"
    }
   ],
   "source": [
    "data = pd.read_csv('PatientInfo.csv')\n",
    "data.head()"
   ],
   "metadata": {
    "collapsed": false,
    "pycharm": {
     "name": "#%%\n"
    }
   }
  },
  {
   "cell_type": "code",
   "execution_count": 324,
   "outputs": [
    {
     "data": {
      "text/plain": "(5165, 14)"
     },
     "execution_count": 324,
     "metadata": {},
     "output_type": "execute_result"
    }
   ],
   "source": [
    "data.shape"
   ],
   "metadata": {
    "collapsed": false,
    "pycharm": {
     "name": "#%%\n"
    }
   }
  },
  {
   "cell_type": "code",
   "execution_count": 325,
   "outputs": [
    {
     "data": {
      "text/plain": "     province         city\n0       Seoul   Gangseo-gu\n1       Seoul  Jungnang-gu\n2       Seoul    Jongno-gu\n3       Seoul      Mapo-gu\n4       Seoul  Seongbuk-gu\n...       ...          ...\n5025  Jeju-do      Jeju-do\n5026  Jeju-do      Jeju-do\n5027  Jeju-do      Jeju-do\n5028  Jeju-do      Jeju-do\n5029  Jeju-do      Jeju-do\n\n[5030 rows x 2 columns]",
      "text/html": "<div>\n<style scoped>\n    .dataframe tbody tr th:only-of-type {\n        vertical-align: middle;\n    }\n\n    .dataframe tbody tr th {\n        vertical-align: top;\n    }\n\n    .dataframe thead th {\n        text-align: right;\n    }\n</style>\n<table border=\"1\" class=\"dataframe\">\n  <thead>\n    <tr style=\"text-align: right;\">\n      <th></th>\n      <th>province</th>\n      <th>city</th>\n    </tr>\n  </thead>\n  <tbody>\n    <tr>\n      <th>0</th>\n      <td>Seoul</td>\n      <td>Gangseo-gu</td>\n    </tr>\n    <tr>\n      <th>1</th>\n      <td>Seoul</td>\n      <td>Jungnang-gu</td>\n    </tr>\n    <tr>\n      <th>2</th>\n      <td>Seoul</td>\n      <td>Jongno-gu</td>\n    </tr>\n    <tr>\n      <th>3</th>\n      <td>Seoul</td>\n      <td>Mapo-gu</td>\n    </tr>\n    <tr>\n      <th>4</th>\n      <td>Seoul</td>\n      <td>Seongbuk-gu</td>\n    </tr>\n    <tr>\n      <th>...</th>\n      <td>...</td>\n      <td>...</td>\n    </tr>\n    <tr>\n      <th>5025</th>\n      <td>Jeju-do</td>\n      <td>Jeju-do</td>\n    </tr>\n    <tr>\n      <th>5026</th>\n      <td>Jeju-do</td>\n      <td>Jeju-do</td>\n    </tr>\n    <tr>\n      <th>5027</th>\n      <td>Jeju-do</td>\n      <td>Jeju-do</td>\n    </tr>\n    <tr>\n      <th>5028</th>\n      <td>Jeju-do</td>\n      <td>Jeju-do</td>\n    </tr>\n    <tr>\n      <th>5029</th>\n      <td>Jeju-do</td>\n      <td>Jeju-do</td>\n    </tr>\n  </tbody>\n</table>\n<p>5030 rows × 2 columns</p>\n</div>"
     },
     "execution_count": 325,
     "metadata": {},
     "output_type": "execute_result"
    }
   ],
   "source": [
    "# clean data: drop null if any and select necessary column ['sex','age']\n",
    "data = data[data['country'] == 'Korea']\n",
    "data = data[['province','city']]\n",
    "data = data.dropna().reset_index(drop=True)\n",
    "data"
   ],
   "metadata": {
    "collapsed": false,
    "pycharm": {
     "name": "#%%\n"
    }
   }
  },
  {
   "cell_type": "markdown",
   "source": [
    "## 3.1. Cases vs Province"
   ],
   "metadata": {
    "collapsed": false,
    "pycharm": {
     "name": "#%% md\n"
    }
   }
  },
  {
   "cell_type": "code",
   "execution_count": 326,
   "outputs": [
    {
     "data": {
      "text/plain": "             province  counts\n0               Seoul    1302\n1    Gyeongsangbuk-do    1252\n2         Gyeonggi-do    1203\n3             Incheon     338\n4   Chungcheongnam-do     166\n5               Busan     145\n6    Gyeongsangnam-do     130\n7             Daejeon     119\n8               Daegu      89\n9          Gangwon-do      61\n10  Chungcheongbuk-do      56\n11              Ulsan      54\n12             Sejong      51\n13       Jeollabuk-do      27\n14       Jeollanam-do      23\n15            Jeju-do      14",
      "text/html": "<div>\n<style scoped>\n    .dataframe tbody tr th:only-of-type {\n        vertical-align: middle;\n    }\n\n    .dataframe tbody tr th {\n        vertical-align: top;\n    }\n\n    .dataframe thead th {\n        text-align: right;\n    }\n</style>\n<table border=\"1\" class=\"dataframe\">\n  <thead>\n    <tr style=\"text-align: right;\">\n      <th></th>\n      <th>province</th>\n      <th>counts</th>\n    </tr>\n  </thead>\n  <tbody>\n    <tr>\n      <th>0</th>\n      <td>Seoul</td>\n      <td>1302</td>\n    </tr>\n    <tr>\n      <th>1</th>\n      <td>Gyeongsangbuk-do</td>\n      <td>1252</td>\n    </tr>\n    <tr>\n      <th>2</th>\n      <td>Gyeonggi-do</td>\n      <td>1203</td>\n    </tr>\n    <tr>\n      <th>3</th>\n      <td>Incheon</td>\n      <td>338</td>\n    </tr>\n    <tr>\n      <th>4</th>\n      <td>Chungcheongnam-do</td>\n      <td>166</td>\n    </tr>\n    <tr>\n      <th>5</th>\n      <td>Busan</td>\n      <td>145</td>\n    </tr>\n    <tr>\n      <th>6</th>\n      <td>Gyeongsangnam-do</td>\n      <td>130</td>\n    </tr>\n    <tr>\n      <th>7</th>\n      <td>Daejeon</td>\n      <td>119</td>\n    </tr>\n    <tr>\n      <th>8</th>\n      <td>Daegu</td>\n      <td>89</td>\n    </tr>\n    <tr>\n      <th>9</th>\n      <td>Gangwon-do</td>\n      <td>61</td>\n    </tr>\n    <tr>\n      <th>10</th>\n      <td>Chungcheongbuk-do</td>\n      <td>56</td>\n    </tr>\n    <tr>\n      <th>11</th>\n      <td>Ulsan</td>\n      <td>54</td>\n    </tr>\n    <tr>\n      <th>12</th>\n      <td>Sejong</td>\n      <td>51</td>\n    </tr>\n    <tr>\n      <th>13</th>\n      <td>Jeollabuk-do</td>\n      <td>27</td>\n    </tr>\n    <tr>\n      <th>14</th>\n      <td>Jeollanam-do</td>\n      <td>23</td>\n    </tr>\n    <tr>\n      <th>15</th>\n      <td>Jeju-do</td>\n      <td>14</td>\n    </tr>\n  </tbody>\n</table>\n</div>"
     },
     "execution_count": 326,
     "metadata": {},
     "output_type": "execute_result"
    }
   ],
   "source": [
    "province_count = pd.DataFrame(data['province'].value_counts())\n",
    "province_count.reset_index(level=0, inplace=True)\n",
    "province_count.columns = ['province', 'counts']\n",
    "province_count"
   ],
   "metadata": {
    "collapsed": false,
    "pycharm": {
     "name": "#%%\n"
    }
   }
  },
  {
   "cell_type": "code",
   "execution_count": 327,
   "outputs": [
    {
     "data": {
      "application/vnd.plotly.v1+json": {
       "config": {
        "plotlyServerURL": "https://plot.ly"
       },
       "data": [
        {
         "domain": {
          "x": [
           0.0,
           1.0
          ],
          "y": [
           0.0,
           1.0
          ]
         },
         "hovertemplate": "province=%{label}<br>counts=%{value}<extra></extra>",
         "labels": [
          "Seoul",
          "Gyeongsangbuk-do",
          "Gyeonggi-do",
          "Incheon",
          "Chungcheongnam-do",
          "Busan",
          "Gyeongsangnam-do",
          "Daejeon",
          "Daegu",
          "Gangwon-do",
          "Chungcheongbuk-do",
          "Ulsan",
          "Sejong",
          "Jeollabuk-do",
          "Jeollanam-do",
          "Jeju-do"
         ],
         "legendgroup": "",
         "name": "",
         "showlegend": true,
         "textposition": "inside",
         "type": "pie",
         "values": [
          1302,
          1252,
          1203,
          338,
          166,
          145,
          130,
          119,
          89,
          61,
          56,
          54,
          51,
          27,
          23,
          14
         ]
        }
       ],
       "layout": {
        "legend": {
         "tracegroupgap": 0
        },
        "margin": {
         "t": 60
        },
        "template": {
         "data": {
          "bar": [
           {
            "error_x": {
             "color": "#2a3f5f"
            },
            "error_y": {
             "color": "#2a3f5f"
            },
            "marker": {
             "line": {
              "color": "#E5ECF6",
              "width": 0.5
             }
            },
            "type": "bar"
           }
          ],
          "barpolar": [
           {
            "marker": {
             "line": {
              "color": "#E5ECF6",
              "width": 0.5
             }
            },
            "type": "barpolar"
           }
          ],
          "carpet": [
           {
            "aaxis": {
             "endlinecolor": "#2a3f5f",
             "gridcolor": "white",
             "linecolor": "white",
             "minorgridcolor": "white",
             "startlinecolor": "#2a3f5f"
            },
            "baxis": {
             "endlinecolor": "#2a3f5f",
             "gridcolor": "white",
             "linecolor": "white",
             "minorgridcolor": "white",
             "startlinecolor": "#2a3f5f"
            },
            "type": "carpet"
           }
          ],
          "choropleth": [
           {
            "colorbar": {
             "outlinewidth": 0,
             "ticks": ""
            },
            "type": "choropleth"
           }
          ],
          "contour": [
           {
            "colorbar": {
             "outlinewidth": 0,
             "ticks": ""
            },
            "colorscale": [
             [
              0.0,
              "#0d0887"
             ],
             [
              0.1111111111111111,
              "#46039f"
             ],
             [
              0.2222222222222222,
              "#7201a8"
             ],
             [
              0.3333333333333333,
              "#9c179e"
             ],
             [
              0.4444444444444444,
              "#bd3786"
             ],
             [
              0.5555555555555556,
              "#d8576b"
             ],
             [
              0.6666666666666666,
              "#ed7953"
             ],
             [
              0.7777777777777778,
              "#fb9f3a"
             ],
             [
              0.8888888888888888,
              "#fdca26"
             ],
             [
              1.0,
              "#f0f921"
             ]
            ],
            "type": "contour"
           }
          ],
          "contourcarpet": [
           {
            "colorbar": {
             "outlinewidth": 0,
             "ticks": ""
            },
            "type": "contourcarpet"
           }
          ],
          "heatmap": [
           {
            "colorbar": {
             "outlinewidth": 0,
             "ticks": ""
            },
            "colorscale": [
             [
              0.0,
              "#0d0887"
             ],
             [
              0.1111111111111111,
              "#46039f"
             ],
             [
              0.2222222222222222,
              "#7201a8"
             ],
             [
              0.3333333333333333,
              "#9c179e"
             ],
             [
              0.4444444444444444,
              "#bd3786"
             ],
             [
              0.5555555555555556,
              "#d8576b"
             ],
             [
              0.6666666666666666,
              "#ed7953"
             ],
             [
              0.7777777777777778,
              "#fb9f3a"
             ],
             [
              0.8888888888888888,
              "#fdca26"
             ],
             [
              1.0,
              "#f0f921"
             ]
            ],
            "type": "heatmap"
           }
          ],
          "heatmapgl": [
           {
            "colorbar": {
             "outlinewidth": 0,
             "ticks": ""
            },
            "colorscale": [
             [
              0.0,
              "#0d0887"
             ],
             [
              0.1111111111111111,
              "#46039f"
             ],
             [
              0.2222222222222222,
              "#7201a8"
             ],
             [
              0.3333333333333333,
              "#9c179e"
             ],
             [
              0.4444444444444444,
              "#bd3786"
             ],
             [
              0.5555555555555556,
              "#d8576b"
             ],
             [
              0.6666666666666666,
              "#ed7953"
             ],
             [
              0.7777777777777778,
              "#fb9f3a"
             ],
             [
              0.8888888888888888,
              "#fdca26"
             ],
             [
              1.0,
              "#f0f921"
             ]
            ],
            "type": "heatmapgl"
           }
          ],
          "histogram": [
           {
            "marker": {
             "colorbar": {
              "outlinewidth": 0,
              "ticks": ""
             }
            },
            "type": "histogram"
           }
          ],
          "histogram2d": [
           {
            "colorbar": {
             "outlinewidth": 0,
             "ticks": ""
            },
            "colorscale": [
             [
              0.0,
              "#0d0887"
             ],
             [
              0.1111111111111111,
              "#46039f"
             ],
             [
              0.2222222222222222,
              "#7201a8"
             ],
             [
              0.3333333333333333,
              "#9c179e"
             ],
             [
              0.4444444444444444,
              "#bd3786"
             ],
             [
              0.5555555555555556,
              "#d8576b"
             ],
             [
              0.6666666666666666,
              "#ed7953"
             ],
             [
              0.7777777777777778,
              "#fb9f3a"
             ],
             [
              0.8888888888888888,
              "#fdca26"
             ],
             [
              1.0,
              "#f0f921"
             ]
            ],
            "type": "histogram2d"
           }
          ],
          "histogram2dcontour": [
           {
            "colorbar": {
             "outlinewidth": 0,
             "ticks": ""
            },
            "colorscale": [
             [
              0.0,
              "#0d0887"
             ],
             [
              0.1111111111111111,
              "#46039f"
             ],
             [
              0.2222222222222222,
              "#7201a8"
             ],
             [
              0.3333333333333333,
              "#9c179e"
             ],
             [
              0.4444444444444444,
              "#bd3786"
             ],
             [
              0.5555555555555556,
              "#d8576b"
             ],
             [
              0.6666666666666666,
              "#ed7953"
             ],
             [
              0.7777777777777778,
              "#fb9f3a"
             ],
             [
              0.8888888888888888,
              "#fdca26"
             ],
             [
              1.0,
              "#f0f921"
             ]
            ],
            "type": "histogram2dcontour"
           }
          ],
          "mesh3d": [
           {
            "colorbar": {
             "outlinewidth": 0,
             "ticks": ""
            },
            "type": "mesh3d"
           }
          ],
          "parcoords": [
           {
            "line": {
             "colorbar": {
              "outlinewidth": 0,
              "ticks": ""
             }
            },
            "type": "parcoords"
           }
          ],
          "pie": [
           {
            "automargin": true,
            "type": "pie"
           }
          ],
          "scatter": [
           {
            "marker": {
             "colorbar": {
              "outlinewidth": 0,
              "ticks": ""
             }
            },
            "type": "scatter"
           }
          ],
          "scatter3d": [
           {
            "line": {
             "colorbar": {
              "outlinewidth": 0,
              "ticks": ""
             }
            },
            "marker": {
             "colorbar": {
              "outlinewidth": 0,
              "ticks": ""
             }
            },
            "type": "scatter3d"
           }
          ],
          "scattercarpet": [
           {
            "marker": {
             "colorbar": {
              "outlinewidth": 0,
              "ticks": ""
             }
            },
            "type": "scattercarpet"
           }
          ],
          "scattergeo": [
           {
            "marker": {
             "colorbar": {
              "outlinewidth": 0,
              "ticks": ""
             }
            },
            "type": "scattergeo"
           }
          ],
          "scattergl": [
           {
            "marker": {
             "colorbar": {
              "outlinewidth": 0,
              "ticks": ""
             }
            },
            "type": "scattergl"
           }
          ],
          "scattermapbox": [
           {
            "marker": {
             "colorbar": {
              "outlinewidth": 0,
              "ticks": ""
             }
            },
            "type": "scattermapbox"
           }
          ],
          "scatterpolar": [
           {
            "marker": {
             "colorbar": {
              "outlinewidth": 0,
              "ticks": ""
             }
            },
            "type": "scatterpolar"
           }
          ],
          "scatterpolargl": [
           {
            "marker": {
             "colorbar": {
              "outlinewidth": 0,
              "ticks": ""
             }
            },
            "type": "scatterpolargl"
           }
          ],
          "scatterternary": [
           {
            "marker": {
             "colorbar": {
              "outlinewidth": 0,
              "ticks": ""
             }
            },
            "type": "scatterternary"
           }
          ],
          "surface": [
           {
            "colorbar": {
             "outlinewidth": 0,
             "ticks": ""
            },
            "colorscale": [
             [
              0.0,
              "#0d0887"
             ],
             [
              0.1111111111111111,
              "#46039f"
             ],
             [
              0.2222222222222222,
              "#7201a8"
             ],
             [
              0.3333333333333333,
              "#9c179e"
             ],
             [
              0.4444444444444444,
              "#bd3786"
             ],
             [
              0.5555555555555556,
              "#d8576b"
             ],
             [
              0.6666666666666666,
              "#ed7953"
             ],
             [
              0.7777777777777778,
              "#fb9f3a"
             ],
             [
              0.8888888888888888,
              "#fdca26"
             ],
             [
              1.0,
              "#f0f921"
             ]
            ],
            "type": "surface"
           }
          ],
          "table": [
           {
            "cells": {
             "fill": {
              "color": "#EBF0F8"
             },
             "line": {
              "color": "white"
             }
            },
            "header": {
             "fill": {
              "color": "#C8D4E3"
             },
             "line": {
              "color": "white"
             }
            },
            "type": "table"
           }
          ]
         },
         "layout": {
          "annotationdefaults": {
           "arrowcolor": "#2a3f5f",
           "arrowhead": 0,
           "arrowwidth": 1
          },
          "coloraxis": {
           "colorbar": {
            "outlinewidth": 0,
            "ticks": ""
           }
          },
          "colorscale": {
           "diverging": [
            [
             0,
             "#8e0152"
            ],
            [
             0.1,
             "#c51b7d"
            ],
            [
             0.2,
             "#de77ae"
            ],
            [
             0.3,
             "#f1b6da"
            ],
            [
             0.4,
             "#fde0ef"
            ],
            [
             0.5,
             "#f7f7f7"
            ],
            [
             0.6,
             "#e6f5d0"
            ],
            [
             0.7,
             "#b8e186"
            ],
            [
             0.8,
             "#7fbc41"
            ],
            [
             0.9,
             "#4d9221"
            ],
            [
             1,
             "#276419"
            ]
           ],
           "sequential": [
            [
             0.0,
             "#0d0887"
            ],
            [
             0.1111111111111111,
             "#46039f"
            ],
            [
             0.2222222222222222,
             "#7201a8"
            ],
            [
             0.3333333333333333,
             "#9c179e"
            ],
            [
             0.4444444444444444,
             "#bd3786"
            ],
            [
             0.5555555555555556,
             "#d8576b"
            ],
            [
             0.6666666666666666,
             "#ed7953"
            ],
            [
             0.7777777777777778,
             "#fb9f3a"
            ],
            [
             0.8888888888888888,
             "#fdca26"
            ],
            [
             1.0,
             "#f0f921"
            ]
           ],
           "sequentialminus": [
            [
             0.0,
             "#0d0887"
            ],
            [
             0.1111111111111111,
             "#46039f"
            ],
            [
             0.2222222222222222,
             "#7201a8"
            ],
            [
             0.3333333333333333,
             "#9c179e"
            ],
            [
             0.4444444444444444,
             "#bd3786"
            ],
            [
             0.5555555555555556,
             "#d8576b"
            ],
            [
             0.6666666666666666,
             "#ed7953"
            ],
            [
             0.7777777777777778,
             "#fb9f3a"
            ],
            [
             0.8888888888888888,
             "#fdca26"
            ],
            [
             1.0,
             "#f0f921"
            ]
           ]
          },
          "colorway": [
           "#636efa",
           "#EF553B",
           "#00cc96",
           "#ab63fa",
           "#FFA15A",
           "#19d3f3",
           "#FF6692",
           "#B6E880",
           "#FF97FF",
           "#FECB52"
          ],
          "font": {
           "color": "#2a3f5f"
          },
          "geo": {
           "bgcolor": "white",
           "lakecolor": "white",
           "landcolor": "#E5ECF6",
           "showlakes": true,
           "showland": true,
           "subunitcolor": "white"
          },
          "hoverlabel": {
           "align": "left"
          },
          "hovermode": "closest",
          "mapbox": {
           "style": "light"
          },
          "paper_bgcolor": "white",
          "plot_bgcolor": "#E5ECF6",
          "polar": {
           "angularaxis": {
            "gridcolor": "white",
            "linecolor": "white",
            "ticks": ""
           },
           "bgcolor": "#E5ECF6",
           "radialaxis": {
            "gridcolor": "white",
            "linecolor": "white",
            "ticks": ""
           }
          },
          "scene": {
           "xaxis": {
            "backgroundcolor": "#E5ECF6",
            "gridcolor": "white",
            "gridwidth": 2,
            "linecolor": "white",
            "showbackground": true,
            "ticks": "",
            "zerolinecolor": "white"
           },
           "yaxis": {
            "backgroundcolor": "#E5ECF6",
            "gridcolor": "white",
            "gridwidth": 2,
            "linecolor": "white",
            "showbackground": true,
            "ticks": "",
            "zerolinecolor": "white"
           },
           "zaxis": {
            "backgroundcolor": "#E5ECF6",
            "gridcolor": "white",
            "gridwidth": 2,
            "linecolor": "white",
            "showbackground": true,
            "ticks": "",
            "zerolinecolor": "white"
           }
          },
          "shapedefaults": {
           "line": {
            "color": "#2a3f5f"
           }
          },
          "ternary": {
           "aaxis": {
            "gridcolor": "white",
            "linecolor": "white",
            "ticks": ""
           },
           "baxis": {
            "gridcolor": "white",
            "linecolor": "white",
            "ticks": ""
           },
           "bgcolor": "#E5ECF6",
           "caxis": {
            "gridcolor": "white",
            "linecolor": "white",
            "ticks": ""
           }
          },
          "title": {
           "x": 0.05
          },
          "xaxis": {
           "automargin": true,
           "gridcolor": "white",
           "linecolor": "white",
           "ticks": "",
           "title": {
            "standoff": 15
           },
           "zerolinecolor": "white",
           "zerolinewidth": 2
          },
          "yaxis": {
           "automargin": true,
           "gridcolor": "white",
           "linecolor": "white",
           "ticks": "",
           "title": {
            "standoff": 15
           },
           "zerolinecolor": "white",
           "zerolinewidth": 2
          }
         }
        },
        "uniformtext": {
         "minsize": 12,
         "mode": "hide"
        }
       }
      },
      "text/html": "<div>\n        \n        \n            <div id=\"218630ec-7f0f-4c32-a39d-cef96d2cc2d7\" class=\"plotly-graph-div\" style=\"height:525px; width:100%;\"></div>\n            <script type=\"text/javascript\">\n                require([\"plotly\"], function(Plotly) {\n                    window.PLOTLYENV=window.PLOTLYENV || {};\n                    \n                if (document.getElementById(\"218630ec-7f0f-4c32-a39d-cef96d2cc2d7\")) {\n                    Plotly.newPlot(\n                        '218630ec-7f0f-4c32-a39d-cef96d2cc2d7',\n                        [{\"domain\": {\"x\": [0.0, 1.0], \"y\": [0.0, 1.0]}, \"hovertemplate\": \"province=%{label}<br>counts=%{value}<extra></extra>\", \"labels\": [\"Seoul\", \"Gyeongsangbuk-do\", \"Gyeonggi-do\", \"Incheon\", \"Chungcheongnam-do\", \"Busan\", \"Gyeongsangnam-do\", \"Daejeon\", \"Daegu\", \"Gangwon-do\", \"Chungcheongbuk-do\", \"Ulsan\", \"Sejong\", \"Jeollabuk-do\", \"Jeollanam-do\", \"Jeju-do\"], \"legendgroup\": \"\", \"name\": \"\", \"showlegend\": true, \"textposition\": \"inside\", \"type\": \"pie\", \"values\": [1302, 1252, 1203, 338, 166, 145, 130, 119, 89, 61, 56, 54, 51, 27, 23, 14]}],\n                        {\"legend\": {\"tracegroupgap\": 0}, \"margin\": {\"t\": 60}, \"template\": {\"data\": {\"bar\": [{\"error_x\": {\"color\": \"#2a3f5f\"}, \"error_y\": {\"color\": \"#2a3f5f\"}, \"marker\": {\"line\": {\"color\": \"#E5ECF6\", \"width\": 0.5}}, \"type\": \"bar\"}], \"barpolar\": [{\"marker\": {\"line\": {\"color\": \"#E5ECF6\", \"width\": 0.5}}, \"type\": \"barpolar\"}], \"carpet\": [{\"aaxis\": {\"endlinecolor\": \"#2a3f5f\", \"gridcolor\": \"white\", \"linecolor\": \"white\", \"minorgridcolor\": \"white\", \"startlinecolor\": \"#2a3f5f\"}, \"baxis\": {\"endlinecolor\": \"#2a3f5f\", \"gridcolor\": \"white\", \"linecolor\": \"white\", \"minorgridcolor\": \"white\", \"startlinecolor\": \"#2a3f5f\"}, \"type\": \"carpet\"}], \"choropleth\": [{\"colorbar\": {\"outlinewidth\": 0, \"ticks\": \"\"}, \"type\": \"choropleth\"}], \"contour\": [{\"colorbar\": {\"outlinewidth\": 0, \"ticks\": \"\"}, \"colorscale\": [[0.0, \"#0d0887\"], [0.1111111111111111, \"#46039f\"], [0.2222222222222222, \"#7201a8\"], [0.3333333333333333, \"#9c179e\"], [0.4444444444444444, \"#bd3786\"], [0.5555555555555556, \"#d8576b\"], [0.6666666666666666, \"#ed7953\"], [0.7777777777777778, \"#fb9f3a\"], [0.8888888888888888, \"#fdca26\"], [1.0, \"#f0f921\"]], \"type\": \"contour\"}], \"contourcarpet\": [{\"colorbar\": {\"outlinewidth\": 0, \"ticks\": \"\"}, \"type\": \"contourcarpet\"}], \"heatmap\": [{\"colorbar\": {\"outlinewidth\": 0, \"ticks\": \"\"}, \"colorscale\": [[0.0, \"#0d0887\"], [0.1111111111111111, \"#46039f\"], [0.2222222222222222, \"#7201a8\"], [0.3333333333333333, \"#9c179e\"], [0.4444444444444444, \"#bd3786\"], [0.5555555555555556, \"#d8576b\"], [0.6666666666666666, \"#ed7953\"], [0.7777777777777778, \"#fb9f3a\"], [0.8888888888888888, \"#fdca26\"], [1.0, \"#f0f921\"]], \"type\": \"heatmap\"}], \"heatmapgl\": [{\"colorbar\": {\"outlinewidth\": 0, \"ticks\": \"\"}, \"colorscale\": [[0.0, \"#0d0887\"], [0.1111111111111111, \"#46039f\"], [0.2222222222222222, \"#7201a8\"], [0.3333333333333333, \"#9c179e\"], [0.4444444444444444, \"#bd3786\"], [0.5555555555555556, \"#d8576b\"], [0.6666666666666666, \"#ed7953\"], [0.7777777777777778, \"#fb9f3a\"], [0.8888888888888888, \"#fdca26\"], [1.0, \"#f0f921\"]], \"type\": \"heatmapgl\"}], \"histogram\": [{\"marker\": {\"colorbar\": {\"outlinewidth\": 0, \"ticks\": \"\"}}, \"type\": \"histogram\"}], \"histogram2d\": [{\"colorbar\": {\"outlinewidth\": 0, \"ticks\": \"\"}, \"colorscale\": [[0.0, \"#0d0887\"], [0.1111111111111111, \"#46039f\"], [0.2222222222222222, \"#7201a8\"], [0.3333333333333333, \"#9c179e\"], [0.4444444444444444, \"#bd3786\"], [0.5555555555555556, \"#d8576b\"], [0.6666666666666666, \"#ed7953\"], [0.7777777777777778, \"#fb9f3a\"], [0.8888888888888888, \"#fdca26\"], [1.0, \"#f0f921\"]], \"type\": \"histogram2d\"}], \"histogram2dcontour\": [{\"colorbar\": {\"outlinewidth\": 0, \"ticks\": \"\"}, \"colorscale\": [[0.0, \"#0d0887\"], [0.1111111111111111, \"#46039f\"], [0.2222222222222222, \"#7201a8\"], [0.3333333333333333, \"#9c179e\"], [0.4444444444444444, \"#bd3786\"], [0.5555555555555556, \"#d8576b\"], [0.6666666666666666, \"#ed7953\"], [0.7777777777777778, \"#fb9f3a\"], [0.8888888888888888, \"#fdca26\"], [1.0, \"#f0f921\"]], \"type\": \"histogram2dcontour\"}], \"mesh3d\": [{\"colorbar\": {\"outlinewidth\": 0, \"ticks\": \"\"}, \"type\": \"mesh3d\"}], \"parcoords\": [{\"line\": {\"colorbar\": {\"outlinewidth\": 0, \"ticks\": \"\"}}, \"type\": \"parcoords\"}], \"pie\": [{\"automargin\": true, \"type\": \"pie\"}], \"scatter\": [{\"marker\": {\"colorbar\": {\"outlinewidth\": 0, \"ticks\": \"\"}}, \"type\": \"scatter\"}], \"scatter3d\": [{\"line\": {\"colorbar\": {\"outlinewidth\": 0, \"ticks\": \"\"}}, \"marker\": {\"colorbar\": {\"outlinewidth\": 0, \"ticks\": \"\"}}, \"type\": \"scatter3d\"}], \"scattercarpet\": [{\"marker\": {\"colorbar\": {\"outlinewidth\": 0, \"ticks\": \"\"}}, \"type\": \"scattercarpet\"}], \"scattergeo\": [{\"marker\": {\"colorbar\": {\"outlinewidth\": 0, \"ticks\": \"\"}}, \"type\": \"scattergeo\"}], \"scattergl\": [{\"marker\": {\"colorbar\": {\"outlinewidth\": 0, \"ticks\": \"\"}}, \"type\": \"scattergl\"}], \"scattermapbox\": [{\"marker\": {\"colorbar\": {\"outlinewidth\": 0, \"ticks\": \"\"}}, \"type\": \"scattermapbox\"}], \"scatterpolar\": [{\"marker\": {\"colorbar\": {\"outlinewidth\": 0, \"ticks\": \"\"}}, \"type\": \"scatterpolar\"}], \"scatterpolargl\": [{\"marker\": {\"colorbar\": {\"outlinewidth\": 0, \"ticks\": \"\"}}, \"type\": \"scatterpolargl\"}], \"scatterternary\": [{\"marker\": {\"colorbar\": {\"outlinewidth\": 0, \"ticks\": \"\"}}, \"type\": \"scatterternary\"}], \"surface\": [{\"colorbar\": {\"outlinewidth\": 0, \"ticks\": \"\"}, \"colorscale\": [[0.0, \"#0d0887\"], [0.1111111111111111, \"#46039f\"], [0.2222222222222222, \"#7201a8\"], [0.3333333333333333, \"#9c179e\"], [0.4444444444444444, \"#bd3786\"], [0.5555555555555556, \"#d8576b\"], [0.6666666666666666, \"#ed7953\"], [0.7777777777777778, \"#fb9f3a\"], [0.8888888888888888, \"#fdca26\"], [1.0, \"#f0f921\"]], \"type\": \"surface\"}], \"table\": [{\"cells\": {\"fill\": {\"color\": \"#EBF0F8\"}, \"line\": {\"color\": \"white\"}}, \"header\": {\"fill\": {\"color\": \"#C8D4E3\"}, \"line\": {\"color\": \"white\"}}, \"type\": \"table\"}]}, \"layout\": {\"annotationdefaults\": {\"arrowcolor\": \"#2a3f5f\", \"arrowhead\": 0, \"arrowwidth\": 1}, \"coloraxis\": {\"colorbar\": {\"outlinewidth\": 0, \"ticks\": \"\"}}, \"colorscale\": {\"diverging\": [[0, \"#8e0152\"], [0.1, \"#c51b7d\"], [0.2, \"#de77ae\"], [0.3, \"#f1b6da\"], [0.4, \"#fde0ef\"], [0.5, \"#f7f7f7\"], [0.6, \"#e6f5d0\"], [0.7, \"#b8e186\"], [0.8, \"#7fbc41\"], [0.9, \"#4d9221\"], [1, \"#276419\"]], \"sequential\": [[0.0, \"#0d0887\"], [0.1111111111111111, \"#46039f\"], [0.2222222222222222, \"#7201a8\"], [0.3333333333333333, \"#9c179e\"], [0.4444444444444444, \"#bd3786\"], [0.5555555555555556, \"#d8576b\"], [0.6666666666666666, \"#ed7953\"], [0.7777777777777778, \"#fb9f3a\"], [0.8888888888888888, \"#fdca26\"], [1.0, \"#f0f921\"]], \"sequentialminus\": [[0.0, \"#0d0887\"], [0.1111111111111111, \"#46039f\"], [0.2222222222222222, \"#7201a8\"], [0.3333333333333333, \"#9c179e\"], [0.4444444444444444, \"#bd3786\"], [0.5555555555555556, \"#d8576b\"], [0.6666666666666666, \"#ed7953\"], [0.7777777777777778, \"#fb9f3a\"], [0.8888888888888888, \"#fdca26\"], [1.0, \"#f0f921\"]]}, \"colorway\": [\"#636efa\", \"#EF553B\", \"#00cc96\", \"#ab63fa\", \"#FFA15A\", \"#19d3f3\", \"#FF6692\", \"#B6E880\", \"#FF97FF\", \"#FECB52\"], \"font\": {\"color\": \"#2a3f5f\"}, \"geo\": {\"bgcolor\": \"white\", \"lakecolor\": \"white\", \"landcolor\": \"#E5ECF6\", \"showlakes\": true, \"showland\": true, \"subunitcolor\": \"white\"}, \"hoverlabel\": {\"align\": \"left\"}, \"hovermode\": \"closest\", \"mapbox\": {\"style\": \"light\"}, \"paper_bgcolor\": \"white\", \"plot_bgcolor\": \"#E5ECF6\", \"polar\": {\"angularaxis\": {\"gridcolor\": \"white\", \"linecolor\": \"white\", \"ticks\": \"\"}, \"bgcolor\": \"#E5ECF6\", \"radialaxis\": {\"gridcolor\": \"white\", \"linecolor\": \"white\", \"ticks\": \"\"}}, \"scene\": {\"xaxis\": {\"backgroundcolor\": \"#E5ECF6\", \"gridcolor\": \"white\", \"gridwidth\": 2, \"linecolor\": \"white\", \"showbackground\": true, \"ticks\": \"\", \"zerolinecolor\": \"white\"}, \"yaxis\": {\"backgroundcolor\": \"#E5ECF6\", \"gridcolor\": \"white\", \"gridwidth\": 2, \"linecolor\": \"white\", \"showbackground\": true, \"ticks\": \"\", \"zerolinecolor\": \"white\"}, \"zaxis\": {\"backgroundcolor\": \"#E5ECF6\", \"gridcolor\": \"white\", \"gridwidth\": 2, \"linecolor\": \"white\", \"showbackground\": true, \"ticks\": \"\", \"zerolinecolor\": \"white\"}}, \"shapedefaults\": {\"line\": {\"color\": \"#2a3f5f\"}}, \"ternary\": {\"aaxis\": {\"gridcolor\": \"white\", \"linecolor\": \"white\", \"ticks\": \"\"}, \"baxis\": {\"gridcolor\": \"white\", \"linecolor\": \"white\", \"ticks\": \"\"}, \"bgcolor\": \"#E5ECF6\", \"caxis\": {\"gridcolor\": \"white\", \"linecolor\": \"white\", \"ticks\": \"\"}}, \"title\": {\"x\": 0.05}, \"xaxis\": {\"automargin\": true, \"gridcolor\": \"white\", \"linecolor\": \"white\", \"ticks\": \"\", \"title\": {\"standoff\": 15}, \"zerolinecolor\": \"white\", \"zerolinewidth\": 2}, \"yaxis\": {\"automargin\": true, \"gridcolor\": \"white\", \"linecolor\": \"white\", \"ticks\": \"\", \"title\": {\"standoff\": 15}, \"zerolinecolor\": \"white\", \"zerolinewidth\": 2}}}, \"uniformtext\": {\"minsize\": 12, \"mode\": \"hide\"}},\n                        {\"responsive\": true}\n                    ).then(function(){\n                            \nvar gd = document.getElementById('218630ec-7f0f-4c32-a39d-cef96d2cc2d7');\nvar x = new MutationObserver(function (mutations, observer) {{\n        var display = window.getComputedStyle(gd).display;\n        if (!display || display === 'none') {{\n            console.log([gd, 'removed!']);\n            Plotly.purge(gd);\n            observer.disconnect();\n        }}\n}});\n\n// Listen for the removal of the full notebook cells\nvar notebookContainer = gd.closest('#notebook-container');\nif (notebookContainer) {{\n    x.observe(notebookContainer, {childList: true});\n}}\n\n// Listen for the clearing of the current output cell\nvar outputEl = gd.closest('.output');\nif (outputEl) {{\n    x.observe(outputEl, {childList: true});\n}}\n\n                        })\n                };\n                });\n            </script>\n        </div>"
     },
     "metadata": {},
     "output_type": "display_data"
    }
   ],
   "source": [
    "fig = px.pie(province_count, values='counts', names='province')\n",
    "fig.update_traces(textposition='inside')\n",
    "fig.update_layout(uniformtext_minsize=12, uniformtext_mode='hide')\n",
    "fig.show()"
   ],
   "metadata": {
    "collapsed": false,
    "pycharm": {
     "name": "#%%\n"
    }
   }
  },
  {
   "cell_type": "markdown",
   "source": [
    "## 3.2 Cases vs City"
   ],
   "metadata": {
    "collapsed": false,
    "pycharm": {
     "name": "#%% md\n"
    }
   }
  },
  {
   "cell_type": "code",
   "execution_count": 328,
   "outputs": [
    {
     "data": {
      "text/plain": "               city  counts\n0      Gyeongsan-si     639\n1       Seongnam-si     173\n2        Bucheon-si     161\n3         Gwanak-gu     112\n4        Cheonan-si     110\n..              ...     ...\n157     Okcheon-gun       1\n158    Dalseong-gun       1\n159        Inje-gun       1\n160  Hoengseong-gun       1\n161     Ganghwa-gun       1\n\n[162 rows x 2 columns]",
      "text/html": "<div>\n<style scoped>\n    .dataframe tbody tr th:only-of-type {\n        vertical-align: middle;\n    }\n\n    .dataframe tbody tr th {\n        vertical-align: top;\n    }\n\n    .dataframe thead th {\n        text-align: right;\n    }\n</style>\n<table border=\"1\" class=\"dataframe\">\n  <thead>\n    <tr style=\"text-align: right;\">\n      <th></th>\n      <th>city</th>\n      <th>counts</th>\n    </tr>\n  </thead>\n  <tbody>\n    <tr>\n      <th>0</th>\n      <td>Gyeongsan-si</td>\n      <td>639</td>\n    </tr>\n    <tr>\n      <th>1</th>\n      <td>Seongnam-si</td>\n      <td>173</td>\n    </tr>\n    <tr>\n      <th>2</th>\n      <td>Bucheon-si</td>\n      <td>161</td>\n    </tr>\n    <tr>\n      <th>3</th>\n      <td>Gwanak-gu</td>\n      <td>112</td>\n    </tr>\n    <tr>\n      <th>4</th>\n      <td>Cheonan-si</td>\n      <td>110</td>\n    </tr>\n    <tr>\n      <th>...</th>\n      <td>...</td>\n      <td>...</td>\n    </tr>\n    <tr>\n      <th>157</th>\n      <td>Okcheon-gun</td>\n      <td>1</td>\n    </tr>\n    <tr>\n      <th>158</th>\n      <td>Dalseong-gun</td>\n      <td>1</td>\n    </tr>\n    <tr>\n      <th>159</th>\n      <td>Inje-gun</td>\n      <td>1</td>\n    </tr>\n    <tr>\n      <th>160</th>\n      <td>Hoengseong-gun</td>\n      <td>1</td>\n    </tr>\n    <tr>\n      <th>161</th>\n      <td>Ganghwa-gun</td>\n      <td>1</td>\n    </tr>\n  </tbody>\n</table>\n<p>162 rows × 2 columns</p>\n</div>"
     },
     "execution_count": 328,
     "metadata": {},
     "output_type": "execute_result"
    }
   ],
   "source": [
    "city_count = pd.DataFrame(data['city'].value_counts())\n",
    "city_count.reset_index(level=0, inplace = True)\n",
    "city_count.columns = ['city', 'counts']\n",
    "city_count"
   ],
   "metadata": {
    "collapsed": false,
    "pycharm": {
     "name": "#%%\n"
    }
   }
  },
  {
   "cell_type": "code",
   "execution_count": 329,
   "outputs": [
    {
     "data": {
      "application/vnd.plotly.v1+json": {
       "config": {
        "plotlyServerURL": "https://plot.ly"
       },
       "data": [
        {
         "domain": {
          "x": [
           0.0,
           1.0
          ],
          "y": [
           0.0,
           1.0
          ]
         },
         "hovertemplate": "city=%{label}<br>counts=%{value}<extra></extra>",
         "labels": [
          "Gyeongsan-si",
          "Seongnam-si",
          "Bucheon-si",
          "Gwanak-gu",
          "Cheonan-si",
          "etc",
          "Yongin-si",
          "Suwon-si",
          "Guro-gu",
          "Bupyeong-gu",
          "Gangnam-gu",
          "Gangseo-gu",
          "Seo-gu",
          "Gumi-si",
          "Gunpo-si",
          "Yangcheon-gu",
          "Bonghwa-gun",
          "Michuhol-gu",
          "Anyang-si",
          "Yeongdeungpo-gu",
          "Dobong-gu",
          "Pyeongtaek-si",
          "Gyeyang-gu",
          "Songpa-gu",
          "Jung-gu",
          "Seocho-gu",
          "Pohang-si",
          "Eunpyeong-gu",
          "Andong-si",
          "Dongjak-gu",
          "Sejong",
          "Gyeongju-si",
          "Goyang-si",
          "Chilgok-gun",
          "Yongsan-gu",
          "Seongdong-gu",
          "Uijeongbu-si",
          "Namyangju-si",
          "Yeonsu-gu",
          "Namdong-gu",
          "Yecheon-gun",
          "Cheongdo-gun",
          "Nowon-gu",
          "Uiseong-gun",
          "Hwaseong-si",
          "Dong-gu",
          "Yuseong-gu",
          "Mapo-gu",
          "Dongnae-gu",
          "Dongdaemun-gu",
          "Yeongcheon-si",
          "Gimpo-si",
          "Gwangju-si",
          "Nam-gu",
          "Gangdong-gu",
          "Seodaemun-gu",
          "Ansan-si",
          "Seongbuk-gu",
          "Jungnang-gu",
          "Geumcheon-gu",
          "Changwon-si",
          "Gwangmyeong-si",
          "Buk-gu",
          "Siheung-si",
          "Dalseo-gu",
          "Gangbuk-gu",
          "Wonju-si",
          "Gimcheon-si",
          "Seongju-gun",
          "Haeundae-gu",
          "Cheongju-si",
          "Pocheon-si",
          "Jongno-gu",
          "Geochang-gun",
          "Asan-si",
          "Gwangjin-gu",
          "Paju-si",
          "Icheon-si",
          "Sangju-si",
          "Gimhae-si",
          "Suseong-gu",
          "Busanjin-gu",
          "Buyeo-gun",
          "Chungju-si",
          "Jeju-do",
          "Geoje-si",
          "Hanam-si",
          "Jinju-si",
          "Suyeong-gu",
          "Guri-si",
          "Saha-gu",
          "Goesan-gun",
          "Cheorwon-gun",
          "Chuncheon-si",
          "Uiwang-si",
          "Hapcheon-gun",
          "Goryeong-gun",
          "Seosan-si",
          "Changnyeong-gun",
          "Gwacheon-si",
          "Yangju-si",
          "Yangsan-si",
          "Osan-si",
          "Gangneung-si",
          "Jeonju-si",
          "Eumseong-gun",
          "Geumjeong-gu",
          "Ulju-gun",
          "Gunwi-gun",
          "Nonsan-si",
          "Dalsung-gun",
          "Daedeok-gu",
          "Dongducheon-si",
          "Yeongju-si",
          "Miryang-si",
          "Mokpo-si",
          "Mungyeong-si",
          "Yeonje-gu",
          "Hongseong-gun",
          "Anseong-si",
          "Gunsan-si",
          "Sasang-gu",
          "Sacheon-si",
          "Gongju-si",
          "Gimje-si",
          "Gyeryong-si",
          "Sokcho-si",
          "Goseong-gun",
          "Muan-gun",
          "Yeongyang-gun",
          "Yeosu-si",
          "Cheongsong-gun",
          "Yeongdeok-gun",
          "Suncheon-si",
          "Jeungpyeong-gun",
          "Iksan-si",
          "Gapyeong-gun",
          "Yangpyeong-si",
          "Gijang-gun",
          "Hwasun-gun",
          "Jincheon-gun",
          "Namhae-gun",
          "Yeongwol-gun",
          "Taean-gun",
          "Hamyang-gun",
          "Jangsu-gun",
          "sankyeock-dong",
          "Taebaek-si",
          "Gwangyang-si",
          "Suwon",
          "Haman-gun",
          "Kyeongsan-si",
          "Sancheong-gun",
          "Guri",
          "Danyang-gun",
          "Samcheok-si",
          "Icheon-dong",
          "Okcheon-gun",
          "Dalseong-gun",
          "Inje-gun",
          "Hoengseong-gun",
          "Ganghwa-gun"
         ],
         "legendgroup": "",
         "name": "",
         "showlegend": true,
         "textposition": "inside",
         "type": "pie",
         "values": [
          639,
          173,
          161,
          112,
          110,
          107,
          104,
          100,
          85,
          83,
          83,
          82,
          78,
          78,
          75,
          71,
          71,
          69,
          63,
          62,
          62,
          61,
          55,
          55,
          55,
          55,
          53,
          53,
          53,
          53,
          52,
          52,
          51,
          51,
          50,
          49,
          47,
          46,
          45,
          45,
          44,
          43,
          43,
          41,
          41,
          40,
          40,
          38,
          38,
          38,
          37,
          37,
          35,
          35,
          34,
          34,
          33,
          33,
          32,
          31,
          31,
          28,
          27,
          26,
          25,
          24,
          24,
          23,
          23,
          22,
          20,
          19,
          19,
          19,
          17,
          17,
          16,
          15,
          15,
          14,
          14,
          14,
          13,
          13,
          13,
          13,
          12,
          12,
          11,
          11,
          11,
          11,
          11,
          10,
          10,
          10,
          9,
          9,
          9,
          9,
          9,
          8,
          8,
          8,
          8,
          7,
          6,
          6,
          6,
          6,
          5,
          5,
          5,
          5,
          5,
          5,
          4,
          4,
          4,
          4,
          4,
          4,
          3,
          3,
          3,
          3,
          3,
          2,
          2,
          2,
          2,
          2,
          2,
          2,
          2,
          2,
          1,
          1,
          1,
          1,
          1,
          1,
          1,
          1,
          1,
          1,
          1,
          1,
          1,
          1,
          1,
          1,
          1,
          1,
          1,
          1,
          1,
          1,
          1,
          1,
          1,
          1
         ]
        }
       ],
       "layout": {
        "legend": {
         "tracegroupgap": 0
        },
        "margin": {
         "t": 60
        },
        "template": {
         "data": {
          "bar": [
           {
            "error_x": {
             "color": "#2a3f5f"
            },
            "error_y": {
             "color": "#2a3f5f"
            },
            "marker": {
             "line": {
              "color": "#E5ECF6",
              "width": 0.5
             }
            },
            "type": "bar"
           }
          ],
          "barpolar": [
           {
            "marker": {
             "line": {
              "color": "#E5ECF6",
              "width": 0.5
             }
            },
            "type": "barpolar"
           }
          ],
          "carpet": [
           {
            "aaxis": {
             "endlinecolor": "#2a3f5f",
             "gridcolor": "white",
             "linecolor": "white",
             "minorgridcolor": "white",
             "startlinecolor": "#2a3f5f"
            },
            "baxis": {
             "endlinecolor": "#2a3f5f",
             "gridcolor": "white",
             "linecolor": "white",
             "minorgridcolor": "white",
             "startlinecolor": "#2a3f5f"
            },
            "type": "carpet"
           }
          ],
          "choropleth": [
           {
            "colorbar": {
             "outlinewidth": 0,
             "ticks": ""
            },
            "type": "choropleth"
           }
          ],
          "contour": [
           {
            "colorbar": {
             "outlinewidth": 0,
             "ticks": ""
            },
            "colorscale": [
             [
              0.0,
              "#0d0887"
             ],
             [
              0.1111111111111111,
              "#46039f"
             ],
             [
              0.2222222222222222,
              "#7201a8"
             ],
             [
              0.3333333333333333,
              "#9c179e"
             ],
             [
              0.4444444444444444,
              "#bd3786"
             ],
             [
              0.5555555555555556,
              "#d8576b"
             ],
             [
              0.6666666666666666,
              "#ed7953"
             ],
             [
              0.7777777777777778,
              "#fb9f3a"
             ],
             [
              0.8888888888888888,
              "#fdca26"
             ],
             [
              1.0,
              "#f0f921"
             ]
            ],
            "type": "contour"
           }
          ],
          "contourcarpet": [
           {
            "colorbar": {
             "outlinewidth": 0,
             "ticks": ""
            },
            "type": "contourcarpet"
           }
          ],
          "heatmap": [
           {
            "colorbar": {
             "outlinewidth": 0,
             "ticks": ""
            },
            "colorscale": [
             [
              0.0,
              "#0d0887"
             ],
             [
              0.1111111111111111,
              "#46039f"
             ],
             [
              0.2222222222222222,
              "#7201a8"
             ],
             [
              0.3333333333333333,
              "#9c179e"
             ],
             [
              0.4444444444444444,
              "#bd3786"
             ],
             [
              0.5555555555555556,
              "#d8576b"
             ],
             [
              0.6666666666666666,
              "#ed7953"
             ],
             [
              0.7777777777777778,
              "#fb9f3a"
             ],
             [
              0.8888888888888888,
              "#fdca26"
             ],
             [
              1.0,
              "#f0f921"
             ]
            ],
            "type": "heatmap"
           }
          ],
          "heatmapgl": [
           {
            "colorbar": {
             "outlinewidth": 0,
             "ticks": ""
            },
            "colorscale": [
             [
              0.0,
              "#0d0887"
             ],
             [
              0.1111111111111111,
              "#46039f"
             ],
             [
              0.2222222222222222,
              "#7201a8"
             ],
             [
              0.3333333333333333,
              "#9c179e"
             ],
             [
              0.4444444444444444,
              "#bd3786"
             ],
             [
              0.5555555555555556,
              "#d8576b"
             ],
             [
              0.6666666666666666,
              "#ed7953"
             ],
             [
              0.7777777777777778,
              "#fb9f3a"
             ],
             [
              0.8888888888888888,
              "#fdca26"
             ],
             [
              1.0,
              "#f0f921"
             ]
            ],
            "type": "heatmapgl"
           }
          ],
          "histogram": [
           {
            "marker": {
             "colorbar": {
              "outlinewidth": 0,
              "ticks": ""
             }
            },
            "type": "histogram"
           }
          ],
          "histogram2d": [
           {
            "colorbar": {
             "outlinewidth": 0,
             "ticks": ""
            },
            "colorscale": [
             [
              0.0,
              "#0d0887"
             ],
             [
              0.1111111111111111,
              "#46039f"
             ],
             [
              0.2222222222222222,
              "#7201a8"
             ],
             [
              0.3333333333333333,
              "#9c179e"
             ],
             [
              0.4444444444444444,
              "#bd3786"
             ],
             [
              0.5555555555555556,
              "#d8576b"
             ],
             [
              0.6666666666666666,
              "#ed7953"
             ],
             [
              0.7777777777777778,
              "#fb9f3a"
             ],
             [
              0.8888888888888888,
              "#fdca26"
             ],
             [
              1.0,
              "#f0f921"
             ]
            ],
            "type": "histogram2d"
           }
          ],
          "histogram2dcontour": [
           {
            "colorbar": {
             "outlinewidth": 0,
             "ticks": ""
            },
            "colorscale": [
             [
              0.0,
              "#0d0887"
             ],
             [
              0.1111111111111111,
              "#46039f"
             ],
             [
              0.2222222222222222,
              "#7201a8"
             ],
             [
              0.3333333333333333,
              "#9c179e"
             ],
             [
              0.4444444444444444,
              "#bd3786"
             ],
             [
              0.5555555555555556,
              "#d8576b"
             ],
             [
              0.6666666666666666,
              "#ed7953"
             ],
             [
              0.7777777777777778,
              "#fb9f3a"
             ],
             [
              0.8888888888888888,
              "#fdca26"
             ],
             [
              1.0,
              "#f0f921"
             ]
            ],
            "type": "histogram2dcontour"
           }
          ],
          "mesh3d": [
           {
            "colorbar": {
             "outlinewidth": 0,
             "ticks": ""
            },
            "type": "mesh3d"
           }
          ],
          "parcoords": [
           {
            "line": {
             "colorbar": {
              "outlinewidth": 0,
              "ticks": ""
             }
            },
            "type": "parcoords"
           }
          ],
          "pie": [
           {
            "automargin": true,
            "type": "pie"
           }
          ],
          "scatter": [
           {
            "marker": {
             "colorbar": {
              "outlinewidth": 0,
              "ticks": ""
             }
            },
            "type": "scatter"
           }
          ],
          "scatter3d": [
           {
            "line": {
             "colorbar": {
              "outlinewidth": 0,
              "ticks": ""
             }
            },
            "marker": {
             "colorbar": {
              "outlinewidth": 0,
              "ticks": ""
             }
            },
            "type": "scatter3d"
           }
          ],
          "scattercarpet": [
           {
            "marker": {
             "colorbar": {
              "outlinewidth": 0,
              "ticks": ""
             }
            },
            "type": "scattercarpet"
           }
          ],
          "scattergeo": [
           {
            "marker": {
             "colorbar": {
              "outlinewidth": 0,
              "ticks": ""
             }
            },
            "type": "scattergeo"
           }
          ],
          "scattergl": [
           {
            "marker": {
             "colorbar": {
              "outlinewidth": 0,
              "ticks": ""
             }
            },
            "type": "scattergl"
           }
          ],
          "scattermapbox": [
           {
            "marker": {
             "colorbar": {
              "outlinewidth": 0,
              "ticks": ""
             }
            },
            "type": "scattermapbox"
           }
          ],
          "scatterpolar": [
           {
            "marker": {
             "colorbar": {
              "outlinewidth": 0,
              "ticks": ""
             }
            },
            "type": "scatterpolar"
           }
          ],
          "scatterpolargl": [
           {
            "marker": {
             "colorbar": {
              "outlinewidth": 0,
              "ticks": ""
             }
            },
            "type": "scatterpolargl"
           }
          ],
          "scatterternary": [
           {
            "marker": {
             "colorbar": {
              "outlinewidth": 0,
              "ticks": ""
             }
            },
            "type": "scatterternary"
           }
          ],
          "surface": [
           {
            "colorbar": {
             "outlinewidth": 0,
             "ticks": ""
            },
            "colorscale": [
             [
              0.0,
              "#0d0887"
             ],
             [
              0.1111111111111111,
              "#46039f"
             ],
             [
              0.2222222222222222,
              "#7201a8"
             ],
             [
              0.3333333333333333,
              "#9c179e"
             ],
             [
              0.4444444444444444,
              "#bd3786"
             ],
             [
              0.5555555555555556,
              "#d8576b"
             ],
             [
              0.6666666666666666,
              "#ed7953"
             ],
             [
              0.7777777777777778,
              "#fb9f3a"
             ],
             [
              0.8888888888888888,
              "#fdca26"
             ],
             [
              1.0,
              "#f0f921"
             ]
            ],
            "type": "surface"
           }
          ],
          "table": [
           {
            "cells": {
             "fill": {
              "color": "#EBF0F8"
             },
             "line": {
              "color": "white"
             }
            },
            "header": {
             "fill": {
              "color": "#C8D4E3"
             },
             "line": {
              "color": "white"
             }
            },
            "type": "table"
           }
          ]
         },
         "layout": {
          "annotationdefaults": {
           "arrowcolor": "#2a3f5f",
           "arrowhead": 0,
           "arrowwidth": 1
          },
          "coloraxis": {
           "colorbar": {
            "outlinewidth": 0,
            "ticks": ""
           }
          },
          "colorscale": {
           "diverging": [
            [
             0,
             "#8e0152"
            ],
            [
             0.1,
             "#c51b7d"
            ],
            [
             0.2,
             "#de77ae"
            ],
            [
             0.3,
             "#f1b6da"
            ],
            [
             0.4,
             "#fde0ef"
            ],
            [
             0.5,
             "#f7f7f7"
            ],
            [
             0.6,
             "#e6f5d0"
            ],
            [
             0.7,
             "#b8e186"
            ],
            [
             0.8,
             "#7fbc41"
            ],
            [
             0.9,
             "#4d9221"
            ],
            [
             1,
             "#276419"
            ]
           ],
           "sequential": [
            [
             0.0,
             "#0d0887"
            ],
            [
             0.1111111111111111,
             "#46039f"
            ],
            [
             0.2222222222222222,
             "#7201a8"
            ],
            [
             0.3333333333333333,
             "#9c179e"
            ],
            [
             0.4444444444444444,
             "#bd3786"
            ],
            [
             0.5555555555555556,
             "#d8576b"
            ],
            [
             0.6666666666666666,
             "#ed7953"
            ],
            [
             0.7777777777777778,
             "#fb9f3a"
            ],
            [
             0.8888888888888888,
             "#fdca26"
            ],
            [
             1.0,
             "#f0f921"
            ]
           ],
           "sequentialminus": [
            [
             0.0,
             "#0d0887"
            ],
            [
             0.1111111111111111,
             "#46039f"
            ],
            [
             0.2222222222222222,
             "#7201a8"
            ],
            [
             0.3333333333333333,
             "#9c179e"
            ],
            [
             0.4444444444444444,
             "#bd3786"
            ],
            [
             0.5555555555555556,
             "#d8576b"
            ],
            [
             0.6666666666666666,
             "#ed7953"
            ],
            [
             0.7777777777777778,
             "#fb9f3a"
            ],
            [
             0.8888888888888888,
             "#fdca26"
            ],
            [
             1.0,
             "#f0f921"
            ]
           ]
          },
          "colorway": [
           "#636efa",
           "#EF553B",
           "#00cc96",
           "#ab63fa",
           "#FFA15A",
           "#19d3f3",
           "#FF6692",
           "#B6E880",
           "#FF97FF",
           "#FECB52"
          ],
          "font": {
           "color": "#2a3f5f"
          },
          "geo": {
           "bgcolor": "white",
           "lakecolor": "white",
           "landcolor": "#E5ECF6",
           "showlakes": true,
           "showland": true,
           "subunitcolor": "white"
          },
          "hoverlabel": {
           "align": "left"
          },
          "hovermode": "closest",
          "mapbox": {
           "style": "light"
          },
          "paper_bgcolor": "white",
          "plot_bgcolor": "#E5ECF6",
          "polar": {
           "angularaxis": {
            "gridcolor": "white",
            "linecolor": "white",
            "ticks": ""
           },
           "bgcolor": "#E5ECF6",
           "radialaxis": {
            "gridcolor": "white",
            "linecolor": "white",
            "ticks": ""
           }
          },
          "scene": {
           "xaxis": {
            "backgroundcolor": "#E5ECF6",
            "gridcolor": "white",
            "gridwidth": 2,
            "linecolor": "white",
            "showbackground": true,
            "ticks": "",
            "zerolinecolor": "white"
           },
           "yaxis": {
            "backgroundcolor": "#E5ECF6",
            "gridcolor": "white",
            "gridwidth": 2,
            "linecolor": "white",
            "showbackground": true,
            "ticks": "",
            "zerolinecolor": "white"
           },
           "zaxis": {
            "backgroundcolor": "#E5ECF6",
            "gridcolor": "white",
            "gridwidth": 2,
            "linecolor": "white",
            "showbackground": true,
            "ticks": "",
            "zerolinecolor": "white"
           }
          },
          "shapedefaults": {
           "line": {
            "color": "#2a3f5f"
           }
          },
          "ternary": {
           "aaxis": {
            "gridcolor": "white",
            "linecolor": "white",
            "ticks": ""
           },
           "baxis": {
            "gridcolor": "white",
            "linecolor": "white",
            "ticks": ""
           },
           "bgcolor": "#E5ECF6",
           "caxis": {
            "gridcolor": "white",
            "linecolor": "white",
            "ticks": ""
           }
          },
          "title": {
           "x": 0.05
          },
          "xaxis": {
           "automargin": true,
           "gridcolor": "white",
           "linecolor": "white",
           "ticks": "",
           "title": {
            "standoff": 15
           },
           "zerolinecolor": "white",
           "zerolinewidth": 2
          },
          "yaxis": {
           "automargin": true,
           "gridcolor": "white",
           "linecolor": "white",
           "ticks": "",
           "title": {
            "standoff": 15
           },
           "zerolinecolor": "white",
           "zerolinewidth": 2
          }
         }
        },
        "uniformtext": {
         "minsize": 12,
         "mode": "hide"
        }
       }
      },
      "text/html": "<div>\n        \n        \n            <div id=\"15455ba7-f70e-4085-8e9e-7069fa632dc1\" class=\"plotly-graph-div\" style=\"height:525px; width:100%;\"></div>\n            <script type=\"text/javascript\">\n                require([\"plotly\"], function(Plotly) {\n                    window.PLOTLYENV=window.PLOTLYENV || {};\n                    \n                if (document.getElementById(\"15455ba7-f70e-4085-8e9e-7069fa632dc1\")) {\n                    Plotly.newPlot(\n                        '15455ba7-f70e-4085-8e9e-7069fa632dc1',\n                        [{\"domain\": {\"x\": [0.0, 1.0], \"y\": [0.0, 1.0]}, \"hovertemplate\": \"city=%{label}<br>counts=%{value}<extra></extra>\", \"labels\": [\"Gyeongsan-si\", \"Seongnam-si\", \"Bucheon-si\", \"Gwanak-gu\", \"Cheonan-si\", \"etc\", \"Yongin-si\", \"Suwon-si\", \"Guro-gu\", \"Bupyeong-gu\", \"Gangnam-gu\", \"Gangseo-gu\", \"Seo-gu\", \"Gumi-si\", \"Gunpo-si\", \"Yangcheon-gu\", \"Bonghwa-gun\", \"Michuhol-gu\", \"Anyang-si\", \"Yeongdeungpo-gu\", \"Dobong-gu\", \"Pyeongtaek-si\", \"Gyeyang-gu\", \"Songpa-gu\", \"Jung-gu\", \"Seocho-gu\", \"Pohang-si\", \"Eunpyeong-gu\", \"Andong-si\", \"Dongjak-gu\", \"Sejong\", \"Gyeongju-si\", \"Goyang-si\", \"Chilgok-gun\", \"Yongsan-gu\", \"Seongdong-gu\", \"Uijeongbu-si\", \"Namyangju-si\", \"Yeonsu-gu\", \"Namdong-gu\", \"Yecheon-gun\", \"Cheongdo-gun\", \"Nowon-gu\", \"Uiseong-gun\", \"Hwaseong-si\", \"Dong-gu\", \"Yuseong-gu\", \"Mapo-gu\", \"Dongnae-gu\", \"Dongdaemun-gu\", \"Yeongcheon-si\", \"Gimpo-si\", \"Gwangju-si\", \"Nam-gu\", \"Gangdong-gu\", \"Seodaemun-gu\", \"Ansan-si\", \"Seongbuk-gu\", \"Jungnang-gu\", \"Geumcheon-gu\", \"Changwon-si\", \"Gwangmyeong-si\", \"Buk-gu\", \"Siheung-si\", \"Dalseo-gu\", \"Gangbuk-gu\", \"Wonju-si\", \"Gimcheon-si\", \"Seongju-gun\", \"Haeundae-gu\", \"Cheongju-si\", \"Pocheon-si\", \"Jongno-gu\", \"Geochang-gun\", \"Asan-si\", \"Gwangjin-gu\", \"Paju-si\", \"Icheon-si\", \"Sangju-si\", \"Gimhae-si\", \"Suseong-gu\", \"Busanjin-gu\", \"Buyeo-gun\", \"Chungju-si\", \"Jeju-do\", \"Geoje-si\", \"Hanam-si\", \"Jinju-si\", \"Suyeong-gu\", \"Guri-si\", \"Saha-gu\", \"Goesan-gun\", \"Cheorwon-gun\", \"Chuncheon-si\", \"Uiwang-si\", \"Hapcheon-gun\", \"Goryeong-gun\", \"Seosan-si\", \"Changnyeong-gun\", \"Gwacheon-si\", \"Yangju-si\", \"Yangsan-si\", \"Osan-si\", \"Gangneung-si\", \"Jeonju-si\", \"Eumseong-gun\", \"Geumjeong-gu\", \"Ulju-gun\", \"Gunwi-gun\", \"Nonsan-si\", \"Dalsung-gun\", \"Daedeok-gu\", \"Dongducheon-si\", \"Yeongju-si\", \"Miryang-si\", \"Mokpo-si\", \"Mungyeong-si\", \"Yeonje-gu\", \"Hongseong-gun\", \"Anseong-si\", \"Gunsan-si\", \"Sasang-gu\", \"Sacheon-si\", \"Gongju-si\", \"Gimje-si\", \"Gyeryong-si\", \"Sokcho-si\", \"Goseong-gun\", \"Muan-gun\", \"Yeongyang-gun\", \"Yeosu-si\", \"Cheongsong-gun\", \"Yeongdeok-gun\", \"Suncheon-si\", \"Jeungpyeong-gun\", \"Iksan-si\", \"Gapyeong-gun\", \"Yangpyeong-si\", \"Gijang-gun\", \"Hwasun-gun\", \"Jincheon-gun\", \"Namhae-gun\", \"Yeongwol-gun\", \"Taean-gun\", \"Hamyang-gun\", \"Jangsu-gun\", \"sankyeock-dong\", \"Taebaek-si\", \"Gwangyang-si\", \"Suwon\", \"Haman-gun\", \"Kyeongsan-si\", \"Sancheong-gun\", \"Guri\", \"Danyang-gun\", \"Samcheok-si\", \"Icheon-dong\", \"Okcheon-gun\", \"Dalseong-gun\", \"Inje-gun\", \"Hoengseong-gun\", \"Ganghwa-gun\"], \"legendgroup\": \"\", \"name\": \"\", \"showlegend\": true, \"textposition\": \"inside\", \"type\": \"pie\", \"values\": [639, 173, 161, 112, 110, 107, 104, 100, 85, 83, 83, 82, 78, 78, 75, 71, 71, 69, 63, 62, 62, 61, 55, 55, 55, 55, 53, 53, 53, 53, 52, 52, 51, 51, 50, 49, 47, 46, 45, 45, 44, 43, 43, 41, 41, 40, 40, 38, 38, 38, 37, 37, 35, 35, 34, 34, 33, 33, 32, 31, 31, 28, 27, 26, 25, 24, 24, 23, 23, 22, 20, 19, 19, 19, 17, 17, 16, 15, 15, 14, 14, 14, 13, 13, 13, 13, 12, 12, 11, 11, 11, 11, 11, 10, 10, 10, 9, 9, 9, 9, 9, 8, 8, 8, 8, 7, 6, 6, 6, 6, 5, 5, 5, 5, 5, 5, 4, 4, 4, 4, 4, 4, 3, 3, 3, 3, 3, 2, 2, 2, 2, 2, 2, 2, 2, 2, 1, 1, 1, 1, 1, 1, 1, 1, 1, 1, 1, 1, 1, 1, 1, 1, 1, 1, 1, 1, 1, 1, 1, 1, 1, 1]}],\n                        {\"legend\": {\"tracegroupgap\": 0}, \"margin\": {\"t\": 60}, \"template\": {\"data\": {\"bar\": [{\"error_x\": {\"color\": \"#2a3f5f\"}, \"error_y\": {\"color\": \"#2a3f5f\"}, \"marker\": {\"line\": {\"color\": \"#E5ECF6\", \"width\": 0.5}}, \"type\": \"bar\"}], \"barpolar\": [{\"marker\": {\"line\": {\"color\": \"#E5ECF6\", \"width\": 0.5}}, \"type\": \"barpolar\"}], \"carpet\": [{\"aaxis\": {\"endlinecolor\": \"#2a3f5f\", \"gridcolor\": \"white\", \"linecolor\": \"white\", \"minorgridcolor\": \"white\", \"startlinecolor\": \"#2a3f5f\"}, \"baxis\": {\"endlinecolor\": \"#2a3f5f\", \"gridcolor\": \"white\", \"linecolor\": \"white\", \"minorgridcolor\": \"white\", \"startlinecolor\": \"#2a3f5f\"}, \"type\": \"carpet\"}], \"choropleth\": [{\"colorbar\": {\"outlinewidth\": 0, \"ticks\": \"\"}, \"type\": \"choropleth\"}], \"contour\": [{\"colorbar\": {\"outlinewidth\": 0, \"ticks\": \"\"}, \"colorscale\": [[0.0, \"#0d0887\"], [0.1111111111111111, \"#46039f\"], [0.2222222222222222, \"#7201a8\"], [0.3333333333333333, \"#9c179e\"], [0.4444444444444444, \"#bd3786\"], [0.5555555555555556, \"#d8576b\"], [0.6666666666666666, \"#ed7953\"], [0.7777777777777778, \"#fb9f3a\"], [0.8888888888888888, \"#fdca26\"], [1.0, \"#f0f921\"]], \"type\": \"contour\"}], \"contourcarpet\": [{\"colorbar\": {\"outlinewidth\": 0, \"ticks\": \"\"}, \"type\": \"contourcarpet\"}], \"heatmap\": [{\"colorbar\": {\"outlinewidth\": 0, \"ticks\": \"\"}, \"colorscale\": [[0.0, \"#0d0887\"], [0.1111111111111111, \"#46039f\"], [0.2222222222222222, \"#7201a8\"], [0.3333333333333333, \"#9c179e\"], [0.4444444444444444, \"#bd3786\"], [0.5555555555555556, \"#d8576b\"], [0.6666666666666666, \"#ed7953\"], [0.7777777777777778, \"#fb9f3a\"], [0.8888888888888888, \"#fdca26\"], [1.0, \"#f0f921\"]], \"type\": \"heatmap\"}], \"heatmapgl\": [{\"colorbar\": {\"outlinewidth\": 0, \"ticks\": \"\"}, \"colorscale\": [[0.0, \"#0d0887\"], [0.1111111111111111, \"#46039f\"], [0.2222222222222222, \"#7201a8\"], [0.3333333333333333, \"#9c179e\"], [0.4444444444444444, \"#bd3786\"], [0.5555555555555556, \"#d8576b\"], [0.6666666666666666, \"#ed7953\"], [0.7777777777777778, \"#fb9f3a\"], [0.8888888888888888, \"#fdca26\"], [1.0, \"#f0f921\"]], \"type\": \"heatmapgl\"}], \"histogram\": [{\"marker\": {\"colorbar\": {\"outlinewidth\": 0, \"ticks\": \"\"}}, \"type\": \"histogram\"}], \"histogram2d\": [{\"colorbar\": {\"outlinewidth\": 0, \"ticks\": \"\"}, \"colorscale\": [[0.0, \"#0d0887\"], [0.1111111111111111, \"#46039f\"], [0.2222222222222222, \"#7201a8\"], [0.3333333333333333, \"#9c179e\"], [0.4444444444444444, \"#bd3786\"], [0.5555555555555556, \"#d8576b\"], [0.6666666666666666, \"#ed7953\"], [0.7777777777777778, \"#fb9f3a\"], [0.8888888888888888, \"#fdca26\"], [1.0, \"#f0f921\"]], \"type\": \"histogram2d\"}], \"histogram2dcontour\": [{\"colorbar\": {\"outlinewidth\": 0, \"ticks\": \"\"}, \"colorscale\": [[0.0, \"#0d0887\"], [0.1111111111111111, \"#46039f\"], [0.2222222222222222, \"#7201a8\"], [0.3333333333333333, \"#9c179e\"], [0.4444444444444444, \"#bd3786\"], [0.5555555555555556, \"#d8576b\"], [0.6666666666666666, \"#ed7953\"], [0.7777777777777778, \"#fb9f3a\"], [0.8888888888888888, \"#fdca26\"], [1.0, \"#f0f921\"]], \"type\": \"histogram2dcontour\"}], \"mesh3d\": [{\"colorbar\": {\"outlinewidth\": 0, \"ticks\": \"\"}, \"type\": \"mesh3d\"}], \"parcoords\": [{\"line\": {\"colorbar\": {\"outlinewidth\": 0, \"ticks\": \"\"}}, \"type\": \"parcoords\"}], \"pie\": [{\"automargin\": true, \"type\": \"pie\"}], \"scatter\": [{\"marker\": {\"colorbar\": {\"outlinewidth\": 0, \"ticks\": \"\"}}, \"type\": \"scatter\"}], \"scatter3d\": [{\"line\": {\"colorbar\": {\"outlinewidth\": 0, \"ticks\": \"\"}}, \"marker\": {\"colorbar\": {\"outlinewidth\": 0, \"ticks\": \"\"}}, \"type\": \"scatter3d\"}], \"scattercarpet\": [{\"marker\": {\"colorbar\": {\"outlinewidth\": 0, \"ticks\": \"\"}}, \"type\": \"scattercarpet\"}], \"scattergeo\": [{\"marker\": {\"colorbar\": {\"outlinewidth\": 0, \"ticks\": \"\"}}, \"type\": \"scattergeo\"}], \"scattergl\": [{\"marker\": {\"colorbar\": {\"outlinewidth\": 0, \"ticks\": \"\"}}, \"type\": \"scattergl\"}], \"scattermapbox\": [{\"marker\": {\"colorbar\": {\"outlinewidth\": 0, \"ticks\": \"\"}}, \"type\": \"scattermapbox\"}], \"scatterpolar\": [{\"marker\": {\"colorbar\": {\"outlinewidth\": 0, \"ticks\": \"\"}}, \"type\": \"scatterpolar\"}], \"scatterpolargl\": [{\"marker\": {\"colorbar\": {\"outlinewidth\": 0, \"ticks\": \"\"}}, \"type\": \"scatterpolargl\"}], \"scatterternary\": [{\"marker\": {\"colorbar\": {\"outlinewidth\": 0, \"ticks\": \"\"}}, \"type\": \"scatterternary\"}], \"surface\": [{\"colorbar\": {\"outlinewidth\": 0, \"ticks\": \"\"}, \"colorscale\": [[0.0, \"#0d0887\"], [0.1111111111111111, \"#46039f\"], [0.2222222222222222, \"#7201a8\"], [0.3333333333333333, \"#9c179e\"], [0.4444444444444444, \"#bd3786\"], [0.5555555555555556, \"#d8576b\"], [0.6666666666666666, \"#ed7953\"], [0.7777777777777778, \"#fb9f3a\"], [0.8888888888888888, \"#fdca26\"], [1.0, \"#f0f921\"]], \"type\": \"surface\"}], \"table\": [{\"cells\": {\"fill\": {\"color\": \"#EBF0F8\"}, \"line\": {\"color\": \"white\"}}, \"header\": {\"fill\": {\"color\": \"#C8D4E3\"}, \"line\": {\"color\": \"white\"}}, \"type\": \"table\"}]}, \"layout\": {\"annotationdefaults\": {\"arrowcolor\": \"#2a3f5f\", \"arrowhead\": 0, \"arrowwidth\": 1}, \"coloraxis\": {\"colorbar\": {\"outlinewidth\": 0, \"ticks\": \"\"}}, \"colorscale\": {\"diverging\": [[0, \"#8e0152\"], [0.1, \"#c51b7d\"], [0.2, \"#de77ae\"], [0.3, \"#f1b6da\"], [0.4, \"#fde0ef\"], [0.5, \"#f7f7f7\"], [0.6, \"#e6f5d0\"], [0.7, \"#b8e186\"], [0.8, \"#7fbc41\"], [0.9, \"#4d9221\"], [1, \"#276419\"]], \"sequential\": [[0.0, \"#0d0887\"], [0.1111111111111111, \"#46039f\"], [0.2222222222222222, \"#7201a8\"], [0.3333333333333333, \"#9c179e\"], [0.4444444444444444, \"#bd3786\"], [0.5555555555555556, \"#d8576b\"], [0.6666666666666666, \"#ed7953\"], [0.7777777777777778, \"#fb9f3a\"], [0.8888888888888888, \"#fdca26\"], [1.0, \"#f0f921\"]], \"sequentialminus\": [[0.0, \"#0d0887\"], [0.1111111111111111, \"#46039f\"], [0.2222222222222222, \"#7201a8\"], [0.3333333333333333, \"#9c179e\"], [0.4444444444444444, \"#bd3786\"], [0.5555555555555556, \"#d8576b\"], [0.6666666666666666, \"#ed7953\"], [0.7777777777777778, \"#fb9f3a\"], [0.8888888888888888, \"#fdca26\"], [1.0, \"#f0f921\"]]}, \"colorway\": [\"#636efa\", \"#EF553B\", \"#00cc96\", \"#ab63fa\", \"#FFA15A\", \"#19d3f3\", \"#FF6692\", \"#B6E880\", \"#FF97FF\", \"#FECB52\"], \"font\": {\"color\": \"#2a3f5f\"}, \"geo\": {\"bgcolor\": \"white\", \"lakecolor\": \"white\", \"landcolor\": \"#E5ECF6\", \"showlakes\": true, \"showland\": true, \"subunitcolor\": \"white\"}, \"hoverlabel\": {\"align\": \"left\"}, \"hovermode\": \"closest\", \"mapbox\": {\"style\": \"light\"}, \"paper_bgcolor\": \"white\", \"plot_bgcolor\": \"#E5ECF6\", \"polar\": {\"angularaxis\": {\"gridcolor\": \"white\", \"linecolor\": \"white\", \"ticks\": \"\"}, \"bgcolor\": \"#E5ECF6\", \"radialaxis\": {\"gridcolor\": \"white\", \"linecolor\": \"white\", \"ticks\": \"\"}}, \"scene\": {\"xaxis\": {\"backgroundcolor\": \"#E5ECF6\", \"gridcolor\": \"white\", \"gridwidth\": 2, \"linecolor\": \"white\", \"showbackground\": true, \"ticks\": \"\", \"zerolinecolor\": \"white\"}, \"yaxis\": {\"backgroundcolor\": \"#E5ECF6\", \"gridcolor\": \"white\", \"gridwidth\": 2, \"linecolor\": \"white\", \"showbackground\": true, \"ticks\": \"\", \"zerolinecolor\": \"white\"}, \"zaxis\": {\"backgroundcolor\": \"#E5ECF6\", \"gridcolor\": \"white\", \"gridwidth\": 2, \"linecolor\": \"white\", \"showbackground\": true, \"ticks\": \"\", \"zerolinecolor\": \"white\"}}, \"shapedefaults\": {\"line\": {\"color\": \"#2a3f5f\"}}, \"ternary\": {\"aaxis\": {\"gridcolor\": \"white\", \"linecolor\": \"white\", \"ticks\": \"\"}, \"baxis\": {\"gridcolor\": \"white\", \"linecolor\": \"white\", \"ticks\": \"\"}, \"bgcolor\": \"#E5ECF6\", \"caxis\": {\"gridcolor\": \"white\", \"linecolor\": \"white\", \"ticks\": \"\"}}, \"title\": {\"x\": 0.05}, \"xaxis\": {\"automargin\": true, \"gridcolor\": \"white\", \"linecolor\": \"white\", \"ticks\": \"\", \"title\": {\"standoff\": 15}, \"zerolinecolor\": \"white\", \"zerolinewidth\": 2}, \"yaxis\": {\"automargin\": true, \"gridcolor\": \"white\", \"linecolor\": \"white\", \"ticks\": \"\", \"title\": {\"standoff\": 15}, \"zerolinecolor\": \"white\", \"zerolinewidth\": 2}}}, \"uniformtext\": {\"minsize\": 12, \"mode\": \"hide\"}},\n                        {\"responsive\": true}\n                    ).then(function(){\n                            \nvar gd = document.getElementById('15455ba7-f70e-4085-8e9e-7069fa632dc1');\nvar x = new MutationObserver(function (mutations, observer) {{\n        var display = window.getComputedStyle(gd).display;\n        if (!display || display === 'none') {{\n            console.log([gd, 'removed!']);\n            Plotly.purge(gd);\n            observer.disconnect();\n        }}\n}});\n\n// Listen for the removal of the full notebook cells\nvar notebookContainer = gd.closest('#notebook-container');\nif (notebookContainer) {{\n    x.observe(notebookContainer, {childList: true});\n}}\n\n// Listen for the clearing of the current output cell\nvar outputEl = gd.closest('.output');\nif (outputEl) {{\n    x.observe(outputEl, {childList: true});\n}}\n\n                        })\n                };\n                });\n            </script>\n        </div>"
     },
     "metadata": {},
     "output_type": "display_data"
    }
   ],
   "source": [
    "fig = px.pie(city_count, values='counts', names='city')\n",
    "fig.update_traces(textposition='inside')\n",
    "fig.update_layout(uniformtext_minsize=12, uniformtext_mode='hide')\n",
    "fig.show()"
   ],
   "metadata": {
    "collapsed": false,
    "pycharm": {
     "name": "#%%\n"
    }
   }
  },
  {
   "cell_type": "markdown",
   "source": [
    "## 3.3 Merge City and Province"
   ],
   "metadata": {
    "collapsed": false,
    "pycharm": {
     "name": "#%% md\n"
    }
   }
  },
  {
   "cell_type": "code",
   "execution_count": 330,
   "outputs": [
    {
     "data": {
      "text/plain": "             province           city\n0               Seoul     Gangseo-gu\n1               Seoul    Jungnang-gu\n2               Seoul      Jongno-gu\n3               Seoul        Mapo-gu\n4               Seoul    Seongbuk-gu\n..                ...            ...\n157  Gyeongsangnam-do     Miryang-si\n158  Gyeongsangnam-do      Haman-gun\n159  Gyeongsangnam-do  Sancheong-gun\n160  Gyeongsangnam-do     Sacheon-si\n161           Jeju-do        Jeju-do\n\n[162 rows x 2 columns]",
      "text/html": "<div>\n<style scoped>\n    .dataframe tbody tr th:only-of-type {\n        vertical-align: middle;\n    }\n\n    .dataframe tbody tr th {\n        vertical-align: top;\n    }\n\n    .dataframe thead th {\n        text-align: right;\n    }\n</style>\n<table border=\"1\" class=\"dataframe\">\n  <thead>\n    <tr style=\"text-align: right;\">\n      <th></th>\n      <th>province</th>\n      <th>city</th>\n    </tr>\n  </thead>\n  <tbody>\n    <tr>\n      <th>0</th>\n      <td>Seoul</td>\n      <td>Gangseo-gu</td>\n    </tr>\n    <tr>\n      <th>1</th>\n      <td>Seoul</td>\n      <td>Jungnang-gu</td>\n    </tr>\n    <tr>\n      <th>2</th>\n      <td>Seoul</td>\n      <td>Jongno-gu</td>\n    </tr>\n    <tr>\n      <th>3</th>\n      <td>Seoul</td>\n      <td>Mapo-gu</td>\n    </tr>\n    <tr>\n      <th>4</th>\n      <td>Seoul</td>\n      <td>Seongbuk-gu</td>\n    </tr>\n    <tr>\n      <th>...</th>\n      <td>...</td>\n      <td>...</td>\n    </tr>\n    <tr>\n      <th>157</th>\n      <td>Gyeongsangnam-do</td>\n      <td>Miryang-si</td>\n    </tr>\n    <tr>\n      <th>158</th>\n      <td>Gyeongsangnam-do</td>\n      <td>Haman-gun</td>\n    </tr>\n    <tr>\n      <th>159</th>\n      <td>Gyeongsangnam-do</td>\n      <td>Sancheong-gun</td>\n    </tr>\n    <tr>\n      <th>160</th>\n      <td>Gyeongsangnam-do</td>\n      <td>Sacheon-si</td>\n    </tr>\n    <tr>\n      <th>161</th>\n      <td>Jeju-do</td>\n      <td>Jeju-do</td>\n    </tr>\n  </tbody>\n</table>\n<p>162 rows × 2 columns</p>\n</div>"
     },
     "execution_count": 330,
     "metadata": {},
     "output_type": "execute_result"
    }
   ],
   "source": [
    "city_province = data.drop_duplicates(subset='city',keep='first', inplace=False).reset_index(drop=True)\n",
    "city_province = city_province[['province','city']]\n",
    "city_province"
   ],
   "metadata": {
    "collapsed": false,
    "pycharm": {
     "name": "#%%\n"
    }
   }
  },
  {
   "cell_type": "code",
   "execution_count": 331,
   "outputs": [
    {
     "data": {
      "text/plain": "             province           city  counts\n0               Seoul     Gangseo-gu      82\n1               Seoul    Jungnang-gu      32\n2               Seoul      Jongno-gu      19\n3               Seoul        Mapo-gu      38\n4               Seoul    Seongbuk-gu      33\n..                ...            ...     ...\n157  Gyeongsangnam-do     Miryang-si       5\n158  Gyeongsangnam-do      Haman-gun       1\n159  Gyeongsangnam-do  Sancheong-gun       1\n160  Gyeongsangnam-do     Sacheon-si       3\n161           Jeju-do        Jeju-do      13\n\n[162 rows x 3 columns]",
      "text/html": "<div>\n<style scoped>\n    .dataframe tbody tr th:only-of-type {\n        vertical-align: middle;\n    }\n\n    .dataframe tbody tr th {\n        vertical-align: top;\n    }\n\n    .dataframe thead th {\n        text-align: right;\n    }\n</style>\n<table border=\"1\" class=\"dataframe\">\n  <thead>\n    <tr style=\"text-align: right;\">\n      <th></th>\n      <th>province</th>\n      <th>city</th>\n      <th>counts</th>\n    </tr>\n  </thead>\n  <tbody>\n    <tr>\n      <th>0</th>\n      <td>Seoul</td>\n      <td>Gangseo-gu</td>\n      <td>82</td>\n    </tr>\n    <tr>\n      <th>1</th>\n      <td>Seoul</td>\n      <td>Jungnang-gu</td>\n      <td>32</td>\n    </tr>\n    <tr>\n      <th>2</th>\n      <td>Seoul</td>\n      <td>Jongno-gu</td>\n      <td>19</td>\n    </tr>\n    <tr>\n      <th>3</th>\n      <td>Seoul</td>\n      <td>Mapo-gu</td>\n      <td>38</td>\n    </tr>\n    <tr>\n      <th>4</th>\n      <td>Seoul</td>\n      <td>Seongbuk-gu</td>\n      <td>33</td>\n    </tr>\n    <tr>\n      <th>...</th>\n      <td>...</td>\n      <td>...</td>\n      <td>...</td>\n    </tr>\n    <tr>\n      <th>157</th>\n      <td>Gyeongsangnam-do</td>\n      <td>Miryang-si</td>\n      <td>5</td>\n    </tr>\n    <tr>\n      <th>158</th>\n      <td>Gyeongsangnam-do</td>\n      <td>Haman-gun</td>\n      <td>1</td>\n    </tr>\n    <tr>\n      <th>159</th>\n      <td>Gyeongsangnam-do</td>\n      <td>Sancheong-gun</td>\n      <td>1</td>\n    </tr>\n    <tr>\n      <th>160</th>\n      <td>Gyeongsangnam-do</td>\n      <td>Sacheon-si</td>\n      <td>3</td>\n    </tr>\n    <tr>\n      <th>161</th>\n      <td>Jeju-do</td>\n      <td>Jeju-do</td>\n      <td>13</td>\n    </tr>\n  </tbody>\n</table>\n<p>162 rows × 3 columns</p>\n</div>"
     },
     "execution_count": 331,
     "metadata": {},
     "output_type": "execute_result"
    }
   ],
   "source": [
    "# Merge the two dfs based on city column\n",
    "city_count.set_index(['city'], inplace=True)\n",
    "result = city_province.join(city_count,on='city')\n",
    "result"
   ],
   "metadata": {
    "collapsed": false,
    "pycharm": {
     "name": "#%%\n"
    }
   }
  },
  {
   "cell_type": "code",
   "execution_count": 332,
   "outputs": [
    {
     "data": {
      "application/vnd.plotly.v1+json": {
       "config": {
        "plotlyServerURL": "https://plot.ly"
       },
       "data": [
        {
         "branchvalues": "total",
         "customdata": [
          [
           "Andong-si",
           53.0
          ],
          [
           "Ansan-si",
           33.0
          ],
          [
           "Anseong-si",
           4.0
          ],
          [
           "Anyang-si",
           63.0
          ],
          [
           "Asan-si",
           17.0
          ],
          [
           "Bonghwa-gun",
           71.0
          ],
          [
           "Bucheon-si",
           161.0
          ],
          [
           "Buk-gu",
           27.0
          ],
          [
           "Bupyeong-gu",
           83.0
          ],
          [
           "Busanjin-gu",
           14.0
          ],
          [
           "Buyeo-gun",
           13.0
          ],
          [
           "Changnyeong-gun",
           9.0
          ],
          [
           "Changwon-si",
           31.0
          ],
          [
           "Cheonan-si",
           110.0
          ],
          [
           "Cheongdo-gun",
           43.0
          ],
          [
           "Cheongju-si",
           20.0
          ],
          [
           "Cheongsong-gun",
           2.0
          ],
          [
           "Cheorwon-gun",
           11.0
          ],
          [
           "Chilgok-gun",
           51.0
          ],
          [
           "Chuncheon-si",
           10.0
          ],
          [
           "Chungju-si",
           13.0
          ],
          [
           "Daedeok-gu",
           5.0
          ],
          [
           "Dalseo-gu",
           25.0
          ],
          [
           "Dalseong-gun",
           1.0
          ],
          [
           "Dalsung-gun",
           5.0
          ],
          [
           "Danyang-gun",
           1.0
          ],
          [
           "Dobong-gu",
           62.0
          ],
          [
           "Dong-gu",
           40.0
          ],
          [
           "Dongdaemun-gu",
           38.0
          ],
          [
           "Dongducheon-si",
           5.0
          ],
          [
           "Dongjak-gu",
           53.0
          ],
          [
           "Dongnae-gu",
           38.0
          ],
          [
           "Eumseong-gun",
           7.0
          ],
          [
           "Eunpyeong-gu",
           53.0
          ],
          [
           "Gangbuk-gu",
           24.0
          ],
          [
           "Gangdong-gu",
           34.0
          ],
          [
           "Ganghwa-gun",
           1.0
          ],
          [
           "Gangnam-gu",
           83.0
          ],
          [
           "Gangneung-si",
           8.0
          ],
          [
           "Gangseo-gu",
           82.0
          ],
          [
           "Gapyeong-gun",
           1.0
          ],
          [
           "Geochang-gun",
           19.0
          ],
          [
           "Geoje-si",
           13.0
          ],
          [
           "Geumcheon-gu",
           31.0
          ],
          [
           "Geumjeong-gu",
           6.0
          ],
          [
           "Gijang-gun",
           1.0
          ],
          [
           "Gimcheon-si",
           23.0
          ],
          [
           "Gimhae-si",
           14.0
          ],
          [
           "Gimje-si",
           3.0
          ],
          [
           "Gimpo-si",
           37.0
          ],
          [
           "Goesan-gun",
           11.0
          ],
          [
           "Gongju-si",
           3.0
          ],
          [
           "Goryeong-gun",
           9.0
          ],
          [
           "Goseong-gun",
           2.0
          ],
          [
           "Goyang-si",
           51.0
          ],
          [
           "Gumi-si",
           78.0
          ],
          [
           "Gunpo-si",
           75.0
          ],
          [
           "Gunsan-si",
           4.0
          ],
          [
           "Gunwi-gun",
           6.0
          ],
          [
           "Guri",
           1.0
          ],
          [
           "Guri-si",
           11.0
          ],
          [
           "Guro-gu",
           85.0
          ],
          [
           "Gwacheon-si",
           9.0
          ],
          [
           "Gwanak-gu",
           112.0
          ],
          [
           "Gwangjin-gu",
           17.0
          ],
          [
           "Gwangju-si",
           35.0
          ],
          [
           "Gwangmyeong-si",
           28.0
          ],
          [
           "Gwangyang-si",
           1.0
          ],
          [
           "Gyeongju-si",
           52.0
          ],
          [
           "Gyeongsan-si",
           639.0
          ],
          [
           "Gyeryong-si",
           3.0
          ],
          [
           "Gyeyang-gu",
           55.0
          ],
          [
           "Haeundae-gu",
           22.0
          ],
          [
           "Haman-gun",
           1.0
          ],
          [
           "Hamyang-gun",
           1.0
          ],
          [
           "Hanam-si",
           12.0
          ],
          [
           "Hapcheon-gun",
           10.0
          ],
          [
           "Hoengseong-gun",
           1.0
          ],
          [
           "Hongseong-gun",
           4.0
          ],
          [
           "Hwaseong-si",
           41.0
          ],
          [
           "Hwasun-gun",
           1.0
          ],
          [
           "Icheon-dong",
           1.0
          ],
          [
           "Icheon-si",
           15.0
          ],
          [
           "Iksan-si",
           2.0
          ],
          [
           "Inje-gun",
           1.0
          ],
          [
           "Jangsu-gun",
           1.0
          ],
          [
           "Jeju-do",
           13.0
          ],
          [
           "Jeonju-si",
           8.0
          ],
          [
           "Jeungpyeong-gun",
           2.0
          ],
          [
           "Jincheon-gun",
           1.0
          ],
          [
           "Jinju-si",
           12.0
          ],
          [
           "Jongno-gu",
           19.0
          ],
          [
           "Jung-gu",
           55.0
          ],
          [
           "Jungnang-gu",
           32.0
          ],
          [
           "Kyeongsan-si",
           1.0
          ],
          [
           "Mapo-gu",
           38.0
          ],
          [
           "Michuhol-gu",
           69.0
          ],
          [
           "Miryang-si",
           5.0
          ],
          [
           "Mokpo-si",
           5.0
          ],
          [
           "Muan-gun",
           2.0
          ],
          [
           "Mungyeong-si",
           4.0
          ],
          [
           "Nam-gu",
           35.0
          ],
          [
           "Namdong-gu",
           45.0
          ],
          [
           "Namhae-gun",
           1.0
          ],
          [
           "Namyangju-si",
           46.0
          ],
          [
           "Nonsan-si",
           6.0
          ],
          [
           "Nowon-gu",
           43.0
          ],
          [
           "Okcheon-gun",
           1.0
          ],
          [
           "Osan-si",
           8.0
          ],
          [
           "Paju-si",
           16.0
          ],
          [
           "Pocheon-si",
           19.0
          ],
          [
           "Pohang-si",
           53.0
          ],
          [
           "Pyeongtaek-si",
           61.0
          ],
          [
           "Sacheon-si",
           3.0
          ],
          [
           "Saha-gu",
           11.0
          ],
          [
           "Samcheok-si",
           1.0
          ],
          [
           "Sancheong-gun",
           1.0
          ],
          [
           "Sangju-si",
           15.0
          ],
          [
           "Sasang-gu",
           4.0
          ],
          [
           "Sejong",
           52.0
          ],
          [
           "Seo-gu",
           78.0
          ],
          [
           "Seocho-gu",
           55.0
          ],
          [
           "Seodaemun-gu",
           34.0
          ],
          [
           "Seongbuk-gu",
           33.0
          ],
          [
           "Seongdong-gu",
           49.0
          ],
          [
           "Seongju-gun",
           23.0
          ],
          [
           "Seongnam-si",
           173.0
          ],
          [
           "Seosan-si",
           9.0
          ],
          [
           "Siheung-si",
           26.0
          ],
          [
           "Sokcho-si",
           3.0
          ],
          [
           "Songpa-gu",
           55.0
          ],
          [
           "Suncheon-si",
           2.0
          ],
          [
           "Suseong-gu",
           14.0
          ],
          [
           "Suwon",
           1.0
          ],
          [
           "Suwon-si",
           100.0
          ],
          [
           "Suyeong-gu",
           11.0
          ],
          [
           "Taean-gun",
           1.0
          ],
          [
           "Taebaek-si",
           1.0
          ],
          [
           "Uijeongbu-si",
           47.0
          ],
          [
           "Uiseong-gun",
           41.0
          ],
          [
           "Uiwang-si",
           10.0
          ],
          [
           "Ulju-gun",
           6.0
          ],
          [
           "Wonju-si",
           24.0
          ],
          [
           "Yangcheon-gu",
           71.0
          ],
          [
           "Yangju-si",
           9.0
          ],
          [
           "Yangpyeong-si",
           1.0
          ],
          [
           "Yangsan-si",
           8.0
          ],
          [
           "Yecheon-gun",
           44.0
          ],
          [
           "Yeongcheon-si",
           37.0
          ],
          [
           "Yeongdeok-gun",
           2.0
          ],
          [
           "Yeongdeungpo-gu",
           62.0
          ],
          [
           "Yeongju-si",
           5.0
          ],
          [
           "Yeongwol-gun",
           1.0
          ],
          [
           "Yeongyang-gun",
           2.0
          ],
          [
           "Yeonje-gu",
           4.0
          ],
          [
           "Yeonsu-gu",
           45.0
          ],
          [
           "Yeosu-si",
           2.0
          ],
          [
           "Yongin-si",
           104.0
          ],
          [
           "Yongsan-gu",
           50.0
          ],
          [
           "Yuseong-gu",
           40.0
          ],
          [
           "etc",
           107.0
          ],
          [
           "sankyeock-dong",
           1.0
          ],
          [
           "(?)",
           41.487972508591064
          ],
          [
           "(?)",
           13.321428571428571
          ],
          [
           "(?)",
           76.56626506024097
          ],
          [
           "(?)",
           17.708333333333332
          ],
          [
           "(?)",
           36.111111111111114
          ],
          [
           "(?)",
           14.344262295081966
          ],
          [
           "(?)",
           87.45552784704904
          ],
          [
           "(?)",
           350.0853950518755
          ],
          [
           "(?)",
           16.29230769230769
          ],
          [
           "(?)",
           62.83892617449664
          ],
          [
           "Jeju-do",
           13.0
          ],
          [
           "(?)",
           5.222222222222222
          ],
          [
           "(?)",
           3.0
          ],
          [
           "Sejong",
           52.0
          ],
          [
           "(?)",
           64.2723311546841
          ],
          [
           "Ulju-gun",
           6.0
          ]
         ],
         "domain": {
          "x": [
           0.0,
           1.0
          ],
          "y": [
           0.0,
           1.0
          ]
         },
         "hovertemplate": "labels=%{label}<br>counts_sum=%{value}<br>parent=%{parent}<br>id=%{id}<br>city=%{customdata[0]}<br>counts=%{color}<extra></extra>",
         "ids": [
          "Gyeongsangbuk-do/Andong-si",
          "Gyeonggi-do/Ansan-si",
          "Gyeonggi-do/Anseong-si",
          "Gyeonggi-do/Anyang-si",
          "Chungcheongnam-do/Asan-si",
          "Gyeongsangbuk-do/Bonghwa-gun",
          "Gyeonggi-do/Bucheon-si",
          "Busan/Buk-gu",
          "Incheon/Bupyeong-gu",
          "Busan/Busanjin-gu",
          "Chungcheongnam-do/Buyeo-gun",
          "Gyeongsangnam-do/Changnyeong-gun",
          "Gyeongsangnam-do/Changwon-si",
          "Chungcheongnam-do/Cheonan-si",
          "Gyeongsangbuk-do/Cheongdo-gun",
          "Chungcheongbuk-do/Cheongju-si",
          "Gyeongsangbuk-do/Cheongsong-gun",
          "Gangwon-do/Cheorwon-gun",
          "Gyeongsangbuk-do/Chilgok-gun",
          "Gangwon-do/Chuncheon-si",
          "Chungcheongbuk-do/Chungju-si",
          "Daejeon/Daedeok-gu",
          "Daegu/Dalseo-gu",
          "Daegu/Dalseong-gun",
          "Daegu/Dalsung-gun",
          "Chungcheongbuk-do/Danyang-gun",
          "Seoul/Dobong-gu",
          "Busan/Dong-gu",
          "Seoul/Dongdaemun-gu",
          "Gyeonggi-do/Dongducheon-si",
          "Seoul/Dongjak-gu",
          "Busan/Dongnae-gu",
          "Chungcheongbuk-do/Eumseong-gun",
          "Seoul/Eunpyeong-gu",
          "Seoul/Gangbuk-gu",
          "Seoul/Gangdong-gu",
          "Incheon/Ganghwa-gun",
          "Seoul/Gangnam-gu",
          "Gangwon-do/Gangneung-si",
          "Seoul/Gangseo-gu",
          "Gyeonggi-do/Gapyeong-gun",
          "Gyeongsangnam-do/Geochang-gun",
          "Gyeongsangnam-do/Geoje-si",
          "Seoul/Geumcheon-gu",
          "Busan/Geumjeong-gu",
          "Busan/Gijang-gun",
          "Gyeongsangbuk-do/Gimcheon-si",
          "Gyeongsangnam-do/Gimhae-si",
          "Jeollabuk-do/Gimje-si",
          "Gyeonggi-do/Gimpo-si",
          "Chungcheongbuk-do/Goesan-gun",
          "Chungcheongnam-do/Gongju-si",
          "Gyeongsangbuk-do/Goryeong-gun",
          "Gyeongsangnam-do/Goseong-gun",
          "Gyeonggi-do/Goyang-si",
          "Gyeongsangbuk-do/Gumi-si",
          "Gyeonggi-do/Gunpo-si",
          "Jeollabuk-do/Gunsan-si",
          "Gyeongsangbuk-do/Gunwi-gun",
          "Gyeonggi-do/Guri",
          "Gyeonggi-do/Guri-si",
          "Seoul/Guro-gu",
          "Gyeonggi-do/Gwacheon-si",
          "Seoul/Gwanak-gu",
          "Seoul/Gwangjin-gu",
          "Gyeonggi-do/Gwangju-si",
          "Gyeonggi-do/Gwangmyeong-si",
          "Jeollanam-do/Gwangyang-si",
          "Gyeongsangbuk-do/Gyeongju-si",
          "Gyeongsangbuk-do/Gyeongsan-si",
          "Chungcheongnam-do/Gyeryong-si",
          "Incheon/Gyeyang-gu",
          "Busan/Haeundae-gu",
          "Gyeongsangnam-do/Haman-gun",
          "Gyeongsangnam-do/Hamyang-gun",
          "Gyeonggi-do/Hanam-si",
          "Gyeongsangnam-do/Hapcheon-gun",
          "Gangwon-do/Hoengseong-gun",
          "Chungcheongnam-do/Hongseong-gun",
          "Gyeonggi-do/Hwaseong-si",
          "Jeollanam-do/Hwasun-gun",
          "Daegu/Icheon-dong",
          "Gyeonggi-do/Icheon-si",
          "Jeollabuk-do/Iksan-si",
          "Gangwon-do/Inje-gun",
          "Jeollabuk-do/Jangsu-gun",
          "Jeju-do/Jeju-do",
          "Jeollabuk-do/Jeonju-si",
          "Chungcheongbuk-do/Jeungpyeong-gun",
          "Chungcheongbuk-do/Jincheon-gun",
          "Gyeongsangnam-do/Jinju-si",
          "Seoul/Jongno-gu",
          "Seoul/Jung-gu",
          "Seoul/Jungnang-gu",
          "Daegu/Kyeongsan-si",
          "Seoul/Mapo-gu",
          "Incheon/Michuhol-gu",
          "Gyeongsangnam-do/Miryang-si",
          "Jeollanam-do/Mokpo-si",
          "Jeollanam-do/Muan-gun",
          "Gyeongsangbuk-do/Mungyeong-si",
          "Busan/Nam-gu",
          "Incheon/Namdong-gu",
          "Gyeongsangnam-do/Namhae-gun",
          "Gyeonggi-do/Namyangju-si",
          "Chungcheongnam-do/Nonsan-si",
          "Seoul/Nowon-gu",
          "Chungcheongbuk-do/Okcheon-gun",
          "Gyeonggi-do/Osan-si",
          "Gyeonggi-do/Paju-si",
          "Gyeonggi-do/Pocheon-si",
          "Gyeongsangbuk-do/Pohang-si",
          "Gyeonggi-do/Pyeongtaek-si",
          "Gyeongsangnam-do/Sacheon-si",
          "Busan/Saha-gu",
          "Gangwon-do/Samcheok-si",
          "Gyeongsangnam-do/Sancheong-gun",
          "Gyeongsangbuk-do/Sangju-si",
          "Busan/Sasang-gu",
          "Sejong/Sejong",
          "Busan/Seo-gu",
          "Seoul/Seocho-gu",
          "Seoul/Seodaemun-gu",
          "Seoul/Seongbuk-gu",
          "Seoul/Seongdong-gu",
          "Gyeongsangbuk-do/Seongju-gun",
          "Gyeonggi-do/Seongnam-si",
          "Chungcheongnam-do/Seosan-si",
          "Gyeonggi-do/Siheung-si",
          "Gangwon-do/Sokcho-si",
          "Seoul/Songpa-gu",
          "Jeollanam-do/Suncheon-si",
          "Daegu/Suseong-gu",
          "Gyeonggi-do/Suwon",
          "Gyeonggi-do/Suwon-si",
          "Busan/Suyeong-gu",
          "Chungcheongnam-do/Taean-gun",
          "Gangwon-do/Taebaek-si",
          "Gyeonggi-do/Uijeongbu-si",
          "Gyeongsangbuk-do/Uiseong-gun",
          "Gyeonggi-do/Uiwang-si",
          "Ulsan/Ulju-gun",
          "Gangwon-do/Wonju-si",
          "Seoul/Yangcheon-gu",
          "Gyeonggi-do/Yangju-si",
          "Gyeonggi-do/Yangpyeong-si",
          "Gyeongsangnam-do/Yangsan-si",
          "Gyeongsangbuk-do/Yecheon-gun",
          "Gyeongsangbuk-do/Yeongcheon-si",
          "Gyeongsangbuk-do/Yeongdeok-gun",
          "Seoul/Yeongdeungpo-gu",
          "Gyeongsangbuk-do/Yeongju-si",
          "Gangwon-do/Yeongwol-gun",
          "Gyeongsangbuk-do/Yeongyang-gun",
          "Busan/Yeonje-gu",
          "Incheon/Yeonsu-gu",
          "Jeollanam-do/Yeosu-si",
          "Gyeonggi-do/Yongin-si",
          "Seoul/Yongsan-gu",
          "Daejeon/Yuseong-gu",
          "Seoul/etc",
          "Daegu/sankyeock-dong",
          "Busan",
          "Chungcheongbuk-do",
          "Chungcheongnam-do",
          "Daegu",
          "Daejeon",
          "Gangwon-do",
          "Gyeonggi-do",
          "Gyeongsangbuk-do",
          "Gyeongsangnam-do",
          "Incheon",
          "Jeju-do",
          "Jeollabuk-do",
          "Jeollanam-do",
          "Sejong",
          "Seoul",
          "Ulsan"
         ],
         "labels": [
          "Andong-si",
          "Ansan-si",
          "Anseong-si",
          "Anyang-si",
          "Asan-si",
          "Bonghwa-gun",
          "Bucheon-si",
          "Buk-gu",
          "Bupyeong-gu",
          "Busanjin-gu",
          "Buyeo-gun",
          "Changnyeong-gun",
          "Changwon-si",
          "Cheonan-si",
          "Cheongdo-gun",
          "Cheongju-si",
          "Cheongsong-gun",
          "Cheorwon-gun",
          "Chilgok-gun",
          "Chuncheon-si",
          "Chungju-si",
          "Daedeok-gu",
          "Dalseo-gu",
          "Dalseong-gun",
          "Dalsung-gun",
          "Danyang-gun",
          "Dobong-gu",
          "Dong-gu",
          "Dongdaemun-gu",
          "Dongducheon-si",
          "Dongjak-gu",
          "Dongnae-gu",
          "Eumseong-gun",
          "Eunpyeong-gu",
          "Gangbuk-gu",
          "Gangdong-gu",
          "Ganghwa-gun",
          "Gangnam-gu",
          "Gangneung-si",
          "Gangseo-gu",
          "Gapyeong-gun",
          "Geochang-gun",
          "Geoje-si",
          "Geumcheon-gu",
          "Geumjeong-gu",
          "Gijang-gun",
          "Gimcheon-si",
          "Gimhae-si",
          "Gimje-si",
          "Gimpo-si",
          "Goesan-gun",
          "Gongju-si",
          "Goryeong-gun",
          "Goseong-gun",
          "Goyang-si",
          "Gumi-si",
          "Gunpo-si",
          "Gunsan-si",
          "Gunwi-gun",
          "Guri",
          "Guri-si",
          "Guro-gu",
          "Gwacheon-si",
          "Gwanak-gu",
          "Gwangjin-gu",
          "Gwangju-si",
          "Gwangmyeong-si",
          "Gwangyang-si",
          "Gyeongju-si",
          "Gyeongsan-si",
          "Gyeryong-si",
          "Gyeyang-gu",
          "Haeundae-gu",
          "Haman-gun",
          "Hamyang-gun",
          "Hanam-si",
          "Hapcheon-gun",
          "Hoengseong-gun",
          "Hongseong-gun",
          "Hwaseong-si",
          "Hwasun-gun",
          "Icheon-dong",
          "Icheon-si",
          "Iksan-si",
          "Inje-gun",
          "Jangsu-gun",
          "Jeju-do",
          "Jeonju-si",
          "Jeungpyeong-gun",
          "Jincheon-gun",
          "Jinju-si",
          "Jongno-gu",
          "Jung-gu",
          "Jungnang-gu",
          "Kyeongsan-si",
          "Mapo-gu",
          "Michuhol-gu",
          "Miryang-si",
          "Mokpo-si",
          "Muan-gun",
          "Mungyeong-si",
          "Nam-gu",
          "Namdong-gu",
          "Namhae-gun",
          "Namyangju-si",
          "Nonsan-si",
          "Nowon-gu",
          "Okcheon-gun",
          "Osan-si",
          "Paju-si",
          "Pocheon-si",
          "Pohang-si",
          "Pyeongtaek-si",
          "Sacheon-si",
          "Saha-gu",
          "Samcheok-si",
          "Sancheong-gun",
          "Sangju-si",
          "Sasang-gu",
          "Sejong",
          "Seo-gu",
          "Seocho-gu",
          "Seodaemun-gu",
          "Seongbuk-gu",
          "Seongdong-gu",
          "Seongju-gun",
          "Seongnam-si",
          "Seosan-si",
          "Siheung-si",
          "Sokcho-si",
          "Songpa-gu",
          "Suncheon-si",
          "Suseong-gu",
          "Suwon",
          "Suwon-si",
          "Suyeong-gu",
          "Taean-gun",
          "Taebaek-si",
          "Uijeongbu-si",
          "Uiseong-gun",
          "Uiwang-si",
          "Ulju-gun",
          "Wonju-si",
          "Yangcheon-gu",
          "Yangju-si",
          "Yangpyeong-si",
          "Yangsan-si",
          "Yecheon-gun",
          "Yeongcheon-si",
          "Yeongdeok-gun",
          "Yeongdeungpo-gu",
          "Yeongju-si",
          "Yeongwol-gun",
          "Yeongyang-gun",
          "Yeonje-gu",
          "Yeonsu-gu",
          "Yeosu-si",
          "Yongin-si",
          "Yongsan-gu",
          "Yuseong-gu",
          "etc",
          "sankyeock-dong",
          "Busan",
          "Chungcheongbuk-do",
          "Chungcheongnam-do",
          "Daegu",
          "Daejeon",
          "Gangwon-do",
          "Gyeonggi-do",
          "Gyeongsangbuk-do",
          "Gyeongsangnam-do",
          "Incheon",
          "Jeju-do",
          "Jeollabuk-do",
          "Jeollanam-do",
          "Sejong",
          "Seoul",
          "Ulsan"
         ],
         "marker": {
          "coloraxis": "coloraxis",
          "colors": [
           53.0,
           33.0,
           4.0,
           63.0,
           17.0,
           71.0,
           161.0,
           27.0,
           83.0,
           14.0,
           13.0,
           9.0,
           31.0,
           110.0,
           43.0,
           20.0,
           2.0,
           11.0,
           51.0,
           10.0,
           13.0,
           5.0,
           25.0,
           1.0,
           5.0,
           1.0,
           62.0,
           40.0,
           38.0,
           5.0,
           53.0,
           38.0,
           7.0,
           53.0,
           24.0,
           34.0,
           1.0,
           83.0,
           8.0,
           82.0,
           1.0,
           19.0,
           13.0,
           31.0,
           6.0,
           1.0,
           23.0,
           14.0,
           3.0,
           37.0,
           11.0,
           3.0,
           9.0,
           2.0,
           51.0,
           78.0,
           75.0,
           4.0,
           6.0,
           1.0,
           11.0,
           85.0,
           9.0,
           112.0,
           17.0,
           35.0,
           28.0,
           1.0,
           52.0,
           639.0,
           3.0,
           55.0,
           22.0,
           1.0,
           1.0,
           12.0,
           10.0,
           1.0,
           4.0,
           41.0,
           1.0,
           1.0,
           15.0,
           2.0,
           1.0,
           1.0,
           13.0,
           8.0,
           2.0,
           1.0,
           12.0,
           19.0,
           55.0,
           32.0,
           1.0,
           38.0,
           69.0,
           5.0,
           5.0,
           2.0,
           4.0,
           35.0,
           45.0,
           1.0,
           46.0,
           6.0,
           43.0,
           1.0,
           8.0,
           16.0,
           19.0,
           53.0,
           61.0,
           3.0,
           11.0,
           1.0,
           1.0,
           15.0,
           4.0,
           52.0,
           78.0,
           55.0,
           34.0,
           33.0,
           49.0,
           23.0,
           173.0,
           9.0,
           26.0,
           3.0,
           55.0,
           2.0,
           14.0,
           1.0,
           100.0,
           11.0,
           1.0,
           1.0,
           47.0,
           41.0,
           10.0,
           6.0,
           24.0,
           71.0,
           9.0,
           1.0,
           8.0,
           44.0,
           37.0,
           2.0,
           62.0,
           5.0,
           1.0,
           2.0,
           4.0,
           45.0,
           2.0,
           104.0,
           50.0,
           40.0,
           107.0,
           1.0,
           41.487972508591064,
           13.321428571428571,
           76.56626506024097,
           17.708333333333332,
           36.111111111111114,
           14.344262295081966,
           87.45552784704904,
           350.0853950518755,
           16.29230769230769,
           62.83892617449664,
           13.0,
           5.222222222222222,
           3.0,
           52.0,
           64.2723311546841,
           6.0
          ]
         },
         "name": "",
         "parents": [
          "Gyeongsangbuk-do",
          "Gyeonggi-do",
          "Gyeonggi-do",
          "Gyeonggi-do",
          "Chungcheongnam-do",
          "Gyeongsangbuk-do",
          "Gyeonggi-do",
          "Busan",
          "Incheon",
          "Busan",
          "Chungcheongnam-do",
          "Gyeongsangnam-do",
          "Gyeongsangnam-do",
          "Chungcheongnam-do",
          "Gyeongsangbuk-do",
          "Chungcheongbuk-do",
          "Gyeongsangbuk-do",
          "Gangwon-do",
          "Gyeongsangbuk-do",
          "Gangwon-do",
          "Chungcheongbuk-do",
          "Daejeon",
          "Daegu",
          "Daegu",
          "Daegu",
          "Chungcheongbuk-do",
          "Seoul",
          "Busan",
          "Seoul",
          "Gyeonggi-do",
          "Seoul",
          "Busan",
          "Chungcheongbuk-do",
          "Seoul",
          "Seoul",
          "Seoul",
          "Incheon",
          "Seoul",
          "Gangwon-do",
          "Seoul",
          "Gyeonggi-do",
          "Gyeongsangnam-do",
          "Gyeongsangnam-do",
          "Seoul",
          "Busan",
          "Busan",
          "Gyeongsangbuk-do",
          "Gyeongsangnam-do",
          "Jeollabuk-do",
          "Gyeonggi-do",
          "Chungcheongbuk-do",
          "Chungcheongnam-do",
          "Gyeongsangbuk-do",
          "Gyeongsangnam-do",
          "Gyeonggi-do",
          "Gyeongsangbuk-do",
          "Gyeonggi-do",
          "Jeollabuk-do",
          "Gyeongsangbuk-do",
          "Gyeonggi-do",
          "Gyeonggi-do",
          "Seoul",
          "Gyeonggi-do",
          "Seoul",
          "Seoul",
          "Gyeonggi-do",
          "Gyeonggi-do",
          "Jeollanam-do",
          "Gyeongsangbuk-do",
          "Gyeongsangbuk-do",
          "Chungcheongnam-do",
          "Incheon",
          "Busan",
          "Gyeongsangnam-do",
          "Gyeongsangnam-do",
          "Gyeonggi-do",
          "Gyeongsangnam-do",
          "Gangwon-do",
          "Chungcheongnam-do",
          "Gyeonggi-do",
          "Jeollanam-do",
          "Daegu",
          "Gyeonggi-do",
          "Jeollabuk-do",
          "Gangwon-do",
          "Jeollabuk-do",
          "Jeju-do",
          "Jeollabuk-do",
          "Chungcheongbuk-do",
          "Chungcheongbuk-do",
          "Gyeongsangnam-do",
          "Seoul",
          "Seoul",
          "Seoul",
          "Daegu",
          "Seoul",
          "Incheon",
          "Gyeongsangnam-do",
          "Jeollanam-do",
          "Jeollanam-do",
          "Gyeongsangbuk-do",
          "Busan",
          "Incheon",
          "Gyeongsangnam-do",
          "Gyeonggi-do",
          "Chungcheongnam-do",
          "Seoul",
          "Chungcheongbuk-do",
          "Gyeonggi-do",
          "Gyeonggi-do",
          "Gyeonggi-do",
          "Gyeongsangbuk-do",
          "Gyeonggi-do",
          "Gyeongsangnam-do",
          "Busan",
          "Gangwon-do",
          "Gyeongsangnam-do",
          "Gyeongsangbuk-do",
          "Busan",
          "Sejong",
          "Busan",
          "Seoul",
          "Seoul",
          "Seoul",
          "Seoul",
          "Gyeongsangbuk-do",
          "Gyeonggi-do",
          "Chungcheongnam-do",
          "Gyeonggi-do",
          "Gangwon-do",
          "Seoul",
          "Jeollanam-do",
          "Daegu",
          "Gyeonggi-do",
          "Gyeonggi-do",
          "Busan",
          "Chungcheongnam-do",
          "Gangwon-do",
          "Gyeonggi-do",
          "Gyeongsangbuk-do",
          "Gyeonggi-do",
          "Ulsan",
          "Gangwon-do",
          "Seoul",
          "Gyeonggi-do",
          "Gyeonggi-do",
          "Gyeongsangnam-do",
          "Gyeongsangbuk-do",
          "Gyeongsangbuk-do",
          "Gyeongsangbuk-do",
          "Seoul",
          "Gyeongsangbuk-do",
          "Gangwon-do",
          "Gyeongsangbuk-do",
          "Busan",
          "Incheon",
          "Jeollanam-do",
          "Gyeonggi-do",
          "Seoul",
          "Daejeon",
          "Seoul",
          "Daegu",
          "",
          "",
          "",
          "",
          "",
          "",
          "",
          "",
          "",
          "",
          "",
          "",
          "",
          "",
          "",
          ""
         ],
         "type": "treemap",
         "values": [
          53,
          33,
          4,
          63,
          17,
          71,
          161,
          27,
          83,
          14,
          13,
          9,
          31,
          110,
          43,
          20,
          2,
          11,
          51,
          10,
          13,
          5,
          25,
          1,
          5,
          1,
          62,
          40,
          38,
          5,
          53,
          38,
          7,
          53,
          24,
          34,
          1,
          83,
          8,
          82,
          1,
          19,
          13,
          31,
          6,
          1,
          23,
          14,
          3,
          37,
          11,
          3,
          9,
          2,
          51,
          78,
          75,
          4,
          6,
          1,
          11,
          85,
          9,
          112,
          17,
          35,
          28,
          1,
          52,
          639,
          3,
          55,
          22,
          1,
          1,
          12,
          10,
          1,
          4,
          41,
          1,
          1,
          15,
          2,
          1,
          1,
          13,
          8,
          2,
          1,
          12,
          19,
          55,
          32,
          1,
          38,
          69,
          5,
          5,
          2,
          4,
          35,
          45,
          1,
          46,
          6,
          43,
          1,
          8,
          16,
          19,
          53,
          61,
          3,
          11,
          1,
          1,
          15,
          4,
          52,
          78,
          55,
          34,
          33,
          49,
          23,
          173,
          9,
          26,
          3,
          55,
          2,
          14,
          1,
          100,
          11,
          1,
          1,
          47,
          41,
          10,
          6,
          24,
          71,
          9,
          1,
          8,
          44,
          37,
          2,
          62,
          5,
          1,
          2,
          4,
          45,
          2,
          104,
          50,
          40,
          107,
          1,
          291,
          56,
          166,
          48,
          45,
          61,
          1203,
          1253,
          130,
          298,
          13,
          18,
          13,
          52,
          1377,
          6
         ]
        }
       ],
       "layout": {
        "coloraxis": {
         "colorbar": {
          "title": {
           "text": "counts"
          }
         },
         "colorscale": [
          [
           0.0,
           "rgb(253, 237, 176)"
          ],
          [
           0.09090909090909091,
           "rgb(250, 205, 145)"
          ],
          [
           0.18181818181818182,
           "rgb(246, 173, 119)"
          ],
          [
           0.2727272727272727,
           "rgb(240, 142, 98)"
          ],
          [
           0.36363636363636365,
           "rgb(231, 109, 84)"
          ],
          [
           0.45454545454545453,
           "rgb(216, 80, 83)"
          ],
          [
           0.5454545454545454,
           "rgb(195, 56, 90)"
          ],
          [
           0.6363636363636364,
           "rgb(168, 40, 96)"
          ],
          [
           0.7272727272727273,
           "rgb(138, 29, 99)"
          ],
          [
           0.8181818181818182,
           "rgb(107, 24, 93)"
          ],
          [
           0.9090909090909091,
           "rgb(76, 21, 80)"
          ],
          [
           1.0,
           "rgb(47, 15, 61)"
          ]
         ]
        },
        "legend": {
         "tracegroupgap": 0
        },
        "template": {
         "data": {
          "bar": [
           {
            "error_x": {
             "color": "#2a3f5f"
            },
            "error_y": {
             "color": "#2a3f5f"
            },
            "marker": {
             "line": {
              "color": "#E5ECF6",
              "width": 0.5
             }
            },
            "type": "bar"
           }
          ],
          "barpolar": [
           {
            "marker": {
             "line": {
              "color": "#E5ECF6",
              "width": 0.5
             }
            },
            "type": "barpolar"
           }
          ],
          "carpet": [
           {
            "aaxis": {
             "endlinecolor": "#2a3f5f",
             "gridcolor": "white",
             "linecolor": "white",
             "minorgridcolor": "white",
             "startlinecolor": "#2a3f5f"
            },
            "baxis": {
             "endlinecolor": "#2a3f5f",
             "gridcolor": "white",
             "linecolor": "white",
             "minorgridcolor": "white",
             "startlinecolor": "#2a3f5f"
            },
            "type": "carpet"
           }
          ],
          "choropleth": [
           {
            "colorbar": {
             "outlinewidth": 0,
             "ticks": ""
            },
            "type": "choropleth"
           }
          ],
          "contour": [
           {
            "colorbar": {
             "outlinewidth": 0,
             "ticks": ""
            },
            "colorscale": [
             [
              0.0,
              "#0d0887"
             ],
             [
              0.1111111111111111,
              "#46039f"
             ],
             [
              0.2222222222222222,
              "#7201a8"
             ],
             [
              0.3333333333333333,
              "#9c179e"
             ],
             [
              0.4444444444444444,
              "#bd3786"
             ],
             [
              0.5555555555555556,
              "#d8576b"
             ],
             [
              0.6666666666666666,
              "#ed7953"
             ],
             [
              0.7777777777777778,
              "#fb9f3a"
             ],
             [
              0.8888888888888888,
              "#fdca26"
             ],
             [
              1.0,
              "#f0f921"
             ]
            ],
            "type": "contour"
           }
          ],
          "contourcarpet": [
           {
            "colorbar": {
             "outlinewidth": 0,
             "ticks": ""
            },
            "type": "contourcarpet"
           }
          ],
          "heatmap": [
           {
            "colorbar": {
             "outlinewidth": 0,
             "ticks": ""
            },
            "colorscale": [
             [
              0.0,
              "#0d0887"
             ],
             [
              0.1111111111111111,
              "#46039f"
             ],
             [
              0.2222222222222222,
              "#7201a8"
             ],
             [
              0.3333333333333333,
              "#9c179e"
             ],
             [
              0.4444444444444444,
              "#bd3786"
             ],
             [
              0.5555555555555556,
              "#d8576b"
             ],
             [
              0.6666666666666666,
              "#ed7953"
             ],
             [
              0.7777777777777778,
              "#fb9f3a"
             ],
             [
              0.8888888888888888,
              "#fdca26"
             ],
             [
              1.0,
              "#f0f921"
             ]
            ],
            "type": "heatmap"
           }
          ],
          "heatmapgl": [
           {
            "colorbar": {
             "outlinewidth": 0,
             "ticks": ""
            },
            "colorscale": [
             [
              0.0,
              "#0d0887"
             ],
             [
              0.1111111111111111,
              "#46039f"
             ],
             [
              0.2222222222222222,
              "#7201a8"
             ],
             [
              0.3333333333333333,
              "#9c179e"
             ],
             [
              0.4444444444444444,
              "#bd3786"
             ],
             [
              0.5555555555555556,
              "#d8576b"
             ],
             [
              0.6666666666666666,
              "#ed7953"
             ],
             [
              0.7777777777777778,
              "#fb9f3a"
             ],
             [
              0.8888888888888888,
              "#fdca26"
             ],
             [
              1.0,
              "#f0f921"
             ]
            ],
            "type": "heatmapgl"
           }
          ],
          "histogram": [
           {
            "marker": {
             "colorbar": {
              "outlinewidth": 0,
              "ticks": ""
             }
            },
            "type": "histogram"
           }
          ],
          "histogram2d": [
           {
            "colorbar": {
             "outlinewidth": 0,
             "ticks": ""
            },
            "colorscale": [
             [
              0.0,
              "#0d0887"
             ],
             [
              0.1111111111111111,
              "#46039f"
             ],
             [
              0.2222222222222222,
              "#7201a8"
             ],
             [
              0.3333333333333333,
              "#9c179e"
             ],
             [
              0.4444444444444444,
              "#bd3786"
             ],
             [
              0.5555555555555556,
              "#d8576b"
             ],
             [
              0.6666666666666666,
              "#ed7953"
             ],
             [
              0.7777777777777778,
              "#fb9f3a"
             ],
             [
              0.8888888888888888,
              "#fdca26"
             ],
             [
              1.0,
              "#f0f921"
             ]
            ],
            "type": "histogram2d"
           }
          ],
          "histogram2dcontour": [
           {
            "colorbar": {
             "outlinewidth": 0,
             "ticks": ""
            },
            "colorscale": [
             [
              0.0,
              "#0d0887"
             ],
             [
              0.1111111111111111,
              "#46039f"
             ],
             [
              0.2222222222222222,
              "#7201a8"
             ],
             [
              0.3333333333333333,
              "#9c179e"
             ],
             [
              0.4444444444444444,
              "#bd3786"
             ],
             [
              0.5555555555555556,
              "#d8576b"
             ],
             [
              0.6666666666666666,
              "#ed7953"
             ],
             [
              0.7777777777777778,
              "#fb9f3a"
             ],
             [
              0.8888888888888888,
              "#fdca26"
             ],
             [
              1.0,
              "#f0f921"
             ]
            ],
            "type": "histogram2dcontour"
           }
          ],
          "mesh3d": [
           {
            "colorbar": {
             "outlinewidth": 0,
             "ticks": ""
            },
            "type": "mesh3d"
           }
          ],
          "parcoords": [
           {
            "line": {
             "colorbar": {
              "outlinewidth": 0,
              "ticks": ""
             }
            },
            "type": "parcoords"
           }
          ],
          "pie": [
           {
            "automargin": true,
            "type": "pie"
           }
          ],
          "scatter": [
           {
            "marker": {
             "colorbar": {
              "outlinewidth": 0,
              "ticks": ""
             }
            },
            "type": "scatter"
           }
          ],
          "scatter3d": [
           {
            "line": {
             "colorbar": {
              "outlinewidth": 0,
              "ticks": ""
             }
            },
            "marker": {
             "colorbar": {
              "outlinewidth": 0,
              "ticks": ""
             }
            },
            "type": "scatter3d"
           }
          ],
          "scattercarpet": [
           {
            "marker": {
             "colorbar": {
              "outlinewidth": 0,
              "ticks": ""
             }
            },
            "type": "scattercarpet"
           }
          ],
          "scattergeo": [
           {
            "marker": {
             "colorbar": {
              "outlinewidth": 0,
              "ticks": ""
             }
            },
            "type": "scattergeo"
           }
          ],
          "scattergl": [
           {
            "marker": {
             "colorbar": {
              "outlinewidth": 0,
              "ticks": ""
             }
            },
            "type": "scattergl"
           }
          ],
          "scattermapbox": [
           {
            "marker": {
             "colorbar": {
              "outlinewidth": 0,
              "ticks": ""
             }
            },
            "type": "scattermapbox"
           }
          ],
          "scatterpolar": [
           {
            "marker": {
             "colorbar": {
              "outlinewidth": 0,
              "ticks": ""
             }
            },
            "type": "scatterpolar"
           }
          ],
          "scatterpolargl": [
           {
            "marker": {
             "colorbar": {
              "outlinewidth": 0,
              "ticks": ""
             }
            },
            "type": "scatterpolargl"
           }
          ],
          "scatterternary": [
           {
            "marker": {
             "colorbar": {
              "outlinewidth": 0,
              "ticks": ""
             }
            },
            "type": "scatterternary"
           }
          ],
          "surface": [
           {
            "colorbar": {
             "outlinewidth": 0,
             "ticks": ""
            },
            "colorscale": [
             [
              0.0,
              "#0d0887"
             ],
             [
              0.1111111111111111,
              "#46039f"
             ],
             [
              0.2222222222222222,
              "#7201a8"
             ],
             [
              0.3333333333333333,
              "#9c179e"
             ],
             [
              0.4444444444444444,
              "#bd3786"
             ],
             [
              0.5555555555555556,
              "#d8576b"
             ],
             [
              0.6666666666666666,
              "#ed7953"
             ],
             [
              0.7777777777777778,
              "#fb9f3a"
             ],
             [
              0.8888888888888888,
              "#fdca26"
             ],
             [
              1.0,
              "#f0f921"
             ]
            ],
            "type": "surface"
           }
          ],
          "table": [
           {
            "cells": {
             "fill": {
              "color": "#EBF0F8"
             },
             "line": {
              "color": "white"
             }
            },
            "header": {
             "fill": {
              "color": "#C8D4E3"
             },
             "line": {
              "color": "white"
             }
            },
            "type": "table"
           }
          ]
         },
         "layout": {
          "annotationdefaults": {
           "arrowcolor": "#2a3f5f",
           "arrowhead": 0,
           "arrowwidth": 1
          },
          "coloraxis": {
           "colorbar": {
            "outlinewidth": 0,
            "ticks": ""
           }
          },
          "colorscale": {
           "diverging": [
            [
             0,
             "#8e0152"
            ],
            [
             0.1,
             "#c51b7d"
            ],
            [
             0.2,
             "#de77ae"
            ],
            [
             0.3,
             "#f1b6da"
            ],
            [
             0.4,
             "#fde0ef"
            ],
            [
             0.5,
             "#f7f7f7"
            ],
            [
             0.6,
             "#e6f5d0"
            ],
            [
             0.7,
             "#b8e186"
            ],
            [
             0.8,
             "#7fbc41"
            ],
            [
             0.9,
             "#4d9221"
            ],
            [
             1,
             "#276419"
            ]
           ],
           "sequential": [
            [
             0.0,
             "#0d0887"
            ],
            [
             0.1111111111111111,
             "#46039f"
            ],
            [
             0.2222222222222222,
             "#7201a8"
            ],
            [
             0.3333333333333333,
             "#9c179e"
            ],
            [
             0.4444444444444444,
             "#bd3786"
            ],
            [
             0.5555555555555556,
             "#d8576b"
            ],
            [
             0.6666666666666666,
             "#ed7953"
            ],
            [
             0.7777777777777778,
             "#fb9f3a"
            ],
            [
             0.8888888888888888,
             "#fdca26"
            ],
            [
             1.0,
             "#f0f921"
            ]
           ],
           "sequentialminus": [
            [
             0.0,
             "#0d0887"
            ],
            [
             0.1111111111111111,
             "#46039f"
            ],
            [
             0.2222222222222222,
             "#7201a8"
            ],
            [
             0.3333333333333333,
             "#9c179e"
            ],
            [
             0.4444444444444444,
             "#bd3786"
            ],
            [
             0.5555555555555556,
             "#d8576b"
            ],
            [
             0.6666666666666666,
             "#ed7953"
            ],
            [
             0.7777777777777778,
             "#fb9f3a"
            ],
            [
             0.8888888888888888,
             "#fdca26"
            ],
            [
             1.0,
             "#f0f921"
            ]
           ]
          },
          "colorway": [
           "#636efa",
           "#EF553B",
           "#00cc96",
           "#ab63fa",
           "#FFA15A",
           "#19d3f3",
           "#FF6692",
           "#B6E880",
           "#FF97FF",
           "#FECB52"
          ],
          "font": {
           "color": "#2a3f5f"
          },
          "geo": {
           "bgcolor": "white",
           "lakecolor": "white",
           "landcolor": "#E5ECF6",
           "showlakes": true,
           "showland": true,
           "subunitcolor": "white"
          },
          "hoverlabel": {
           "align": "left"
          },
          "hovermode": "closest",
          "mapbox": {
           "style": "light"
          },
          "paper_bgcolor": "white",
          "plot_bgcolor": "#E5ECF6",
          "polar": {
           "angularaxis": {
            "gridcolor": "white",
            "linecolor": "white",
            "ticks": ""
           },
           "bgcolor": "#E5ECF6",
           "radialaxis": {
            "gridcolor": "white",
            "linecolor": "white",
            "ticks": ""
           }
          },
          "scene": {
           "xaxis": {
            "backgroundcolor": "#E5ECF6",
            "gridcolor": "white",
            "gridwidth": 2,
            "linecolor": "white",
            "showbackground": true,
            "ticks": "",
            "zerolinecolor": "white"
           },
           "yaxis": {
            "backgroundcolor": "#E5ECF6",
            "gridcolor": "white",
            "gridwidth": 2,
            "linecolor": "white",
            "showbackground": true,
            "ticks": "",
            "zerolinecolor": "white"
           },
           "zaxis": {
            "backgroundcolor": "#E5ECF6",
            "gridcolor": "white",
            "gridwidth": 2,
            "linecolor": "white",
            "showbackground": true,
            "ticks": "",
            "zerolinecolor": "white"
           }
          },
          "shapedefaults": {
           "line": {
            "color": "#2a3f5f"
           }
          },
          "ternary": {
           "aaxis": {
            "gridcolor": "white",
            "linecolor": "white",
            "ticks": ""
           },
           "baxis": {
            "gridcolor": "white",
            "linecolor": "white",
            "ticks": ""
           },
           "bgcolor": "#E5ECF6",
           "caxis": {
            "gridcolor": "white",
            "linecolor": "white",
            "ticks": ""
           }
          },
          "title": {
           "x": 0.05
          },
          "xaxis": {
           "automargin": true,
           "gridcolor": "white",
           "linecolor": "white",
           "ticks": "",
           "title": {
            "standoff": 15
           },
           "zerolinecolor": "white",
           "zerolinewidth": 2
          },
          "yaxis": {
           "automargin": true,
           "gridcolor": "white",
           "linecolor": "white",
           "ticks": "",
           "title": {
            "standoff": 15
           },
           "zerolinecolor": "white",
           "zerolinewidth": 2
          }
         }
        },
        "title": {
         "text": "Current COVID19 Confirmed Cases In South Korea"
        }
       }
      },
      "text/html": "<div>\n        \n        \n            <div id=\"0bbb3fea-e2e6-42ed-b7b0-64827ff1d140\" class=\"plotly-graph-div\" style=\"height:525px; width:100%;\"></div>\n            <script type=\"text/javascript\">\n                require([\"plotly\"], function(Plotly) {\n                    window.PLOTLYENV=window.PLOTLYENV || {};\n                    \n                if (document.getElementById(\"0bbb3fea-e2e6-42ed-b7b0-64827ff1d140\")) {\n                    Plotly.newPlot(\n                        '0bbb3fea-e2e6-42ed-b7b0-64827ff1d140',\n                        [{\"branchvalues\": \"total\", \"customdata\": [[\"Andong-si\", 53.0], [\"Ansan-si\", 33.0], [\"Anseong-si\", 4.0], [\"Anyang-si\", 63.0], [\"Asan-si\", 17.0], [\"Bonghwa-gun\", 71.0], [\"Bucheon-si\", 161.0], [\"Buk-gu\", 27.0], [\"Bupyeong-gu\", 83.0], [\"Busanjin-gu\", 14.0], [\"Buyeo-gun\", 13.0], [\"Changnyeong-gun\", 9.0], [\"Changwon-si\", 31.0], [\"Cheonan-si\", 110.0], [\"Cheongdo-gun\", 43.0], [\"Cheongju-si\", 20.0], [\"Cheongsong-gun\", 2.0], [\"Cheorwon-gun\", 11.0], [\"Chilgok-gun\", 51.0], [\"Chuncheon-si\", 10.0], [\"Chungju-si\", 13.0], [\"Daedeok-gu\", 5.0], [\"Dalseo-gu\", 25.0], [\"Dalseong-gun\", 1.0], [\"Dalsung-gun\", 5.0], [\"Danyang-gun\", 1.0], [\"Dobong-gu\", 62.0], [\"Dong-gu\", 40.0], [\"Dongdaemun-gu\", 38.0], [\"Dongducheon-si\", 5.0], [\"Dongjak-gu\", 53.0], [\"Dongnae-gu\", 38.0], [\"Eumseong-gun\", 7.0], [\"Eunpyeong-gu\", 53.0], [\"Gangbuk-gu\", 24.0], [\"Gangdong-gu\", 34.0], [\"Ganghwa-gun\", 1.0], [\"Gangnam-gu\", 83.0], [\"Gangneung-si\", 8.0], [\"Gangseo-gu\", 82.0], [\"Gapyeong-gun\", 1.0], [\"Geochang-gun\", 19.0], [\"Geoje-si\", 13.0], [\"Geumcheon-gu\", 31.0], [\"Geumjeong-gu\", 6.0], [\"Gijang-gun\", 1.0], [\"Gimcheon-si\", 23.0], [\"Gimhae-si\", 14.0], [\"Gimje-si\", 3.0], [\"Gimpo-si\", 37.0], [\"Goesan-gun\", 11.0], [\"Gongju-si\", 3.0], [\"Goryeong-gun\", 9.0], [\"Goseong-gun\", 2.0], [\"Goyang-si\", 51.0], [\"Gumi-si\", 78.0], [\"Gunpo-si\", 75.0], [\"Gunsan-si\", 4.0], [\"Gunwi-gun\", 6.0], [\"Guri\", 1.0], [\"Guri-si\", 11.0], [\"Guro-gu\", 85.0], [\"Gwacheon-si\", 9.0], [\"Gwanak-gu\", 112.0], [\"Gwangjin-gu\", 17.0], [\"Gwangju-si\", 35.0], [\"Gwangmyeong-si\", 28.0], [\"Gwangyang-si\", 1.0], [\"Gyeongju-si\", 52.0], [\"Gyeongsan-si\", 639.0], [\"Gyeryong-si\", 3.0], [\"Gyeyang-gu\", 55.0], [\"Haeundae-gu\", 22.0], [\"Haman-gun\", 1.0], [\"Hamyang-gun\", 1.0], [\"Hanam-si\", 12.0], [\"Hapcheon-gun\", 10.0], [\"Hoengseong-gun\", 1.0], [\"Hongseong-gun\", 4.0], [\"Hwaseong-si\", 41.0], [\"Hwasun-gun\", 1.0], [\"Icheon-dong\", 1.0], [\"Icheon-si\", 15.0], [\"Iksan-si\", 2.0], [\"Inje-gun\", 1.0], [\"Jangsu-gun\", 1.0], [\"Jeju-do\", 13.0], [\"Jeonju-si\", 8.0], [\"Jeungpyeong-gun\", 2.0], [\"Jincheon-gun\", 1.0], [\"Jinju-si\", 12.0], [\"Jongno-gu\", 19.0], [\"Jung-gu\", 55.0], [\"Jungnang-gu\", 32.0], [\"Kyeongsan-si\", 1.0], [\"Mapo-gu\", 38.0], [\"Michuhol-gu\", 69.0], [\"Miryang-si\", 5.0], [\"Mokpo-si\", 5.0], [\"Muan-gun\", 2.0], [\"Mungyeong-si\", 4.0], [\"Nam-gu\", 35.0], [\"Namdong-gu\", 45.0], [\"Namhae-gun\", 1.0], [\"Namyangju-si\", 46.0], [\"Nonsan-si\", 6.0], [\"Nowon-gu\", 43.0], [\"Okcheon-gun\", 1.0], [\"Osan-si\", 8.0], [\"Paju-si\", 16.0], [\"Pocheon-si\", 19.0], [\"Pohang-si\", 53.0], [\"Pyeongtaek-si\", 61.0], [\"Sacheon-si\", 3.0], [\"Saha-gu\", 11.0], [\"Samcheok-si\", 1.0], [\"Sancheong-gun\", 1.0], [\"Sangju-si\", 15.0], [\"Sasang-gu\", 4.0], [\"Sejong\", 52.0], [\"Seo-gu\", 78.0], [\"Seocho-gu\", 55.0], [\"Seodaemun-gu\", 34.0], [\"Seongbuk-gu\", 33.0], [\"Seongdong-gu\", 49.0], [\"Seongju-gun\", 23.0], [\"Seongnam-si\", 173.0], [\"Seosan-si\", 9.0], [\"Siheung-si\", 26.0], [\"Sokcho-si\", 3.0], [\"Songpa-gu\", 55.0], [\"Suncheon-si\", 2.0], [\"Suseong-gu\", 14.0], [\"Suwon\", 1.0], [\"Suwon-si\", 100.0], [\"Suyeong-gu\", 11.0], [\"Taean-gun\", 1.0], [\"Taebaek-si\", 1.0], [\"Uijeongbu-si\", 47.0], [\"Uiseong-gun\", 41.0], [\"Uiwang-si\", 10.0], [\"Ulju-gun\", 6.0], [\"Wonju-si\", 24.0], [\"Yangcheon-gu\", 71.0], [\"Yangju-si\", 9.0], [\"Yangpyeong-si\", 1.0], [\"Yangsan-si\", 8.0], [\"Yecheon-gun\", 44.0], [\"Yeongcheon-si\", 37.0], [\"Yeongdeok-gun\", 2.0], [\"Yeongdeungpo-gu\", 62.0], [\"Yeongju-si\", 5.0], [\"Yeongwol-gun\", 1.0], [\"Yeongyang-gun\", 2.0], [\"Yeonje-gu\", 4.0], [\"Yeonsu-gu\", 45.0], [\"Yeosu-si\", 2.0], [\"Yongin-si\", 104.0], [\"Yongsan-gu\", 50.0], [\"Yuseong-gu\", 40.0], [\"etc\", 107.0], [\"sankyeock-dong\", 1.0], [\"(?)\", 41.487972508591064], [\"(?)\", 13.321428571428571], [\"(?)\", 76.56626506024097], [\"(?)\", 17.708333333333332], [\"(?)\", 36.111111111111114], [\"(?)\", 14.344262295081966], [\"(?)\", 87.45552784704904], [\"(?)\", 350.0853950518755], [\"(?)\", 16.29230769230769], [\"(?)\", 62.83892617449664], [\"Jeju-do\", 13.0], [\"(?)\", 5.222222222222222], [\"(?)\", 3.0], [\"Sejong\", 52.0], [\"(?)\", 64.2723311546841], [\"Ulju-gun\", 6.0]], \"domain\": {\"x\": [0.0, 1.0], \"y\": [0.0, 1.0]}, \"hovertemplate\": \"labels=%{label}<br>counts_sum=%{value}<br>parent=%{parent}<br>id=%{id}<br>city=%{customdata[0]}<br>counts=%{color}<extra></extra>\", \"ids\": [\"Gyeongsangbuk-do/Andong-si\", \"Gyeonggi-do/Ansan-si\", \"Gyeonggi-do/Anseong-si\", \"Gyeonggi-do/Anyang-si\", \"Chungcheongnam-do/Asan-si\", \"Gyeongsangbuk-do/Bonghwa-gun\", \"Gyeonggi-do/Bucheon-si\", \"Busan/Buk-gu\", \"Incheon/Bupyeong-gu\", \"Busan/Busanjin-gu\", \"Chungcheongnam-do/Buyeo-gun\", \"Gyeongsangnam-do/Changnyeong-gun\", \"Gyeongsangnam-do/Changwon-si\", \"Chungcheongnam-do/Cheonan-si\", \"Gyeongsangbuk-do/Cheongdo-gun\", \"Chungcheongbuk-do/Cheongju-si\", \"Gyeongsangbuk-do/Cheongsong-gun\", \"Gangwon-do/Cheorwon-gun\", \"Gyeongsangbuk-do/Chilgok-gun\", \"Gangwon-do/Chuncheon-si\", \"Chungcheongbuk-do/Chungju-si\", \"Daejeon/Daedeok-gu\", \"Daegu/Dalseo-gu\", \"Daegu/Dalseong-gun\", \"Daegu/Dalsung-gun\", \"Chungcheongbuk-do/Danyang-gun\", \"Seoul/Dobong-gu\", \"Busan/Dong-gu\", \"Seoul/Dongdaemun-gu\", \"Gyeonggi-do/Dongducheon-si\", \"Seoul/Dongjak-gu\", \"Busan/Dongnae-gu\", \"Chungcheongbuk-do/Eumseong-gun\", \"Seoul/Eunpyeong-gu\", \"Seoul/Gangbuk-gu\", \"Seoul/Gangdong-gu\", \"Incheon/Ganghwa-gun\", \"Seoul/Gangnam-gu\", \"Gangwon-do/Gangneung-si\", \"Seoul/Gangseo-gu\", \"Gyeonggi-do/Gapyeong-gun\", \"Gyeongsangnam-do/Geochang-gun\", \"Gyeongsangnam-do/Geoje-si\", \"Seoul/Geumcheon-gu\", \"Busan/Geumjeong-gu\", \"Busan/Gijang-gun\", \"Gyeongsangbuk-do/Gimcheon-si\", \"Gyeongsangnam-do/Gimhae-si\", \"Jeollabuk-do/Gimje-si\", \"Gyeonggi-do/Gimpo-si\", \"Chungcheongbuk-do/Goesan-gun\", \"Chungcheongnam-do/Gongju-si\", \"Gyeongsangbuk-do/Goryeong-gun\", \"Gyeongsangnam-do/Goseong-gun\", \"Gyeonggi-do/Goyang-si\", \"Gyeongsangbuk-do/Gumi-si\", \"Gyeonggi-do/Gunpo-si\", \"Jeollabuk-do/Gunsan-si\", \"Gyeongsangbuk-do/Gunwi-gun\", \"Gyeonggi-do/Guri\", \"Gyeonggi-do/Guri-si\", \"Seoul/Guro-gu\", \"Gyeonggi-do/Gwacheon-si\", \"Seoul/Gwanak-gu\", \"Seoul/Gwangjin-gu\", \"Gyeonggi-do/Gwangju-si\", \"Gyeonggi-do/Gwangmyeong-si\", \"Jeollanam-do/Gwangyang-si\", \"Gyeongsangbuk-do/Gyeongju-si\", \"Gyeongsangbuk-do/Gyeongsan-si\", \"Chungcheongnam-do/Gyeryong-si\", \"Incheon/Gyeyang-gu\", \"Busan/Haeundae-gu\", \"Gyeongsangnam-do/Haman-gun\", \"Gyeongsangnam-do/Hamyang-gun\", \"Gyeonggi-do/Hanam-si\", \"Gyeongsangnam-do/Hapcheon-gun\", \"Gangwon-do/Hoengseong-gun\", \"Chungcheongnam-do/Hongseong-gun\", \"Gyeonggi-do/Hwaseong-si\", \"Jeollanam-do/Hwasun-gun\", \"Daegu/Icheon-dong\", \"Gyeonggi-do/Icheon-si\", \"Jeollabuk-do/Iksan-si\", \"Gangwon-do/Inje-gun\", \"Jeollabuk-do/Jangsu-gun\", \"Jeju-do/Jeju-do\", \"Jeollabuk-do/Jeonju-si\", \"Chungcheongbuk-do/Jeungpyeong-gun\", \"Chungcheongbuk-do/Jincheon-gun\", \"Gyeongsangnam-do/Jinju-si\", \"Seoul/Jongno-gu\", \"Seoul/Jung-gu\", \"Seoul/Jungnang-gu\", \"Daegu/Kyeongsan-si\", \"Seoul/Mapo-gu\", \"Incheon/Michuhol-gu\", \"Gyeongsangnam-do/Miryang-si\", \"Jeollanam-do/Mokpo-si\", \"Jeollanam-do/Muan-gun\", \"Gyeongsangbuk-do/Mungyeong-si\", \"Busan/Nam-gu\", \"Incheon/Namdong-gu\", \"Gyeongsangnam-do/Namhae-gun\", \"Gyeonggi-do/Namyangju-si\", \"Chungcheongnam-do/Nonsan-si\", \"Seoul/Nowon-gu\", \"Chungcheongbuk-do/Okcheon-gun\", \"Gyeonggi-do/Osan-si\", \"Gyeonggi-do/Paju-si\", \"Gyeonggi-do/Pocheon-si\", \"Gyeongsangbuk-do/Pohang-si\", \"Gyeonggi-do/Pyeongtaek-si\", \"Gyeongsangnam-do/Sacheon-si\", \"Busan/Saha-gu\", \"Gangwon-do/Samcheok-si\", \"Gyeongsangnam-do/Sancheong-gun\", \"Gyeongsangbuk-do/Sangju-si\", \"Busan/Sasang-gu\", \"Sejong/Sejong\", \"Busan/Seo-gu\", \"Seoul/Seocho-gu\", \"Seoul/Seodaemun-gu\", \"Seoul/Seongbuk-gu\", \"Seoul/Seongdong-gu\", \"Gyeongsangbuk-do/Seongju-gun\", \"Gyeonggi-do/Seongnam-si\", \"Chungcheongnam-do/Seosan-si\", \"Gyeonggi-do/Siheung-si\", \"Gangwon-do/Sokcho-si\", \"Seoul/Songpa-gu\", \"Jeollanam-do/Suncheon-si\", \"Daegu/Suseong-gu\", \"Gyeonggi-do/Suwon\", \"Gyeonggi-do/Suwon-si\", \"Busan/Suyeong-gu\", \"Chungcheongnam-do/Taean-gun\", \"Gangwon-do/Taebaek-si\", \"Gyeonggi-do/Uijeongbu-si\", \"Gyeongsangbuk-do/Uiseong-gun\", \"Gyeonggi-do/Uiwang-si\", \"Ulsan/Ulju-gun\", \"Gangwon-do/Wonju-si\", \"Seoul/Yangcheon-gu\", \"Gyeonggi-do/Yangju-si\", \"Gyeonggi-do/Yangpyeong-si\", \"Gyeongsangnam-do/Yangsan-si\", \"Gyeongsangbuk-do/Yecheon-gun\", \"Gyeongsangbuk-do/Yeongcheon-si\", \"Gyeongsangbuk-do/Yeongdeok-gun\", \"Seoul/Yeongdeungpo-gu\", \"Gyeongsangbuk-do/Yeongju-si\", \"Gangwon-do/Yeongwol-gun\", \"Gyeongsangbuk-do/Yeongyang-gun\", \"Busan/Yeonje-gu\", \"Incheon/Yeonsu-gu\", \"Jeollanam-do/Yeosu-si\", \"Gyeonggi-do/Yongin-si\", \"Seoul/Yongsan-gu\", \"Daejeon/Yuseong-gu\", \"Seoul/etc\", \"Daegu/sankyeock-dong\", \"Busan\", \"Chungcheongbuk-do\", \"Chungcheongnam-do\", \"Daegu\", \"Daejeon\", \"Gangwon-do\", \"Gyeonggi-do\", \"Gyeongsangbuk-do\", \"Gyeongsangnam-do\", \"Incheon\", \"Jeju-do\", \"Jeollabuk-do\", \"Jeollanam-do\", \"Sejong\", \"Seoul\", \"Ulsan\"], \"labels\": [\"Andong-si\", \"Ansan-si\", \"Anseong-si\", \"Anyang-si\", \"Asan-si\", \"Bonghwa-gun\", \"Bucheon-si\", \"Buk-gu\", \"Bupyeong-gu\", \"Busanjin-gu\", \"Buyeo-gun\", \"Changnyeong-gun\", \"Changwon-si\", \"Cheonan-si\", \"Cheongdo-gun\", \"Cheongju-si\", \"Cheongsong-gun\", \"Cheorwon-gun\", \"Chilgok-gun\", \"Chuncheon-si\", \"Chungju-si\", \"Daedeok-gu\", \"Dalseo-gu\", \"Dalseong-gun\", \"Dalsung-gun\", \"Danyang-gun\", \"Dobong-gu\", \"Dong-gu\", \"Dongdaemun-gu\", \"Dongducheon-si\", \"Dongjak-gu\", \"Dongnae-gu\", \"Eumseong-gun\", \"Eunpyeong-gu\", \"Gangbuk-gu\", \"Gangdong-gu\", \"Ganghwa-gun\", \"Gangnam-gu\", \"Gangneung-si\", \"Gangseo-gu\", \"Gapyeong-gun\", \"Geochang-gun\", \"Geoje-si\", \"Geumcheon-gu\", \"Geumjeong-gu\", \"Gijang-gun\", \"Gimcheon-si\", \"Gimhae-si\", \"Gimje-si\", \"Gimpo-si\", \"Goesan-gun\", \"Gongju-si\", \"Goryeong-gun\", \"Goseong-gun\", \"Goyang-si\", \"Gumi-si\", \"Gunpo-si\", \"Gunsan-si\", \"Gunwi-gun\", \"Guri\", \"Guri-si\", \"Guro-gu\", \"Gwacheon-si\", \"Gwanak-gu\", \"Gwangjin-gu\", \"Gwangju-si\", \"Gwangmyeong-si\", \"Gwangyang-si\", \"Gyeongju-si\", \"Gyeongsan-si\", \"Gyeryong-si\", \"Gyeyang-gu\", \"Haeundae-gu\", \"Haman-gun\", \"Hamyang-gun\", \"Hanam-si\", \"Hapcheon-gun\", \"Hoengseong-gun\", \"Hongseong-gun\", \"Hwaseong-si\", \"Hwasun-gun\", \"Icheon-dong\", \"Icheon-si\", \"Iksan-si\", \"Inje-gun\", \"Jangsu-gun\", \"Jeju-do\", \"Jeonju-si\", \"Jeungpyeong-gun\", \"Jincheon-gun\", \"Jinju-si\", \"Jongno-gu\", \"Jung-gu\", \"Jungnang-gu\", \"Kyeongsan-si\", \"Mapo-gu\", \"Michuhol-gu\", \"Miryang-si\", \"Mokpo-si\", \"Muan-gun\", \"Mungyeong-si\", \"Nam-gu\", \"Namdong-gu\", \"Namhae-gun\", \"Namyangju-si\", \"Nonsan-si\", \"Nowon-gu\", \"Okcheon-gun\", \"Osan-si\", \"Paju-si\", \"Pocheon-si\", \"Pohang-si\", \"Pyeongtaek-si\", \"Sacheon-si\", \"Saha-gu\", \"Samcheok-si\", \"Sancheong-gun\", \"Sangju-si\", \"Sasang-gu\", \"Sejong\", \"Seo-gu\", \"Seocho-gu\", \"Seodaemun-gu\", \"Seongbuk-gu\", \"Seongdong-gu\", \"Seongju-gun\", \"Seongnam-si\", \"Seosan-si\", \"Siheung-si\", \"Sokcho-si\", \"Songpa-gu\", \"Suncheon-si\", \"Suseong-gu\", \"Suwon\", \"Suwon-si\", \"Suyeong-gu\", \"Taean-gun\", \"Taebaek-si\", \"Uijeongbu-si\", \"Uiseong-gun\", \"Uiwang-si\", \"Ulju-gun\", \"Wonju-si\", \"Yangcheon-gu\", \"Yangju-si\", \"Yangpyeong-si\", \"Yangsan-si\", \"Yecheon-gun\", \"Yeongcheon-si\", \"Yeongdeok-gun\", \"Yeongdeungpo-gu\", \"Yeongju-si\", \"Yeongwol-gun\", \"Yeongyang-gun\", \"Yeonje-gu\", \"Yeonsu-gu\", \"Yeosu-si\", \"Yongin-si\", \"Yongsan-gu\", \"Yuseong-gu\", \"etc\", \"sankyeock-dong\", \"Busan\", \"Chungcheongbuk-do\", \"Chungcheongnam-do\", \"Daegu\", \"Daejeon\", \"Gangwon-do\", \"Gyeonggi-do\", \"Gyeongsangbuk-do\", \"Gyeongsangnam-do\", \"Incheon\", \"Jeju-do\", \"Jeollabuk-do\", \"Jeollanam-do\", \"Sejong\", \"Seoul\", \"Ulsan\"], \"marker\": {\"coloraxis\": \"coloraxis\", \"colors\": [53.0, 33.0, 4.0, 63.0, 17.0, 71.0, 161.0, 27.0, 83.0, 14.0, 13.0, 9.0, 31.0, 110.0, 43.0, 20.0, 2.0, 11.0, 51.0, 10.0, 13.0, 5.0, 25.0, 1.0, 5.0, 1.0, 62.0, 40.0, 38.0, 5.0, 53.0, 38.0, 7.0, 53.0, 24.0, 34.0, 1.0, 83.0, 8.0, 82.0, 1.0, 19.0, 13.0, 31.0, 6.0, 1.0, 23.0, 14.0, 3.0, 37.0, 11.0, 3.0, 9.0, 2.0, 51.0, 78.0, 75.0, 4.0, 6.0, 1.0, 11.0, 85.0, 9.0, 112.0, 17.0, 35.0, 28.0, 1.0, 52.0, 639.0, 3.0, 55.0, 22.0, 1.0, 1.0, 12.0, 10.0, 1.0, 4.0, 41.0, 1.0, 1.0, 15.0, 2.0, 1.0, 1.0, 13.0, 8.0, 2.0, 1.0, 12.0, 19.0, 55.0, 32.0, 1.0, 38.0, 69.0, 5.0, 5.0, 2.0, 4.0, 35.0, 45.0, 1.0, 46.0, 6.0, 43.0, 1.0, 8.0, 16.0, 19.0, 53.0, 61.0, 3.0, 11.0, 1.0, 1.0, 15.0, 4.0, 52.0, 78.0, 55.0, 34.0, 33.0, 49.0, 23.0, 173.0, 9.0, 26.0, 3.0, 55.0, 2.0, 14.0, 1.0, 100.0, 11.0, 1.0, 1.0, 47.0, 41.0, 10.0, 6.0, 24.0, 71.0, 9.0, 1.0, 8.0, 44.0, 37.0, 2.0, 62.0, 5.0, 1.0, 2.0, 4.0, 45.0, 2.0, 104.0, 50.0, 40.0, 107.0, 1.0, 41.487972508591064, 13.321428571428571, 76.56626506024097, 17.708333333333332, 36.111111111111114, 14.344262295081966, 87.45552784704904, 350.0853950518755, 16.29230769230769, 62.83892617449664, 13.0, 5.222222222222222, 3.0, 52.0, 64.2723311546841, 6.0]}, \"name\": \"\", \"parents\": [\"Gyeongsangbuk-do\", \"Gyeonggi-do\", \"Gyeonggi-do\", \"Gyeonggi-do\", \"Chungcheongnam-do\", \"Gyeongsangbuk-do\", \"Gyeonggi-do\", \"Busan\", \"Incheon\", \"Busan\", \"Chungcheongnam-do\", \"Gyeongsangnam-do\", \"Gyeongsangnam-do\", \"Chungcheongnam-do\", \"Gyeongsangbuk-do\", \"Chungcheongbuk-do\", \"Gyeongsangbuk-do\", \"Gangwon-do\", \"Gyeongsangbuk-do\", \"Gangwon-do\", \"Chungcheongbuk-do\", \"Daejeon\", \"Daegu\", \"Daegu\", \"Daegu\", \"Chungcheongbuk-do\", \"Seoul\", \"Busan\", \"Seoul\", \"Gyeonggi-do\", \"Seoul\", \"Busan\", \"Chungcheongbuk-do\", \"Seoul\", \"Seoul\", \"Seoul\", \"Incheon\", \"Seoul\", \"Gangwon-do\", \"Seoul\", \"Gyeonggi-do\", \"Gyeongsangnam-do\", \"Gyeongsangnam-do\", \"Seoul\", \"Busan\", \"Busan\", \"Gyeongsangbuk-do\", \"Gyeongsangnam-do\", \"Jeollabuk-do\", \"Gyeonggi-do\", \"Chungcheongbuk-do\", \"Chungcheongnam-do\", \"Gyeongsangbuk-do\", \"Gyeongsangnam-do\", \"Gyeonggi-do\", \"Gyeongsangbuk-do\", \"Gyeonggi-do\", \"Jeollabuk-do\", \"Gyeongsangbuk-do\", \"Gyeonggi-do\", \"Gyeonggi-do\", \"Seoul\", \"Gyeonggi-do\", \"Seoul\", \"Seoul\", \"Gyeonggi-do\", \"Gyeonggi-do\", \"Jeollanam-do\", \"Gyeongsangbuk-do\", \"Gyeongsangbuk-do\", \"Chungcheongnam-do\", \"Incheon\", \"Busan\", \"Gyeongsangnam-do\", \"Gyeongsangnam-do\", \"Gyeonggi-do\", \"Gyeongsangnam-do\", \"Gangwon-do\", \"Chungcheongnam-do\", \"Gyeonggi-do\", \"Jeollanam-do\", \"Daegu\", \"Gyeonggi-do\", \"Jeollabuk-do\", \"Gangwon-do\", \"Jeollabuk-do\", \"Jeju-do\", \"Jeollabuk-do\", \"Chungcheongbuk-do\", \"Chungcheongbuk-do\", \"Gyeongsangnam-do\", \"Seoul\", \"Seoul\", \"Seoul\", \"Daegu\", \"Seoul\", \"Incheon\", \"Gyeongsangnam-do\", \"Jeollanam-do\", \"Jeollanam-do\", \"Gyeongsangbuk-do\", \"Busan\", \"Incheon\", \"Gyeongsangnam-do\", \"Gyeonggi-do\", \"Chungcheongnam-do\", \"Seoul\", \"Chungcheongbuk-do\", \"Gyeonggi-do\", \"Gyeonggi-do\", \"Gyeonggi-do\", \"Gyeongsangbuk-do\", \"Gyeonggi-do\", \"Gyeongsangnam-do\", \"Busan\", \"Gangwon-do\", \"Gyeongsangnam-do\", \"Gyeongsangbuk-do\", \"Busan\", \"Sejong\", \"Busan\", \"Seoul\", \"Seoul\", \"Seoul\", \"Seoul\", \"Gyeongsangbuk-do\", \"Gyeonggi-do\", \"Chungcheongnam-do\", \"Gyeonggi-do\", \"Gangwon-do\", \"Seoul\", \"Jeollanam-do\", \"Daegu\", \"Gyeonggi-do\", \"Gyeonggi-do\", \"Busan\", \"Chungcheongnam-do\", \"Gangwon-do\", \"Gyeonggi-do\", \"Gyeongsangbuk-do\", \"Gyeonggi-do\", \"Ulsan\", \"Gangwon-do\", \"Seoul\", \"Gyeonggi-do\", \"Gyeonggi-do\", \"Gyeongsangnam-do\", \"Gyeongsangbuk-do\", \"Gyeongsangbuk-do\", \"Gyeongsangbuk-do\", \"Seoul\", \"Gyeongsangbuk-do\", \"Gangwon-do\", \"Gyeongsangbuk-do\", \"Busan\", \"Incheon\", \"Jeollanam-do\", \"Gyeonggi-do\", \"Seoul\", \"Daejeon\", \"Seoul\", \"Daegu\", \"\", \"\", \"\", \"\", \"\", \"\", \"\", \"\", \"\", \"\", \"\", \"\", \"\", \"\", \"\", \"\"], \"type\": \"treemap\", \"values\": [53, 33, 4, 63, 17, 71, 161, 27, 83, 14, 13, 9, 31, 110, 43, 20, 2, 11, 51, 10, 13, 5, 25, 1, 5, 1, 62, 40, 38, 5, 53, 38, 7, 53, 24, 34, 1, 83, 8, 82, 1, 19, 13, 31, 6, 1, 23, 14, 3, 37, 11, 3, 9, 2, 51, 78, 75, 4, 6, 1, 11, 85, 9, 112, 17, 35, 28, 1, 52, 639, 3, 55, 22, 1, 1, 12, 10, 1, 4, 41, 1, 1, 15, 2, 1, 1, 13, 8, 2, 1, 12, 19, 55, 32, 1, 38, 69, 5, 5, 2, 4, 35, 45, 1, 46, 6, 43, 1, 8, 16, 19, 53, 61, 3, 11, 1, 1, 15, 4, 52, 78, 55, 34, 33, 49, 23, 173, 9, 26, 3, 55, 2, 14, 1, 100, 11, 1, 1, 47, 41, 10, 6, 24, 71, 9, 1, 8, 44, 37, 2, 62, 5, 1, 2, 4, 45, 2, 104, 50, 40, 107, 1, 291, 56, 166, 48, 45, 61, 1203, 1253, 130, 298, 13, 18, 13, 52, 1377, 6]}],\n                        {\"coloraxis\": {\"colorbar\": {\"title\": {\"text\": \"counts\"}}, \"colorscale\": [[0.0, \"rgb(253, 237, 176)\"], [0.09090909090909091, \"rgb(250, 205, 145)\"], [0.18181818181818182, \"rgb(246, 173, 119)\"], [0.2727272727272727, \"rgb(240, 142, 98)\"], [0.36363636363636365, \"rgb(231, 109, 84)\"], [0.45454545454545453, \"rgb(216, 80, 83)\"], [0.5454545454545454, \"rgb(195, 56, 90)\"], [0.6363636363636364, \"rgb(168, 40, 96)\"], [0.7272727272727273, \"rgb(138, 29, 99)\"], [0.8181818181818182, \"rgb(107, 24, 93)\"], [0.9090909090909091, \"rgb(76, 21, 80)\"], [1.0, \"rgb(47, 15, 61)\"]]}, \"legend\": {\"tracegroupgap\": 0}, \"template\": {\"data\": {\"bar\": [{\"error_x\": {\"color\": \"#2a3f5f\"}, \"error_y\": {\"color\": \"#2a3f5f\"}, \"marker\": {\"line\": {\"color\": \"#E5ECF6\", \"width\": 0.5}}, \"type\": \"bar\"}], \"barpolar\": [{\"marker\": {\"line\": {\"color\": \"#E5ECF6\", \"width\": 0.5}}, \"type\": \"barpolar\"}], \"carpet\": [{\"aaxis\": {\"endlinecolor\": \"#2a3f5f\", \"gridcolor\": \"white\", \"linecolor\": \"white\", \"minorgridcolor\": \"white\", \"startlinecolor\": \"#2a3f5f\"}, \"baxis\": {\"endlinecolor\": \"#2a3f5f\", \"gridcolor\": \"white\", \"linecolor\": \"white\", \"minorgridcolor\": \"white\", \"startlinecolor\": \"#2a3f5f\"}, \"type\": \"carpet\"}], \"choropleth\": [{\"colorbar\": {\"outlinewidth\": 0, \"ticks\": \"\"}, \"type\": \"choropleth\"}], \"contour\": [{\"colorbar\": {\"outlinewidth\": 0, \"ticks\": \"\"}, \"colorscale\": [[0.0, \"#0d0887\"], [0.1111111111111111, \"#46039f\"], [0.2222222222222222, \"#7201a8\"], [0.3333333333333333, \"#9c179e\"], [0.4444444444444444, \"#bd3786\"], [0.5555555555555556, \"#d8576b\"], [0.6666666666666666, \"#ed7953\"], [0.7777777777777778, \"#fb9f3a\"], [0.8888888888888888, \"#fdca26\"], [1.0, \"#f0f921\"]], \"type\": \"contour\"}], \"contourcarpet\": [{\"colorbar\": {\"outlinewidth\": 0, \"ticks\": \"\"}, \"type\": \"contourcarpet\"}], \"heatmap\": [{\"colorbar\": {\"outlinewidth\": 0, \"ticks\": \"\"}, \"colorscale\": [[0.0, \"#0d0887\"], [0.1111111111111111, \"#46039f\"], [0.2222222222222222, \"#7201a8\"], [0.3333333333333333, \"#9c179e\"], [0.4444444444444444, \"#bd3786\"], [0.5555555555555556, \"#d8576b\"], [0.6666666666666666, \"#ed7953\"], [0.7777777777777778, \"#fb9f3a\"], [0.8888888888888888, \"#fdca26\"], [1.0, \"#f0f921\"]], \"type\": \"heatmap\"}], \"heatmapgl\": [{\"colorbar\": {\"outlinewidth\": 0, \"ticks\": \"\"}, \"colorscale\": [[0.0, \"#0d0887\"], [0.1111111111111111, \"#46039f\"], [0.2222222222222222, \"#7201a8\"], [0.3333333333333333, \"#9c179e\"], [0.4444444444444444, \"#bd3786\"], [0.5555555555555556, \"#d8576b\"], [0.6666666666666666, \"#ed7953\"], [0.7777777777777778, \"#fb9f3a\"], [0.8888888888888888, \"#fdca26\"], [1.0, \"#f0f921\"]], \"type\": \"heatmapgl\"}], \"histogram\": [{\"marker\": {\"colorbar\": {\"outlinewidth\": 0, \"ticks\": \"\"}}, \"type\": \"histogram\"}], \"histogram2d\": [{\"colorbar\": {\"outlinewidth\": 0, \"ticks\": \"\"}, \"colorscale\": [[0.0, \"#0d0887\"], [0.1111111111111111, \"#46039f\"], [0.2222222222222222, \"#7201a8\"], [0.3333333333333333, \"#9c179e\"], [0.4444444444444444, \"#bd3786\"], [0.5555555555555556, \"#d8576b\"], [0.6666666666666666, \"#ed7953\"], [0.7777777777777778, \"#fb9f3a\"], [0.8888888888888888, \"#fdca26\"], [1.0, \"#f0f921\"]], \"type\": \"histogram2d\"}], \"histogram2dcontour\": [{\"colorbar\": {\"outlinewidth\": 0, \"ticks\": \"\"}, \"colorscale\": [[0.0, \"#0d0887\"], [0.1111111111111111, \"#46039f\"], [0.2222222222222222, \"#7201a8\"], [0.3333333333333333, \"#9c179e\"], [0.4444444444444444, \"#bd3786\"], [0.5555555555555556, \"#d8576b\"], [0.6666666666666666, \"#ed7953\"], [0.7777777777777778, \"#fb9f3a\"], [0.8888888888888888, \"#fdca26\"], [1.0, \"#f0f921\"]], \"type\": \"histogram2dcontour\"}], \"mesh3d\": [{\"colorbar\": {\"outlinewidth\": 0, \"ticks\": \"\"}, \"type\": \"mesh3d\"}], \"parcoords\": [{\"line\": {\"colorbar\": {\"outlinewidth\": 0, \"ticks\": \"\"}}, \"type\": \"parcoords\"}], \"pie\": [{\"automargin\": true, \"type\": \"pie\"}], \"scatter\": [{\"marker\": {\"colorbar\": {\"outlinewidth\": 0, \"ticks\": \"\"}}, \"type\": \"scatter\"}], \"scatter3d\": [{\"line\": {\"colorbar\": {\"outlinewidth\": 0, \"ticks\": \"\"}}, \"marker\": {\"colorbar\": {\"outlinewidth\": 0, \"ticks\": \"\"}}, \"type\": \"scatter3d\"}], \"scattercarpet\": [{\"marker\": {\"colorbar\": {\"outlinewidth\": 0, \"ticks\": \"\"}}, \"type\": \"scattercarpet\"}], \"scattergeo\": [{\"marker\": {\"colorbar\": {\"outlinewidth\": 0, \"ticks\": \"\"}}, \"type\": \"scattergeo\"}], \"scattergl\": [{\"marker\": {\"colorbar\": {\"outlinewidth\": 0, \"ticks\": \"\"}}, \"type\": \"scattergl\"}], \"scattermapbox\": [{\"marker\": {\"colorbar\": {\"outlinewidth\": 0, \"ticks\": \"\"}}, \"type\": \"scattermapbox\"}], \"scatterpolar\": [{\"marker\": {\"colorbar\": {\"outlinewidth\": 0, \"ticks\": \"\"}}, \"type\": \"scatterpolar\"}], \"scatterpolargl\": [{\"marker\": {\"colorbar\": {\"outlinewidth\": 0, \"ticks\": \"\"}}, \"type\": \"scatterpolargl\"}], \"scatterternary\": [{\"marker\": {\"colorbar\": {\"outlinewidth\": 0, \"ticks\": \"\"}}, \"type\": \"scatterternary\"}], \"surface\": [{\"colorbar\": {\"outlinewidth\": 0, \"ticks\": \"\"}, \"colorscale\": [[0.0, \"#0d0887\"], [0.1111111111111111, \"#46039f\"], [0.2222222222222222, \"#7201a8\"], [0.3333333333333333, \"#9c179e\"], [0.4444444444444444, \"#bd3786\"], [0.5555555555555556, \"#d8576b\"], [0.6666666666666666, \"#ed7953\"], [0.7777777777777778, \"#fb9f3a\"], [0.8888888888888888, \"#fdca26\"], [1.0, \"#f0f921\"]], \"type\": \"surface\"}], \"table\": [{\"cells\": {\"fill\": {\"color\": \"#EBF0F8\"}, \"line\": {\"color\": \"white\"}}, \"header\": {\"fill\": {\"color\": \"#C8D4E3\"}, \"line\": {\"color\": \"white\"}}, \"type\": \"table\"}]}, \"layout\": {\"annotationdefaults\": {\"arrowcolor\": \"#2a3f5f\", \"arrowhead\": 0, \"arrowwidth\": 1}, \"coloraxis\": {\"colorbar\": {\"outlinewidth\": 0, \"ticks\": \"\"}}, \"colorscale\": {\"diverging\": [[0, \"#8e0152\"], [0.1, \"#c51b7d\"], [0.2, \"#de77ae\"], [0.3, \"#f1b6da\"], [0.4, \"#fde0ef\"], [0.5, \"#f7f7f7\"], [0.6, \"#e6f5d0\"], [0.7, \"#b8e186\"], [0.8, \"#7fbc41\"], [0.9, \"#4d9221\"], [1, \"#276419\"]], \"sequential\": [[0.0, \"#0d0887\"], [0.1111111111111111, \"#46039f\"], [0.2222222222222222, \"#7201a8\"], [0.3333333333333333, \"#9c179e\"], [0.4444444444444444, \"#bd3786\"], [0.5555555555555556, \"#d8576b\"], [0.6666666666666666, \"#ed7953\"], [0.7777777777777778, \"#fb9f3a\"], [0.8888888888888888, \"#fdca26\"], [1.0, \"#f0f921\"]], \"sequentialminus\": [[0.0, \"#0d0887\"], [0.1111111111111111, \"#46039f\"], [0.2222222222222222, \"#7201a8\"], [0.3333333333333333, \"#9c179e\"], [0.4444444444444444, \"#bd3786\"], [0.5555555555555556, \"#d8576b\"], [0.6666666666666666, \"#ed7953\"], [0.7777777777777778, \"#fb9f3a\"], [0.8888888888888888, \"#fdca26\"], [1.0, \"#f0f921\"]]}, \"colorway\": [\"#636efa\", \"#EF553B\", \"#00cc96\", \"#ab63fa\", \"#FFA15A\", \"#19d3f3\", \"#FF6692\", \"#B6E880\", \"#FF97FF\", \"#FECB52\"], \"font\": {\"color\": \"#2a3f5f\"}, \"geo\": {\"bgcolor\": \"white\", \"lakecolor\": \"white\", \"landcolor\": \"#E5ECF6\", \"showlakes\": true, \"showland\": true, \"subunitcolor\": \"white\"}, \"hoverlabel\": {\"align\": \"left\"}, \"hovermode\": \"closest\", \"mapbox\": {\"style\": \"light\"}, \"paper_bgcolor\": \"white\", \"plot_bgcolor\": \"#E5ECF6\", \"polar\": {\"angularaxis\": {\"gridcolor\": \"white\", \"linecolor\": \"white\", \"ticks\": \"\"}, \"bgcolor\": \"#E5ECF6\", \"radialaxis\": {\"gridcolor\": \"white\", \"linecolor\": \"white\", \"ticks\": \"\"}}, \"scene\": {\"xaxis\": {\"backgroundcolor\": \"#E5ECF6\", \"gridcolor\": \"white\", \"gridwidth\": 2, \"linecolor\": \"white\", \"showbackground\": true, \"ticks\": \"\", \"zerolinecolor\": \"white\"}, \"yaxis\": {\"backgroundcolor\": \"#E5ECF6\", \"gridcolor\": \"white\", \"gridwidth\": 2, \"linecolor\": \"white\", \"showbackground\": true, \"ticks\": \"\", \"zerolinecolor\": \"white\"}, \"zaxis\": {\"backgroundcolor\": \"#E5ECF6\", \"gridcolor\": \"white\", \"gridwidth\": 2, \"linecolor\": \"white\", \"showbackground\": true, \"ticks\": \"\", \"zerolinecolor\": \"white\"}}, \"shapedefaults\": {\"line\": {\"color\": \"#2a3f5f\"}}, \"ternary\": {\"aaxis\": {\"gridcolor\": \"white\", \"linecolor\": \"white\", \"ticks\": \"\"}, \"baxis\": {\"gridcolor\": \"white\", \"linecolor\": \"white\", \"ticks\": \"\"}, \"bgcolor\": \"#E5ECF6\", \"caxis\": {\"gridcolor\": \"white\", \"linecolor\": \"white\", \"ticks\": \"\"}}, \"title\": {\"x\": 0.05}, \"xaxis\": {\"automargin\": true, \"gridcolor\": \"white\", \"linecolor\": \"white\", \"ticks\": \"\", \"title\": {\"standoff\": 15}, \"zerolinecolor\": \"white\", \"zerolinewidth\": 2}, \"yaxis\": {\"automargin\": true, \"gridcolor\": \"white\", \"linecolor\": \"white\", \"ticks\": \"\", \"title\": {\"standoff\": 15}, \"zerolinecolor\": \"white\", \"zerolinewidth\": 2}}}, \"title\": {\"text\": \"Current COVID19 Confirmed Cases In South Korea\"}},\n                        {\"responsive\": true}\n                    ).then(function(){\n                            \nvar gd = document.getElementById('0bbb3fea-e2e6-42ed-b7b0-64827ff1d140');\nvar x = new MutationObserver(function (mutations, observer) {{\n        var display = window.getComputedStyle(gd).display;\n        if (!display || display === 'none') {{\n            console.log([gd, 'removed!']);\n            Plotly.purge(gd);\n            observer.disconnect();\n        }}\n}});\n\n// Listen for the removal of the full notebook cells\nvar notebookContainer = gd.closest('#notebook-container');\nif (notebookContainer) {{\n    x.observe(notebookContainer, {childList: true});\n}}\n\n// Listen for the clearing of the current output cell\nvar outputEl = gd.closest('.output');\nif (outputEl) {{\n    x.observe(outputEl, {childList: true});\n}}\n\n                        })\n                };\n                });\n            </script>\n        </div>"
     },
     "metadata": {},
     "output_type": "display_data"
    }
   ],
   "source": [
    "fig = px.treemap(result, path=['province','city'], values='counts',\n",
    "                  color='counts', hover_data=['city'],\n",
    "                  color_continuous_scale='matter', title='Current COVID19 Confirmed Cases In South Korea')\n",
    "fig.show()\n"
   ],
   "metadata": {
    "collapsed": false,
    "pycharm": {
     "name": "#%%\n"
    }
   }
  },
  {
   "cell_type": "markdown",
   "source": [
    "# 4. Prediction Model"
   ],
   "metadata": {
    "collapsed": false,
    "pycharm": {
     "name": "#%% md\n"
    }
   }
  },
  {
   "cell_type": "code",
   "execution_count": 349,
   "outputs": [
    {
     "name": "stderr",
     "output_type": "stream",
     "text": [
      "C:\\Users\\grant\\AppData\\Roaming\\Python\\Python38\\site-packages\\IPython\\core\\interactiveshell.py:3062: DtypeWarning:\n",
      "\n",
      "Columns (1) have mixed types.Specify dtype option on import or set low_memory=False.\n",
      "\n"
     ]
    }
   ],
   "source": [
    "#load data\n",
    "train_data = pd.read_csv(\"train.csv\")\n",
    "test_data = pd.read_csv(\"test.csv\")"
   ],
   "metadata": {
    "collapsed": false,
    "pycharm": {
     "name": "#%%\n"
    }
   }
  },
  {
   "cell_type": "code",
   "execution_count": 350,
   "outputs": [
    {
     "name": "stdout",
     "output_type": "stream",
     "text": [
      "['Afghanistan' 'Albania' 'Algeria' 'Andorra' 'Angola'\n",
      " 'Antigua and Barbuda' 'Argentina' 'Armenia' 'Australia' 'Austria'\n",
      " 'Azerbaijan' 'Bahamas' 'Bahrain' 'Bangladesh' 'Barbados' 'Belarus'\n",
      " 'Belgium' 'Belize' 'Benin' 'Bhutan' 'Bolivia' 'Bosnia and Herzegovina'\n",
      " 'Botswana' 'Brazil' 'Brunei' 'Bulgaria' 'Burkina Faso' 'Burma' 'Burundi'\n",
      " 'Cabo Verde' 'Cambodia' 'Cameroon' 'Canada' 'Central African Republic'\n",
      " 'Chad' 'Chile' 'China' 'Colombia' 'Comoros' 'Congo (Brazzaville)'\n",
      " 'Congo (Kinshasa)' 'Costa Rica' \"Cote d'Ivoire\" 'Croatia' 'Cuba' 'Cyprus'\n",
      " 'Czechia' 'Denmark' 'Diamond Princess' 'Djibouti' 'Dominica'\n",
      " 'Dominican Republic' 'Ecuador' 'Egypt' 'El Salvador' 'Equatorial Guinea'\n",
      " 'Eritrea' 'Estonia' 'Eswatini' 'Ethiopia' 'Fiji' 'Finland' 'France'\n",
      " 'Gabon' 'Gambia' 'Georgia' 'Germany' 'Ghana' 'Greece' 'Grenada'\n",
      " 'Guatemala' 'Guinea' 'Guinea-Bissau' 'Guyana' 'Haiti' 'Holy See'\n",
      " 'Honduras' 'Hungary' 'Iceland' 'India' 'Indonesia' 'Iran' 'Iraq'\n",
      " 'Ireland' 'Israel' 'Italy' 'Jamaica' 'Japan' 'Jordan' 'Kazakhstan'\n",
      " 'Kenya' 'Korea, South' 'Kosovo' 'Kuwait' 'Kyrgyzstan' 'Laos' 'Latvia'\n",
      " 'Lebanon' 'Liberia' 'Libya' 'Liechtenstein' 'Lithuania' 'Luxembourg'\n",
      " 'MS Zaandam' 'Madagascar' 'Malawi' 'Malaysia' 'Maldives' 'Mali' 'Malta'\n",
      " 'Mauritania' 'Mauritius' 'Mexico' 'Moldova' 'Monaco' 'Mongolia'\n",
      " 'Montenegro' 'Morocco' 'Mozambique' 'Namibia' 'Nepal' 'Netherlands'\n",
      " 'New Zealand' 'Nicaragua' 'Niger' 'Nigeria' 'North Macedonia' 'Norway'\n",
      " 'Oman' 'Pakistan' 'Panama' 'Papua New Guinea' 'Paraguay' 'Peru'\n",
      " 'Philippines' 'Poland' 'Portugal' 'Qatar' 'Romania' 'Russia' 'Rwanda'\n",
      " 'Saint Kitts and Nevis' 'Saint Lucia' 'Saint Vincent and the Grenadines'\n",
      " 'San Marino' 'Sao Tome and Principe' 'Saudi Arabia' 'Senegal' 'Serbia'\n",
      " 'Seychelles' 'Sierra Leone' 'Singapore' 'Slovakia' 'Slovenia' 'Somalia'\n",
      " 'South Africa' 'South Sudan' 'Spain' 'Sri Lanka' 'Sudan' 'Suriname'\n",
      " 'Sweden' 'Switzerland' 'Syria' 'Taiwan*' 'Tajikistan' 'Tanzania'\n",
      " 'Thailand' 'Timor-Leste' 'Togo' 'Trinidad and Tobago' 'Tunisia' 'Turkey'\n",
      " 'US' 'Uganda' 'Ukraine' 'United Arab Emirates' 'United Kingdom' 'Uruguay'\n",
      " 'Uzbekistan' 'Venezuela' 'Vietnam' 'West Bank and Gaza' 'Western Sahara'\n",
      " 'Yemen' 'Zambia' 'Zimbabwe']\n"
     ]
    }
   ],
   "source": [
    "#get the name of 'south korean'\n",
    "country =train_data.Country_Region.unique()\n",
    "print(country)"
   ],
   "metadata": {
    "collapsed": false,
    "pycharm": {
     "name": "#%%\n"
    }
   }
  },
  {
   "cell_type": "code",
   "execution_count": 351,
   "outputs": [
    {
     "data": {
      "text/plain": "       Population    Weight        Date  Target  TargetValue\n43680    25281000  0.058666  2020-01-23       1            0\n43681    25281000  0.586663  2020-01-23       0            0\n43682    25281000  0.058666  2020-01-24       1            1\n43683    25281000  0.586663  2020-01-24       0            0\n43684    25281000  0.058666  2020-01-25       1            0",
      "text/html": "<div>\n<style scoped>\n    .dataframe tbody tr th:only-of-type {\n        vertical-align: middle;\n    }\n\n    .dataframe tbody tr th {\n        vertical-align: top;\n    }\n\n    .dataframe thead th {\n        text-align: right;\n    }\n</style>\n<table border=\"1\" class=\"dataframe\">\n  <thead>\n    <tr style=\"text-align: right;\">\n      <th></th>\n      <th>Population</th>\n      <th>Weight</th>\n      <th>Date</th>\n      <th>Target</th>\n      <th>TargetValue</th>\n    </tr>\n  </thead>\n  <tbody>\n    <tr>\n      <th>43680</th>\n      <td>25281000</td>\n      <td>0.058666</td>\n      <td>2020-01-23</td>\n      <td>1</td>\n      <td>0</td>\n    </tr>\n    <tr>\n      <th>43681</th>\n      <td>25281000</td>\n      <td>0.586663</td>\n      <td>2020-01-23</td>\n      <td>0</td>\n      <td>0</td>\n    </tr>\n    <tr>\n      <th>43682</th>\n      <td>25281000</td>\n      <td>0.058666</td>\n      <td>2020-01-24</td>\n      <td>1</td>\n      <td>1</td>\n    </tr>\n    <tr>\n      <th>43683</th>\n      <td>25281000</td>\n      <td>0.586663</td>\n      <td>2020-01-24</td>\n      <td>0</td>\n      <td>0</td>\n    </tr>\n    <tr>\n      <th>43684</th>\n      <td>25281000</td>\n      <td>0.058666</td>\n      <td>2020-01-25</td>\n      <td>1</td>\n      <td>0</td>\n    </tr>\n  </tbody>\n</table>\n</div>"
     },
     "execution_count": 351,
     "metadata": {},
     "output_type": "execute_result"
    }
   ],
   "source": [
    "# filter to extract korean data\n",
    "train_data=train_data[train_data['Country_Region']=='Korea, South']\n",
    "\n",
    "# check head and drop unuseful columns\n",
    "train=train_data.drop(['Id','County','Province_State','Country_Region'],axis=1)\n",
    "\n",
    "# convert the target value to integer, confirmedCases to 1, Fatalities to 0\n",
    "train['Target'].replace({'ConfirmedCases':1, 'Fatalities':0}, inplace=True)\n",
    "\n",
    "train.head()"
   ],
   "metadata": {
    "collapsed": false,
    "pycharm": {
     "name": "#%%\n"
    }
   }
  },
  {
   "cell_type": "code",
   "execution_count": 352,
   "outputs": [
    {
     "data": {
      "text/plain": "       Population    Weight        Date  Target\n14040    25281000  0.058666  2020-04-27       1\n14041    25281000  0.586663  2020-04-27       0\n14042    25281000  0.058666  2020-04-28       1\n14043    25281000  0.586663  2020-04-28       0\n14044    25281000  0.058666  2020-04-29       1\n...           ...       ...         ...     ...\n14125    25281000  0.586663  2020-06-08       0\n14126    25281000  0.058666  2020-06-09       1\n14127    25281000  0.586663  2020-06-09       0\n14128    25281000  0.058666  2020-06-10       1\n14129    25281000  0.586663  2020-06-10       0\n\n[90 rows x 4 columns]",
      "text/html": "<div>\n<style scoped>\n    .dataframe tbody tr th:only-of-type {\n        vertical-align: middle;\n    }\n\n    .dataframe tbody tr th {\n        vertical-align: top;\n    }\n\n    .dataframe thead th {\n        text-align: right;\n    }\n</style>\n<table border=\"1\" class=\"dataframe\">\n  <thead>\n    <tr style=\"text-align: right;\">\n      <th></th>\n      <th>Population</th>\n      <th>Weight</th>\n      <th>Date</th>\n      <th>Target</th>\n    </tr>\n  </thead>\n  <tbody>\n    <tr>\n      <th>14040</th>\n      <td>25281000</td>\n      <td>0.058666</td>\n      <td>2020-04-27</td>\n      <td>1</td>\n    </tr>\n    <tr>\n      <th>14041</th>\n      <td>25281000</td>\n      <td>0.586663</td>\n      <td>2020-04-27</td>\n      <td>0</td>\n    </tr>\n    <tr>\n      <th>14042</th>\n      <td>25281000</td>\n      <td>0.058666</td>\n      <td>2020-04-28</td>\n      <td>1</td>\n    </tr>\n    <tr>\n      <th>14043</th>\n      <td>25281000</td>\n      <td>0.586663</td>\n      <td>2020-04-28</td>\n      <td>0</td>\n    </tr>\n    <tr>\n      <th>14044</th>\n      <td>25281000</td>\n      <td>0.058666</td>\n      <td>2020-04-29</td>\n      <td>1</td>\n    </tr>\n    <tr>\n      <th>...</th>\n      <td>...</td>\n      <td>...</td>\n      <td>...</td>\n      <td>...</td>\n    </tr>\n    <tr>\n      <th>14125</th>\n      <td>25281000</td>\n      <td>0.586663</td>\n      <td>2020-06-08</td>\n      <td>0</td>\n    </tr>\n    <tr>\n      <th>14126</th>\n      <td>25281000</td>\n      <td>0.058666</td>\n      <td>2020-06-09</td>\n      <td>1</td>\n    </tr>\n    <tr>\n      <th>14127</th>\n      <td>25281000</td>\n      <td>0.586663</td>\n      <td>2020-06-09</td>\n      <td>0</td>\n    </tr>\n    <tr>\n      <th>14128</th>\n      <td>25281000</td>\n      <td>0.058666</td>\n      <td>2020-06-10</td>\n      <td>1</td>\n    </tr>\n    <tr>\n      <th>14129</th>\n      <td>25281000</td>\n      <td>0.586663</td>\n      <td>2020-06-10</td>\n      <td>0</td>\n    </tr>\n  </tbody>\n</table>\n<p>90 rows × 4 columns</p>\n</div>"
     },
     "execution_count": 352,
     "metadata": {},
     "output_type": "execute_result"
    }
   ],
   "source": [
    "# filter to extract korean data\n",
    "test_data=test_data[test_data['Country_Region']=='Korea, South']\n",
    "\n",
    "# check head and drop unuseful columns\n",
    "test=test_data.drop(['ForecastId','County','Province_State','Country_Region'],axis=1)\n",
    "\n",
    "# convert the target value to integer, confirmedCases to 1, Fatalities to 0\n",
    "test['Target'].replace({'ConfirmedCases':1, 'Fatalities':0}, inplace=True)\n",
    "\n",
    "test"
   ],
   "metadata": {
    "collapsed": false,
    "pycharm": {
     "name": "#%%\n"
    }
   }
  },
  {
   "cell_type": "code",
   "execution_count": 353,
   "outputs": [
    {
     "data": {
      "text/plain": "       Population    Weight  Target  day  month  quarter  dayofweek  \\\n43680    25281000  0.058666       1   23      1        1          3   \n43681    25281000  0.586663       0   23      1        1          3   \n43682    25281000  0.058666       1   24      1        1          4   \n43683    25281000  0.586663       0   24      1        1          4   \n43684    25281000  0.058666       1   25      1        1          5   \n\n       dayofyear  weekofyear  \n43680         23           4  \n43681         23           4  \n43682         24           4  \n43683         24           4  \n43684         25           4  ",
      "text/html": "<div>\n<style scoped>\n    .dataframe tbody tr th:only-of-type {\n        vertical-align: middle;\n    }\n\n    .dataframe tbody tr th {\n        vertical-align: top;\n    }\n\n    .dataframe thead th {\n        text-align: right;\n    }\n</style>\n<table border=\"1\" class=\"dataframe\">\n  <thead>\n    <tr style=\"text-align: right;\">\n      <th></th>\n      <th>Population</th>\n      <th>Weight</th>\n      <th>Target</th>\n      <th>day</th>\n      <th>month</th>\n      <th>quarter</th>\n      <th>dayofweek</th>\n      <th>dayofyear</th>\n      <th>weekofyear</th>\n    </tr>\n  </thead>\n  <tbody>\n    <tr>\n      <th>43680</th>\n      <td>25281000</td>\n      <td>0.058666</td>\n      <td>1</td>\n      <td>23</td>\n      <td>1</td>\n      <td>1</td>\n      <td>3</td>\n      <td>23</td>\n      <td>4</td>\n    </tr>\n    <tr>\n      <th>43681</th>\n      <td>25281000</td>\n      <td>0.586663</td>\n      <td>0</td>\n      <td>23</td>\n      <td>1</td>\n      <td>1</td>\n      <td>3</td>\n      <td>23</td>\n      <td>4</td>\n    </tr>\n    <tr>\n      <th>43682</th>\n      <td>25281000</td>\n      <td>0.058666</td>\n      <td>1</td>\n      <td>24</td>\n      <td>1</td>\n      <td>1</td>\n      <td>4</td>\n      <td>24</td>\n      <td>4</td>\n    </tr>\n    <tr>\n      <th>43683</th>\n      <td>25281000</td>\n      <td>0.586663</td>\n      <td>0</td>\n      <td>24</td>\n      <td>1</td>\n      <td>1</td>\n      <td>4</td>\n      <td>24</td>\n      <td>4</td>\n    </tr>\n    <tr>\n      <th>43684</th>\n      <td>25281000</td>\n      <td>0.058666</td>\n      <td>1</td>\n      <td>25</td>\n      <td>1</td>\n      <td>1</td>\n      <td>5</td>\n      <td>25</td>\n      <td>4</td>\n    </tr>\n  </tbody>\n</table>\n</div>"
     },
     "execution_count": 353,
     "metadata": {},
     "output_type": "execute_result"
    }
   ],
   "source": [
    "# create useful features for data mining tools to increase performance\n",
    "# By transforming 'Date' into single values such as 'day' 'dayofweek' 'month'...\n",
    "train['Date']=pd.to_datetime(train['Date'],format = '%Y-%m-%d')\n",
    "train['day']=train['Date'].dt.day\n",
    "train['month'] = train['Date'].dt.month\n",
    "train['quarter'] = train['Date'].dt.quarter\n",
    "train['dayofweek'] = train['Date'].dt.dayofweek\n",
    "train['dayofyear'] = train['Date'].dt.dayofyear\n",
    "train['weekofyear'] = train['Date'].dt.weekofyear\n",
    "train=train.drop(['Date'],axis=1)\n",
    "X=train.drop(['TargetValue'],axis=1)\n",
    "y=train['TargetValue']\n",
    "X.head()"
   ],
   "metadata": {
    "collapsed": false,
    "pycharm": {
     "name": "#%%\n"
    }
   }
  },
  {
   "cell_type": "code",
   "execution_count": 354,
   "outputs": [
    {
     "data": {
      "text/plain": "       Population    Weight  Target  day  month  quarter  dayofweek  \\\n14040    25281000  0.058666       1   27      4        2          0   \n14041    25281000  0.586663       0   27      4        2          0   \n14042    25281000  0.058666       1   28      4        2          1   \n14043    25281000  0.586663       0   28      4        2          1   \n14044    25281000  0.058666       1   29      4        2          2   \n\n       dayofyear  weekofyear  \n14040        118          18  \n14041        118          18  \n14042        119          18  \n14043        119          18  \n14044        120          18  ",
      "text/html": "<div>\n<style scoped>\n    .dataframe tbody tr th:only-of-type {\n        vertical-align: middle;\n    }\n\n    .dataframe tbody tr th {\n        vertical-align: top;\n    }\n\n    .dataframe thead th {\n        text-align: right;\n    }\n</style>\n<table border=\"1\" class=\"dataframe\">\n  <thead>\n    <tr style=\"text-align: right;\">\n      <th></th>\n      <th>Population</th>\n      <th>Weight</th>\n      <th>Target</th>\n      <th>day</th>\n      <th>month</th>\n      <th>quarter</th>\n      <th>dayofweek</th>\n      <th>dayofyear</th>\n      <th>weekofyear</th>\n    </tr>\n  </thead>\n  <tbody>\n    <tr>\n      <th>14040</th>\n      <td>25281000</td>\n      <td>0.058666</td>\n      <td>1</td>\n      <td>27</td>\n      <td>4</td>\n      <td>2</td>\n      <td>0</td>\n      <td>118</td>\n      <td>18</td>\n    </tr>\n    <tr>\n      <th>14041</th>\n      <td>25281000</td>\n      <td>0.586663</td>\n      <td>0</td>\n      <td>27</td>\n      <td>4</td>\n      <td>2</td>\n      <td>0</td>\n      <td>118</td>\n      <td>18</td>\n    </tr>\n    <tr>\n      <th>14042</th>\n      <td>25281000</td>\n      <td>0.058666</td>\n      <td>1</td>\n      <td>28</td>\n      <td>4</td>\n      <td>2</td>\n      <td>1</td>\n      <td>119</td>\n      <td>18</td>\n    </tr>\n    <tr>\n      <th>14043</th>\n      <td>25281000</td>\n      <td>0.586663</td>\n      <td>0</td>\n      <td>28</td>\n      <td>4</td>\n      <td>2</td>\n      <td>1</td>\n      <td>119</td>\n      <td>18</td>\n    </tr>\n    <tr>\n      <th>14044</th>\n      <td>25281000</td>\n      <td>0.058666</td>\n      <td>1</td>\n      <td>29</td>\n      <td>4</td>\n      <td>2</td>\n      <td>2</td>\n      <td>120</td>\n      <td>18</td>\n    </tr>\n  </tbody>\n</table>\n</div>"
     },
     "execution_count": 354,
     "metadata": {},
     "output_type": "execute_result"
    }
   ],
   "source": [
    "# modify the features of test data also\n",
    "# perform the predict model with good score\n",
    "test['Date']=pd.to_datetime(test['Date'],format = '%Y-%m-%d')\n",
    "test['day']=test['Date'].dt.day\n",
    "test['month'] = test['Date'].dt.month\n",
    "test['quarter'] = test['Date'].dt.quarter\n",
    "test['dayofweek'] = test['Date'].dt.dayofweek\n",
    "test['dayofyear'] = test['Date'].dt.dayofyear\n",
    "test['weekofyear'] = test['Date'].dt.weekofyear\n",
    "test=test.drop(['Date'],axis=1)\n",
    "test.head()"
   ],
   "metadata": {
    "collapsed": false,
    "pycharm": {
     "name": "#%%\n"
    }
   }
  },
  {
   "cell_type": "markdown",
   "source": [
    "## 4.1. The Model is Established and the Predicted Value is Output"
   ],
   "metadata": {
    "collapsed": false,
    "pycharm": {
     "name": "#%% md\n"
    }
   }
  },
  {
   "cell_type": "code",
   "execution_count": 355,
   "outputs": [],
   "source": [
    "# X_train, X_test, y_train, y_test = train_test_split(X, y,test_size=0.23)"
   ],
   "metadata": {
    "collapsed": false,
    "pycharm": {
     "name": "#%%\n"
    }
   }
  },
  {
   "cell_type": "code",
   "execution_count": 356,
   "outputs": [
    {
     "name": "stdout",
     "output_type": "stream",
     "text": [
      "0.15384615384615385\n",
      "0.2153846153846154\n",
      "0.2153846153846154\n",
      "0.27692307692307694\n"
     ]
    }
   ],
   "source": [
    "# gradient_model = make_pipeline(\n",
    "#     GradientBoostingClassifier(n_estimators =70,max_depth=3, min_samples_leaf =1)\n",
    "# )\n",
    "# random_f_model = make_pipeline(\n",
    "#     RandomForestClassifier(n_estimators =200,max_depth =9, min_samples_leaf=40)\n",
    "# )\n",
    "# neural_net_model = make_pipeline(\n",
    "#     MLPClassifier(solver ='lbfgs',hidden_layer_sizes=(11,11),activation ='logistic')\n",
    "# )\n",
    "#\n",
    "# knn_model = make_pipeline(\n",
    "#         KNeighborsClassifier(n_neighbors=10)\n",
    "# )\n",
    "#\n",
    "# models = [gradient_model,random_f_model,neural_net_model,knn_model]\n",
    "#\n",
    "# for i, m in enumerate(models):\n",
    "#     m.fit(X_train, y_train)\n",
    "#     print(metrics.accuracy_score(y_test, m.predict(X_test)))"
   ],
   "metadata": {
    "collapsed": false,
    "pycharm": {
     "name": "#%%\n"
    }
   }
  },
  {
   "cell_type": "code",
   "execution_count": 294,
   "outputs": [],
   "source": [
    "# knn_model = make_pipeline(\n",
    "#         KNeighborsClassifier(n_neighbors=10)\n",
    "# )\n",
    "# knn_model.fit(X_train, y_train)\n",
    "# predictions = knn_model.predict(test)\n",
    "# pd.Series(predictions).to_csv('output.txt', index=False, header=False)"
   ],
   "metadata": {
    "collapsed": false,
    "pycharm": {
     "name": "#%%\n"
    }
   }
  },
  {
   "cell_type": "markdown",
   "source": [
    "## 4.2. Conduct k-fold Validation and Report Precision. Recall and Accuracy for Each Validation"
   ],
   "metadata": {
    "collapsed": false,
    "pycharm": {
     "name": "#%% md\n"
    }
   }
  },
  {
   "cell_type": "code",
   "execution_count": 357,
   "outputs": [
    {
     "name": "stdout",
     "output_type": "stream",
     "text": [
      "Iteration # 1 :\n",
      "              precision    recall  f1-score   support\n",
      "\n",
      "           0       1.00      0.70      0.82        20\n",
      "           1       0.25      0.40      0.31         5\n",
      "           2       0.00      0.00      0.00         0\n",
      "           3       0.00      0.00      0.00         2\n",
      "           4       0.00      0.00      0.00         0\n",
      "           7       0.00      0.00      0.00         1\n",
      "\n",
      "    accuracy                           0.57        28\n",
      "   macro avg       0.21      0.18      0.19        28\n",
      "weighted avg       0.76      0.57      0.64        28\n",
      "\n",
      "*******************\n",
      "Iteration # 2 :\n",
      "              precision    recall  f1-score   support\n",
      "\n",
      "           0       1.00      0.55      0.71        20\n",
      "           1       0.00      0.00      0.00         6\n",
      "           2       0.00      0.00      0.00         1\n",
      "           3       0.00      0.00      0.00         0\n",
      "           4       0.00      0.00      0.00         1\n",
      "          73       0.00      0.00      0.00         0\n",
      "\n",
      "    accuracy                           0.39        28\n",
      "   macro avg       0.17      0.09      0.12        28\n",
      "weighted avg       0.71      0.39      0.51        28\n",
      "\n",
      "*******************\n",
      "Iteration # 3 :\n",
      "              precision    recall  f1-score   support\n",
      "\n",
      "           0       0.14      1.00      0.25         3\n",
      "           1       0.00      0.00      0.00         4\n",
      "           2       0.00      0.00      0.00         3\n",
      "           3       0.00      0.00      0.00         1\n",
      "           4       0.00      0.00      0.00         1\n",
      "           7       0.00      0.00      0.00         1\n",
      "          11       0.00      0.00      0.00         1\n",
      "          73       0.00      0.00      0.00         1\n",
      "         100       0.00      0.00      0.00         1\n",
      "         144       0.00      0.00      0.00         1\n",
      "         169       0.00      0.00      0.00         1\n",
      "         229       0.00      0.00      0.00         1\n",
      "         231       0.00      0.00      0.00         1\n",
      "         284       0.00      0.00      0.00         1\n",
      "         435       0.00      0.00      0.00         1\n",
      "         467       0.00      0.00      0.00         0\n",
      "         505       0.00      0.00      0.00         1\n",
      "         571       0.00      0.00      0.00         1\n",
      "         586       0.00      0.00      0.00         1\n",
      "         599       0.00      0.00      0.00         1\n",
      "         813       0.00      0.00      0.00         1\n",
      "         851       0.00      0.00      0.00         1\n",
      "\n",
      "    accuracy                           0.11        28\n",
      "   macro avg       0.01      0.05      0.01        28\n",
      "weighted avg       0.02      0.11      0.03        28\n",
      "\n",
      "*******************\n",
      "Iteration # 4 :\n",
      "              precision    recall  f1-score   support\n",
      "\n",
      "           0       0.00      0.00      0.00         3\n",
      "           1       0.00      0.00      0.00         1\n",
      "           2       0.00      0.00      0.00         1\n",
      "           3       0.00      0.00      0.00         3\n",
      "           6       0.00      0.00      0.00         5\n",
      "           7       0.07      1.00      0.13         1\n",
      "          35       0.00      0.00      0.00         1\n",
      "          74       0.00      0.00      0.00         1\n",
      "          76       0.00      0.00      0.00         1\n",
      "          84       0.00      0.00      0.00         1\n",
      "          93       0.00      0.00      0.00         1\n",
      "         107       0.00      0.00      0.00         1\n",
      "         110       0.00      0.00      0.00         1\n",
      "         114       0.00      0.00      0.00         1\n",
      "         152       0.00      0.00      0.00         0\n",
      "         164       0.00      0.00      0.00         1\n",
      "         242       0.00      0.00      0.00         1\n",
      "         273       0.00      0.00      0.00         1\n",
      "         435       0.00      0.00      0.00         0\n",
      "         448       0.00      0.00      0.00         1\n",
      "         467       0.00      0.00      0.00         1\n",
      "         505       0.00      0.00      0.00         1\n",
      "\n",
      "    accuracy                           0.04        28\n",
      "   macro avg       0.00      0.05      0.01        28\n",
      "weighted avg       0.00      0.04      0.00        28\n",
      "\n",
      "*******************\n",
      "Iteration # 5 :\n",
      "              precision    recall  f1-score   support\n",
      "\n",
      "           0       0.00      0.00      0.00         2\n",
      "           3       0.09      0.50      0.15         2\n",
      "           4       0.00      0.00      0.00         1\n",
      "           5       0.00      0.00      0.00         2\n",
      "           6       0.00      0.00      0.00         2\n",
      "           7       0.00      0.00      0.00         1\n",
      "           8       0.00      0.00      0.00         3\n",
      "           9       0.00      0.00      0.00         2\n",
      "          74       0.00      0.00      0.00         0\n",
      "          76       0.00      0.00      0.00         1\n",
      "          78       0.00      0.00      0.00         1\n",
      "          87       0.00      0.00      0.00         1\n",
      "          89       0.00      0.00      0.00         0\n",
      "          91       0.00      0.00      0.00         1\n",
      "          93       0.00      0.00      0.00         0\n",
      "         100       0.00      0.00      0.00         1\n",
      "         101       0.00      0.00      0.00         1\n",
      "         104       0.00      0.00      0.00         1\n",
      "         105       0.00      0.00      0.00         1\n",
      "         125       0.00      0.00      0.00         1\n",
      "         146       0.00      0.00      0.00         1\n",
      "         147       0.00      0.00      0.00         1\n",
      "         152       0.00      0.00      0.00         1\n",
      "         162       0.00      0.00      0.00         1\n",
      "\n",
      "    accuracy                           0.04        28\n",
      "   macro avg       0.00      0.02      0.01        28\n",
      "weighted avg       0.01      0.04      0.01        28\n",
      "\n",
      "*******************\n",
      "Iteration # 6 :\n",
      "              precision    recall  f1-score   support\n",
      "\n",
      "           3       0.33      0.33      0.33         6\n",
      "           4       0.29      0.67      0.40         3\n",
      "           5       0.00      0.00      0.00         2\n",
      "           6       0.00      0.00      0.00         2\n",
      "           7       0.00      0.00      0.00         0\n",
      "           8       0.00      0.00      0.00         1\n",
      "          22       0.00      0.00      0.00         0\n",
      "          25       0.00      0.00      0.00         1\n",
      "          27       0.00      0.00      0.00         3\n",
      "          30       0.00      0.00      0.00         1\n",
      "          32       0.00      0.00      0.00         1\n",
      "          39       0.00      0.00      0.00         1\n",
      "          47       0.00      0.00      0.00         2\n",
      "          53       0.00      0.00      0.00         1\n",
      "          81       0.00      0.00      0.00         1\n",
      "          86       0.00      0.00      0.00         1\n",
      "          89       0.00      0.00      0.00         1\n",
      "          94       0.00      0.00      0.00         1\n",
      "         101       0.00      0.00      0.00         0\n",
      "\n",
      "    accuracy                           0.14        28\n",
      "   macro avg       0.03      0.05      0.04        28\n",
      "weighted avg       0.10      0.14      0.11        28\n",
      "\n",
      "*******************\n",
      "Iteration # 7 :\n",
      "              precision    recall  f1-score   support\n",
      "\n",
      "           0       0.00      0.00      0.00         1\n",
      "           1       1.00      0.17      0.29         6\n",
      "           2       0.67      0.33      0.44         6\n",
      "           3       0.00      0.00      0.00         0\n",
      "           4       0.00      0.00      0.00         2\n",
      "           5       0.00      0.00      0.00         0\n",
      "           8       0.00      0.00      0.00         1\n",
      "           9       0.20      0.50      0.29         2\n",
      "          10       0.00      0.00      0.00         3\n",
      "          11       0.00      0.00      0.00         1\n",
      "          13       0.00      0.00      0.00         1\n",
      "          14       0.00      0.00      0.00         2\n",
      "          18       0.00      0.00      0.00         1\n",
      "          22       0.00      0.00      0.00         2\n",
      "          25       0.00      0.00      0.00         0\n",
      "          27       0.00      0.00      0.00         0\n",
      "          30       0.00      0.00      0.00         0\n",
      "          32       0.00      0.00      0.00         0\n",
      "\n",
      "    accuracy                           0.14        28\n",
      "   macro avg       0.10      0.06      0.06        28\n",
      "weighted avg       0.37      0.14      0.18        28\n",
      "\n",
      "*******************\n",
      "Iteration # 8 :\n",
      "              precision    recall  f1-score   support\n",
      "\n",
      "           0       0.20      0.20      0.20         5\n",
      "           1       0.75      0.60      0.67         5\n",
      "           2       0.20      0.20      0.20         5\n",
      "           3       0.00      0.00      0.00         1\n",
      "           4       0.00      0.00      0.00         1\n",
      "           6       0.00      0.00      0.00         1\n",
      "           8       0.00      0.00      0.00         1\n",
      "           9       0.00      0.00      0.00         1\n",
      "          12       0.00      0.00      0.00         1\n",
      "          13       0.00      0.00      0.00         1\n",
      "          18       0.00      0.00      0.00         1\n",
      "          25       0.00      0.00      0.00         0\n",
      "          26       0.00      0.00      0.00         1\n",
      "          27       0.00      0.00      0.00         1\n",
      "          29       0.00      0.00      0.00         1\n",
      "          30       0.00      0.00      0.00         0\n",
      "          34       0.00      0.00      0.00         1\n",
      "          35       0.00      0.00      0.00         1\n",
      "\n",
      "    accuracy                           0.18        28\n",
      "   macro avg       0.06      0.06      0.06        28\n",
      "weighted avg       0.21      0.18      0.19        28\n",
      "\n",
      "*******************\n",
      "Iteration # 9 :\n",
      "              precision    recall  f1-score   support\n",
      "\n",
      "           0       0.56      0.62      0.59         8\n",
      "           1       0.20      0.33      0.25         3\n",
      "           2       0.00      0.00      0.00         3\n",
      "          12       0.00      0.00      0.00         1\n",
      "          13       0.00      0.00      0.00         2\n",
      "          15       0.00      0.00      0.00         1\n",
      "          16       0.00      0.00      0.00         1\n",
      "          19       0.00      0.00      0.00         2\n",
      "          20       0.00      0.00      0.00         1\n",
      "          23       0.00      0.00      0.00         1\n",
      "          25       0.00      0.00      0.00         1\n",
      "          27       0.00      0.00      0.00         1\n",
      "          29       0.00      0.00      0.00         0\n",
      "          32       0.00      0.00      0.00         1\n",
      "          35       0.00      0.00      0.00         0\n",
      "          40       0.00      0.00      0.00         1\n",
      "          58       0.00      0.00      0.00         0\n",
      "          79       0.00      0.00      0.00         1\n",
      "\n",
      "    accuracy                           0.21        28\n",
      "   macro avg       0.04      0.05      0.05        28\n",
      "weighted avg       0.18      0.21      0.19        28\n",
      "\n",
      "*******************\n",
      "Iteration # 10 :\n",
      "              precision    recall  f1-score   support\n",
      "\n",
      "           0       0.50      0.12      0.20         8\n",
      "           1       0.50      0.20      0.29         5\n",
      "           2       0.10      1.00      0.18         1\n",
      "          15       0.00      0.00      0.00         0\n",
      "          16       0.00      0.00      0.00         0\n",
      "          19       0.00      0.00      0.00         0\n",
      "          23       0.00      0.00      0.00         0\n",
      "          25       0.00      0.00      0.00         0\n",
      "          26       0.00      0.00      0.00         0\n",
      "          27       0.00      0.00      0.00         1\n",
      "          35       0.00      0.00      0.00         1\n",
      "          38       0.00      0.00      0.00         3\n",
      "          39       0.00      0.00      0.00         3\n",
      "          45       0.00      0.00      0.00         1\n",
      "          49       0.00      0.00      0.00         1\n",
      "          50       0.00      0.00      0.00         1\n",
      "          51       0.00      0.00      0.00         1\n",
      "          57       0.00      0.00      0.00         1\n",
      "          58       0.00      0.00      0.00         1\n",
      "          79       0.00      0.00      0.00         0\n",
      "\n",
      "    accuracy                           0.11        28\n",
      "   macro avg       0.06      0.07      0.03        28\n",
      "weighted avg       0.24      0.11      0.11        28\n",
      "\n",
      "*******************\n"
     ]
    },
    {
     "name": "stderr",
     "output_type": "stream",
     "text": [
      "C:\\Users\\grant\\anaconda3\\envs\\cmpt353finalproject\\lib\\site-packages\\sklearn\\metrics\\_classification.py:1221: UndefinedMetricWarning:\n",
      "\n",
      "Precision and F-score are ill-defined and being set to 0.0 in labels with no predicted samples. Use `zero_division` parameter to control this behavior.\n",
      "\n",
      "C:\\Users\\grant\\anaconda3\\envs\\cmpt353finalproject\\lib\\site-packages\\sklearn\\metrics\\_classification.py:1221: UndefinedMetricWarning:\n",
      "\n",
      "Recall and F-score are ill-defined and being set to 0.0 in labels with no true samples. Use `zero_division` parameter to control this behavior.\n",
      "\n",
      "C:\\Users\\grant\\anaconda3\\envs\\cmpt353finalproject\\lib\\site-packages\\sklearn\\metrics\\_classification.py:1221: UndefinedMetricWarning:\n",
      "\n",
      "Precision and F-score are ill-defined and being set to 0.0 in labels with no predicted samples. Use `zero_division` parameter to control this behavior.\n",
      "\n",
      "C:\\Users\\grant\\anaconda3\\envs\\cmpt353finalproject\\lib\\site-packages\\sklearn\\metrics\\_classification.py:1221: UndefinedMetricWarning:\n",
      "\n",
      "Recall and F-score are ill-defined and being set to 0.0 in labels with no true samples. Use `zero_division` parameter to control this behavior.\n",
      "\n",
      "C:\\Users\\grant\\anaconda3\\envs\\cmpt353finalproject\\lib\\site-packages\\sklearn\\metrics\\_classification.py:1221: UndefinedMetricWarning:\n",
      "\n",
      "Precision and F-score are ill-defined and being set to 0.0 in labels with no predicted samples. Use `zero_division` parameter to control this behavior.\n",
      "\n",
      "C:\\Users\\grant\\anaconda3\\envs\\cmpt353finalproject\\lib\\site-packages\\sklearn\\metrics\\_classification.py:1221: UndefinedMetricWarning:\n",
      "\n",
      "Recall and F-score are ill-defined and being set to 0.0 in labels with no true samples. Use `zero_division` parameter to control this behavior.\n",
      "\n",
      "C:\\Users\\grant\\anaconda3\\envs\\cmpt353finalproject\\lib\\site-packages\\sklearn\\metrics\\_classification.py:1221: UndefinedMetricWarning:\n",
      "\n",
      "Precision and F-score are ill-defined and being set to 0.0 in labels with no predicted samples. Use `zero_division` parameter to control this behavior.\n",
      "\n",
      "C:\\Users\\grant\\anaconda3\\envs\\cmpt353finalproject\\lib\\site-packages\\sklearn\\metrics\\_classification.py:1221: UndefinedMetricWarning:\n",
      "\n",
      "Recall and F-score are ill-defined and being set to 0.0 in labels with no true samples. Use `zero_division` parameter to control this behavior.\n",
      "\n",
      "C:\\Users\\grant\\anaconda3\\envs\\cmpt353finalproject\\lib\\site-packages\\sklearn\\metrics\\_classification.py:1221: UndefinedMetricWarning:\n",
      "\n",
      "Precision and F-score are ill-defined and being set to 0.0 in labels with no predicted samples. Use `zero_division` parameter to control this behavior.\n",
      "\n",
      "C:\\Users\\grant\\anaconda3\\envs\\cmpt353finalproject\\lib\\site-packages\\sklearn\\metrics\\_classification.py:1221: UndefinedMetricWarning:\n",
      "\n",
      "Recall and F-score are ill-defined and being set to 0.0 in labels with no true samples. Use `zero_division` parameter to control this behavior.\n",
      "\n",
      "C:\\Users\\grant\\anaconda3\\envs\\cmpt353finalproject\\lib\\site-packages\\sklearn\\metrics\\_classification.py:1221: UndefinedMetricWarning:\n",
      "\n",
      "Precision and F-score are ill-defined and being set to 0.0 in labels with no predicted samples. Use `zero_division` parameter to control this behavior.\n",
      "\n",
      "C:\\Users\\grant\\anaconda3\\envs\\cmpt353finalproject\\lib\\site-packages\\sklearn\\metrics\\_classification.py:1221: UndefinedMetricWarning:\n",
      "\n",
      "Recall and F-score are ill-defined and being set to 0.0 in labels with no true samples. Use `zero_division` parameter to control this behavior.\n",
      "\n",
      "C:\\Users\\grant\\anaconda3\\envs\\cmpt353finalproject\\lib\\site-packages\\sklearn\\metrics\\_classification.py:1221: UndefinedMetricWarning:\n",
      "\n",
      "Precision and F-score are ill-defined and being set to 0.0 in labels with no predicted samples. Use `zero_division` parameter to control this behavior.\n",
      "\n",
      "C:\\Users\\grant\\anaconda3\\envs\\cmpt353finalproject\\lib\\site-packages\\sklearn\\metrics\\_classification.py:1221: UndefinedMetricWarning:\n",
      "\n",
      "Recall and F-score are ill-defined and being set to 0.0 in labels with no true samples. Use `zero_division` parameter to control this behavior.\n",
      "\n",
      "C:\\Users\\grant\\anaconda3\\envs\\cmpt353finalproject\\lib\\site-packages\\sklearn\\metrics\\_classification.py:1221: UndefinedMetricWarning:\n",
      "\n",
      "Precision and F-score are ill-defined and being set to 0.0 in labels with no predicted samples. Use `zero_division` parameter to control this behavior.\n",
      "\n",
      "C:\\Users\\grant\\anaconda3\\envs\\cmpt353finalproject\\lib\\site-packages\\sklearn\\metrics\\_classification.py:1221: UndefinedMetricWarning:\n",
      "\n",
      "Recall and F-score are ill-defined and being set to 0.0 in labels with no true samples. Use `zero_division` parameter to control this behavior.\n",
      "\n",
      "C:\\Users\\grant\\anaconda3\\envs\\cmpt353finalproject\\lib\\site-packages\\sklearn\\metrics\\_classification.py:1221: UndefinedMetricWarning:\n",
      "\n",
      "Precision and F-score are ill-defined and being set to 0.0 in labels with no predicted samples. Use `zero_division` parameter to control this behavior.\n",
      "\n",
      "C:\\Users\\grant\\anaconda3\\envs\\cmpt353finalproject\\lib\\site-packages\\sklearn\\metrics\\_classification.py:1221: UndefinedMetricWarning:\n",
      "\n",
      "Recall and F-score are ill-defined and being set to 0.0 in labels with no true samples. Use `zero_division` parameter to control this behavior.\n",
      "\n",
      "C:\\Users\\grant\\anaconda3\\envs\\cmpt353finalproject\\lib\\site-packages\\sklearn\\metrics\\_classification.py:1221: UndefinedMetricWarning:\n",
      "\n",
      "Precision and F-score are ill-defined and being set to 0.0 in labels with no predicted samples. Use `zero_division` parameter to control this behavior.\n",
      "\n",
      "C:\\Users\\grant\\anaconda3\\envs\\cmpt353finalproject\\lib\\site-packages\\sklearn\\metrics\\_classification.py:1221: UndefinedMetricWarning:\n",
      "\n",
      "Recall and F-score are ill-defined and being set to 0.0 in labels with no true samples. Use `zero_division` parameter to control this behavior.\n",
      "\n"
     ]
    }
   ],
   "source": [
    "#split data\n",
    "kf =KFold(n_splits =10)\n",
    "\n",
    "#create pipeline\n",
    "dt_model = make_pipeline(\n",
    "    tree.DecisionTreeClassifier()\n",
    ")\n",
    "\n",
    "#train model\n",
    "#dt_model.fit(X_train,y_train)\n",
    "iteration = 1\n",
    "macro_precision =0\n",
    "macro_recall =0\n",
    "for train_index, test_index in kf.split(X):\n",
    "    #split data\n",
    "    X_train, X_test = X.iloc[train_index], X.iloc[test_index]\n",
    "    y_train, y_test = y.iloc[train_index], y.iloc[test_index]\n",
    "    #train data\n",
    "    dt_model.fit(X_train,y_train)\n",
    "    y_predicted = dt_model.predict(X_test)\n",
    "    print('Iteration #',iteration,':')\n",
    "    iteration += 1\n",
    "    print(classification_report(y_test,y_predicted))\n",
    "    report = classification_report(y_test,y_predicted,output_dict=True)\n",
    "    macro_precision += report['macro avg']['precision']\n",
    "    macro_recall += report['macro avg']['recall']\n",
    "\n",
    "    # print scores to check overfiting\n",
    "    print('*******************')"
   ],
   "metadata": {
    "collapsed": false,
    "pycharm": {
     "name": "#%%\n"
    }
   }
  }
 ],
 "metadata": {
  "kernelspec": {
   "name": "pycharm-7cc73c60",
   "language": "python",
   "display_name": "PyCharm (cmpt353finalproject)"
  },
  "language_info": {
   "codemirror_mode": {
    "name": "ipython",
    "version": 3
   },
   "file_extension": ".py",
   "mimetype": "text/x-python",
   "name": "python",
   "nbconvert_exporter": "python",
   "pygments_lexer": "ipython3",
   "version": "3.8.3"
  }
 },
 "nbformat": 4,
 "nbformat_minor": 4
}