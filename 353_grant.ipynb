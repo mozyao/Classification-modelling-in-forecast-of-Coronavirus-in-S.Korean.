{
 "cells": [
  {
   "cell_type": "markdown",
   "source": [
    "#CMPT353 summer 2020\n",
    "#SFU\n",
    "#Course Project\n",
    "#Author: Wei Yao (yaoweiy@sfu.ca) Yiran Zhang(yza363@sfu.ca)\n",
    "#Dataset 1: Covid-19\n",
    "#Resource Ref: https://www.kaggle.com/kimjihoo/coronavirusdataset\n",
    "#Dataset 2: COVID19 Global Forecasting\n",
    "#Resource Ref: https://www.kaggle.com/c/covid19-global-forecasting-week-5"
   ],
   "metadata": {
    "collapsed": false
   }
  },
  {
   "cell_type": "code",
   "execution_count": 99,
   "outputs": [],
   "source": [
    "import numpy as np\n",
    "import pandas as pd\n",
    "import matplotlib.pyplot as plt\n",
    "import seaborn\n",
    "import plotly.express as px\n",
    "from sklearn.pipeline import make_pipeline\n",
    "from sklearn import tree\n",
    "from sklearn.metrics import classification_report\n",
    "from sklearn.model_selection import KFold"
   ],
   "metadata": {
    "collapsed": false,
    "pycharm": {
     "name": "#%%\n"
    }
   }
  },
  {
   "cell_type": "markdown",
   "source": [
    "# 1. Cases vs Time"
   ],
   "metadata": {
    "collapsed": false
   }
  },
  {
   "cell_type": "code",
   "execution_count": 100,
   "outputs": [],
   "source": [
    "time_count = pd.read_csv('Time.csv')"
   ],
   "metadata": {
    "collapsed": false,
    "pycharm": {
     "name": "#%%\n"
    }
   }
  },
  {
   "cell_type": "code",
   "execution_count": 101,
   "outputs": [
    {
     "data": {
      "text/plain": "         date  time  test  negative  confirmed  released  deceased\n0  2020-01-20    16     1         0          1         0         0\n1  2020-01-21    16     1         0          1         0         0\n2  2020-01-22    16     4         3          1         0         0\n3  2020-01-23    16    22        21          1         0         0\n4  2020-01-24    16    27        25          2         0         0",
      "text/html": "<div>\n<style scoped>\n    .dataframe tbody tr th:only-of-type {\n        vertical-align: middle;\n    }\n\n    .dataframe tbody tr th {\n        vertical-align: top;\n    }\n\n    .dataframe thead th {\n        text-align: right;\n    }\n</style>\n<table border=\"1\" class=\"dataframe\">\n  <thead>\n    <tr style=\"text-align: right;\">\n      <th></th>\n      <th>date</th>\n      <th>time</th>\n      <th>test</th>\n      <th>negative</th>\n      <th>confirmed</th>\n      <th>released</th>\n      <th>deceased</th>\n    </tr>\n  </thead>\n  <tbody>\n    <tr>\n      <th>0</th>\n      <td>2020-01-20</td>\n      <td>16</td>\n      <td>1</td>\n      <td>0</td>\n      <td>1</td>\n      <td>0</td>\n      <td>0</td>\n    </tr>\n    <tr>\n      <th>1</th>\n      <td>2020-01-21</td>\n      <td>16</td>\n      <td>1</td>\n      <td>0</td>\n      <td>1</td>\n      <td>0</td>\n      <td>0</td>\n    </tr>\n    <tr>\n      <th>2</th>\n      <td>2020-01-22</td>\n      <td>16</td>\n      <td>4</td>\n      <td>3</td>\n      <td>1</td>\n      <td>0</td>\n      <td>0</td>\n    </tr>\n    <tr>\n      <th>3</th>\n      <td>2020-01-23</td>\n      <td>16</td>\n      <td>22</td>\n      <td>21</td>\n      <td>1</td>\n      <td>0</td>\n      <td>0</td>\n    </tr>\n    <tr>\n      <th>4</th>\n      <td>2020-01-24</td>\n      <td>16</td>\n      <td>27</td>\n      <td>25</td>\n      <td>2</td>\n      <td>0</td>\n      <td>0</td>\n    </tr>\n  </tbody>\n</table>\n</div>"
     },
     "execution_count": 101,
     "metadata": {},
     "output_type": "execute_result"
    }
   ],
   "source": [
    "time_count.head()"
   ],
   "metadata": {
    "collapsed": false,
    "pycharm": {
     "name": "#%%\n"
    }
   }
  },
  {
   "cell_type": "code",
   "execution_count": 102,
   "outputs": [
    {
     "data": {
      "text/plain": "(163, 7)"
     },
     "execution_count": 102,
     "metadata": {},
     "output_type": "execute_result"
    }
   ],
   "source": [
    "time_count.shape\n"
   ],
   "metadata": {
    "collapsed": false,
    "pycharm": {
     "name": "#%%\n"
    }
   }
  },
  {
   "cell_type": "code",
   "execution_count": 103,
   "outputs": [
    {
     "data": {
      "text/plain": "           date     test  negative  confirmed  released  deceased\n0    2020-01-20        1         0          1         0         0\n1    2020-01-21        1         0          1         0         0\n2    2020-01-22        4         3          1         0         0\n3    2020-01-23       22        21          1         0         0\n4    2020-01-24       27        25          2         0         0\n..          ...      ...       ...        ...       ...       ...\n158  2020-06-26  1232315   1200885      12602     11172       282\n159  2020-06-27  1243780   1211261      12653     11317       282\n160  2020-06-28  1251695   1219975      12715     11364       282\n161  2020-06-29  1259954   1228698      12757     11429       282\n162  2020-06-30  1273766   1240157      12800     11537       282\n\n[163 rows x 6 columns]",
      "text/html": "<div>\n<style scoped>\n    .dataframe tbody tr th:only-of-type {\n        vertical-align: middle;\n    }\n\n    .dataframe tbody tr th {\n        vertical-align: top;\n    }\n\n    .dataframe thead th {\n        text-align: right;\n    }\n</style>\n<table border=\"1\" class=\"dataframe\">\n  <thead>\n    <tr style=\"text-align: right;\">\n      <th></th>\n      <th>date</th>\n      <th>test</th>\n      <th>negative</th>\n      <th>confirmed</th>\n      <th>released</th>\n      <th>deceased</th>\n    </tr>\n  </thead>\n  <tbody>\n    <tr>\n      <th>0</th>\n      <td>2020-01-20</td>\n      <td>1</td>\n      <td>0</td>\n      <td>1</td>\n      <td>0</td>\n      <td>0</td>\n    </tr>\n    <tr>\n      <th>1</th>\n      <td>2020-01-21</td>\n      <td>1</td>\n      <td>0</td>\n      <td>1</td>\n      <td>0</td>\n      <td>0</td>\n    </tr>\n    <tr>\n      <th>2</th>\n      <td>2020-01-22</td>\n      <td>4</td>\n      <td>3</td>\n      <td>1</td>\n      <td>0</td>\n      <td>0</td>\n    </tr>\n    <tr>\n      <th>3</th>\n      <td>2020-01-23</td>\n      <td>22</td>\n      <td>21</td>\n      <td>1</td>\n      <td>0</td>\n      <td>0</td>\n    </tr>\n    <tr>\n      <th>4</th>\n      <td>2020-01-24</td>\n      <td>27</td>\n      <td>25</td>\n      <td>2</td>\n      <td>0</td>\n      <td>0</td>\n    </tr>\n    <tr>\n      <th>...</th>\n      <td>...</td>\n      <td>...</td>\n      <td>...</td>\n      <td>...</td>\n      <td>...</td>\n      <td>...</td>\n    </tr>\n    <tr>\n      <th>158</th>\n      <td>2020-06-26</td>\n      <td>1232315</td>\n      <td>1200885</td>\n      <td>12602</td>\n      <td>11172</td>\n      <td>282</td>\n    </tr>\n    <tr>\n      <th>159</th>\n      <td>2020-06-27</td>\n      <td>1243780</td>\n      <td>1211261</td>\n      <td>12653</td>\n      <td>11317</td>\n      <td>282</td>\n    </tr>\n    <tr>\n      <th>160</th>\n      <td>2020-06-28</td>\n      <td>1251695</td>\n      <td>1219975</td>\n      <td>12715</td>\n      <td>11364</td>\n      <td>282</td>\n    </tr>\n    <tr>\n      <th>161</th>\n      <td>2020-06-29</td>\n      <td>1259954</td>\n      <td>1228698</td>\n      <td>12757</td>\n      <td>11429</td>\n      <td>282</td>\n    </tr>\n    <tr>\n      <th>162</th>\n      <td>2020-06-30</td>\n      <td>1273766</td>\n      <td>1240157</td>\n      <td>12800</td>\n      <td>11537</td>\n      <td>282</td>\n    </tr>\n  </tbody>\n</table>\n<p>163 rows × 6 columns</p>\n</div>"
     },
     "execution_count": 103,
     "metadata": {},
     "output_type": "execute_result"
    }
   ],
   "source": [
    "#drop null if any and delete the unnecessary column ['time']\n",
    "time_count.dropna()\n",
    "time_count.drop(columns=['time'])\n"
   ],
   "metadata": {
    "collapsed": false,
    "pycharm": {
     "name": "#%%\n"
    }
   }
  },
  {
   "cell_type": "code",
   "execution_count": 104,
   "outputs": [
    {
     "name": "stdout",
     "output_type": "stream",
     "text": [
      "         date  time  test  negative  confirmed  released  deceased\n",
      "0  2020-01-20    16     1         0          1         0         0\n",
      "1  2020-01-21    16     1         0          1         0         0\n",
      "2  2020-01-22    16     4         3          1         0         0\n",
      "3  2020-01-23    16    22        21          1         0         0\n",
      "4  2020-01-24    16    27        25          2         0         0\n"
     ]
    },
    {
     "data": {
      "text/plain": "<Figure size 864x288 with 1 Axes>",
      "image/png": "[encoded data removed]"
     },
     "metadata": {},
     "output_type": "display_data"
    }
   ],
   "source": [
    "print(time_count.head())\n",
    "plt.figure(figsize=(12, 4))\n",
    "plt.xticks(rotation=25)\n",
    "plt.title('COVID-19 Confirmed Cases  VS time in 2020 ')\n",
    "plt.xlabel('Time')\n",
    "plt.ylabel('Number of Confirmed Cases')\n",
    "plt.plot(time_count['date'],time_count['confirmed'])\n",
    "plt.show()"
   ],
   "metadata": {
    "collapsed": false,
    "pycharm": {
     "name": "#%%\n"
    }
   }
  },
  {
   "cell_type": "code",
   "execution_count": 105,
   "outputs": [
    {
     "data": {
      "text/plain": "<Figure size 864x288 with 1 Axes>",
      "image/png": "[encoded data removed]"
     },
     "metadata": {},
     "output_type": "display_data"
    }
   ],
   "source": [
    "# The x-axis looks wried, so I tried to modify the data timestamp to give a clear view again\n",
    "seaborn.set()\n",
    "time_count['date']=pd.to_datetime(time_count['date'],format = '%Y-%m-%d')\n",
    "\n",
    "plt.figure(figsize=(12, 4))\n",
    "plt.xticks(rotation=25)\n",
    "plt.title('COVID-19 Confirmed Cases  VS Time in 2020 ')\n",
    "plt.xlabel('Time')\n",
    "plt.ylabel('Number of Confirmed Cases')\n",
    "plt.plot(time_count['date'],time_count['confirmed'])\n",
    "plt.show()"
   ],
   "metadata": {
    "collapsed": false,
    "pycharm": {
     "name": "#%%\n"
    }
   }
  },
  {
   "cell_type": "code",
   "execution_count": 106,
   "outputs": [
    {
     "data": {
      "text/plain": "<Figure size 864x288 with 1 Axes>",
      "image/png": "[encoded data removed]"
     },
     "metadata": {},
     "output_type": "display_data"
    }
   ],
   "source": [
    "# Add more details into the cases ( negative and total tested cases)\n",
    "time_count['percentage'] =time_count['confirmed'] / time_count['test']\n",
    "plt.figure(figsize=(12, 4))\n",
    "plt.xticks(rotation=25)\n",
    "plt.title('COVID-19 Confirmed Cases  VS time in 2020 ')\n",
    "plt.xlabel('Time')\n",
    "plt.ylabel('Number of Confirmed Cases')\n",
    "plt.plot(time_count['date'],time_count['test']/80,'r.')\n",
    "plt.plot(time_count['date'],time_count['negative']/80,'g.')\n",
    "plt.plot(time_count['date'],time_count['confirmed'],'b.')\n",
    "plt.legend(['Total Tested','Negative','Confirmed(Positive)'])\n",
    "plt.show()"
   ],
   "metadata": {
    "collapsed": false,
    "pycharm": {
     "name": "#%%\n"
    }
   }
  },
  {
   "cell_type": "code",
   "execution_count": 107,
   "outputs": [
    {
     "data": {
      "text/plain": "<Figure size 864x288 with 1 Axes>",
      "image/png": "[encoded data removed]"
     },
     "metadata": {},
     "output_type": "display_data"
    }
   ],
   "source": [
    "# Percentage ratio of confirmed cases trends\n",
    "#print(time_count)\n",
    "plt.figure(figsize=(12, 4))\n",
    "plt.title('COVID-19 Confirmed Cases in Percentage  VS time in 2020 ')\n",
    "plt.xlabel('Time')\n",
    "plt.ylabel('Percentage of Positive/Total Tested')\n",
    "plt.plot(time_count['date'],time_count['percentage'])\n",
    "plt.show()"
   ],
   "metadata": {
    "collapsed": false,
    "pycharm": {
     "name": "#%%\n"
    }
   }
  },
  {
   "cell_type": "code",
   "execution_count": 108,
   "outputs": [
    {
     "data": {
      "text/plain": "<Figure size 936x504 with 1 Axes>",
      "image/png": "[encoded data removed]"
     },
     "metadata": {},
     "output_type": "display_data"
    }
   ],
   "source": [
    "color_list = ['#8DD3C7', '#FEFFB3', '#BFBBD9'\n",
    "              , '#FA8174', '#81B1D2', '#FDB462'\n",
    "              , '#B3DE69', '#BC82BD', '#CCEBC4']\n",
    "\n",
    "def plot_lines(data, column_list, column_max, title):\n",
    "    \"\"\"\n",
    "    FUCNTION\n",
    "        to show many plots with combinations of lines with consistent colors and legend\n",
    "        useful for plotting lines with different scales at once and then separately\n",
    "\n",
    "    RETURN\n",
    "        None\n",
    "    \"\"\"\n",
    "    for i in column_list:\n",
    "        fig, ax = plt.subplots(figsize=(13, 7))\n",
    "        plt.title(f'{title}', fontsize=17)\n",
    "        color_group = color_list[:-4][-(column_max-i):]\n",
    "        for test_each, color_each in zip(data.columns[i:column_max], color_group):\n",
    "            plt.plot(data.date, data[test_each]\n",
    "                     , label=test_each, color=color_each\n",
    "                    )\n",
    "            label=data[test_each]\n",
    "        ax.set_xticks(ax.get_xticks()[::int(len(data.date)/8)])\n",
    "        plt.xlabel('Date', size=13)\n",
    "        plt.ylabel('Number of cases', size=13)\n",
    "        ax.legend(loc='upper left')\n",
    "        plt.show()\n",
    "\n",
    "\n",
    "for col in time_count.columns[2:7]:\n",
    "    if col in [2, 4]:\n",
    "        new_dict = {0: 1}\n",
    "    else:\n",
    "        new_dict = {0: 0}\n",
    "    new_dict.update({ i : time_count[col][i] - time_count[col][i-1] for i in range(1, len(time_count)) })\n",
    "    time_count[f'new_{col}'] = new_dict.values()\n",
    "\n",
    "plot_lines(time_count, [7],12, 'Cumulative Cases')"
   ],
   "metadata": {
    "collapsed": false,
    "pycharm": {
     "name": "#%%\n"
    }
   }
  },
  {
   "cell_type": "markdown",
   "source": [
    "# 2. Case vs Age"
   ],
   "metadata": {
    "collapsed": false
   }
  },
  {
   "cell_type": "code",
   "execution_count": 109,
   "outputs": [],
   "source": [
    "data = pd.read_csv('PatientInfo.csv')"
   ],
   "metadata": {
    "collapsed": false,
    "pycharm": {
     "name": "#%%\n"
    }
   }
  },
  {
   "cell_type": "code",
   "execution_count": 110,
   "outputs": [
    {
     "data": {
      "text/plain": "   patient_id     sex  age country province         city  \\\n0  1000000001    male  50s   Korea    Seoul   Gangseo-gu   \n1  1000000002    male  30s   Korea    Seoul  Jungnang-gu   \n2  1000000003    male  50s   Korea    Seoul    Jongno-gu   \n3  1000000004    male  20s   Korea    Seoul      Mapo-gu   \n4  1000000005  female  20s   Korea    Seoul  Seongbuk-gu   \n\n         infection_case infected_by contact_number symptom_onset_date  \\\n0       overseas inflow         NaN             75         2020-01-22   \n1       overseas inflow         NaN             31                NaN   \n2  contact with patient  2002000001             17                NaN   \n3       overseas inflow         NaN              9         2020-01-26   \n4  contact with patient  1000000002              2                NaN   \n\n  confirmed_date released_date deceased_date     state  \n0     2020-01-23    2020-02-05           NaN  released  \n1     2020-01-30    2020-03-02           NaN  released  \n2     2020-01-30    2020-02-19           NaN  released  \n3     2020-01-30    2020-02-15           NaN  released  \n4     2020-01-31    2020-02-24           NaN  released  ",
      "text/html": "<div>\n<style scoped>\n    .dataframe tbody tr th:only-of-type {\n        vertical-align: middle;\n    }\n\n    .dataframe tbody tr th {\n        vertical-align: top;\n    }\n\n    .dataframe thead th {\n        text-align: right;\n    }\n</style>\n<table border=\"1\" class=\"dataframe\">\n  <thead>\n    <tr style=\"text-align: right;\">\n      <th></th>\n      <th>patient_id</th>\n      <th>sex</th>\n      <th>age</th>\n      <th>country</th>\n      <th>province</th>\n      <th>city</th>\n      <th>infection_case</th>\n      <th>infected_by</th>\n      <th>contact_number</th>\n      <th>symptom_onset_date</th>\n      <th>confirmed_date</th>\n      <th>released_date</th>\n      <th>deceased_date</th>\n      <th>state</th>\n    </tr>\n  </thead>\n  <tbody>\n    <tr>\n      <th>0</th>\n      <td>1000000001</td>\n      <td>male</td>\n      <td>50s</td>\n      <td>Korea</td>\n      <td>Seoul</td>\n      <td>Gangseo-gu</td>\n      <td>overseas inflow</td>\n      <td>NaN</td>\n      <td>75</td>\n      <td>2020-01-22</td>\n      <td>2020-01-23</td>\n      <td>2020-02-05</td>\n      <td>NaN</td>\n      <td>released</td>\n    </tr>\n    <tr>\n      <th>1</th>\n      <td>1000000002</td>\n      <td>male</td>\n      <td>30s</td>\n      <td>Korea</td>\n      <td>Seoul</td>\n      <td>Jungnang-gu</td>\n      <td>overseas inflow</td>\n      <td>NaN</td>\n      <td>31</td>\n      <td>NaN</td>\n      <td>2020-01-30</td>\n      <td>2020-03-02</td>\n      <td>NaN</td>\n      <td>released</td>\n    </tr>\n    <tr>\n      <th>2</th>\n      <td>1000000003</td>\n      <td>male</td>\n      <td>50s</td>\n      <td>Korea</td>\n      <td>Seoul</td>\n      <td>Jongno-gu</td>\n      <td>contact with patient</td>\n      <td>2002000001</td>\n      <td>17</td>\n      <td>NaN</td>\n      <td>2020-01-30</td>\n      <td>2020-02-19</td>\n      <td>NaN</td>\n      <td>released</td>\n    </tr>\n    <tr>\n      <th>3</th>\n      <td>1000000004</td>\n      <td>male</td>\n      <td>20s</td>\n      <td>Korea</td>\n      <td>Seoul</td>\n      <td>Mapo-gu</td>\n      <td>overseas inflow</td>\n      <td>NaN</td>\n      <td>9</td>\n      <td>2020-01-26</td>\n      <td>2020-01-30</td>\n      <td>2020-02-15</td>\n      <td>NaN</td>\n      <td>released</td>\n    </tr>\n    <tr>\n      <th>4</th>\n      <td>1000000005</td>\n      <td>female</td>\n      <td>20s</td>\n      <td>Korea</td>\n      <td>Seoul</td>\n      <td>Seongbuk-gu</td>\n      <td>contact with patient</td>\n      <td>1000000002</td>\n      <td>2</td>\n      <td>NaN</td>\n      <td>2020-01-31</td>\n      <td>2020-02-24</td>\n      <td>NaN</td>\n      <td>released</td>\n    </tr>\n  </tbody>\n</table>\n</div>"
     },
     "execution_count": 110,
     "metadata": {},
     "output_type": "execute_result"
    }
   ],
   "source": [
    "data.head()"
   ],
   "metadata": {
    "collapsed": false,
    "pycharm": {
     "name": "#%%\n"
    }
   }
  },
  {
   "cell_type": "code",
   "execution_count": 111,
   "outputs": [
    {
     "data": {
      "text/plain": "(5165, 14)"
     },
     "execution_count": 111,
     "metadata": {},
     "output_type": "execute_result"
    }
   ],
   "source": [
    "data.shape"
   ],
   "metadata": {
    "collapsed": false,
    "pycharm": {
     "name": "#%%\n"
    }
   }
  },
  {
   "cell_type": "code",
   "execution_count": 112,
   "outputs": [
    {
     "data": {
      "text/plain": "         sex  age\n0       male  50s\n1       male  30s\n2       male  50s\n3       male  20s\n4     female  20s\n...      ...  ...\n3739  female  20s\n3740    male  30s\n3741  female  20s\n3742  female  30s\n3743  female  30s\n\n[3744 rows x 2 columns]",
      "text/html": "<div>\n<style scoped>\n    .dataframe tbody tr th:only-of-type {\n        vertical-align: middle;\n    }\n\n    .dataframe tbody tr th {\n        vertical-align: top;\n    }\n\n    .dataframe thead th {\n        text-align: right;\n    }\n</style>\n<table border=\"1\" class=\"dataframe\">\n  <thead>\n    <tr style=\"text-align: right;\">\n      <th></th>\n      <th>sex</th>\n      <th>age</th>\n    </tr>\n  </thead>\n  <tbody>\n    <tr>\n      <th>0</th>\n      <td>male</td>\n      <td>50s</td>\n    </tr>\n    <tr>\n      <th>1</th>\n      <td>male</td>\n      <td>30s</td>\n    </tr>\n    <tr>\n      <th>2</th>\n      <td>male</td>\n      <td>50s</td>\n    </tr>\n    <tr>\n      <th>3</th>\n      <td>male</td>\n      <td>20s</td>\n    </tr>\n    <tr>\n      <th>4</th>\n      <td>female</td>\n      <td>20s</td>\n    </tr>\n    <tr>\n      <th>...</th>\n      <td>...</td>\n      <td>...</td>\n    </tr>\n    <tr>\n      <th>3739</th>\n      <td>female</td>\n      <td>20s</td>\n    </tr>\n    <tr>\n      <th>3740</th>\n      <td>male</td>\n      <td>30s</td>\n    </tr>\n    <tr>\n      <th>3741</th>\n      <td>female</td>\n      <td>20s</td>\n    </tr>\n    <tr>\n      <th>3742</th>\n      <td>female</td>\n      <td>30s</td>\n    </tr>\n    <tr>\n      <th>3743</th>\n      <td>female</td>\n      <td>30s</td>\n    </tr>\n  </tbody>\n</table>\n<p>3744 rows × 2 columns</p>\n</div>"
     },
     "execution_count": 112,
     "metadata": {},
     "output_type": "execute_result"
    }
   ],
   "source": [
    "# clean data: drop null if any and select necessary column ['sex','age']\n",
    "data = data[data['country'] == 'Korea']\n",
    "data = data[['sex', 'age']]\n",
    "data = data.dropna().reset_index(drop=True)\n",
    "data"
   ],
   "metadata": {
    "collapsed": false,
    "pycharm": {
     "name": "#%%\n"
    }
   }
  },
  {
   "cell_type": "markdown",
   "source": [
    "## 2.1. Male and Female Case vs Age"
   ],
   "metadata": {
    "collapsed": false
   }
  },
  {
   "cell_type": "code",
   "execution_count": 113,
   "outputs": [
    {
     "data": {
      "text/plain": "     age  counts\n0    20s     885\n1    50s     665\n2    40s     512\n3    30s     510\n4    60s     479\n5    70s     231\n6    10s     177\n7    80s     170\n8     0s      65\n9    90s      49\n10  100s       1",
      "text/html": "<div>\n<style scoped>\n    .dataframe tbody tr th:only-of-type {\n        vertical-align: middle;\n    }\n\n    .dataframe tbody tr th {\n        vertical-align: top;\n    }\n\n    .dataframe thead th {\n        text-align: right;\n    }\n</style>\n<table border=\"1\" class=\"dataframe\">\n  <thead>\n    <tr style=\"text-align: right;\">\n      <th></th>\n      <th>age</th>\n      <th>counts</th>\n    </tr>\n  </thead>\n  <tbody>\n    <tr>\n      <th>0</th>\n      <td>20s</td>\n      <td>885</td>\n    </tr>\n    <tr>\n      <th>1</th>\n      <td>50s</td>\n      <td>665</td>\n    </tr>\n    <tr>\n      <th>2</th>\n      <td>40s</td>\n      <td>512</td>\n    </tr>\n    <tr>\n      <th>3</th>\n      <td>30s</td>\n      <td>510</td>\n    </tr>\n    <tr>\n      <th>4</th>\n      <td>60s</td>\n      <td>479</td>\n    </tr>\n    <tr>\n      <th>5</th>\n      <td>70s</td>\n      <td>231</td>\n    </tr>\n    <tr>\n      <th>6</th>\n      <td>10s</td>\n      <td>177</td>\n    </tr>\n    <tr>\n      <th>7</th>\n      <td>80s</td>\n      <td>170</td>\n    </tr>\n    <tr>\n      <th>8</th>\n      <td>0s</td>\n      <td>65</td>\n    </tr>\n    <tr>\n      <th>9</th>\n      <td>90s</td>\n      <td>49</td>\n    </tr>\n    <tr>\n      <th>10</th>\n      <td>100s</td>\n      <td>1</td>\n    </tr>\n  </tbody>\n</table>\n</div>"
     },
     "execution_count": 113,
     "metadata": {},
     "output_type": "execute_result"
    }
   ],
   "source": [
    "age_count = pd.DataFrame(data['age'].value_counts())\n",
    "age_count.reset_index(level=0, inplace = True)\n",
    "age_count.columns = ['age', 'counts']\n",
    "age_count"
   ],
   "metadata": {
    "collapsed": false,
    "pycharm": {
     "name": "#%%\n"
    }
   }
  },
  {
   "cell_type": "code",
   "execution_count": 114,
   "outputs": [],
   "source": [
    "def str_to_int(age):\n",
    "    for i in range(0,age.shape[0]):\n",
    "        age[i] = int(age[i][:-1])"
   ],
   "metadata": {
    "collapsed": false,
    "pycharm": {
     "name": "#%%\n"
    }
   }
  },
  {
   "cell_type": "code",
   "execution_count": 115,
   "outputs": [
    {
     "name": "stderr",
     "output_type": "stream",
     "text": [
      "<ipython-input-114-604283338679>:3: SettingWithCopyWarning:\n",
      "\n",
      "\n",
      "A value is trying to be set on a copy of a slice from a DataFrame\n",
      "\n",
      "See the caveats in the documentation: https://pandas.pydata.org/pandas-docs/stable/user_guide/indexing.html#returning-a-view-versus-a-copy\n",
      "\n"
     ]
    }
   ],
   "source": [
    "# set age as int\n",
    "str_to_int(age_count['age'])"
   ],
   "metadata": {
    "collapsed": false,
    "pycharm": {
     "name": "#%%\n"
    }
   }
  },
  {
   "cell_type": "code",
   "execution_count": 116,
   "outputs": [
    {
     "data": {
      "text/plain": "    age  counts\n8     0      65\n6    10     177\n0    20     885\n3    30     510\n2    40     512\n1    50     665\n4    60     479\n5    70     231\n7    80     170\n9    90      49\n10  100       1",
      "text/html": "<div>\n<style scoped>\n    .dataframe tbody tr th:only-of-type {\n        vertical-align: middle;\n    }\n\n    .dataframe tbody tr th {\n        vertical-align: top;\n    }\n\n    .dataframe thead th {\n        text-align: right;\n    }\n</style>\n<table border=\"1\" class=\"dataframe\">\n  <thead>\n    <tr style=\"text-align: right;\">\n      <th></th>\n      <th>age</th>\n      <th>counts</th>\n    </tr>\n  </thead>\n  <tbody>\n    <tr>\n      <th>8</th>\n      <td>0</td>\n      <td>65</td>\n    </tr>\n    <tr>\n      <th>6</th>\n      <td>10</td>\n      <td>177</td>\n    </tr>\n    <tr>\n      <th>0</th>\n      <td>20</td>\n      <td>885</td>\n    </tr>\n    <tr>\n      <th>3</th>\n      <td>30</td>\n      <td>510</td>\n    </tr>\n    <tr>\n      <th>2</th>\n      <td>40</td>\n      <td>512</td>\n    </tr>\n    <tr>\n      <th>1</th>\n      <td>50</td>\n      <td>665</td>\n    </tr>\n    <tr>\n      <th>4</th>\n      <td>60</td>\n      <td>479</td>\n    </tr>\n    <tr>\n      <th>5</th>\n      <td>70</td>\n      <td>231</td>\n    </tr>\n    <tr>\n      <th>7</th>\n      <td>80</td>\n      <td>170</td>\n    </tr>\n    <tr>\n      <th>9</th>\n      <td>90</td>\n      <td>49</td>\n    </tr>\n    <tr>\n      <th>10</th>\n      <td>100</td>\n      <td>1</td>\n    </tr>\n  </tbody>\n</table>\n</div>"
     },
     "execution_count": 116,
     "metadata": {},
     "output_type": "execute_result"
    }
   ],
   "source": [
    "# sort age from 0 to 100\n",
    "age_count = age_count.sort_values('age')\n",
    "age_count"
   ],
   "metadata": {
    "collapsed": false,
    "pycharm": {
     "name": "#%%\n"
    }
   }
  },
  {
   "cell_type": "code",
   "execution_count": 117,
   "outputs": [
    {
     "data": {
      "text/plain": "<Figure size 864x288 with 1 Axes>",
      "image/png": "[encoded data removed]"
     },
     "metadata": {},
     "output_type": "display_data"
    }
   ],
   "source": [
    "plt.figure(figsize=(12, 4))\n",
    "plt.xticks(rotation=25)\n",
    "plt.title('COVID-19 Confirmed Cases VS Age in 2020')\n",
    "plt.xlabel('Age')\n",
    "plt.ylabel('Number of Confirmed Cases')\n",
    "plt.plot(age_count['age'],age_count['counts'])\n",
    "plt.show()"
   ],
   "metadata": {
    "collapsed": false,
    "pycharm": {
     "name": "#%%\n"
    }
   }
  },
  {
   "cell_type": "markdown",
   "source": [
    "## 2.2. Male Case vs Age"
   ],
   "metadata": {
    "collapsed": false
   }
  },
  {
   "cell_type": "code",
   "execution_count": 118,
   "outputs": [
    {
     "data": {
      "text/plain": "   age  counts\n0  20s     431\n1  30s     273\n2  50s     262\n3  60s     211\n4  40s     206\n5  10s     110\n6  70s      88\n7  80s      56\n8   0s      37\n9  90s      16",
      "text/html": "<div>\n<style scoped>\n    .dataframe tbody tr th:only-of-type {\n        vertical-align: middle;\n    }\n\n    .dataframe tbody tr th {\n        vertical-align: top;\n    }\n\n    .dataframe thead th {\n        text-align: right;\n    }\n</style>\n<table border=\"1\" class=\"dataframe\">\n  <thead>\n    <tr style=\"text-align: right;\">\n      <th></th>\n      <th>age</th>\n      <th>counts</th>\n    </tr>\n  </thead>\n  <tbody>\n    <tr>\n      <th>0</th>\n      <td>20s</td>\n      <td>431</td>\n    </tr>\n    <tr>\n      <th>1</th>\n      <td>30s</td>\n      <td>273</td>\n    </tr>\n    <tr>\n      <th>2</th>\n      <td>50s</td>\n      <td>262</td>\n    </tr>\n    <tr>\n      <th>3</th>\n      <td>60s</td>\n      <td>211</td>\n    </tr>\n    <tr>\n      <th>4</th>\n      <td>40s</td>\n      <td>206</td>\n    </tr>\n    <tr>\n      <th>5</th>\n      <td>10s</td>\n      <td>110</td>\n    </tr>\n    <tr>\n      <th>6</th>\n      <td>70s</td>\n      <td>88</td>\n    </tr>\n    <tr>\n      <th>7</th>\n      <td>80s</td>\n      <td>56</td>\n    </tr>\n    <tr>\n      <th>8</th>\n      <td>0s</td>\n      <td>37</td>\n    </tr>\n    <tr>\n      <th>9</th>\n      <td>90s</td>\n      <td>16</td>\n    </tr>\n  </tbody>\n</table>\n</div>"
     },
     "execution_count": 118,
     "metadata": {},
     "output_type": "execute_result"
    }
   ],
   "source": [
    "male_data = data[data['sex'] == 'male']\n",
    "male_age_count = pd.DataFrame(male_data['age'].value_counts())\n",
    "male_age_count.reset_index(level=0, inplace = True)\n",
    "male_age_count.columns = ['age', 'counts']\n",
    "male_age_count"
   ],
   "metadata": {
    "collapsed": false,
    "pycharm": {
     "name": "#%%\n"
    }
   }
  },
  {
   "cell_type": "code",
   "execution_count": 119,
   "outputs": [
    {
     "name": "stderr",
     "output_type": "stream",
     "text": [
      "<ipython-input-114-604283338679>:3: SettingWithCopyWarning:\n",
      "\n",
      "\n",
      "A value is trying to be set on a copy of a slice from a DataFrame\n",
      "\n",
      "See the caveats in the documentation: https://pandas.pydata.org/pandas-docs/stable/user_guide/indexing.html#returning-a-view-versus-a-copy\n",
      "\n"
     ]
    },
    {
     "data": {
      "text/plain": "  age  counts\n8   0      37\n5  10     110\n0  20     431\n1  30     273\n4  40     206\n2  50     262\n3  60     211\n6  70      88\n7  80      56\n9  90      16",
      "text/html": "<div>\n<style scoped>\n    .dataframe tbody tr th:only-of-type {\n        vertical-align: middle;\n    }\n\n    .dataframe tbody tr th {\n        vertical-align: top;\n    }\n\n    .dataframe thead th {\n        text-align: right;\n    }\n</style>\n<table border=\"1\" class=\"dataframe\">\n  <thead>\n    <tr style=\"text-align: right;\">\n      <th></th>\n      <th>age</th>\n      <th>counts</th>\n    </tr>\n  </thead>\n  <tbody>\n    <tr>\n      <th>8</th>\n      <td>0</td>\n      <td>37</td>\n    </tr>\n    <tr>\n      <th>5</th>\n      <td>10</td>\n      <td>110</td>\n    </tr>\n    <tr>\n      <th>0</th>\n      <td>20</td>\n      <td>431</td>\n    </tr>\n    <tr>\n      <th>1</th>\n      <td>30</td>\n      <td>273</td>\n    </tr>\n    <tr>\n      <th>4</th>\n      <td>40</td>\n      <td>206</td>\n    </tr>\n    <tr>\n      <th>2</th>\n      <td>50</td>\n      <td>262</td>\n    </tr>\n    <tr>\n      <th>3</th>\n      <td>60</td>\n      <td>211</td>\n    </tr>\n    <tr>\n      <th>6</th>\n      <td>70</td>\n      <td>88</td>\n    </tr>\n    <tr>\n      <th>7</th>\n      <td>80</td>\n      <td>56</td>\n    </tr>\n    <tr>\n      <th>9</th>\n      <td>90</td>\n      <td>16</td>\n    </tr>\n  </tbody>\n</table>\n</div>"
     },
     "execution_count": 119,
     "metadata": {},
     "output_type": "execute_result"
    }
   ],
   "source": [
    "# set age as int\n",
    "str_to_int(male_age_count['age'])\n",
    "# sort age from 0 to 90\n",
    "male_age_count = male_age_count.sort_values('age')\n",
    "male_age_count"
   ],
   "metadata": {
    "collapsed": false,
    "pycharm": {
     "name": "#%%\n"
    }
   }
  },
  {
   "cell_type": "code",
   "execution_count": 120,
   "outputs": [
    {
     "data": {
      "text/plain": "<Figure size 864x288 with 1 Axes>",
      "image/png": "[encoded data removed]"
     },
     "metadata": {},
     "output_type": "display_data"
    }
   ],
   "source": [
    "plt.figure(figsize=(12, 4))\n",
    "plt.xticks(rotation=25)\n",
    "plt.title('COVID-19 Confirmed Male Cases VS Age in 2020')\n",
    "plt.xlabel('Age')\n",
    "plt.ylabel('Number of Confirmed Cases')\n",
    "plt.plot(male_age_count['age'],male_age_count['counts'])\n",
    "plt.show()"
   ],
   "metadata": {
    "collapsed": false,
    "pycharm": {
     "name": "#%%\n"
    }
   }
  },
  {
   "cell_type": "markdown",
   "source": [
    "## 2.3. Female Case vs Age"
   ],
   "metadata": {
    "collapsed": false
   }
  },
  {
   "cell_type": "code",
   "execution_count": 121,
   "outputs": [
    {
     "data": {
      "text/plain": "     age  counts\n0    20s     454\n1    50s     403\n2    40s     306\n3    60s     268\n4    30s     237\n5    70s     143\n6    80s     114\n7    10s      67\n8    90s      33\n9     0s      28\n10  100s       1",
      "text/html": "<div>\n<style scoped>\n    .dataframe tbody tr th:only-of-type {\n        vertical-align: middle;\n    }\n\n    .dataframe tbody tr th {\n        vertical-align: top;\n    }\n\n    .dataframe thead th {\n        text-align: right;\n    }\n</style>\n<table border=\"1\" class=\"dataframe\">\n  <thead>\n    <tr style=\"text-align: right;\">\n      <th></th>\n      <th>age</th>\n      <th>counts</th>\n    </tr>\n  </thead>\n  <tbody>\n    <tr>\n      <th>0</th>\n      <td>20s</td>\n      <td>454</td>\n    </tr>\n    <tr>\n      <th>1</th>\n      <td>50s</td>\n      <td>403</td>\n    </tr>\n    <tr>\n      <th>2</th>\n      <td>40s</td>\n      <td>306</td>\n    </tr>\n    <tr>\n      <th>3</th>\n      <td>60s</td>\n      <td>268</td>\n    </tr>\n    <tr>\n      <th>4</th>\n      <td>30s</td>\n      <td>237</td>\n    </tr>\n    <tr>\n      <th>5</th>\n      <td>70s</td>\n      <td>143</td>\n    </tr>\n    <tr>\n      <th>6</th>\n      <td>80s</td>\n      <td>114</td>\n    </tr>\n    <tr>\n      <th>7</th>\n      <td>10s</td>\n      <td>67</td>\n    </tr>\n    <tr>\n      <th>8</th>\n      <td>90s</td>\n      <td>33</td>\n    </tr>\n    <tr>\n      <th>9</th>\n      <td>0s</td>\n      <td>28</td>\n    </tr>\n    <tr>\n      <th>10</th>\n      <td>100s</td>\n      <td>1</td>\n    </tr>\n  </tbody>\n</table>\n</div>"
     },
     "execution_count": 121,
     "metadata": {},
     "output_type": "execute_result"
    }
   ],
   "source": [
    "female_data = data[data['sex'] == 'female']\n",
    "female_age_count = pd.DataFrame(female_data['age'].value_counts())\n",
    "female_age_count.reset_index(level=0, inplace = True)\n",
    "female_age_count.columns = ['age', 'counts']\n",
    "female_age_count"
   ],
   "metadata": {
    "collapsed": false,
    "pycharm": {
     "name": "#%%\n"
    }
   }
  },
  {
   "cell_type": "code",
   "execution_count": 122,
   "outputs": [
    {
     "name": "stderr",
     "output_type": "stream",
     "text": [
      "<ipython-input-114-604283338679>:3: SettingWithCopyWarning:\n",
      "\n",
      "\n",
      "A value is trying to be set on a copy of a slice from a DataFrame\n",
      "\n",
      "See the caveats in the documentation: https://pandas.pydata.org/pandas-docs/stable/user_guide/indexing.html#returning-a-view-versus-a-copy\n",
      "\n"
     ]
    },
    {
     "data": {
      "text/plain": "    age  counts\n9     0      28\n7    10      67\n0    20     454\n4    30     237\n2    40     306\n1    50     403\n3    60     268\n5    70     143\n6    80     114\n8    90      33\n10  100       1",
      "text/html": "<div>\n<style scoped>\n    .dataframe tbody tr th:only-of-type {\n        vertical-align: middle;\n    }\n\n    .dataframe tbody tr th {\n        vertical-align: top;\n    }\n\n    .dataframe thead th {\n        text-align: right;\n    }\n</style>\n<table border=\"1\" class=\"dataframe\">\n  <thead>\n    <tr style=\"text-align: right;\">\n      <th></th>\n      <th>age</th>\n      <th>counts</th>\n    </tr>\n  </thead>\n  <tbody>\n    <tr>\n      <th>9</th>\n      <td>0</td>\n      <td>28</td>\n    </tr>\n    <tr>\n      <th>7</th>\n      <td>10</td>\n      <td>67</td>\n    </tr>\n    <tr>\n      <th>0</th>\n      <td>20</td>\n      <td>454</td>\n    </tr>\n    <tr>\n      <th>4</th>\n      <td>30</td>\n      <td>237</td>\n    </tr>\n    <tr>\n      <th>2</th>\n      <td>40</td>\n      <td>306</td>\n    </tr>\n    <tr>\n      <th>1</th>\n      <td>50</td>\n      <td>403</td>\n    </tr>\n    <tr>\n      <th>3</th>\n      <td>60</td>\n      <td>268</td>\n    </tr>\n    <tr>\n      <th>5</th>\n      <td>70</td>\n      <td>143</td>\n    </tr>\n    <tr>\n      <th>6</th>\n      <td>80</td>\n      <td>114</td>\n    </tr>\n    <tr>\n      <th>8</th>\n      <td>90</td>\n      <td>33</td>\n    </tr>\n    <tr>\n      <th>10</th>\n      <td>100</td>\n      <td>1</td>\n    </tr>\n  </tbody>\n</table>\n</div>"
     },
     "execution_count": 122,
     "metadata": {},
     "output_type": "execute_result"
    }
   ],
   "source": [
    "# set age as int\n",
    "str_to_int(female_age_count['age'])\n",
    "# sort age from 0 to 100\n",
    "female_age_count = female_age_count.sort_values('age')\n",
    "female_age_count"
   ],
   "metadata": {
    "collapsed": false,
    "pycharm": {
     "name": "#%%\n"
    }
   }
  },
  {
   "cell_type": "code",
   "execution_count": 123,
   "outputs": [
    {
     "data": {
      "text/plain": "<Figure size 864x288 with 1 Axes>",
      "image/png": "[encoded data removed]"
     },
     "metadata": {},
     "output_type": "display_data"
    }
   ],
   "source": [
    "plt.figure(figsize=(12, 4))\n",
    "plt.xticks(rotation=25)\n",
    "plt.title('COVID-19 Confirmed Female Cases VS Age in 2020')\n",
    "plt.xlabel('Age')\n",
    "plt.ylabel('Number of Confirmed Cases')\n",
    "plt.plot(female_age_count['age'],female_age_count['counts'])\n",
    "plt.show()"
   ],
   "metadata": {
    "collapsed": false,
    "pycharm": {
     "name": "#%%\n"
    }
   }
  },
  {
   "cell_type": "markdown",
   "source": [
    "## 2.4. Merge Into One Diagram"
   ],
   "metadata": {
    "collapsed": false
   }
  },
  {
   "cell_type": "code",
   "execution_count": 124,
   "outputs": [
    {
     "data": {
      "text/plain": "<Figure size 864x288 with 1 Axes>",
      "image/png": "[encoded data removed]"
     },
     "metadata": {},
     "output_type": "display_data"
    }
   ],
   "source": [
    "plt.figure(figsize=(12, 4))\n",
    "plt.xticks(rotation=25)\n",
    "plt.title('COVID-19 Confirmed Cases VS Age in 2020 ')\n",
    "plt.xlabel('Age')\n",
    "plt.ylabel('Number of Confirmed Cases')\n",
    "plt.plot(age_count['age'],age_count['counts'],'r')\n",
    "plt.plot(male_age_count['age'],male_age_count['counts'],'g')\n",
    "plt.plot(female_age_count['age'],female_age_count['counts'],'b')\n",
    "plt.legend(['Male & Female','Male','Female'])\n",
    "plt.show()"
   ],
   "metadata": {
    "collapsed": false,
    "pycharm": {
     "name": "#%%\n"
    }
   }
  },
  {
   "cell_type": "markdown",
   "source": [
    "## 2.5. The Proportion of Patients of All Ages was Compared"
   ],
   "metadata": {
    "collapsed": false
   }
  },
  {
   "cell_type": "code",
   "execution_count": 125,
   "outputs": [],
   "source": [
    "# sum the number of cases for three diff ways\n",
    "mf_case = age_count['counts'].sum()\n",
    "m_case = male_age_count['counts'].sum()\n",
    "f_case = female_age_count['counts'].sum()"
   ],
   "metadata": {
    "collapsed": false,
    "pycharm": {
     "name": "#%%\n"
    }
   }
  },
  {
   "cell_type": "code",
   "execution_count": 126,
   "outputs": [],
   "source": [
    "# both male and female\n",
    "age_count['proportion'] = (age_count['counts'] / mf_case) * 100\n",
    "age_count['proportion'] = age_count['proportion'].round(decimals=2)\n",
    "# male\n",
    "male_age_count['proportion'] = (age_count['counts'] / mf_case) * 100\n",
    "male_age_count['proportion'] = age_count['proportion'].round(decimals=2)\n",
    "# female\n",
    "female_age_count['proportion'] = (age_count['counts'] / mf_case) * 100\n",
    "female_age_count['proportion'] = age_count['proportion'].round(decimals=2)"
   ],
   "metadata": {
    "collapsed": false,
    "pycharm": {
     "name": "#%%\n"
    }
   }
  },
  {
   "cell_type": "code",
   "execution_count": 127,
   "outputs": [
    {
     "data": {
      "text/plain": "<Figure size 864x288 with 1 Axes>",
      "image/png": "[encoded data removed]"
     },
     "metadata": {},
     "output_type": "display_data"
    }
   ],
   "source": [
    "plt.figure(figsize=(12, 4))\n",
    "plt.xticks(rotation=25)\n",
    "plt.title('COVID-19 Proportion of Patients VS Age in 2020 (Line)')\n",
    "plt.xlabel('Age')\n",
    "plt.ylabel('The Proportion of Patients')\n",
    "plt.plot(age_count['age'],age_count['proportion'],'r')\n",
    "plt.plot(male_age_count['age'],male_age_count['proportion'],'g--')\n",
    "plt.plot(female_age_count['age'],female_age_count['proportion'],'b-.')\n",
    "plt.legend(['Male & Female','Male','Female'])\n",
    "plt.show()"
   ],
   "metadata": {
    "collapsed": false,
    "pycharm": {
     "name": "#%%\n"
    }
   }
  },
  {
   "cell_type": "code",
   "execution_count": 128,
   "outputs": [
    {
     "data": {
      "text/plain": "<Figure size 864x288 with 1 Axes>",
      "image/png": "[encoded data removed]"
     },
     "metadata": {},
     "output_type": "display_data"
    }
   ],
   "source": [
    "plt.figure(figsize=(12, 4))\n",
    "plt.xticks(rotation=25)\n",
    "plt.title('COVID-19 Proportion of Patients VS Age in 2020 (Dot)')\n",
    "plt.xlabel('Age')\n",
    "plt.ylabel('The Proportion of Patients')\n",
    "plt.plot(age_count['age'],age_count['proportion'],'r.')\n",
    "plt.plot(male_age_count['age'],male_age_count['proportion'],'g.')\n",
    "plt.plot(female_age_count['age'],female_age_count['proportion'],'b.')\n",
    "plt.legend(['Male & Female','Male','Female'])\n",
    "plt.show()"
   ],
   "metadata": {
    "collapsed": false,
    "pycharm": {
     "name": "#%%\n"
    }
   }
  },
  {
   "cell_type": "markdown",
   "source": [
    "# 3. Case vs City"
   ],
   "metadata": {
    "collapsed": false
   }
  },
  {
   "cell_type": "code",
   "execution_count": 175,
   "outputs": [
    {
     "data": {
      "text/plain": "   patient_id     sex  age country province         city  \\\n0  1000000001    male  50s   Korea    Seoul   Gangseo-gu   \n1  1000000002    male  30s   Korea    Seoul  Jungnang-gu   \n2  1000000003    male  50s   Korea    Seoul    Jongno-gu   \n3  1000000004    male  20s   Korea    Seoul      Mapo-gu   \n4  1000000005  female  20s   Korea    Seoul  Seongbuk-gu   \n\n         infection_case infected_by contact_number symptom_onset_date  \\\n0       overseas inflow         NaN             75         2020-01-22   \n1       overseas inflow         NaN             31                NaN   \n2  contact with patient  2002000001             17                NaN   \n3       overseas inflow         NaN              9         2020-01-26   \n4  contact with patient  1000000002              2                NaN   \n\n  confirmed_date released_date deceased_date     state  \n0     2020-01-23    2020-02-05           NaN  released  \n1     2020-01-30    2020-03-02           NaN  released  \n2     2020-01-30    2020-02-19           NaN  released  \n3     2020-01-30    2020-02-15           NaN  released  \n4     2020-01-31    2020-02-24           NaN  released  ",
      "text/html": "<div>\n<style scoped>\n    .dataframe tbody tr th:only-of-type {\n        vertical-align: middle;\n    }\n\n    .dataframe tbody tr th {\n        vertical-align: top;\n    }\n\n    .dataframe thead th {\n        text-align: right;\n    }\n</style>\n<table border=\"1\" class=\"dataframe\">\n  <thead>\n    <tr style=\"text-align: right;\">\n      <th></th>\n      <th>patient_id</th>\n      <th>sex</th>\n      <th>age</th>\n      <th>country</th>\n      <th>province</th>\n      <th>city</th>\n      <th>infection_case</th>\n      <th>infected_by</th>\n      <th>contact_number</th>\n      <th>symptom_onset_date</th>\n      <th>confirmed_date</th>\n      <th>released_date</th>\n      <th>deceased_date</th>\n      <th>state</th>\n    </tr>\n  </thead>\n  <tbody>\n    <tr>\n      <th>0</th>\n      <td>1000000001</td>\n      <td>male</td>\n      <td>50s</td>\n      <td>Korea</td>\n      <td>Seoul</td>\n      <td>Gangseo-gu</td>\n      <td>overseas inflow</td>\n      <td>NaN</td>\n      <td>75</td>\n      <td>2020-01-22</td>\n      <td>2020-01-23</td>\n      <td>2020-02-05</td>\n      <td>NaN</td>\n      <td>released</td>\n    </tr>\n    <tr>\n      <th>1</th>\n      <td>1000000002</td>\n      <td>male</td>\n      <td>30s</td>\n      <td>Korea</td>\n      <td>Seoul</td>\n      <td>Jungnang-gu</td>\n      <td>overseas inflow</td>\n      <td>NaN</td>\n      <td>31</td>\n      <td>NaN</td>\n      <td>2020-01-30</td>\n      <td>2020-03-02</td>\n      <td>NaN</td>\n      <td>released</td>\n    </tr>\n    <tr>\n      <th>2</th>\n      <td>1000000003</td>\n      <td>male</td>\n      <td>50s</td>\n      <td>Korea</td>\n      <td>Seoul</td>\n      <td>Jongno-gu</td>\n      <td>contact with patient</td>\n      <td>2002000001</td>\n      <td>17</td>\n      <td>NaN</td>\n      <td>2020-01-30</td>\n      <td>2020-02-19</td>\n      <td>NaN</td>\n      <td>released</td>\n    </tr>\n    <tr>\n      <th>3</th>\n      <td>1000000004</td>\n      <td>male</td>\n      <td>20s</td>\n      <td>Korea</td>\n      <td>Seoul</td>\n      <td>Mapo-gu</td>\n      <td>overseas inflow</td>\n      <td>NaN</td>\n      <td>9</td>\n      <td>2020-01-26</td>\n      <td>2020-01-30</td>\n      <td>2020-02-15</td>\n      <td>NaN</td>\n      <td>released</td>\n    </tr>\n    <tr>\n      <th>4</th>\n      <td>1000000005</td>\n      <td>female</td>\n      <td>20s</td>\n      <td>Korea</td>\n      <td>Seoul</td>\n      <td>Seongbuk-gu</td>\n      <td>contact with patient</td>\n      <td>1000000002</td>\n      <td>2</td>\n      <td>NaN</td>\n      <td>2020-01-31</td>\n      <td>2020-02-24</td>\n      <td>NaN</td>\n      <td>released</td>\n    </tr>\n  </tbody>\n</table>\n</div>"
     },
     "execution_count": 175,
     "metadata": {},
     "output_type": "execute_result"
    }
   ],
   "source": [
    "data = pd.read_csv('PatientInfo.csv')\n",
    "data.head()"
   ],
   "metadata": {
    "collapsed": false,
    "pycharm": {
     "name": "#%%\n"
    }
   }
  },
  {
   "cell_type": "code",
   "execution_count": 176,
   "outputs": [
    {
     "data": {
      "text/plain": "(5165, 14)"
     },
     "execution_count": 176,
     "metadata": {},
     "output_type": "execute_result"
    }
   ],
   "source": [
    "data.shape"
   ],
   "metadata": {
    "collapsed": false,
    "pycharm": {
     "name": "#%%\n"
    }
   }
  },
  {
   "cell_type": "code",
   "execution_count": 177,
   "outputs": [
    {
     "data": {
      "text/plain": "     province         city        infection_case\n0       Seoul   Gangseo-gu       overseas inflow\n1       Seoul  Jungnang-gu       overseas inflow\n2       Seoul    Jongno-gu  contact with patient\n3       Seoul      Mapo-gu       overseas inflow\n4       Seoul  Seongbuk-gu  contact with patient\n...       ...          ...                   ...\n3459  Jeju-do      Jeju-do  contact with patient\n3460  Jeju-do      Jeju-do       overseas inflow\n3461  Jeju-do      Jeju-do         Itaewon Clubs\n3462  Jeju-do      Jeju-do       overseas inflow\n3463  Jeju-do      Jeju-do       overseas inflow\n\n[3464 rows x 3 columns]",
      "text/html": "<div>\n<style scoped>\n    .dataframe tbody tr th:only-of-type {\n        vertical-align: middle;\n    }\n\n    .dataframe tbody tr th {\n        vertical-align: top;\n    }\n\n    .dataframe thead th {\n        text-align: right;\n    }\n</style>\n<table border=\"1\" class=\"dataframe\">\n  <thead>\n    <tr style=\"text-align: right;\">\n      <th></th>\n      <th>province</th>\n      <th>city</th>\n      <th>infection_case</th>\n    </tr>\n  </thead>\n  <tbody>\n    <tr>\n      <th>0</th>\n      <td>Seoul</td>\n      <td>Gangseo-gu</td>\n      <td>overseas inflow</td>\n    </tr>\n    <tr>\n      <th>1</th>\n      <td>Seoul</td>\n      <td>Jungnang-gu</td>\n      <td>overseas inflow</td>\n    </tr>\n    <tr>\n      <th>2</th>\n      <td>Seoul</td>\n      <td>Jongno-gu</td>\n      <td>contact with patient</td>\n    </tr>\n    <tr>\n      <th>3</th>\n      <td>Seoul</td>\n      <td>Mapo-gu</td>\n      <td>overseas inflow</td>\n    </tr>\n    <tr>\n      <th>4</th>\n      <td>Seoul</td>\n      <td>Seongbuk-gu</td>\n      <td>contact with patient</td>\n    </tr>\n    <tr>\n      <th>...</th>\n      <td>...</td>\n      <td>...</td>\n      <td>...</td>\n    </tr>\n    <tr>\n      <th>3459</th>\n      <td>Jeju-do</td>\n      <td>Jeju-do</td>\n      <td>contact with patient</td>\n    </tr>\n    <tr>\n      <th>3460</th>\n      <td>Jeju-do</td>\n      <td>Jeju-do</td>\n      <td>overseas inflow</td>\n    </tr>\n    <tr>\n      <th>3461</th>\n      <td>Jeju-do</td>\n      <td>Jeju-do</td>\n      <td>Itaewon Clubs</td>\n    </tr>\n    <tr>\n      <th>3462</th>\n      <td>Jeju-do</td>\n      <td>Jeju-do</td>\n      <td>overseas inflow</td>\n    </tr>\n    <tr>\n      <th>3463</th>\n      <td>Jeju-do</td>\n      <td>Jeju-do</td>\n      <td>overseas inflow</td>\n    </tr>\n  </tbody>\n</table>\n<p>3464 rows × 3 columns</p>\n</div>"
     },
     "execution_count": 177,
     "metadata": {},
     "output_type": "execute_result"
    }
   ],
   "source": [
    "# clean data: drop null if any and select necessary column ['sex','age']\n",
    "data = data[data['country'] == 'Korea']\n",
    "data = data[data['infection_case'] != 'etc']\n",
    "data = data[['province','city', 'infection_case']]\n",
    "data = data.dropna().reset_index(drop=True)\n",
    "data"
   ],
   "metadata": {
    "collapsed": false,
    "pycharm": {
     "name": "#%%\n"
    }
   }
  },
  {
   "cell_type": "markdown",
   "source": [
    "## 3.1. cases vs province"
   ],
   "metadata": {
    "collapsed": false,
    "pycharm": {
     "name": "#%% md\n"
    }
   }
  },
  {
   "cell_type": "code",
   "execution_count": 178,
   "outputs": [
    {
     "data": {
      "text/plain": "             province  counts\n0               Seoul    1118\n1         Gyeonggi-do    1062\n2             Incheon     326\n3    Gyeongsangbuk-do     276\n4   Chungcheongnam-do     145\n5               Busan     121\n6    Gyeongsangnam-do      96\n7             Daejeon      79\n8          Gangwon-do      47\n9               Ulsan      47\n10             Sejong      46\n11  Chungcheongbuk-do      36\n12              Daegu      20\n13       Jeollabuk-do      18\n14       Jeollanam-do      17\n15            Jeju-do      10",
      "text/html": "<div>\n<style scoped>\n    .dataframe tbody tr th:only-of-type {\n        vertical-align: middle;\n    }\n\n    .dataframe tbody tr th {\n        vertical-align: top;\n    }\n\n    .dataframe thead th {\n        text-align: right;\n    }\n</style>\n<table border=\"1\" class=\"dataframe\">\n  <thead>\n    <tr style=\"text-align: right;\">\n      <th></th>\n      <th>province</th>\n      <th>counts</th>\n    </tr>\n  </thead>\n  <tbody>\n    <tr>\n      <th>0</th>\n      <td>Seoul</td>\n      <td>1118</td>\n    </tr>\n    <tr>\n      <th>1</th>\n      <td>Gyeonggi-do</td>\n      <td>1062</td>\n    </tr>\n    <tr>\n      <th>2</th>\n      <td>Incheon</td>\n      <td>326</td>\n    </tr>\n    <tr>\n      <th>3</th>\n      <td>Gyeongsangbuk-do</td>\n      <td>276</td>\n    </tr>\n    <tr>\n      <th>4</th>\n      <td>Chungcheongnam-do</td>\n      <td>145</td>\n    </tr>\n    <tr>\n      <th>5</th>\n      <td>Busan</td>\n      <td>121</td>\n    </tr>\n    <tr>\n      <th>6</th>\n      <td>Gyeongsangnam-do</td>\n      <td>96</td>\n    </tr>\n    <tr>\n      <th>7</th>\n      <td>Daejeon</td>\n      <td>79</td>\n    </tr>\n    <tr>\n      <th>8</th>\n      <td>Gangwon-do</td>\n      <td>47</td>\n    </tr>\n    <tr>\n      <th>9</th>\n      <td>Ulsan</td>\n      <td>47</td>\n    </tr>\n    <tr>\n      <th>10</th>\n      <td>Sejong</td>\n      <td>46</td>\n    </tr>\n    <tr>\n      <th>11</th>\n      <td>Chungcheongbuk-do</td>\n      <td>36</td>\n    </tr>\n    <tr>\n      <th>12</th>\n      <td>Daegu</td>\n      <td>20</td>\n    </tr>\n    <tr>\n      <th>13</th>\n      <td>Jeollabuk-do</td>\n      <td>18</td>\n    </tr>\n    <tr>\n      <th>14</th>\n      <td>Jeollanam-do</td>\n      <td>17</td>\n    </tr>\n    <tr>\n      <th>15</th>\n      <td>Jeju-do</td>\n      <td>10</td>\n    </tr>\n  </tbody>\n</table>\n</div>"
     },
     "execution_count": 178,
     "metadata": {},
     "output_type": "execute_result"
    }
   ],
   "source": [
    "province_count = pd.DataFrame(data['province'].value_counts())\n",
    "province_count.reset_index(level=0, inplace=True)\n",
    "province_count.columns = ['province', 'counts']\n",
    "province_count"
   ],
   "metadata": {
    "collapsed": false,
    "pycharm": {
     "name": "#%%\n"
    }
   }
  },
  {
   "cell_type": "code",
   "execution_count": 179,
   "outputs": [
    {
     "data": {
      "application/vnd.plotly.v1+json": {
       "config": {
        "plotlyServerURL": "https://plot.ly"
       },
       "data": [
        {
         "domain": {
          "x": [
           0.0,
           1.0
          ],
          "y": [
           0.0,
           1.0
          ]
         },
         "hovertemplate": "province=%{label}<br>counts=%{value}<extra></extra>",
         "labels": [
          "Seoul",
          "Gyeonggi-do",
          "Incheon",
          "Gyeongsangbuk-do",
          "Chungcheongnam-do",
          "Busan",
          "Gyeongsangnam-do",
          "Daejeon",
          "Gangwon-do",
          "Ulsan",
          "Sejong",
          "Chungcheongbuk-do",
          "Daegu",
          "Jeollabuk-do",
          "Jeollanam-do",
          "Jeju-do"
         ],
         "legendgroup": "",
         "name": "",
         "showlegend": true,
         "textposition": "inside",
         "type": "pie",
         "values": [
          1118,
          1062,
          326,
          276,
          145,
          121,
          96,
          79,
          47,
          47,
          46,
          36,
          20,
          18,
          17,
          10
         ]
        }
       ],
       "layout": {
        "legend": {
         "tracegroupgap": 0
        },
        "margin": {
         "t": 60
        },
        "template": {
         "data": {
          "bar": [
           {
            "error_x": {
             "color": "#2a3f5f"
            },
            "error_y": {
             "color": "#2a3f5f"
            },
            "marker": {
             "line": {
              "color": "#E5ECF6",
              "width": 0.5
             }
            },
            "type": "bar"
           }
          ],
          "barpolar": [
           {
            "marker": {
             "line": {
              "color": "#E5ECF6",
              "width": 0.5
             }
            },
            "type": "barpolar"
           }
          ],
          "carpet": [
           {
            "aaxis": {
             "endlinecolor": "#2a3f5f",
             "gridcolor": "white",
             "linecolor": "white",
             "minorgridcolor": "white",
             "startlinecolor": "#2a3f5f"
            },
            "baxis": {
             "endlinecolor": "#2a3f5f",
             "gridcolor": "white",
             "linecolor": "white",
             "minorgridcolor": "white",
             "startlinecolor": "#2a3f5f"
            },
            "type": "carpet"
           }
          ],
          "choropleth": [
           {
            "colorbar": {
             "outlinewidth": 0,
             "ticks": ""
            },
            "type": "choropleth"
           }
          ],
          "contour": [
           {
            "colorbar": {
             "outlinewidth": 0,
             "ticks": ""
            },
            "colorscale": [
             [
              0.0,
              "#0d0887"
             ],
             [
              0.1111111111111111,
              "#46039f"
             ],
             [
              0.2222222222222222,
              "#7201a8"
             ],
             [
              0.3333333333333333,
              "#9c179e"
             ],
             [
              0.4444444444444444,
              "#bd3786"
             ],
             [
              0.5555555555555556,
              "#d8576b"
             ],
             [
              0.6666666666666666,
              "#ed7953"
             ],
             [
              0.7777777777777778,
              "#fb9f3a"
             ],
             [
              0.8888888888888888,
              "#fdca26"
             ],
             [
              1.0,
              "#f0f921"
             ]
            ],
            "type": "contour"
           }
          ],
          "contourcarpet": [
           {
            "colorbar": {
             "outlinewidth": 0,
             "ticks": ""
            },
            "type": "contourcarpet"
           }
          ],
          "heatmap": [
           {
            "colorbar": {
             "outlinewidth": 0,
             "ticks": ""
            },
            "colorscale": [
             [
              0.0,
              "#0d0887"
             ],
             [
              0.1111111111111111,
              "#46039f"
             ],
             [
              0.2222222222222222,
              "#7201a8"
             ],
             [
              0.3333333333333333,
              "#9c179e"
             ],
             [
              0.4444444444444444,
              "#bd3786"
             ],
             [
              0.5555555555555556,
              "#d8576b"
             ],
             [
              0.6666666666666666,
              "#ed7953"
             ],
             [
              0.7777777777777778,
              "#fb9f3a"
             ],
             [
              0.8888888888888888,
              "#fdca26"
             ],
             [
              1.0,
              "#f0f921"
             ]
            ],
            "type": "heatmap"
           }
          ],
          "heatmapgl": [
           {
            "colorbar": {
             "outlinewidth": 0,
             "ticks": ""
            },
            "colorscale": [
             [
              0.0,
              "#0d0887"
             ],
             [
              0.1111111111111111,
              "#46039f"
             ],
             [
              0.2222222222222222,
              "#7201a8"
             ],
             [
              0.3333333333333333,
              "#9c179e"
             ],
             [
              0.4444444444444444,
              "#bd3786"
             ],
             [
              0.5555555555555556,
              "#d8576b"
             ],
             [
              0.6666666666666666,
              "#ed7953"
             ],
             [
              0.7777777777777778,
              "#fb9f3a"
             ],
             [
              0.8888888888888888,
              "#fdca26"
             ],
             [
              1.0,
              "#f0f921"
             ]
            ],
            "type": "heatmapgl"
           }
          ],
          "histogram": [
           {
            "marker": {
             "colorbar": {
              "outlinewidth": 0,
              "ticks": ""
             }
            },
            "type": "histogram"
           }
          ],
          "histogram2d": [
           {
            "colorbar": {
             "outlinewidth": 0,
             "ticks": ""
            },
            "colorscale": [
             [
              0.0,
              "#0d0887"
             ],
             [
              0.1111111111111111,
              "#46039f"
             ],
             [
              0.2222222222222222,
              "#7201a8"
             ],
             [
              0.3333333333333333,
              "#9c179e"
             ],
             [
              0.4444444444444444,
              "#bd3786"
             ],
             [
              0.5555555555555556,
              "#d8576b"
             ],
             [
              0.6666666666666666,
              "#ed7953"
             ],
             [
              0.7777777777777778,
              "#fb9f3a"
             ],
             [
              0.8888888888888888,
              "#fdca26"
             ],
             [
              1.0,
              "#f0f921"
             ]
            ],
            "type": "histogram2d"
           }
          ],
          "histogram2dcontour": [
           {
            "colorbar": {
             "outlinewidth": 0,
             "ticks": ""
            },
            "colorscale": [
             [
              0.0,
              "#0d0887"
             ],
             [
              0.1111111111111111,
              "#46039f"
             ],
             [
              0.2222222222222222,
              "#7201a8"
             ],
             [
              0.3333333333333333,
              "#9c179e"
             ],
             [
              0.4444444444444444,
              "#bd3786"
             ],
             [
              0.5555555555555556,
              "#d8576b"
             ],
             [
              0.6666666666666666,
              "#ed7953"
             ],
             [
              0.7777777777777778,
              "#fb9f3a"
             ],
             [
              0.8888888888888888,
              "#fdca26"
             ],
             [
              1.0,
              "#f0f921"
             ]
            ],
            "type": "histogram2dcontour"
           }
          ],
          "mesh3d": [
           {
            "colorbar": {
             "outlinewidth": 0,
             "ticks": ""
            },
            "type": "mesh3d"
           }
          ],
          "parcoords": [
           {
            "line": {
             "colorbar": {
              "outlinewidth": 0,
              "ticks": ""
             }
            },
            "type": "parcoords"
           }
          ],
          "pie": [
           {
            "automargin": true,
            "type": "pie"
           }
          ],
          "scatter": [
           {
            "marker": {
             "colorbar": {
              "outlinewidth": 0,
              "ticks": ""
             }
            },
            "type": "scatter"
           }
          ],
          "scatter3d": [
           {
            "line": {
             "colorbar": {
              "outlinewidth": 0,
              "ticks": ""
             }
            },
            "marker": {
             "colorbar": {
              "outlinewidth": 0,
              "ticks": ""
             }
            },
            "type": "scatter3d"
           }
          ],
          "scattercarpet": [
           {
            "marker": {
             "colorbar": {
              "outlinewidth": 0,
              "ticks": ""
             }
            },
            "type": "scattercarpet"
           }
          ],
          "scattergeo": [
           {
            "marker": {
             "colorbar": {
              "outlinewidth": 0,
              "ticks": ""
             }
            },
            "type": "scattergeo"
           }
          ],
          "scattergl": [
           {
            "marker": {
             "colorbar": {
              "outlinewidth": 0,
              "ticks": ""
             }
            },
            "type": "scattergl"
           }
          ],
          "scattermapbox": [
           {
            "marker": {
             "colorbar": {
              "outlinewidth": 0,
              "ticks": ""
             }
            },
            "type": "scattermapbox"
           }
          ],
          "scatterpolar": [
           {
            "marker": {
             "colorbar": {
              "outlinewidth": 0,
              "ticks": ""
             }
            },
            "type": "scatterpolar"
           }
          ],
          "scatterpolargl": [
           {
            "marker": {
             "colorbar": {
              "outlinewidth": 0,
              "ticks": ""
             }
            },
            "type": "scatterpolargl"
           }
          ],
          "scatterternary": [
           {
            "marker": {
             "colorbar": {
              "outlinewidth": 0,
              "ticks": ""
             }
            },
            "type": "scatterternary"
           }
          ],
          "surface": [
           {
            "colorbar": {
             "outlinewidth": 0,
             "ticks": ""
            },
            "colorscale": [
             [
              0.0,
              "#0d0887"
             ],
             [
              0.1111111111111111,
              "#46039f"
             ],
             [
              0.2222222222222222,
              "#7201a8"
             ],
             [
              0.3333333333333333,
              "#9c179e"
             ],
             [
              0.4444444444444444,
              "#bd3786"
             ],
             [
              0.5555555555555556,
              "#d8576b"
             ],
             [
              0.6666666666666666,
              "#ed7953"
             ],
             [
              0.7777777777777778,
              "#fb9f3a"
             ],
             [
              0.8888888888888888,
              "#fdca26"
             ],
             [
              1.0,
              "#f0f921"
             ]
            ],
            "type": "surface"
           }
          ],
          "table": [
           {
            "cells": {
             "fill": {
              "color": "#EBF0F8"
             },
             "line": {
              "color": "white"
             }
            },
            "header": {
             "fill": {
              "color": "#C8D4E3"
             },
             "line": {
              "color": "white"
             }
            },
            "type": "table"
           }
          ]
         },
         "layout": {
          "annotationdefaults": {
           "arrowcolor": "#2a3f5f",
           "arrowhead": 0,
           "arrowwidth": 1
          },
          "coloraxis": {
           "colorbar": {
            "outlinewidth": 0,
            "ticks": ""
           }
          },
          "colorscale": {
           "diverging": [
            [
             0,
             "#8e0152"
            ],
            [
             0.1,
             "#c51b7d"
            ],
            [
             0.2,
             "#de77ae"
            ],
            [
             0.3,
             "#f1b6da"
            ],
            [
             0.4,
             "#fde0ef"
            ],
            [
             0.5,
             "#f7f7f7"
            ],
            [
             0.6,
             "#e6f5d0"
            ],
            [
             0.7,
             "#b8e186"
            ],
            [
             0.8,
             "#7fbc41"
            ],
            [
             0.9,
             "#4d9221"
            ],
            [
             1,
             "#276419"
            ]
           ],
           "sequential": [
            [
             0.0,
             "#0d0887"
            ],
            [
             0.1111111111111111,
             "#46039f"
            ],
            [
             0.2222222222222222,
             "#7201a8"
            ],
            [
             0.3333333333333333,
             "#9c179e"
            ],
            [
             0.4444444444444444,
             "#bd3786"
            ],
            [
             0.5555555555555556,
             "#d8576b"
            ],
            [
             0.6666666666666666,
             "#ed7953"
            ],
            [
             0.7777777777777778,
             "#fb9f3a"
            ],
            [
             0.8888888888888888,
             "#fdca26"
            ],
            [
             1.0,
             "#f0f921"
            ]
           ],
           "sequentialminus": [
            [
             0.0,
             "#0d0887"
            ],
            [
             0.1111111111111111,
             "#46039f"
            ],
            [
             0.2222222222222222,
             "#7201a8"
            ],
            [
             0.3333333333333333,
             "#9c179e"
            ],
            [
             0.4444444444444444,
             "#bd3786"
            ],
            [
             0.5555555555555556,
             "#d8576b"
            ],
            [
             0.6666666666666666,
             "#ed7953"
            ],
            [
             0.7777777777777778,
             "#fb9f3a"
            ],
            [
             0.8888888888888888,
             "#fdca26"
            ],
            [
             1.0,
             "#f0f921"
            ]
           ]
          },
          "colorway": [
           "#636efa",
           "#EF553B",
           "#00cc96",
           "#ab63fa",
           "#FFA15A",
           "#19d3f3",
           "#FF6692",
           "#B6E880",
           "#FF97FF",
           "#FECB52"
          ],
          "font": {
           "color": "#2a3f5f"
          },
          "geo": {
           "bgcolor": "white",
           "lakecolor": "white",
           "landcolor": "#E5ECF6",
           "showlakes": true,
           "showland": true,
           "subunitcolor": "white"
          },
          "hoverlabel": {
           "align": "left"
          },
          "hovermode": "closest",
          "mapbox": {
           "style": "light"
          },
          "paper_bgcolor": "white",
          "plot_bgcolor": "#E5ECF6",
          "polar": {
           "angularaxis": {
            "gridcolor": "white",
            "linecolor": "white",
            "ticks": ""
           },
           "bgcolor": "#E5ECF6",
           "radialaxis": {
            "gridcolor": "white",
            "linecolor": "white",
            "ticks": ""
           }
          },
          "scene": {
           "xaxis": {
            "backgroundcolor": "#E5ECF6",
            "gridcolor": "white",
            "gridwidth": 2,
            "linecolor": "white",
            "showbackground": true,
            "ticks": "",
            "zerolinecolor": "white"
           },
           "yaxis": {
            "backgroundcolor": "#E5ECF6",
            "gridcolor": "white",
            "gridwidth": 2,
            "linecolor": "white",
            "showbackground": true,
            "ticks": "",
            "zerolinecolor": "white"
           },
           "zaxis": {
            "backgroundcolor": "#E5ECF6",
            "gridcolor": "white",
            "gridwidth": 2,
            "linecolor": "white",
            "showbackground": true,
            "ticks": "",
            "zerolinecolor": "white"
           }
          },
          "shapedefaults": {
           "line": {
            "color": "#2a3f5f"
           }
          },
          "ternary": {
           "aaxis": {
            "gridcolor": "white",
            "linecolor": "white",
            "ticks": ""
           },
           "baxis": {
            "gridcolor": "white",
            "linecolor": "white",
            "ticks": ""
           },
           "bgcolor": "#E5ECF6",
           "caxis": {
            "gridcolor": "white",
            "linecolor": "white",
            "ticks": ""
           }
          },
          "title": {
           "x": 0.05
          },
          "xaxis": {
           "automargin": true,
           "gridcolor": "white",
           "linecolor": "white",
           "ticks": "",
           "title": {
            "standoff": 15
           },
           "zerolinecolor": "white",
           "zerolinewidth": 2
          },
          "yaxis": {
           "automargin": true,
           "gridcolor": "white",
           "linecolor": "white",
           "ticks": "",
           "title": {
            "standoff": 15
           },
           "zerolinecolor": "white",
           "zerolinewidth": 2
          }
         }
        },
        "uniformtext": {
         "minsize": 12,
         "mode": "hide"
        }
       }
      },
      "text/html": "<div>\n        \n        \n            <div id=\"78c604de-e61f-4881-af43-dc1233aa5ad0\" class=\"plotly-graph-div\" style=\"height:525px; width:100%;\"></div>\n            <script type=\"text/javascript\">\n                require([\"plotly\"], function(Plotly) {\n                    window.PLOTLYENV=window.PLOTLYENV || {};\n                    \n                if (document.getElementById(\"78c604de-e61f-4881-af43-dc1233aa5ad0\")) {\n                    Plotly.newPlot(\n                        '78c604de-e61f-4881-af43-dc1233aa5ad0',\n                        [{\"domain\": {\"x\": [0.0, 1.0], \"y\": [0.0, 1.0]}, \"hovertemplate\": \"province=%{label}<br>counts=%{value}<extra></extra>\", \"labels\": [\"Seoul\", \"Gyeonggi-do\", \"Incheon\", \"Gyeongsangbuk-do\", \"Chungcheongnam-do\", \"Busan\", \"Gyeongsangnam-do\", \"Daejeon\", \"Gangwon-do\", \"Ulsan\", \"Sejong\", \"Chungcheongbuk-do\", \"Daegu\", \"Jeollabuk-do\", \"Jeollanam-do\", \"Jeju-do\"], \"legendgroup\": \"\", \"name\": \"\", \"showlegend\": true, \"textposition\": \"inside\", \"type\": \"pie\", \"values\": [1118, 1062, 326, 276, 145, 121, 96, 79, 47, 47, 46, 36, 20, 18, 17, 10]}],\n                        {\"legend\": {\"tracegroupgap\": 0}, \"margin\": {\"t\": 60}, \"template\": {\"data\": {\"bar\": [{\"error_x\": {\"color\": \"#2a3f5f\"}, \"error_y\": {\"color\": \"#2a3f5f\"}, \"marker\": {\"line\": {\"color\": \"#E5ECF6\", \"width\": 0.5}}, \"type\": \"bar\"}], \"barpolar\": [{\"marker\": {\"line\": {\"color\": \"#E5ECF6\", \"width\": 0.5}}, \"type\": \"barpolar\"}], \"carpet\": [{\"aaxis\": {\"endlinecolor\": \"#2a3f5f\", \"gridcolor\": \"white\", \"linecolor\": \"white\", \"minorgridcolor\": \"white\", \"startlinecolor\": \"#2a3f5f\"}, \"baxis\": {\"endlinecolor\": \"#2a3f5f\", \"gridcolor\": \"white\", \"linecolor\": \"white\", \"minorgridcolor\": \"white\", \"startlinecolor\": \"#2a3f5f\"}, \"type\": \"carpet\"}], \"choropleth\": [{\"colorbar\": {\"outlinewidth\": 0, \"ticks\": \"\"}, \"type\": \"choropleth\"}], \"contour\": [{\"colorbar\": {\"outlinewidth\": 0, \"ticks\": \"\"}, \"colorscale\": [[0.0, \"#0d0887\"], [0.1111111111111111, \"#46039f\"], [0.2222222222222222, \"#7201a8\"], [0.3333333333333333, \"#9c179e\"], [0.4444444444444444, \"#bd3786\"], [0.5555555555555556, \"#d8576b\"], [0.6666666666666666, \"#ed7953\"], [0.7777777777777778, \"#fb9f3a\"], [0.8888888888888888, \"#fdca26\"], [1.0, \"#f0f921\"]], \"type\": \"contour\"}], \"contourcarpet\": [{\"colorbar\": {\"outlinewidth\": 0, \"ticks\": \"\"}, \"type\": \"contourcarpet\"}], \"heatmap\": [{\"colorbar\": {\"outlinewidth\": 0, \"ticks\": \"\"}, \"colorscale\": [[0.0, \"#0d0887\"], [0.1111111111111111, \"#46039f\"], [0.2222222222222222, \"#7201a8\"], [0.3333333333333333, \"#9c179e\"], [0.4444444444444444, \"#bd3786\"], [0.5555555555555556, \"#d8576b\"], [0.6666666666666666, \"#ed7953\"], [0.7777777777777778, \"#fb9f3a\"], [0.8888888888888888, \"#fdca26\"], [1.0, \"#f0f921\"]], \"type\": \"heatmap\"}], \"heatmapgl\": [{\"colorbar\": {\"outlinewidth\": 0, \"ticks\": \"\"}, \"colorscale\": [[0.0, \"#0d0887\"], [0.1111111111111111, \"#46039f\"], [0.2222222222222222, \"#7201a8\"], [0.3333333333333333, \"#9c179e\"], [0.4444444444444444, \"#bd3786\"], [0.5555555555555556, \"#d8576b\"], [0.6666666666666666, \"#ed7953\"], [0.7777777777777778, \"#fb9f3a\"], [0.8888888888888888, \"#fdca26\"], [1.0, \"#f0f921\"]], \"type\": \"heatmapgl\"}], \"histogram\": [{\"marker\": {\"colorbar\": {\"outlinewidth\": 0, \"ticks\": \"\"}}, \"type\": \"histogram\"}], \"histogram2d\": [{\"colorbar\": {\"outlinewidth\": 0, \"ticks\": \"\"}, \"colorscale\": [[0.0, \"#0d0887\"], [0.1111111111111111, \"#46039f\"], [0.2222222222222222, \"#7201a8\"], [0.3333333333333333, \"#9c179e\"], [0.4444444444444444, \"#bd3786\"], [0.5555555555555556, \"#d8576b\"], [0.6666666666666666, \"#ed7953\"], [0.7777777777777778, \"#fb9f3a\"], [0.8888888888888888, \"#fdca26\"], [1.0, \"#f0f921\"]], \"type\": \"histogram2d\"}], \"histogram2dcontour\": [{\"colorbar\": {\"outlinewidth\": 0, \"ticks\": \"\"}, \"colorscale\": [[0.0, \"#0d0887\"], [0.1111111111111111, \"#46039f\"], [0.2222222222222222, \"#7201a8\"], [0.3333333333333333, \"#9c179e\"], [0.4444444444444444, \"#bd3786\"], [0.5555555555555556, \"#d8576b\"], [0.6666666666666666, \"#ed7953\"], [0.7777777777777778, \"#fb9f3a\"], [0.8888888888888888, \"#fdca26\"], [1.0, \"#f0f921\"]], \"type\": \"histogram2dcontour\"}], \"mesh3d\": [{\"colorbar\": {\"outlinewidth\": 0, \"ticks\": \"\"}, \"type\": \"mesh3d\"}], \"parcoords\": [{\"line\": {\"colorbar\": {\"outlinewidth\": 0, \"ticks\": \"\"}}, \"type\": \"parcoords\"}], \"pie\": [{\"automargin\": true, \"type\": \"pie\"}], \"scatter\": [{\"marker\": {\"colorbar\": {\"outlinewidth\": 0, \"ticks\": \"\"}}, \"type\": \"scatter\"}], \"scatter3d\": [{\"line\": {\"colorbar\": {\"outlinewidth\": 0, \"ticks\": \"\"}}, \"marker\": {\"colorbar\": {\"outlinewidth\": 0, \"ticks\": \"\"}}, \"type\": \"scatter3d\"}], \"scattercarpet\": [{\"marker\": {\"colorbar\": {\"outlinewidth\": 0, \"ticks\": \"\"}}, \"type\": \"scattercarpet\"}], \"scattergeo\": [{\"marker\": {\"colorbar\": {\"outlinewidth\": 0, \"ticks\": \"\"}}, \"type\": \"scattergeo\"}], \"scattergl\": [{\"marker\": {\"colorbar\": {\"outlinewidth\": 0, \"ticks\": \"\"}}, \"type\": \"scattergl\"}], \"scattermapbox\": [{\"marker\": {\"colorbar\": {\"outlinewidth\": 0, \"ticks\": \"\"}}, \"type\": \"scattermapbox\"}], \"scatterpolar\": [{\"marker\": {\"colorbar\": {\"outlinewidth\": 0, \"ticks\": \"\"}}, \"type\": \"scatterpolar\"}], \"scatterpolargl\": [{\"marker\": {\"colorbar\": {\"outlinewidth\": 0, \"ticks\": \"\"}}, \"type\": \"scatterpolargl\"}], \"scatterternary\": [{\"marker\": {\"colorbar\": {\"outlinewidth\": 0, \"ticks\": \"\"}}, \"type\": \"scatterternary\"}], \"surface\": [{\"colorbar\": {\"outlinewidth\": 0, \"ticks\": \"\"}, \"colorscale\": [[0.0, \"#0d0887\"], [0.1111111111111111, \"#46039f\"], [0.2222222222222222, \"#7201a8\"], [0.3333333333333333, \"#9c179e\"], [0.4444444444444444, \"#bd3786\"], [0.5555555555555556, \"#d8576b\"], [0.6666666666666666, \"#ed7953\"], [0.7777777777777778, \"#fb9f3a\"], [0.8888888888888888, \"#fdca26\"], [1.0, \"#f0f921\"]], \"type\": \"surface\"}], \"table\": [{\"cells\": {\"fill\": {\"color\": \"#EBF0F8\"}, \"line\": {\"color\": \"white\"}}, \"header\": {\"fill\": {\"color\": \"#C8D4E3\"}, \"line\": {\"color\": \"white\"}}, \"type\": \"table\"}]}, \"layout\": {\"annotationdefaults\": {\"arrowcolor\": \"#2a3f5f\", \"arrowhead\": 0, \"arrowwidth\": 1}, \"coloraxis\": {\"colorbar\": {\"outlinewidth\": 0, \"ticks\": \"\"}}, \"colorscale\": {\"diverging\": [[0, \"#8e0152\"], [0.1, \"#c51b7d\"], [0.2, \"#de77ae\"], [0.3, \"#f1b6da\"], [0.4, \"#fde0ef\"], [0.5, \"#f7f7f7\"], [0.6, \"#e6f5d0\"], [0.7, \"#b8e186\"], [0.8, \"#7fbc41\"], [0.9, \"#4d9221\"], [1, \"#276419\"]], \"sequential\": [[0.0, \"#0d0887\"], [0.1111111111111111, \"#46039f\"], [0.2222222222222222, \"#7201a8\"], [0.3333333333333333, \"#9c179e\"], [0.4444444444444444, \"#bd3786\"], [0.5555555555555556, \"#d8576b\"], [0.6666666666666666, \"#ed7953\"], [0.7777777777777778, \"#fb9f3a\"], [0.8888888888888888, \"#fdca26\"], [1.0, \"#f0f921\"]], \"sequentialminus\": [[0.0, \"#0d0887\"], [0.1111111111111111, \"#46039f\"], [0.2222222222222222, \"#7201a8\"], [0.3333333333333333, \"#9c179e\"], [0.4444444444444444, \"#bd3786\"], [0.5555555555555556, \"#d8576b\"], [0.6666666666666666, \"#ed7953\"], [0.7777777777777778, \"#fb9f3a\"], [0.8888888888888888, \"#fdca26\"], [1.0, \"#f0f921\"]]}, \"colorway\": [\"#636efa\", \"#EF553B\", \"#00cc96\", \"#ab63fa\", \"#FFA15A\", \"#19d3f3\", \"#FF6692\", \"#B6E880\", \"#FF97FF\", \"#FECB52\"], \"font\": {\"color\": \"#2a3f5f\"}, \"geo\": {\"bgcolor\": \"white\", \"lakecolor\": \"white\", \"landcolor\": \"#E5ECF6\", \"showlakes\": true, \"showland\": true, \"subunitcolor\": \"white\"}, \"hoverlabel\": {\"align\": \"left\"}, \"hovermode\": \"closest\", \"mapbox\": {\"style\": \"light\"}, \"paper_bgcolor\": \"white\", \"plot_bgcolor\": \"#E5ECF6\", \"polar\": {\"angularaxis\": {\"gridcolor\": \"white\", \"linecolor\": \"white\", \"ticks\": \"\"}, \"bgcolor\": \"#E5ECF6\", \"radialaxis\": {\"gridcolor\": \"white\", \"linecolor\": \"white\", \"ticks\": \"\"}}, \"scene\": {\"xaxis\": {\"backgroundcolor\": \"#E5ECF6\", \"gridcolor\": \"white\", \"gridwidth\": 2, \"linecolor\": \"white\", \"showbackground\": true, \"ticks\": \"\", \"zerolinecolor\": \"white\"}, \"yaxis\": {\"backgroundcolor\": \"#E5ECF6\", \"gridcolor\": \"white\", \"gridwidth\": 2, \"linecolor\": \"white\", \"showbackground\": true, \"ticks\": \"\", \"zerolinecolor\": \"white\"}, \"zaxis\": {\"backgroundcolor\": \"#E5ECF6\", \"gridcolor\": \"white\", \"gridwidth\": 2, \"linecolor\": \"white\", \"showbackground\": true, \"ticks\": \"\", \"zerolinecolor\": \"white\"}}, \"shapedefaults\": {\"line\": {\"color\": \"#2a3f5f\"}}, \"ternary\": {\"aaxis\": {\"gridcolor\": \"white\", \"linecolor\": \"white\", \"ticks\": \"\"}, \"baxis\": {\"gridcolor\": \"white\", \"linecolor\": \"white\", \"ticks\": \"\"}, \"bgcolor\": \"#E5ECF6\", \"caxis\": {\"gridcolor\": \"white\", \"linecolor\": \"white\", \"ticks\": \"\"}}, \"title\": {\"x\": 0.05}, \"xaxis\": {\"automargin\": true, \"gridcolor\": \"white\", \"linecolor\": \"white\", \"ticks\": \"\", \"title\": {\"standoff\": 15}, \"zerolinecolor\": \"white\", \"zerolinewidth\": 2}, \"yaxis\": {\"automargin\": true, \"gridcolor\": \"white\", \"linecolor\": \"white\", \"ticks\": \"\", \"title\": {\"standoff\": 15}, \"zerolinecolor\": \"white\", \"zerolinewidth\": 2}}}, \"uniformtext\": {\"minsize\": 12, \"mode\": \"hide\"}},\n                        {\"responsive\": true}\n                    ).then(function(){\n                            \nvar gd = document.getElementById('78c604de-e61f-4881-af43-dc1233aa5ad0');\nvar x = new MutationObserver(function (mutations, observer) {{\n        var display = window.getComputedStyle(gd).display;\n        if (!display || display === 'none') {{\n            console.log([gd, 'removed!']);\n            Plotly.purge(gd);\n            observer.disconnect();\n        }}\n}});\n\n// Listen for the removal of the full notebook cells\nvar notebookContainer = gd.closest('#notebook-container');\nif (notebookContainer) {{\n    x.observe(notebookContainer, {childList: true});\n}}\n\n// Listen for the clearing of the current output cell\nvar outputEl = gd.closest('.output');\nif (outputEl) {{\n    x.observe(outputEl, {childList: true});\n}}\n\n                        })\n                };\n                });\n            </script>\n        </div>"
     },
     "metadata": {},
     "output_type": "display_data"
    }
   ],
   "source": [
    "fig = px.pie(province_count, values='counts', names='province')\n",
    "fig.update_traces(textposition='inside')\n",
    "fig.update_layout(uniformtext_minsize=12, uniformtext_mode='hide')\n",
    "fig.show()"
   ],
   "metadata": {
    "collapsed": false,
    "pycharm": {
     "name": "#%%\n"
    }
   }
  },
  {
   "cell_type": "markdown",
   "source": [
    "## 3.2 cases vs city"
   ],
   "metadata": {
    "collapsed": false,
    "pycharm": {
     "name": "#%% md\n"
    }
   }
  },
  {
   "cell_type": "code",
   "execution_count": 180,
   "outputs": [
    {
     "data": {
      "text/plain": "             city  counts\n0     Seongnam-si     155\n1      Bucheon-si     144\n2      Cheonan-si     100\n3       Gwanak-gu      93\n4        Suwon-si      92\n..            ...     ...\n143    Taebaek-si       1\n144   Hamyang-gun       1\n145  Gapyeong-gun       1\n146     Sokcho-si       1\n147   Dalsung-gun       1\n\n[148 rows x 2 columns]",
      "text/html": "<div>\n<style scoped>\n    .dataframe tbody tr th:only-of-type {\n        vertical-align: middle;\n    }\n\n    .dataframe tbody tr th {\n        vertical-align: top;\n    }\n\n    .dataframe thead th {\n        text-align: right;\n    }\n</style>\n<table border=\"1\" class=\"dataframe\">\n  <thead>\n    <tr style=\"text-align: right;\">\n      <th></th>\n      <th>city</th>\n      <th>counts</th>\n    </tr>\n  </thead>\n  <tbody>\n    <tr>\n      <th>0</th>\n      <td>Seongnam-si</td>\n      <td>155</td>\n    </tr>\n    <tr>\n      <th>1</th>\n      <td>Bucheon-si</td>\n      <td>144</td>\n    </tr>\n    <tr>\n      <th>2</th>\n      <td>Cheonan-si</td>\n      <td>100</td>\n    </tr>\n    <tr>\n      <th>3</th>\n      <td>Gwanak-gu</td>\n      <td>93</td>\n    </tr>\n    <tr>\n      <th>4</th>\n      <td>Suwon-si</td>\n      <td>92</td>\n    </tr>\n    <tr>\n      <th>...</th>\n      <td>...</td>\n      <td>...</td>\n    </tr>\n    <tr>\n      <th>143</th>\n      <td>Taebaek-si</td>\n      <td>1</td>\n    </tr>\n    <tr>\n      <th>144</th>\n      <td>Hamyang-gun</td>\n      <td>1</td>\n    </tr>\n    <tr>\n      <th>145</th>\n      <td>Gapyeong-gun</td>\n      <td>1</td>\n    </tr>\n    <tr>\n      <th>146</th>\n      <td>Sokcho-si</td>\n      <td>1</td>\n    </tr>\n    <tr>\n      <th>147</th>\n      <td>Dalsung-gun</td>\n      <td>1</td>\n    </tr>\n  </tbody>\n</table>\n<p>148 rows × 2 columns</p>\n</div>"
     },
     "execution_count": 180,
     "metadata": {},
     "output_type": "execute_result"
    }
   ],
   "source": [
    "city_count = pd.DataFrame(data['city'].value_counts())\n",
    "city_count.reset_index(level=0, inplace = True)\n",
    "city_count.columns = ['city', 'counts']\n",
    "city_count"
   ],
   "metadata": {
    "collapsed": false,
    "pycharm": {
     "name": "#%%\n"
    }
   }
  },
  {
   "cell_type": "code",
   "execution_count": 181,
   "outputs": [
    {
     "data": {
      "application/vnd.plotly.v1+json": {
       "config": {
        "plotlyServerURL": "https://plot.ly"
       },
       "data": [
        {
         "domain": {
          "x": [
           0.0,
           1.0
          ],
          "y": [
           0.0,
           1.0
          ]
         },
         "hovertemplate": "city=%{label}<br>counts=%{value}<extra></extra>",
         "labels": [
          "Seongnam-si",
          "Bucheon-si",
          "Cheonan-si",
          "Gwanak-gu",
          "Suwon-si",
          "Yongin-si",
          "Bupyeong-gu",
          "etc",
          "Gangnam-gu",
          "Guro-gu",
          "Michuhol-gu",
          "Gangseo-gu",
          "Yangcheon-gu",
          "Gunpo-si",
          "Dobong-gu",
          "Anyang-si",
          "Gyeyang-gu",
          "Yeongdeungpo-gu",
          "Pyeongtaek-si",
          "Jung-gu",
          "Songpa-gu",
          "Yongsan-gu",
          "Seo-gu",
          "Sejong",
          "Seocho-gu",
          "Gyeongsan-si",
          "Namyangju-si",
          "Yeonsu-gu",
          "Namdong-gu",
          "Seongdong-gu",
          "Uijeongbu-si",
          "Goyang-si",
          "Dongjak-gu",
          "Nowon-gu",
          "Eunpyeong-gu",
          "Gyeongju-si",
          "Dongdaemun-gu",
          "Yecheon-gun",
          "Mapo-gu",
          "Hwaseong-si",
          "Gwangju-si",
          "Dongnae-gu",
          "Gimpo-si",
          "Ansan-si",
          "Bonghwa-gun",
          "Seongbuk-gu",
          "Seodaemun-gu",
          "Gangdong-gu",
          "Yuseong-gu",
          "Jungnang-gu",
          "Nam-gu",
          "Gwangmyeong-si",
          "Dong-gu",
          "Geumcheon-gu",
          "Wonju-si",
          "Changwon-si",
          "Siheung-si",
          "Gangbuk-gu",
          "Buk-gu",
          "Cheongdo-gun",
          "Haeundae-gu",
          "Jongno-gu",
          "Pocheon-si",
          "Geochang-gun",
          "Gwangjin-gu",
          "Pohang-si",
          "Paju-si",
          "Andong-si",
          "Cheongju-si",
          "Seongju-gun",
          "Asan-si",
          "Gumi-si",
          "Sangju-si",
          "Busanjin-gu",
          "Chilgok-gun",
          "Geoje-si",
          "Gimhae-si",
          "Yeongcheon-si",
          "Icheon-si",
          "Buyeo-gun",
          "Cheorwon-gun",
          "Saha-gu",
          "Jeju-do",
          "Hanam-si",
          "Uiwang-si",
          "Hapcheon-gun",
          "Yangju-si",
          "Guri-si",
          "Suyeong-gu",
          "Chuncheon-si",
          "Gimcheon-si",
          "Seosan-si",
          "Gwacheon-si",
          "Chungju-si",
          "Osan-si",
          "Goesan-gun",
          "Jeonju-si",
          "Ulju-gun",
          "Nonsan-si",
          "Changnyeong-gun",
          "Geumjeong-gu",
          "Dongducheon-si",
          "Miryang-si",
          "Yangsan-si",
          "Eumseong-gun",
          "Jinju-si",
          "Gunwi-gun",
          "Gunsan-si",
          "Anseong-si",
          "Yeonje-gu",
          "Hongseong-gun",
          "Gangneung-si",
          "Gongju-si",
          "Dalseo-gu",
          "Sacheon-si",
          "Mokpo-si",
          "Jeungpyeong-gun",
          "Gimje-si",
          "Mungyeong-si",
          "Goseong-gun",
          "Suseong-gu",
          "Yeosu-si",
          "Sasang-gu",
          "Daedeok-gu",
          "sankyeock-dong",
          "Yangpyeong-si",
          "Yeongyang-gun",
          "Gijang-gun",
          "Hwasun-gun",
          "Danyang-gun",
          "Yeongwol-gun",
          "Namhae-gun",
          "Goryeong-gun",
          "Muan-gun",
          "Gyeryong-si",
          "Inje-gun",
          "Hoengseong-gun",
          "Icheon-dong",
          "Iksan-si",
          "Ganghwa-gun",
          "Gwangyang-si",
          "Suwon",
          "Suncheon-si",
          "Taebaek-si",
          "Hamyang-gun",
          "Gapyeong-gun",
          "Sokcho-si",
          "Dalsung-gun"
         ],
         "legendgroup": "",
         "name": "",
         "showlegend": true,
         "textposition": "inside",
         "type": "pie",
         "values": [
          155,
          144,
          100,
          93,
          92,
          86,
          80,
          76,
          74,
          69,
          68,
          68,
          67,
          67,
          57,
          54,
          53,
          52,
          52,
          50,
          50,
          48,
          48,
          47,
          47,
          45,
          44,
          44,
          43,
          43,
          42,
          42,
          41,
          39,
          39,
          37,
          37,
          36,
          36,
          35,
          33,
          33,
          33,
          31,
          31,
          29,
          29,
          28,
          28,
          28,
          25,
          25,
          23,
          23,
          20,
          20,
          20,
          20,
          20,
          20,
          20,
          18,
          17,
          17,
          17,
          16,
          15,
          15,
          14,
          14,
          13,
          12,
          12,
          11,
          11,
          11,
          11,
          11,
          10,
          10,
          10,
          10,
          10,
          10,
          10,
          10,
          9,
          9,
          9,
          8,
          8,
          8,
          8,
          7,
          7,
          7,
          6,
          6,
          6,
          6,
          6,
          5,
          5,
          5,
          5,
          4,
          4,
          4,
          4,
          4,
          4,
          4,
          3,
          3,
          3,
          3,
          2,
          2,
          2,
          2,
          2,
          2,
          2,
          2,
          1,
          1,
          1,
          1,
          1,
          1,
          1,
          1,
          1,
          1,
          1,
          1,
          1,
          1,
          1,
          1,
          1,
          1,
          1,
          1,
          1,
          1,
          1,
          1
         ]
        }
       ],
       "layout": {
        "legend": {
         "tracegroupgap": 0
        },
        "margin": {
         "t": 60
        },
        "template": {
         "data": {
          "bar": [
           {
            "error_x": {
             "color": "#2a3f5f"
            },
            "error_y": {
             "color": "#2a3f5f"
            },
            "marker": {
             "line": {
              "color": "#E5ECF6",
              "width": 0.5
             }
            },
            "type": "bar"
           }
          ],
          "barpolar": [
           {
            "marker": {
             "line": {
              "color": "#E5ECF6",
              "width": 0.5
             }
            },
            "type": "barpolar"
           }
          ],
          "carpet": [
           {
            "aaxis": {
             "endlinecolor": "#2a3f5f",
             "gridcolor": "white",
             "linecolor": "white",
             "minorgridcolor": "white",
             "startlinecolor": "#2a3f5f"
            },
            "baxis": {
             "endlinecolor": "#2a3f5f",
             "gridcolor": "white",
             "linecolor": "white",
             "minorgridcolor": "white",
             "startlinecolor": "#2a3f5f"
            },
            "type": "carpet"
           }
          ],
          "choropleth": [
           {
            "colorbar": {
             "outlinewidth": 0,
             "ticks": ""
            },
            "type": "choropleth"
           }
          ],
          "contour": [
           {
            "colorbar": {
             "outlinewidth": 0,
             "ticks": ""
            },
            "colorscale": [
             [
              0.0,
              "#0d0887"
             ],
             [
              0.1111111111111111,
              "#46039f"
             ],
             [
              0.2222222222222222,
              "#7201a8"
             ],
             [
              0.3333333333333333,
              "#9c179e"
             ],
             [
              0.4444444444444444,
              "#bd3786"
             ],
             [
              0.5555555555555556,
              "#d8576b"
             ],
             [
              0.6666666666666666,
              "#ed7953"
             ],
             [
              0.7777777777777778,
              "#fb9f3a"
             ],
             [
              0.8888888888888888,
              "#fdca26"
             ],
             [
              1.0,
              "#f0f921"
             ]
            ],
            "type": "contour"
           }
          ],
          "contourcarpet": [
           {
            "colorbar": {
             "outlinewidth": 0,
             "ticks": ""
            },
            "type": "contourcarpet"
           }
          ],
          "heatmap": [
           {
            "colorbar": {
             "outlinewidth": 0,
             "ticks": ""
            },
            "colorscale": [
             [
              0.0,
              "#0d0887"
             ],
             [
              0.1111111111111111,
              "#46039f"
             ],
             [
              0.2222222222222222,
              "#7201a8"
             ],
             [
              0.3333333333333333,
              "#9c179e"
             ],
             [
              0.4444444444444444,
              "#bd3786"
             ],
             [
              0.5555555555555556,
              "#d8576b"
             ],
             [
              0.6666666666666666,
              "#ed7953"
             ],
             [
              0.7777777777777778,
              "#fb9f3a"
             ],
             [
              0.8888888888888888,
              "#fdca26"
             ],
             [
              1.0,
              "#f0f921"
             ]
            ],
            "type": "heatmap"
           }
          ],
          "heatmapgl": [
           {
            "colorbar": {
             "outlinewidth": 0,
             "ticks": ""
            },
            "colorscale": [
             [
              0.0,
              "#0d0887"
             ],
             [
              0.1111111111111111,
              "#46039f"
             ],
             [
              0.2222222222222222,
              "#7201a8"
             ],
             [
              0.3333333333333333,
              "#9c179e"
             ],
             [
              0.4444444444444444,
              "#bd3786"
             ],
             [
              0.5555555555555556,
              "#d8576b"
             ],
             [
              0.6666666666666666,
              "#ed7953"
             ],
             [
              0.7777777777777778,
              "#fb9f3a"
             ],
             [
              0.8888888888888888,
              "#fdca26"
             ],
             [
              1.0,
              "#f0f921"
             ]
            ],
            "type": "heatmapgl"
           }
          ],
          "histogram": [
           {
            "marker": {
             "colorbar": {
              "outlinewidth": 0,
              "ticks": ""
             }
            },
            "type": "histogram"
           }
          ],
          "histogram2d": [
           {
            "colorbar": {
             "outlinewidth": 0,
             "ticks": ""
            },
            "colorscale": [
             [
              0.0,
              "#0d0887"
             ],
             [
              0.1111111111111111,
              "#46039f"
             ],
             [
              0.2222222222222222,
              "#7201a8"
             ],
             [
              0.3333333333333333,
              "#9c179e"
             ],
             [
              0.4444444444444444,
              "#bd3786"
             ],
             [
              0.5555555555555556,
              "#d8576b"
             ],
             [
              0.6666666666666666,
              "#ed7953"
             ],
             [
              0.7777777777777778,
              "#fb9f3a"
             ],
             [
              0.8888888888888888,
              "#fdca26"
             ],
             [
              1.0,
              "#f0f921"
             ]
            ],
            "type": "histogram2d"
           }
          ],
          "histogram2dcontour": [
           {
            "colorbar": {
             "outlinewidth": 0,
             "ticks": ""
            },
            "colorscale": [
             [
              0.0,
              "#0d0887"
             ],
             [
              0.1111111111111111,
              "#46039f"
             ],
             [
              0.2222222222222222,
              "#7201a8"
             ],
             [
              0.3333333333333333,
              "#9c179e"
             ],
             [
              0.4444444444444444,
              "#bd3786"
             ],
             [
              0.5555555555555556,
              "#d8576b"
             ],
             [
              0.6666666666666666,
              "#ed7953"
             ],
             [
              0.7777777777777778,
              "#fb9f3a"
             ],
             [
              0.8888888888888888,
              "#fdca26"
             ],
             [
              1.0,
              "#f0f921"
             ]
            ],
            "type": "histogram2dcontour"
           }
          ],
          "mesh3d": [
           {
            "colorbar": {
             "outlinewidth": 0,
             "ticks": ""
            },
            "type": "mesh3d"
           }
          ],
          "parcoords": [
           {
            "line": {
             "colorbar": {
              "outlinewidth": 0,
              "ticks": ""
             }
            },
            "type": "parcoords"
           }
          ],
          "pie": [
           {
            "automargin": true,
            "type": "pie"
           }
          ],
          "scatter": [
           {
            "marker": {
             "colorbar": {
              "outlinewidth": 0,
              "ticks": ""
             }
            },
            "type": "scatter"
           }
          ],
          "scatter3d": [
           {
            "line": {
             "colorbar": {
              "outlinewidth": 0,
              "ticks": ""
             }
            },
            "marker": {
             "colorbar": {
              "outlinewidth": 0,
              "ticks": ""
             }
            },
            "type": "scatter3d"
           }
          ],
          "scattercarpet": [
           {
            "marker": {
             "colorbar": {
              "outlinewidth": 0,
              "ticks": ""
             }
            },
            "type": "scattercarpet"
           }
          ],
          "scattergeo": [
           {
            "marker": {
             "colorbar": {
              "outlinewidth": 0,
              "ticks": ""
             }
            },
            "type": "scattergeo"
           }
          ],
          "scattergl": [
           {
            "marker": {
             "colorbar": {
              "outlinewidth": 0,
              "ticks": ""
             }
            },
            "type": "scattergl"
           }
          ],
          "scattermapbox": [
           {
            "marker": {
             "colorbar": {
              "outlinewidth": 0,
              "ticks": ""
             }
            },
            "type": "scattermapbox"
           }
          ],
          "scatterpolar": [
           {
            "marker": {
             "colorbar": {
              "outlinewidth": 0,
              "ticks": ""
             }
            },
            "type": "scatterpolar"
           }
          ],
          "scatterpolargl": [
           {
            "marker": {
             "colorbar": {
              "outlinewidth": 0,
              "ticks": ""
             }
            },
            "type": "scatterpolargl"
           }
          ],
          "scatterternary": [
           {
            "marker": {
             "colorbar": {
              "outlinewidth": 0,
              "ticks": ""
             }
            },
            "type": "scatterternary"
           }
          ],
          "surface": [
           {
            "colorbar": {
             "outlinewidth": 0,
             "ticks": ""
            },
            "colorscale": [
             [
              0.0,
              "#0d0887"
             ],
             [
              0.1111111111111111,
              "#46039f"
             ],
             [
              0.2222222222222222,
              "#7201a8"
             ],
             [
              0.3333333333333333,
              "#9c179e"
             ],
             [
              0.4444444444444444,
              "#bd3786"
             ],
             [
              0.5555555555555556,
              "#d8576b"
             ],
             [
              0.6666666666666666,
              "#ed7953"
             ],
             [
              0.7777777777777778,
              "#fb9f3a"
             ],
             [
              0.8888888888888888,
              "#fdca26"
             ],
             [
              1.0,
              "#f0f921"
             ]
            ],
            "type": "surface"
           }
          ],
          "table": [
           {
            "cells": {
             "fill": {
              "color": "#EBF0F8"
             },
             "line": {
              "color": "white"
             }
            },
            "header": {
             "fill": {
              "color": "#C8D4E3"
             },
             "line": {
              "color": "white"
             }
            },
            "type": "table"
           }
          ]
         },
         "layout": {
          "annotationdefaults": {
           "arrowcolor": "#2a3f5f",
           "arrowhead": 0,
           "arrowwidth": 1
          },
          "coloraxis": {
           "colorbar": {
            "outlinewidth": 0,
            "ticks": ""
           }
          },
          "colorscale": {
           "diverging": [
            [
             0,
             "#8e0152"
            ],
            [
             0.1,
             "#c51b7d"
            ],
            [
             0.2,
             "#de77ae"
            ],
            [
             0.3,
             "#f1b6da"
            ],
            [
             0.4,
             "#fde0ef"
            ],
            [
             0.5,
             "#f7f7f7"
            ],
            [
             0.6,
             "#e6f5d0"
            ],
            [
             0.7,
             "#b8e186"
            ],
            [
             0.8,
             "#7fbc41"
            ],
            [
             0.9,
             "#4d9221"
            ],
            [
             1,
             "#276419"
            ]
           ],
           "sequential": [
            [
             0.0,
             "#0d0887"
            ],
            [
             0.1111111111111111,
             "#46039f"
            ],
            [
             0.2222222222222222,
             "#7201a8"
            ],
            [
             0.3333333333333333,
             "#9c179e"
            ],
            [
             0.4444444444444444,
             "#bd3786"
            ],
            [
             0.5555555555555556,
             "#d8576b"
            ],
            [
             0.6666666666666666,
             "#ed7953"
            ],
            [
             0.7777777777777778,
             "#fb9f3a"
            ],
            [
             0.8888888888888888,
             "#fdca26"
            ],
            [
             1.0,
             "#f0f921"
            ]
           ],
           "sequentialminus": [
            [
             0.0,
             "#0d0887"
            ],
            [
             0.1111111111111111,
             "#46039f"
            ],
            [
             0.2222222222222222,
             "#7201a8"
            ],
            [
             0.3333333333333333,
             "#9c179e"
            ],
            [
             0.4444444444444444,
             "#bd3786"
            ],
            [
             0.5555555555555556,
             "#d8576b"
            ],
            [
             0.6666666666666666,
             "#ed7953"
            ],
            [
             0.7777777777777778,
             "#fb9f3a"
            ],
            [
             0.8888888888888888,
             "#fdca26"
            ],
            [
             1.0,
             "#f0f921"
            ]
           ]
          },
          "colorway": [
           "#636efa",
           "#EF553B",
           "#00cc96",
           "#ab63fa",
           "#FFA15A",
           "#19d3f3",
           "#FF6692",
           "#B6E880",
           "#FF97FF",
           "#FECB52"
          ],
          "font": {
           "color": "#2a3f5f"
          },
          "geo": {
           "bgcolor": "white",
           "lakecolor": "white",
           "landcolor": "#E5ECF6",
           "showlakes": true,
           "showland": true,
           "subunitcolor": "white"
          },
          "hoverlabel": {
           "align": "left"
          },
          "hovermode": "closest",
          "mapbox": {
           "style": "light"
          },
          "paper_bgcolor": "white",
          "plot_bgcolor": "#E5ECF6",
          "polar": {
           "angularaxis": {
            "gridcolor": "white",
            "linecolor": "white",
            "ticks": ""
           },
           "bgcolor": "#E5ECF6",
           "radialaxis": {
            "gridcolor": "white",
            "linecolor": "white",
            "ticks": ""
           }
          },
          "scene": {
           "xaxis": {
            "backgroundcolor": "#E5ECF6",
            "gridcolor": "white",
            "gridwidth": 2,
            "linecolor": "white",
            "showbackground": true,
            "ticks": "",
            "zerolinecolor": "white"
           },
           "yaxis": {
            "backgroundcolor": "#E5ECF6",
            "gridcolor": "white",
            "gridwidth": 2,
            "linecolor": "white",
            "showbackground": true,
            "ticks": "",
            "zerolinecolor": "white"
           },
           "zaxis": {
            "backgroundcolor": "#E5ECF6",
            "gridcolor": "white",
            "gridwidth": 2,
            "linecolor": "white",
            "showbackground": true,
            "ticks": "",
            "zerolinecolor": "white"
           }
          },
          "shapedefaults": {
           "line": {
            "color": "#2a3f5f"
           }
          },
          "ternary": {
           "aaxis": {
            "gridcolor": "white",
            "linecolor": "white",
            "ticks": ""
           },
           "baxis": {
            "gridcolor": "white",
            "linecolor": "white",
            "ticks": ""
           },
           "bgcolor": "#E5ECF6",
           "caxis": {
            "gridcolor": "white",
            "linecolor": "white",
            "ticks": ""
           }
          },
          "title": {
           "x": 0.05
          },
          "xaxis": {
           "automargin": true,
           "gridcolor": "white",
           "linecolor": "white",
           "ticks": "",
           "title": {
            "standoff": 15
           },
           "zerolinecolor": "white",
           "zerolinewidth": 2
          },
          "yaxis": {
           "automargin": true,
           "gridcolor": "white",
           "linecolor": "white",
           "ticks": "",
           "title": {
            "standoff": 15
           },
           "zerolinecolor": "white",
           "zerolinewidth": 2
          }
         }
        },
        "uniformtext": {
         "minsize": 12,
         "mode": "hide"
        }
       }
      },
      "text/html": "<div>\n        \n        \n            <div id=\"868bb1c2-70f8-4d24-bd82-0ed2687b5082\" class=\"plotly-graph-div\" style=\"height:525px; width:100%;\"></div>\n            <script type=\"text/javascript\">\n                require([\"plotly\"], function(Plotly) {\n                    window.PLOTLYENV=window.PLOTLYENV || {};\n                    \n                if (document.getElementById(\"868bb1c2-70f8-4d24-bd82-0ed2687b5082\")) {\n                    Plotly.newPlot(\n                        '868bb1c2-70f8-4d24-bd82-0ed2687b5082',\n                        [{\"domain\": {\"x\": [0.0, 1.0], \"y\": [0.0, 1.0]}, \"hovertemplate\": \"city=%{label}<br>counts=%{value}<extra></extra>\", \"labels\": [\"Seongnam-si\", \"Bucheon-si\", \"Cheonan-si\", \"Gwanak-gu\", \"Suwon-si\", \"Yongin-si\", \"Bupyeong-gu\", \"etc\", \"Gangnam-gu\", \"Guro-gu\", \"Michuhol-gu\", \"Gangseo-gu\", \"Yangcheon-gu\", \"Gunpo-si\", \"Dobong-gu\", \"Anyang-si\", \"Gyeyang-gu\", \"Yeongdeungpo-gu\", \"Pyeongtaek-si\", \"Jung-gu\", \"Songpa-gu\", \"Yongsan-gu\", \"Seo-gu\", \"Sejong\", \"Seocho-gu\", \"Gyeongsan-si\", \"Namyangju-si\", \"Yeonsu-gu\", \"Namdong-gu\", \"Seongdong-gu\", \"Uijeongbu-si\", \"Goyang-si\", \"Dongjak-gu\", \"Nowon-gu\", \"Eunpyeong-gu\", \"Gyeongju-si\", \"Dongdaemun-gu\", \"Yecheon-gun\", \"Mapo-gu\", \"Hwaseong-si\", \"Gwangju-si\", \"Dongnae-gu\", \"Gimpo-si\", \"Ansan-si\", \"Bonghwa-gun\", \"Seongbuk-gu\", \"Seodaemun-gu\", \"Gangdong-gu\", \"Yuseong-gu\", \"Jungnang-gu\", \"Nam-gu\", \"Gwangmyeong-si\", \"Dong-gu\", \"Geumcheon-gu\", \"Wonju-si\", \"Changwon-si\", \"Siheung-si\", \"Gangbuk-gu\", \"Buk-gu\", \"Cheongdo-gun\", \"Haeundae-gu\", \"Jongno-gu\", \"Pocheon-si\", \"Geochang-gun\", \"Gwangjin-gu\", \"Pohang-si\", \"Paju-si\", \"Andong-si\", \"Cheongju-si\", \"Seongju-gun\", \"Asan-si\", \"Gumi-si\", \"Sangju-si\", \"Busanjin-gu\", \"Chilgok-gun\", \"Geoje-si\", \"Gimhae-si\", \"Yeongcheon-si\", \"Icheon-si\", \"Buyeo-gun\", \"Cheorwon-gun\", \"Saha-gu\", \"Jeju-do\", \"Hanam-si\", \"Uiwang-si\", \"Hapcheon-gun\", \"Yangju-si\", \"Guri-si\", \"Suyeong-gu\", \"Chuncheon-si\", \"Gimcheon-si\", \"Seosan-si\", \"Gwacheon-si\", \"Chungju-si\", \"Osan-si\", \"Goesan-gun\", \"Jeonju-si\", \"Ulju-gun\", \"Nonsan-si\", \"Changnyeong-gun\", \"Geumjeong-gu\", \"Dongducheon-si\", \"Miryang-si\", \"Yangsan-si\", \"Eumseong-gun\", \"Jinju-si\", \"Gunwi-gun\", \"Gunsan-si\", \"Anseong-si\", \"Yeonje-gu\", \"Hongseong-gun\", \"Gangneung-si\", \"Gongju-si\", \"Dalseo-gu\", \"Sacheon-si\", \"Mokpo-si\", \"Jeungpyeong-gun\", \"Gimje-si\", \"Mungyeong-si\", \"Goseong-gun\", \"Suseong-gu\", \"Yeosu-si\", \"Sasang-gu\", \"Daedeok-gu\", \"sankyeock-dong\", \"Yangpyeong-si\", \"Yeongyang-gun\", \"Gijang-gun\", \"Hwasun-gun\", \"Danyang-gun\", \"Yeongwol-gun\", \"Namhae-gun\", \"Goryeong-gun\", \"Muan-gun\", \"Gyeryong-si\", \"Inje-gun\", \"Hoengseong-gun\", \"Icheon-dong\", \"Iksan-si\", \"Ganghwa-gun\", \"Gwangyang-si\", \"Suwon\", \"Suncheon-si\", \"Taebaek-si\", \"Hamyang-gun\", \"Gapyeong-gun\", \"Sokcho-si\", \"Dalsung-gun\"], \"legendgroup\": \"\", \"name\": \"\", \"showlegend\": true, \"textposition\": \"inside\", \"type\": \"pie\", \"values\": [155, 144, 100, 93, 92, 86, 80, 76, 74, 69, 68, 68, 67, 67, 57, 54, 53, 52, 52, 50, 50, 48, 48, 47, 47, 45, 44, 44, 43, 43, 42, 42, 41, 39, 39, 37, 37, 36, 36, 35, 33, 33, 33, 31, 31, 29, 29, 28, 28, 28, 25, 25, 23, 23, 20, 20, 20, 20, 20, 20, 20, 18, 17, 17, 17, 16, 15, 15, 14, 14, 13, 12, 12, 11, 11, 11, 11, 11, 10, 10, 10, 10, 10, 10, 10, 10, 9, 9, 9, 8, 8, 8, 8, 7, 7, 7, 6, 6, 6, 6, 6, 5, 5, 5, 5, 4, 4, 4, 4, 4, 4, 4, 3, 3, 3, 3, 2, 2, 2, 2, 2, 2, 2, 2, 1, 1, 1, 1, 1, 1, 1, 1, 1, 1, 1, 1, 1, 1, 1, 1, 1, 1, 1, 1, 1, 1, 1, 1]}],\n                        {\"legend\": {\"tracegroupgap\": 0}, \"margin\": {\"t\": 60}, \"template\": {\"data\": {\"bar\": [{\"error_x\": {\"color\": \"#2a3f5f\"}, \"error_y\": {\"color\": \"#2a3f5f\"}, \"marker\": {\"line\": {\"color\": \"#E5ECF6\", \"width\": 0.5}}, \"type\": \"bar\"}], \"barpolar\": [{\"marker\": {\"line\": {\"color\": \"#E5ECF6\", \"width\": 0.5}}, \"type\": \"barpolar\"}], \"carpet\": [{\"aaxis\": {\"endlinecolor\": \"#2a3f5f\", \"gridcolor\": \"white\", \"linecolor\": \"white\", \"minorgridcolor\": \"white\", \"startlinecolor\": \"#2a3f5f\"}, \"baxis\": {\"endlinecolor\": \"#2a3f5f\", \"gridcolor\": \"white\", \"linecolor\": \"white\", \"minorgridcolor\": \"white\", \"startlinecolor\": \"#2a3f5f\"}, \"type\": \"carpet\"}], \"choropleth\": [{\"colorbar\": {\"outlinewidth\": 0, \"ticks\": \"\"}, \"type\": \"choropleth\"}], \"contour\": [{\"colorbar\": {\"outlinewidth\": 0, \"ticks\": \"\"}, \"colorscale\": [[0.0, \"#0d0887\"], [0.1111111111111111, \"#46039f\"], [0.2222222222222222, \"#7201a8\"], [0.3333333333333333, \"#9c179e\"], [0.4444444444444444, \"#bd3786\"], [0.5555555555555556, \"#d8576b\"], [0.6666666666666666, \"#ed7953\"], [0.7777777777777778, \"#fb9f3a\"], [0.8888888888888888, \"#fdca26\"], [1.0, \"#f0f921\"]], \"type\": \"contour\"}], \"contourcarpet\": [{\"colorbar\": {\"outlinewidth\": 0, \"ticks\": \"\"}, \"type\": \"contourcarpet\"}], \"heatmap\": [{\"colorbar\": {\"outlinewidth\": 0, \"ticks\": \"\"}, \"colorscale\": [[0.0, \"#0d0887\"], [0.1111111111111111, \"#46039f\"], [0.2222222222222222, \"#7201a8\"], [0.3333333333333333, \"#9c179e\"], [0.4444444444444444, \"#bd3786\"], [0.5555555555555556, \"#d8576b\"], [0.6666666666666666, \"#ed7953\"], [0.7777777777777778, \"#fb9f3a\"], [0.8888888888888888, \"#fdca26\"], [1.0, \"#f0f921\"]], \"type\": \"heatmap\"}], \"heatmapgl\": [{\"colorbar\": {\"outlinewidth\": 0, \"ticks\": \"\"}, \"colorscale\": [[0.0, \"#0d0887\"], [0.1111111111111111, \"#46039f\"], [0.2222222222222222, \"#7201a8\"], [0.3333333333333333, \"#9c179e\"], [0.4444444444444444, \"#bd3786\"], [0.5555555555555556, \"#d8576b\"], [0.6666666666666666, \"#ed7953\"], [0.7777777777777778, \"#fb9f3a\"], [0.8888888888888888, \"#fdca26\"], [1.0, \"#f0f921\"]], \"type\": \"heatmapgl\"}], \"histogram\": [{\"marker\": {\"colorbar\": {\"outlinewidth\": 0, \"ticks\": \"\"}}, \"type\": \"histogram\"}], \"histogram2d\": [{\"colorbar\": {\"outlinewidth\": 0, \"ticks\": \"\"}, \"colorscale\": [[0.0, \"#0d0887\"], [0.1111111111111111, \"#46039f\"], [0.2222222222222222, \"#7201a8\"], [0.3333333333333333, \"#9c179e\"], [0.4444444444444444, \"#bd3786\"], [0.5555555555555556, \"#d8576b\"], [0.6666666666666666, \"#ed7953\"], [0.7777777777777778, \"#fb9f3a\"], [0.8888888888888888, \"#fdca26\"], [1.0, \"#f0f921\"]], \"type\": \"histogram2d\"}], \"histogram2dcontour\": [{\"colorbar\": {\"outlinewidth\": 0, \"ticks\": \"\"}, \"colorscale\": [[0.0, \"#0d0887\"], [0.1111111111111111, \"#46039f\"], [0.2222222222222222, \"#7201a8\"], [0.3333333333333333, \"#9c179e\"], [0.4444444444444444, \"#bd3786\"], [0.5555555555555556, \"#d8576b\"], [0.6666666666666666, \"#ed7953\"], [0.7777777777777778, \"#fb9f3a\"], [0.8888888888888888, \"#fdca26\"], [1.0, \"#f0f921\"]], \"type\": \"histogram2dcontour\"}], \"mesh3d\": [{\"colorbar\": {\"outlinewidth\": 0, \"ticks\": \"\"}, \"type\": \"mesh3d\"}], \"parcoords\": [{\"line\": {\"colorbar\": {\"outlinewidth\": 0, \"ticks\": \"\"}}, \"type\": \"parcoords\"}], \"pie\": [{\"automargin\": true, \"type\": \"pie\"}], \"scatter\": [{\"marker\": {\"colorbar\": {\"outlinewidth\": 0, \"ticks\": \"\"}}, \"type\": \"scatter\"}], \"scatter3d\": [{\"line\": {\"colorbar\": {\"outlinewidth\": 0, \"ticks\": \"\"}}, \"marker\": {\"colorbar\": {\"outlinewidth\": 0, \"ticks\": \"\"}}, \"type\": \"scatter3d\"}], \"scattercarpet\": [{\"marker\": {\"colorbar\": {\"outlinewidth\": 0, \"ticks\": \"\"}}, \"type\": \"scattercarpet\"}], \"scattergeo\": [{\"marker\": {\"colorbar\": {\"outlinewidth\": 0, \"ticks\": \"\"}}, \"type\": \"scattergeo\"}], \"scattergl\": [{\"marker\": {\"colorbar\": {\"outlinewidth\": 0, \"ticks\": \"\"}}, \"type\": \"scattergl\"}], \"scattermapbox\": [{\"marker\": {\"colorbar\": {\"outlinewidth\": 0, \"ticks\": \"\"}}, \"type\": \"scattermapbox\"}], \"scatterpolar\": [{\"marker\": {\"colorbar\": {\"outlinewidth\": 0, \"ticks\": \"\"}}, \"type\": \"scatterpolar\"}], \"scatterpolargl\": [{\"marker\": {\"colorbar\": {\"outlinewidth\": 0, \"ticks\": \"\"}}, \"type\": \"scatterpolargl\"}], \"scatterternary\": [{\"marker\": {\"colorbar\": {\"outlinewidth\": 0, \"ticks\": \"\"}}, \"type\": \"scatterternary\"}], \"surface\": [{\"colorbar\": {\"outlinewidth\": 0, \"ticks\": \"\"}, \"colorscale\": [[0.0, \"#0d0887\"], [0.1111111111111111, \"#46039f\"], [0.2222222222222222, \"#7201a8\"], [0.3333333333333333, \"#9c179e\"], [0.4444444444444444, \"#bd3786\"], [0.5555555555555556, \"#d8576b\"], [0.6666666666666666, \"#ed7953\"], [0.7777777777777778, \"#fb9f3a\"], [0.8888888888888888, \"#fdca26\"], [1.0, \"#f0f921\"]], \"type\": \"surface\"}], \"table\": [{\"cells\": {\"fill\": {\"color\": \"#EBF0F8\"}, \"line\": {\"color\": \"white\"}}, \"header\": {\"fill\": {\"color\": \"#C8D4E3\"}, \"line\": {\"color\": \"white\"}}, \"type\": \"table\"}]}, \"layout\": {\"annotationdefaults\": {\"arrowcolor\": \"#2a3f5f\", \"arrowhead\": 0, \"arrowwidth\": 1}, \"coloraxis\": {\"colorbar\": {\"outlinewidth\": 0, \"ticks\": \"\"}}, \"colorscale\": {\"diverging\": [[0, \"#8e0152\"], [0.1, \"#c51b7d\"], [0.2, \"#de77ae\"], [0.3, \"#f1b6da\"], [0.4, \"#fde0ef\"], [0.5, \"#f7f7f7\"], [0.6, \"#e6f5d0\"], [0.7, \"#b8e186\"], [0.8, \"#7fbc41\"], [0.9, \"#4d9221\"], [1, \"#276419\"]], \"sequential\": [[0.0, \"#0d0887\"], [0.1111111111111111, \"#46039f\"], [0.2222222222222222, \"#7201a8\"], [0.3333333333333333, \"#9c179e\"], [0.4444444444444444, \"#bd3786\"], [0.5555555555555556, \"#d8576b\"], [0.6666666666666666, \"#ed7953\"], [0.7777777777777778, \"#fb9f3a\"], [0.8888888888888888, \"#fdca26\"], [1.0, \"#f0f921\"]], \"sequentialminus\": [[0.0, \"#0d0887\"], [0.1111111111111111, \"#46039f\"], [0.2222222222222222, \"#7201a8\"], [0.3333333333333333, \"#9c179e\"], [0.4444444444444444, \"#bd3786\"], [0.5555555555555556, \"#d8576b\"], [0.6666666666666666, \"#ed7953\"], [0.7777777777777778, \"#fb9f3a\"], [0.8888888888888888, \"#fdca26\"], [1.0, \"#f0f921\"]]}, \"colorway\": [\"#636efa\", \"#EF553B\", \"#00cc96\", \"#ab63fa\", \"#FFA15A\", \"#19d3f3\", \"#FF6692\", \"#B6E880\", \"#FF97FF\", \"#FECB52\"], \"font\": {\"color\": \"#2a3f5f\"}, \"geo\": {\"bgcolor\": \"white\", \"lakecolor\": \"white\", \"landcolor\": \"#E5ECF6\", \"showlakes\": true, \"showland\": true, \"subunitcolor\": \"white\"}, \"hoverlabel\": {\"align\": \"left\"}, \"hovermode\": \"closest\", \"mapbox\": {\"style\": \"light\"}, \"paper_bgcolor\": \"white\", \"plot_bgcolor\": \"#E5ECF6\", \"polar\": {\"angularaxis\": {\"gridcolor\": \"white\", \"linecolor\": \"white\", \"ticks\": \"\"}, \"bgcolor\": \"#E5ECF6\", \"radialaxis\": {\"gridcolor\": \"white\", \"linecolor\": \"white\", \"ticks\": \"\"}}, \"scene\": {\"xaxis\": {\"backgroundcolor\": \"#E5ECF6\", \"gridcolor\": \"white\", \"gridwidth\": 2, \"linecolor\": \"white\", \"showbackground\": true, \"ticks\": \"\", \"zerolinecolor\": \"white\"}, \"yaxis\": {\"backgroundcolor\": \"#E5ECF6\", \"gridcolor\": \"white\", \"gridwidth\": 2, \"linecolor\": \"white\", \"showbackground\": true, \"ticks\": \"\", \"zerolinecolor\": \"white\"}, \"zaxis\": {\"backgroundcolor\": \"#E5ECF6\", \"gridcolor\": \"white\", \"gridwidth\": 2, \"linecolor\": \"white\", \"showbackground\": true, \"ticks\": \"\", \"zerolinecolor\": \"white\"}}, \"shapedefaults\": {\"line\": {\"color\": \"#2a3f5f\"}}, \"ternary\": {\"aaxis\": {\"gridcolor\": \"white\", \"linecolor\": \"white\", \"ticks\": \"\"}, \"baxis\": {\"gridcolor\": \"white\", \"linecolor\": \"white\", \"ticks\": \"\"}, \"bgcolor\": \"#E5ECF6\", \"caxis\": {\"gridcolor\": \"white\", \"linecolor\": \"white\", \"ticks\": \"\"}}, \"title\": {\"x\": 0.05}, \"xaxis\": {\"automargin\": true, \"gridcolor\": \"white\", \"linecolor\": \"white\", \"ticks\": \"\", \"title\": {\"standoff\": 15}, \"zerolinecolor\": \"white\", \"zerolinewidth\": 2}, \"yaxis\": {\"automargin\": true, \"gridcolor\": \"white\", \"linecolor\": \"white\", \"ticks\": \"\", \"title\": {\"standoff\": 15}, \"zerolinecolor\": \"white\", \"zerolinewidth\": 2}}}, \"uniformtext\": {\"minsize\": 12, \"mode\": \"hide\"}},\n                        {\"responsive\": true}\n                    ).then(function(){\n                            \nvar gd = document.getElementById('868bb1c2-70f8-4d24-bd82-0ed2687b5082');\nvar x = new MutationObserver(function (mutations, observer) {{\n        var display = window.getComputedStyle(gd).display;\n        if (!display || display === 'none') {{\n            console.log([gd, 'removed!']);\n            Plotly.purge(gd);\n            observer.disconnect();\n        }}\n}});\n\n// Listen for the removal of the full notebook cells\nvar notebookContainer = gd.closest('#notebook-container');\nif (notebookContainer) {{\n    x.observe(notebookContainer, {childList: true});\n}}\n\n// Listen for the clearing of the current output cell\nvar outputEl = gd.closest('.output');\nif (outputEl) {{\n    x.observe(outputEl, {childList: true});\n}}\n\n                        })\n                };\n                });\n            </script>\n        </div>"
     },
     "metadata": {},
     "output_type": "display_data"
    }
   ],
   "source": [
    "fig = px.pie(city_count, values='counts', names='city')\n",
    "fig.update_traces(textposition='inside')\n",
    "fig.update_layout(uniformtext_minsize=12, uniformtext_mode='hide')\n",
    "fig.show()"
   ],
   "metadata": {
    "collapsed": false,
    "pycharm": {
     "name": "#%%\n"
    }
   }
  },
  {
   "cell_type": "markdown",
   "source": [
    "## 3.3 merge city and province"
   ],
   "metadata": {
    "collapsed": false,
    "pycharm": {
     "name": "#%% md\n"
    }
   }
  },
  {
   "cell_type": "code",
   "execution_count": 182,
   "outputs": [
    {
     "data": {
      "text/plain": "             province             city\n0               Seoul       Gangseo-gu\n1               Seoul      Jungnang-gu\n2               Seoul        Jongno-gu\n3               Seoul          Mapo-gu\n4               Seoul      Seongbuk-gu\n..                ...              ...\n143  Gyeongsangnam-do     Geochang-gun\n144  Gyeongsangnam-do       Miryang-si\n145  Gyeongsangnam-do  Changnyeong-gun\n146  Gyeongsangnam-do       Sacheon-si\n147           Jeju-do          Jeju-do\n\n[148 rows x 2 columns]",
      "text/html": "<div>\n<style scoped>\n    .dataframe tbody tr th:only-of-type {\n        vertical-align: middle;\n    }\n\n    .dataframe tbody tr th {\n        vertical-align: top;\n    }\n\n    .dataframe thead th {\n        text-align: right;\n    }\n</style>\n<table border=\"1\" class=\"dataframe\">\n  <thead>\n    <tr style=\"text-align: right;\">\n      <th></th>\n      <th>province</th>\n      <th>city</th>\n    </tr>\n  </thead>\n  <tbody>\n    <tr>\n      <th>0</th>\n      <td>Seoul</td>\n      <td>Gangseo-gu</td>\n    </tr>\n    <tr>\n      <th>1</th>\n      <td>Seoul</td>\n      <td>Jungnang-gu</td>\n    </tr>\n    <tr>\n      <th>2</th>\n      <td>Seoul</td>\n      <td>Jongno-gu</td>\n    </tr>\n    <tr>\n      <th>3</th>\n      <td>Seoul</td>\n      <td>Mapo-gu</td>\n    </tr>\n    <tr>\n      <th>4</th>\n      <td>Seoul</td>\n      <td>Seongbuk-gu</td>\n    </tr>\n    <tr>\n      <th>...</th>\n      <td>...</td>\n      <td>...</td>\n    </tr>\n    <tr>\n      <th>143</th>\n      <td>Gyeongsangnam-do</td>\n      <td>Geochang-gun</td>\n    </tr>\n    <tr>\n      <th>144</th>\n      <td>Gyeongsangnam-do</td>\n      <td>Miryang-si</td>\n    </tr>\n    <tr>\n      <th>145</th>\n      <td>Gyeongsangnam-do</td>\n      <td>Changnyeong-gun</td>\n    </tr>\n    <tr>\n      <th>146</th>\n      <td>Gyeongsangnam-do</td>\n      <td>Sacheon-si</td>\n    </tr>\n    <tr>\n      <th>147</th>\n      <td>Jeju-do</td>\n      <td>Jeju-do</td>\n    </tr>\n  </tbody>\n</table>\n<p>148 rows × 2 columns</p>\n</div>"
     },
     "execution_count": 182,
     "metadata": {},
     "output_type": "execute_result"
    }
   ],
   "source": [
    "city_province = data.drop_duplicates(subset='city',keep='first', inplace=False).reset_index(drop=True)\n",
    "city_province = city_province[['province','city']]\n",
    "city_province"
   ],
   "metadata": {
    "collapsed": false,
    "pycharm": {
     "name": "#%%\n"
    }
   }
  },
  {
   "cell_type": "code",
   "execution_count": 183,
   "outputs": [
    {
     "data": {
      "text/plain": "             province             city  counts\n0               Seoul       Gangseo-gu      68\n1               Seoul      Jungnang-gu      28\n2               Seoul        Jongno-gu      18\n3               Seoul          Mapo-gu      36\n4               Seoul      Seongbuk-gu      29\n..                ...              ...     ...\n143  Gyeongsangnam-do     Geochang-gun      17\n144  Gyeongsangnam-do       Miryang-si       5\n145  Gyeongsangnam-do  Changnyeong-gun       6\n146  Gyeongsangnam-do       Sacheon-si       3\n147           Jeju-do          Jeju-do      10\n\n[148 rows x 3 columns]",
      "text/html": "<div>\n<style scoped>\n    .dataframe tbody tr th:only-of-type {\n        vertical-align: middle;\n    }\n\n    .dataframe tbody tr th {\n        vertical-align: top;\n    }\n\n    .dataframe thead th {\n        text-align: right;\n    }\n</style>\n<table border=\"1\" class=\"dataframe\">\n  <thead>\n    <tr style=\"text-align: right;\">\n      <th></th>\n      <th>province</th>\n      <th>city</th>\n      <th>counts</th>\n    </tr>\n  </thead>\n  <tbody>\n    <tr>\n      <th>0</th>\n      <td>Seoul</td>\n      <td>Gangseo-gu</td>\n      <td>68</td>\n    </tr>\n    <tr>\n      <th>1</th>\n      <td>Seoul</td>\n      <td>Jungnang-gu</td>\n      <td>28</td>\n    </tr>\n    <tr>\n      <th>2</th>\n      <td>Seoul</td>\n      <td>Jongno-gu</td>\n      <td>18</td>\n    </tr>\n    <tr>\n      <th>3</th>\n      <td>Seoul</td>\n      <td>Mapo-gu</td>\n      <td>36</td>\n    </tr>\n    <tr>\n      <th>4</th>\n      <td>Seoul</td>\n      <td>Seongbuk-gu</td>\n      <td>29</td>\n    </tr>\n    <tr>\n      <th>...</th>\n      <td>...</td>\n      <td>...</td>\n      <td>...</td>\n    </tr>\n    <tr>\n      <th>143</th>\n      <td>Gyeongsangnam-do</td>\n      <td>Geochang-gun</td>\n      <td>17</td>\n    </tr>\n    <tr>\n      <th>144</th>\n      <td>Gyeongsangnam-do</td>\n      <td>Miryang-si</td>\n      <td>5</td>\n    </tr>\n    <tr>\n      <th>145</th>\n      <td>Gyeongsangnam-do</td>\n      <td>Changnyeong-gun</td>\n      <td>6</td>\n    </tr>\n    <tr>\n      <th>146</th>\n      <td>Gyeongsangnam-do</td>\n      <td>Sacheon-si</td>\n      <td>3</td>\n    </tr>\n    <tr>\n      <th>147</th>\n      <td>Jeju-do</td>\n      <td>Jeju-do</td>\n      <td>10</td>\n    </tr>\n  </tbody>\n</table>\n<p>148 rows × 3 columns</p>\n</div>"
     },
     "execution_count": 183,
     "metadata": {},
     "output_type": "execute_result"
    }
   ],
   "source": [
    "# Merge the two dfs based on city column\n",
    "city_count.set_index(['city'], inplace=True)\n",
    "result = city_province.join(city_count,on='city')\n",
    "result"
   ],
   "metadata": {
    "collapsed": false,
    "pycharm": {
     "name": "#%%\n"
    }
   }
  },
  {
   "cell_type": "code",
   "execution_count": 184,
   "outputs": [
    {
     "data": {
      "application/vnd.plotly.v1+json": {
       "config": {
        "plotlyServerURL": "https://plot.ly"
       },
       "data": [
        {
         "branchvalues": "total",
         "customdata": [
          [
           "Andong-si",
           15.0
          ],
          [
           "Ansan-si",
           31.0
          ],
          [
           "Anseong-si",
           4.0
          ],
          [
           "Anyang-si",
           54.0
          ],
          [
           "Asan-si",
           13.0
          ],
          [
           "Bonghwa-gun",
           31.0
          ],
          [
           "Bucheon-si",
           144.0
          ],
          [
           "Buk-gu",
           20.0
          ],
          [
           "Bupyeong-gu",
           80.0
          ],
          [
           "Busanjin-gu",
           11.0
          ],
          [
           "Buyeo-gun",
           10.0
          ],
          [
           "Changnyeong-gun",
           6.0
          ],
          [
           "Changwon-si",
           20.0
          ],
          [
           "Cheonan-si",
           100.0
          ],
          [
           "Cheongdo-gun",
           20.0
          ],
          [
           "Cheongju-si",
           14.0
          ],
          [
           "Cheorwon-gun",
           10.0
          ],
          [
           "Chilgok-gun",
           11.0
          ],
          [
           "Chuncheon-si",
           8.0
          ],
          [
           "Chungju-si",
           7.0
          ],
          [
           "Daedeok-gu",
           2.0
          ],
          [
           "Dalseo-gu",
           3.0
          ],
          [
           "Dalsung-gun",
           1.0
          ],
          [
           "Danyang-gun",
           1.0
          ],
          [
           "Dobong-gu",
           57.0
          ],
          [
           "Dong-gu",
           23.0
          ],
          [
           "Dongdaemun-gu",
           37.0
          ],
          [
           "Dongducheon-si",
           5.0
          ],
          [
           "Dongjak-gu",
           41.0
          ],
          [
           "Dongnae-gu",
           33.0
          ],
          [
           "Eumseong-gun",
           5.0
          ],
          [
           "Eunpyeong-gu",
           39.0
          ],
          [
           "Gangbuk-gu",
           20.0
          ],
          [
           "Gangdong-gu",
           28.0
          ],
          [
           "Ganghwa-gun",
           1.0
          ],
          [
           "Gangnam-gu",
           74.0
          ],
          [
           "Gangneung-si",
           4.0
          ],
          [
           "Gangseo-gu",
           68.0
          ],
          [
           "Gapyeong-gun",
           1.0
          ],
          [
           "Geochang-gun",
           17.0
          ],
          [
           "Geoje-si",
           11.0
          ],
          [
           "Geumcheon-gu",
           23.0
          ],
          [
           "Geumjeong-gu",
           6.0
          ],
          [
           "Gijang-gun",
           1.0
          ],
          [
           "Gimcheon-si",
           8.0
          ],
          [
           "Gimhae-si",
           11.0
          ],
          [
           "Gimje-si",
           2.0
          ],
          [
           "Gimpo-si",
           33.0
          ],
          [
           "Goesan-gun",
           7.0
          ],
          [
           "Gongju-si",
           3.0
          ],
          [
           "Goryeong-gun",
           1.0
          ],
          [
           "Goseong-gun",
           2.0
          ],
          [
           "Goyang-si",
           42.0
          ],
          [
           "Gumi-si",
           12.0
          ],
          [
           "Gunpo-si",
           67.0
          ],
          [
           "Gunsan-si",
           4.0
          ],
          [
           "Gunwi-gun",
           4.0
          ],
          [
           "Guri-si",
           9.0
          ],
          [
           "Guro-gu",
           69.0
          ],
          [
           "Gwacheon-si",
           8.0
          ],
          [
           "Gwanak-gu",
           93.0
          ],
          [
           "Gwangjin-gu",
           17.0
          ],
          [
           "Gwangju-si",
           33.0
          ],
          [
           "Gwangmyeong-si",
           25.0
          ],
          [
           "Gwangyang-si",
           1.0
          ],
          [
           "Gyeongju-si",
           37.0
          ],
          [
           "Gyeongsan-si",
           45.0
          ],
          [
           "Gyeryong-si",
           1.0
          ],
          [
           "Gyeyang-gu",
           53.0
          ],
          [
           "Haeundae-gu",
           20.0
          ],
          [
           "Hamyang-gun",
           1.0
          ],
          [
           "Hanam-si",
           10.0
          ],
          [
           "Hapcheon-gun",
           10.0
          ],
          [
           "Hoengseong-gun",
           1.0
          ],
          [
           "Hongseong-gun",
           4.0
          ],
          [
           "Hwaseong-si",
           35.0
          ],
          [
           "Hwasun-gun",
           1.0
          ],
          [
           "Icheon-dong",
           1.0
          ],
          [
           "Icheon-si",
           10.0
          ],
          [
           "Iksan-si",
           1.0
          ],
          [
           "Inje-gun",
           1.0
          ],
          [
           "Jeju-do",
           10.0
          ],
          [
           "Jeonju-si",
           6.0
          ],
          [
           "Jeungpyeong-gun",
           2.0
          ],
          [
           "Jinju-si",
           4.0
          ],
          [
           "Jongno-gu",
           18.0
          ],
          [
           "Jung-gu",
           50.0
          ],
          [
           "Jungnang-gu",
           28.0
          ],
          [
           "Mapo-gu",
           36.0
          ],
          [
           "Michuhol-gu",
           68.0
          ],
          [
           "Miryang-si",
           5.0
          ],
          [
           "Mokpo-si",
           3.0
          ],
          [
           "Muan-gun",
           1.0
          ],
          [
           "Mungyeong-si",
           2.0
          ],
          [
           "Nam-gu",
           25.0
          ],
          [
           "Namdong-gu",
           43.0
          ],
          [
           "Namhae-gun",
           1.0
          ],
          [
           "Namyangju-si",
           44.0
          ],
          [
           "Nonsan-si",
           6.0
          ],
          [
           "Nowon-gu",
           39.0
          ],
          [
           "Osan-si",
           7.0
          ],
          [
           "Paju-si",
           15.0
          ],
          [
           "Pocheon-si",
           17.0
          ],
          [
           "Pohang-si",
           16.0
          ],
          [
           "Pyeongtaek-si",
           52.0
          ],
          [
           "Sacheon-si",
           3.0
          ],
          [
           "Saha-gu",
           10.0
          ],
          [
           "Sangju-si",
           12.0
          ],
          [
           "Sasang-gu",
           2.0
          ],
          [
           "Sejong",
           47.0
          ],
          [
           "Seo-gu",
           48.0
          ],
          [
           "Seocho-gu",
           47.0
          ],
          [
           "Seodaemun-gu",
           29.0
          ],
          [
           "Seongbuk-gu",
           29.0
          ],
          [
           "Seongdong-gu",
           43.0
          ],
          [
           "Seongju-gun",
           14.0
          ],
          [
           "Seongnam-si",
           155.0
          ],
          [
           "Seosan-si",
           8.0
          ],
          [
           "Siheung-si",
           20.0
          ],
          [
           "Sokcho-si",
           1.0
          ],
          [
           "Songpa-gu",
           50.0
          ],
          [
           "Suncheon-si",
           1.0
          ],
          [
           "Suseong-gu",
           2.0
          ],
          [
           "Suwon",
           1.0
          ],
          [
           "Suwon-si",
           92.0
          ],
          [
           "Suyeong-gu",
           9.0
          ],
          [
           "Taebaek-si",
           1.0
          ],
          [
           "Uijeongbu-si",
           42.0
          ],
          [
           "Uiwang-si",
           10.0
          ],
          [
           "Ulju-gun",
           6.0
          ],
          [
           "Wonju-si",
           20.0
          ],
          [
           "Yangcheon-gu",
           67.0
          ],
          [
           "Yangju-si",
           9.0
          ],
          [
           "Yangpyeong-si",
           1.0
          ],
          [
           "Yangsan-si",
           5.0
          ],
          [
           "Yecheon-gun",
           36.0
          ],
          [
           "Yeongcheon-si",
           11.0
          ],
          [
           "Yeongdeungpo-gu",
           52.0
          ],
          [
           "Yeongwol-gun",
           1.0
          ],
          [
           "Yeongyang-gun",
           1.0
          ],
          [
           "Yeonje-gu",
           4.0
          ],
          [
           "Yeonsu-gu",
           44.0
          ],
          [
           "Yeosu-si",
           2.0
          ],
          [
           "Yongin-si",
           86.0
          ],
          [
           "Yongsan-gu",
           48.0
          ],
          [
           "Yuseong-gu",
           28.0
          ],
          [
           "etc",
           76.0
          ],
          [
           "sankyeock-dong",
           1.0
          ],
          [
           "(?)",
           26.91509433962264
          ],
          [
           "(?)",
           9.0
          ],
          [
           "(?)",
           71.6896551724138
          ],
          [
           "(?)",
           2.0
          ],
          [
           "(?)",
           26.266666666666666
          ],
          [
           "(?)",
           12.446808510638299
          ],
          [
           "(?)",
           77.88700564971751
          ],
          [
           "(?)",
           26.608695652173914
          ],
          [
           "(?)",
           11.958333333333334
          ],
          [
           "(?)",
           60.965397923875436
          ],
          [
           "Jeju-do",
           10.0
          ],
          [
           "(?)",
           4.384615384615385
          ],
          [
           "(?)",
           1.8888888888888888
          ],
          [
           "Sejong",
           47.0
          ],
          [
           "(?)",
           53.70967741935484
          ],
          [
           "Ulju-gun",
           6.0
          ]
         ],
         "domain": {
          "x": [
           0.0,
           1.0
          ],
          "y": [
           0.0,
           1.0
          ]
         },
         "hovertemplate": "labels=%{label}<br>counts_sum=%{value}<br>parent=%{parent}<br>id=%{id}<br>city=%{customdata[0]}<br>counts=%{color}<extra></extra>",
         "ids": [
          "Gyeongsangbuk-do/Andong-si",
          "Gyeonggi-do/Ansan-si",
          "Gyeonggi-do/Anseong-si",
          "Gyeonggi-do/Anyang-si",
          "Chungcheongnam-do/Asan-si",
          "Gyeongsangbuk-do/Bonghwa-gun",
          "Gyeonggi-do/Bucheon-si",
          "Busan/Buk-gu",
          "Incheon/Bupyeong-gu",
          "Busan/Busanjin-gu",
          "Chungcheongnam-do/Buyeo-gun",
          "Gyeongsangnam-do/Changnyeong-gun",
          "Gyeongsangnam-do/Changwon-si",
          "Chungcheongnam-do/Cheonan-si",
          "Gyeongsangbuk-do/Cheongdo-gun",
          "Chungcheongbuk-do/Cheongju-si",
          "Gangwon-do/Cheorwon-gun",
          "Gyeongsangbuk-do/Chilgok-gun",
          "Gangwon-do/Chuncheon-si",
          "Chungcheongbuk-do/Chungju-si",
          "Daejeon/Daedeok-gu",
          "Daegu/Dalseo-gu",
          "Daegu/Dalsung-gun",
          "Chungcheongbuk-do/Danyang-gun",
          "Seoul/Dobong-gu",
          "Busan/Dong-gu",
          "Seoul/Dongdaemun-gu",
          "Gyeonggi-do/Dongducheon-si",
          "Seoul/Dongjak-gu",
          "Busan/Dongnae-gu",
          "Chungcheongbuk-do/Eumseong-gun",
          "Seoul/Eunpyeong-gu",
          "Seoul/Gangbuk-gu",
          "Seoul/Gangdong-gu",
          "Incheon/Ganghwa-gun",
          "Seoul/Gangnam-gu",
          "Gangwon-do/Gangneung-si",
          "Seoul/Gangseo-gu",
          "Gyeonggi-do/Gapyeong-gun",
          "Gyeongsangnam-do/Geochang-gun",
          "Gyeongsangnam-do/Geoje-si",
          "Seoul/Geumcheon-gu",
          "Busan/Geumjeong-gu",
          "Busan/Gijang-gun",
          "Gyeongsangbuk-do/Gimcheon-si",
          "Gyeongsangnam-do/Gimhae-si",
          "Jeollabuk-do/Gimje-si",
          "Gyeonggi-do/Gimpo-si",
          "Chungcheongbuk-do/Goesan-gun",
          "Chungcheongnam-do/Gongju-si",
          "Gyeongsangbuk-do/Goryeong-gun",
          "Gyeongsangnam-do/Goseong-gun",
          "Gyeonggi-do/Goyang-si",
          "Gyeongsangbuk-do/Gumi-si",
          "Gyeonggi-do/Gunpo-si",
          "Jeollabuk-do/Gunsan-si",
          "Gyeongsangbuk-do/Gunwi-gun",
          "Gyeonggi-do/Guri-si",
          "Seoul/Guro-gu",
          "Gyeonggi-do/Gwacheon-si",
          "Seoul/Gwanak-gu",
          "Seoul/Gwangjin-gu",
          "Gyeonggi-do/Gwangju-si",
          "Gyeonggi-do/Gwangmyeong-si",
          "Jeollanam-do/Gwangyang-si",
          "Gyeongsangbuk-do/Gyeongju-si",
          "Gyeongsangbuk-do/Gyeongsan-si",
          "Chungcheongnam-do/Gyeryong-si",
          "Incheon/Gyeyang-gu",
          "Busan/Haeundae-gu",
          "Gyeongsangnam-do/Hamyang-gun",
          "Gyeonggi-do/Hanam-si",
          "Gyeongsangnam-do/Hapcheon-gun",
          "Gangwon-do/Hoengseong-gun",
          "Chungcheongnam-do/Hongseong-gun",
          "Gyeonggi-do/Hwaseong-si",
          "Jeollanam-do/Hwasun-gun",
          "Daegu/Icheon-dong",
          "Gyeonggi-do/Icheon-si",
          "Jeollabuk-do/Iksan-si",
          "Gangwon-do/Inje-gun",
          "Jeju-do/Jeju-do",
          "Jeollabuk-do/Jeonju-si",
          "Chungcheongbuk-do/Jeungpyeong-gun",
          "Gyeongsangnam-do/Jinju-si",
          "Seoul/Jongno-gu",
          "Seoul/Jung-gu",
          "Seoul/Jungnang-gu",
          "Seoul/Mapo-gu",
          "Incheon/Michuhol-gu",
          "Gyeongsangnam-do/Miryang-si",
          "Jeollanam-do/Mokpo-si",
          "Jeollanam-do/Muan-gun",
          "Gyeongsangbuk-do/Mungyeong-si",
          "Busan/Nam-gu",
          "Incheon/Namdong-gu",
          "Gyeongsangnam-do/Namhae-gun",
          "Gyeonggi-do/Namyangju-si",
          "Chungcheongnam-do/Nonsan-si",
          "Seoul/Nowon-gu",
          "Gyeonggi-do/Osan-si",
          "Gyeonggi-do/Paju-si",
          "Gyeonggi-do/Pocheon-si",
          "Gyeongsangbuk-do/Pohang-si",
          "Gyeonggi-do/Pyeongtaek-si",
          "Gyeongsangnam-do/Sacheon-si",
          "Busan/Saha-gu",
          "Gyeongsangbuk-do/Sangju-si",
          "Busan/Sasang-gu",
          "Sejong/Sejong",
          "Busan/Seo-gu",
          "Seoul/Seocho-gu",
          "Seoul/Seodaemun-gu",
          "Seoul/Seongbuk-gu",
          "Seoul/Seongdong-gu",
          "Gyeongsangbuk-do/Seongju-gun",
          "Gyeonggi-do/Seongnam-si",
          "Chungcheongnam-do/Seosan-si",
          "Gyeonggi-do/Siheung-si",
          "Gangwon-do/Sokcho-si",
          "Seoul/Songpa-gu",
          "Jeollanam-do/Suncheon-si",
          "Daegu/Suseong-gu",
          "Gyeonggi-do/Suwon",
          "Gyeonggi-do/Suwon-si",
          "Busan/Suyeong-gu",
          "Gangwon-do/Taebaek-si",
          "Gyeonggi-do/Uijeongbu-si",
          "Gyeonggi-do/Uiwang-si",
          "Ulsan/Ulju-gun",
          "Gangwon-do/Wonju-si",
          "Seoul/Yangcheon-gu",
          "Gyeonggi-do/Yangju-si",
          "Gyeonggi-do/Yangpyeong-si",
          "Gyeongsangnam-do/Yangsan-si",
          "Gyeongsangbuk-do/Yecheon-gun",
          "Gyeongsangbuk-do/Yeongcheon-si",
          "Seoul/Yeongdeungpo-gu",
          "Gangwon-do/Yeongwol-gun",
          "Gyeongsangbuk-do/Yeongyang-gun",
          "Busan/Yeonje-gu",
          "Incheon/Yeonsu-gu",
          "Jeollanam-do/Yeosu-si",
          "Gyeonggi-do/Yongin-si",
          "Seoul/Yongsan-gu",
          "Daejeon/Yuseong-gu",
          "Seoul/etc",
          "Daegu/sankyeock-dong",
          "Busan",
          "Chungcheongbuk-do",
          "Chungcheongnam-do",
          "Daegu",
          "Daejeon",
          "Gangwon-do",
          "Gyeonggi-do",
          "Gyeongsangbuk-do",
          "Gyeongsangnam-do",
          "Incheon",
          "Jeju-do",
          "Jeollabuk-do",
          "Jeollanam-do",
          "Sejong",
          "Seoul",
          "Ulsan"
         ],
         "labels": [
          "Andong-si",
          "Ansan-si",
          "Anseong-si",
          "Anyang-si",
          "Asan-si",
          "Bonghwa-gun",
          "Bucheon-si",
          "Buk-gu",
          "Bupyeong-gu",
          "Busanjin-gu",
          "Buyeo-gun",
          "Changnyeong-gun",
          "Changwon-si",
          "Cheonan-si",
          "Cheongdo-gun",
          "Cheongju-si",
          "Cheorwon-gun",
          "Chilgok-gun",
          "Chuncheon-si",
          "Chungju-si",
          "Daedeok-gu",
          "Dalseo-gu",
          "Dalsung-gun",
          "Danyang-gun",
          "Dobong-gu",
          "Dong-gu",
          "Dongdaemun-gu",
          "Dongducheon-si",
          "Dongjak-gu",
          "Dongnae-gu",
          "Eumseong-gun",
          "Eunpyeong-gu",
          "Gangbuk-gu",
          "Gangdong-gu",
          "Ganghwa-gun",
          "Gangnam-gu",
          "Gangneung-si",
          "Gangseo-gu",
          "Gapyeong-gun",
          "Geochang-gun",
          "Geoje-si",
          "Geumcheon-gu",
          "Geumjeong-gu",
          "Gijang-gun",
          "Gimcheon-si",
          "Gimhae-si",
          "Gimje-si",
          "Gimpo-si",
          "Goesan-gun",
          "Gongju-si",
          "Goryeong-gun",
          "Goseong-gun",
          "Goyang-si",
          "Gumi-si",
          "Gunpo-si",
          "Gunsan-si",
          "Gunwi-gun",
          "Guri-si",
          "Guro-gu",
          "Gwacheon-si",
          "Gwanak-gu",
          "Gwangjin-gu",
          "Gwangju-si",
          "Gwangmyeong-si",
          "Gwangyang-si",
          "Gyeongju-si",
          "Gyeongsan-si",
          "Gyeryong-si",
          "Gyeyang-gu",
          "Haeundae-gu",
          "Hamyang-gun",
          "Hanam-si",
          "Hapcheon-gun",
          "Hoengseong-gun",
          "Hongseong-gun",
          "Hwaseong-si",
          "Hwasun-gun",
          "Icheon-dong",
          "Icheon-si",
          "Iksan-si",
          "Inje-gun",
          "Jeju-do",
          "Jeonju-si",
          "Jeungpyeong-gun",
          "Jinju-si",
          "Jongno-gu",
          "Jung-gu",
          "Jungnang-gu",
          "Mapo-gu",
          "Michuhol-gu",
          "Miryang-si",
          "Mokpo-si",
          "Muan-gun",
          "Mungyeong-si",
          "Nam-gu",
          "Namdong-gu",
          "Namhae-gun",
          "Namyangju-si",
          "Nonsan-si",
          "Nowon-gu",
          "Osan-si",
          "Paju-si",
          "Pocheon-si",
          "Pohang-si",
          "Pyeongtaek-si",
          "Sacheon-si",
          "Saha-gu",
          "Sangju-si",
          "Sasang-gu",
          "Sejong",
          "Seo-gu",
          "Seocho-gu",
          "Seodaemun-gu",
          "Seongbuk-gu",
          "Seongdong-gu",
          "Seongju-gun",
          "Seongnam-si",
          "Seosan-si",
          "Siheung-si",
          "Sokcho-si",
          "Songpa-gu",
          "Suncheon-si",
          "Suseong-gu",
          "Suwon",
          "Suwon-si",
          "Suyeong-gu",
          "Taebaek-si",
          "Uijeongbu-si",
          "Uiwang-si",
          "Ulju-gun",
          "Wonju-si",
          "Yangcheon-gu",
          "Yangju-si",
          "Yangpyeong-si",
          "Yangsan-si",
          "Yecheon-gun",
          "Yeongcheon-si",
          "Yeongdeungpo-gu",
          "Yeongwol-gun",
          "Yeongyang-gun",
          "Yeonje-gu",
          "Yeonsu-gu",
          "Yeosu-si",
          "Yongin-si",
          "Yongsan-gu",
          "Yuseong-gu",
          "etc",
          "sankyeock-dong",
          "Busan",
          "Chungcheongbuk-do",
          "Chungcheongnam-do",
          "Daegu",
          "Daejeon",
          "Gangwon-do",
          "Gyeonggi-do",
          "Gyeongsangbuk-do",
          "Gyeongsangnam-do",
          "Incheon",
          "Jeju-do",
          "Jeollabuk-do",
          "Jeollanam-do",
          "Sejong",
          "Seoul",
          "Ulsan"
         ],
         "marker": {
          "coloraxis": "coloraxis",
          "colors": [
           15.0,
           31.0,
           4.0,
           54.0,
           13.0,
           31.0,
           144.0,
           20.0,
           80.0,
           11.0,
           10.0,
           6.0,
           20.0,
           100.0,
           20.0,
           14.0,
           10.0,
           11.0,
           8.0,
           7.0,
           2.0,
           3.0,
           1.0,
           1.0,
           57.0,
           23.0,
           37.0,
           5.0,
           41.0,
           33.0,
           5.0,
           39.0,
           20.0,
           28.0,
           1.0,
           74.0,
           4.0,
           68.0,
           1.0,
           17.0,
           11.0,
           23.0,
           6.0,
           1.0,
           8.0,
           11.0,
           2.0,
           33.0,
           7.0,
           3.0,
           1.0,
           2.0,
           42.0,
           12.0,
           67.0,
           4.0,
           4.0,
           9.0,
           69.0,
           8.0,
           93.0,
           17.0,
           33.0,
           25.0,
           1.0,
           37.0,
           45.0,
           1.0,
           53.0,
           20.0,
           1.0,
           10.0,
           10.0,
           1.0,
           4.0,
           35.0,
           1.0,
           1.0,
           10.0,
           1.0,
           1.0,
           10.0,
           6.0,
           2.0,
           4.0,
           18.0,
           50.0,
           28.0,
           36.0,
           68.0,
           5.0,
           3.0,
           1.0,
           2.0,
           25.0,
           43.0,
           1.0,
           44.0,
           6.0,
           39.0,
           7.0,
           15.0,
           17.0,
           16.0,
           52.0,
           3.0,
           10.0,
           12.0,
           2.0,
           47.0,
           48.0,
           47.0,
           29.0,
           29.0,
           43.0,
           14.0,
           155.0,
           8.0,
           20.0,
           1.0,
           50.0,
           1.0,
           2.0,
           1.0,
           92.0,
           9.0,
           1.0,
           42.0,
           10.0,
           6.0,
           20.0,
           67.0,
           9.0,
           1.0,
           5.0,
           36.0,
           11.0,
           52.0,
           1.0,
           1.0,
           4.0,
           44.0,
           2.0,
           86.0,
           48.0,
           28.0,
           76.0,
           1.0,
           26.91509433962264,
           9.0,
           71.6896551724138,
           2.0,
           26.266666666666666,
           12.446808510638299,
           77.88700564971751,
           26.608695652173914,
           11.958333333333334,
           60.965397923875436,
           10.0,
           4.384615384615385,
           1.8888888888888888,
           47.0,
           53.70967741935484,
           6.0
          ]
         },
         "name": "",
         "parents": [
          "Gyeongsangbuk-do",
          "Gyeonggi-do",
          "Gyeonggi-do",
          "Gyeonggi-do",
          "Chungcheongnam-do",
          "Gyeongsangbuk-do",
          "Gyeonggi-do",
          "Busan",
          "Incheon",
          "Busan",
          "Chungcheongnam-do",
          "Gyeongsangnam-do",
          "Gyeongsangnam-do",
          "Chungcheongnam-do",
          "Gyeongsangbuk-do",
          "Chungcheongbuk-do",
          "Gangwon-do",
          "Gyeongsangbuk-do",
          "Gangwon-do",
          "Chungcheongbuk-do",
          "Daejeon",
          "Daegu",
          "Daegu",
          "Chungcheongbuk-do",
          "Seoul",
          "Busan",
          "Seoul",
          "Gyeonggi-do",
          "Seoul",
          "Busan",
          "Chungcheongbuk-do",
          "Seoul",
          "Seoul",
          "Seoul",
          "Incheon",
          "Seoul",
          "Gangwon-do",
          "Seoul",
          "Gyeonggi-do",
          "Gyeongsangnam-do",
          "Gyeongsangnam-do",
          "Seoul",
          "Busan",
          "Busan",
          "Gyeongsangbuk-do",
          "Gyeongsangnam-do",
          "Jeollabuk-do",
          "Gyeonggi-do",
          "Chungcheongbuk-do",
          "Chungcheongnam-do",
          "Gyeongsangbuk-do",
          "Gyeongsangnam-do",
          "Gyeonggi-do",
          "Gyeongsangbuk-do",
          "Gyeonggi-do",
          "Jeollabuk-do",
          "Gyeongsangbuk-do",
          "Gyeonggi-do",
          "Seoul",
          "Gyeonggi-do",
          "Seoul",
          "Seoul",
          "Gyeonggi-do",
          "Gyeonggi-do",
          "Jeollanam-do",
          "Gyeongsangbuk-do",
          "Gyeongsangbuk-do",
          "Chungcheongnam-do",
          "Incheon",
          "Busan",
          "Gyeongsangnam-do",
          "Gyeonggi-do",
          "Gyeongsangnam-do",
          "Gangwon-do",
          "Chungcheongnam-do",
          "Gyeonggi-do",
          "Jeollanam-do",
          "Daegu",
          "Gyeonggi-do",
          "Jeollabuk-do",
          "Gangwon-do",
          "Jeju-do",
          "Jeollabuk-do",
          "Chungcheongbuk-do",
          "Gyeongsangnam-do",
          "Seoul",
          "Seoul",
          "Seoul",
          "Seoul",
          "Incheon",
          "Gyeongsangnam-do",
          "Jeollanam-do",
          "Jeollanam-do",
          "Gyeongsangbuk-do",
          "Busan",
          "Incheon",
          "Gyeongsangnam-do",
          "Gyeonggi-do",
          "Chungcheongnam-do",
          "Seoul",
          "Gyeonggi-do",
          "Gyeonggi-do",
          "Gyeonggi-do",
          "Gyeongsangbuk-do",
          "Gyeonggi-do",
          "Gyeongsangnam-do",
          "Busan",
          "Gyeongsangbuk-do",
          "Busan",
          "Sejong",
          "Busan",
          "Seoul",
          "Seoul",
          "Seoul",
          "Seoul",
          "Gyeongsangbuk-do",
          "Gyeonggi-do",
          "Chungcheongnam-do",
          "Gyeonggi-do",
          "Gangwon-do",
          "Seoul",
          "Jeollanam-do",
          "Daegu",
          "Gyeonggi-do",
          "Gyeonggi-do",
          "Busan",
          "Gangwon-do",
          "Gyeonggi-do",
          "Gyeonggi-do",
          "Ulsan",
          "Gangwon-do",
          "Seoul",
          "Gyeonggi-do",
          "Gyeonggi-do",
          "Gyeongsangnam-do",
          "Gyeongsangbuk-do",
          "Gyeongsangbuk-do",
          "Seoul",
          "Gangwon-do",
          "Gyeongsangbuk-do",
          "Busan",
          "Incheon",
          "Jeollanam-do",
          "Gyeonggi-do",
          "Seoul",
          "Daejeon",
          "Seoul",
          "Daegu",
          "",
          "",
          "",
          "",
          "",
          "",
          "",
          "",
          "",
          "",
          "",
          "",
          "",
          "",
          "",
          ""
         ],
         "type": "treemap",
         "values": [
          15,
          31,
          4,
          54,
          13,
          31,
          144,
          20,
          80,
          11,
          10,
          6,
          20,
          100,
          20,
          14,
          10,
          11,
          8,
          7,
          2,
          3,
          1,
          1,
          57,
          23,
          37,
          5,
          41,
          33,
          5,
          39,
          20,
          28,
          1,
          74,
          4,
          68,
          1,
          17,
          11,
          23,
          6,
          1,
          8,
          11,
          2,
          33,
          7,
          3,
          1,
          2,
          42,
          12,
          67,
          4,
          4,
          9,
          69,
          8,
          93,
          17,
          33,
          25,
          1,
          37,
          45,
          1,
          53,
          20,
          1,
          10,
          10,
          1,
          4,
          35,
          1,
          1,
          10,
          1,
          1,
          10,
          6,
          2,
          4,
          18,
          50,
          28,
          36,
          68,
          5,
          3,
          1,
          2,
          25,
          43,
          1,
          44,
          6,
          39,
          7,
          15,
          17,
          16,
          52,
          3,
          10,
          12,
          2,
          47,
          48,
          47,
          29,
          29,
          43,
          14,
          155,
          8,
          20,
          1,
          50,
          1,
          2,
          1,
          92,
          9,
          1,
          42,
          10,
          6,
          20,
          67,
          9,
          1,
          5,
          36,
          11,
          52,
          1,
          1,
          4,
          44,
          2,
          86,
          48,
          28,
          76,
          1,
          212,
          36,
          145,
          8,
          30,
          47,
          1062,
          276,
          96,
          289,
          10,
          13,
          9,
          47,
          1178,
          6
         ]
        }
       ],
       "layout": {
        "coloraxis": {
         "colorbar": {
          "title": {
           "text": "counts"
          }
         },
         "colorscale": [
          [
           0.0,
           "rgb(253, 237, 176)"
          ],
          [
           0.09090909090909091,
           "rgb(250, 205, 145)"
          ],
          [
           0.18181818181818182,
           "rgb(246, 173, 119)"
          ],
          [
           0.2727272727272727,
           "rgb(240, 142, 98)"
          ],
          [
           0.36363636363636365,
           "rgb(231, 109, 84)"
          ],
          [
           0.45454545454545453,
           "rgb(216, 80, 83)"
          ],
          [
           0.5454545454545454,
           "rgb(195, 56, 90)"
          ],
          [
           0.6363636363636364,
           "rgb(168, 40, 96)"
          ],
          [
           0.7272727272727273,
           "rgb(138, 29, 99)"
          ],
          [
           0.8181818181818182,
           "rgb(107, 24, 93)"
          ],
          [
           0.9090909090909091,
           "rgb(76, 21, 80)"
          ],
          [
           1.0,
           "rgb(47, 15, 61)"
          ]
         ]
        },
        "legend": {
         "tracegroupgap": 0
        },
        "template": {
         "data": {
          "bar": [
           {
            "error_x": {
             "color": "#2a3f5f"
            },
            "error_y": {
             "color": "#2a3f5f"
            },
            "marker": {
             "line": {
              "color": "#E5ECF6",
              "width": 0.5
             }
            },
            "type": "bar"
           }
          ],
          "barpolar": [
           {
            "marker": {
             "line": {
              "color": "#E5ECF6",
              "width": 0.5
             }
            },
            "type": "barpolar"
           }
          ],
          "carpet": [
           {
            "aaxis": {
             "endlinecolor": "#2a3f5f",
             "gridcolor": "white",
             "linecolor": "white",
             "minorgridcolor": "white",
             "startlinecolor": "#2a3f5f"
            },
            "baxis": {
             "endlinecolor": "#2a3f5f",
             "gridcolor": "white",
             "linecolor": "white",
             "minorgridcolor": "white",
             "startlinecolor": "#2a3f5f"
            },
            "type": "carpet"
           }
          ],
          "choropleth": [
           {
            "colorbar": {
             "outlinewidth": 0,
             "ticks": ""
            },
            "type": "choropleth"
           }
          ],
          "contour": [
           {
            "colorbar": {
             "outlinewidth": 0,
             "ticks": ""
            },
            "colorscale": [
             [
              0.0,
              "#0d0887"
             ],
             [
              0.1111111111111111,
              "#46039f"
             ],
             [
              0.2222222222222222,
              "#7201a8"
             ],
             [
              0.3333333333333333,
              "#9c179e"
             ],
             [
              0.4444444444444444,
              "#bd3786"
             ],
             [
              0.5555555555555556,
              "#d8576b"
             ],
             [
              0.6666666666666666,
              "#ed7953"
             ],
             [
              0.7777777777777778,
              "#fb9f3a"
             ],
             [
              0.8888888888888888,
              "#fdca26"
             ],
             [
              1.0,
              "#f0f921"
             ]
            ],
            "type": "contour"
           }
          ],
          "contourcarpet": [
           {
            "colorbar": {
             "outlinewidth": 0,
             "ticks": ""
            },
            "type": "contourcarpet"
           }
          ],
          "heatmap": [
           {
            "colorbar": {
             "outlinewidth": 0,
             "ticks": ""
            },
            "colorscale": [
             [
              0.0,
              "#0d0887"
             ],
             [
              0.1111111111111111,
              "#46039f"
             ],
             [
              0.2222222222222222,
              "#7201a8"
             ],
             [
              0.3333333333333333,
              "#9c179e"
             ],
             [
              0.4444444444444444,
              "#bd3786"
             ],
             [
              0.5555555555555556,
              "#d8576b"
             ],
             [
              0.6666666666666666,
              "#ed7953"
             ],
             [
              0.7777777777777778,
              "#fb9f3a"
             ],
             [
              0.8888888888888888,
              "#fdca26"
             ],
             [
              1.0,
              "#f0f921"
             ]
            ],
            "type": "heatmap"
           }
          ],
          "heatmapgl": [
           {
            "colorbar": {
             "outlinewidth": 0,
             "ticks": ""
            },
            "colorscale": [
             [
              0.0,
              "#0d0887"
             ],
             [
              0.1111111111111111,
              "#46039f"
             ],
             [
              0.2222222222222222,
              "#7201a8"
             ],
             [
              0.3333333333333333,
              "#9c179e"
             ],
             [
              0.4444444444444444,
              "#bd3786"
             ],
             [
              0.5555555555555556,
              "#d8576b"
             ],
             [
              0.6666666666666666,
              "#ed7953"
             ],
             [
              0.7777777777777778,
              "#fb9f3a"
             ],
             [
              0.8888888888888888,
              "#fdca26"
             ],
             [
              1.0,
              "#f0f921"
             ]
            ],
            "type": "heatmapgl"
           }
          ],
          "histogram": [
           {
            "marker": {
             "colorbar": {
              "outlinewidth": 0,
              "ticks": ""
             }
            },
            "type": "histogram"
           }
          ],
          "histogram2d": [
           {
            "colorbar": {
             "outlinewidth": 0,
             "ticks": ""
            },
            "colorscale": [
             [
              0.0,
              "#0d0887"
             ],
             [
              0.1111111111111111,
              "#46039f"
             ],
             [
              0.2222222222222222,
              "#7201a8"
             ],
             [
              0.3333333333333333,
              "#9c179e"
             ],
             [
              0.4444444444444444,
              "#bd3786"
             ],
             [
              0.5555555555555556,
              "#d8576b"
             ],
             [
              0.6666666666666666,
              "#ed7953"
             ],
             [
              0.7777777777777778,
              "#fb9f3a"
             ],
             [
              0.8888888888888888,
              "#fdca26"
             ],
             [
              1.0,
              "#f0f921"
             ]
            ],
            "type": "histogram2d"
           }
          ],
          "histogram2dcontour": [
           {
            "colorbar": {
             "outlinewidth": 0,
             "ticks": ""
            },
            "colorscale": [
             [
              0.0,
              "#0d0887"
             ],
             [
              0.1111111111111111,
              "#46039f"
             ],
             [
              0.2222222222222222,
              "#7201a8"
             ],
             [
              0.3333333333333333,
              "#9c179e"
             ],
             [
              0.4444444444444444,
              "#bd3786"
             ],
             [
              0.5555555555555556,
              "#d8576b"
             ],
             [
              0.6666666666666666,
              "#ed7953"
             ],
             [
              0.7777777777777778,
              "#fb9f3a"
             ],
             [
              0.8888888888888888,
              "#fdca26"
             ],
             [
              1.0,
              "#f0f921"
             ]
            ],
            "type": "histogram2dcontour"
           }
          ],
          "mesh3d": [
           {
            "colorbar": {
             "outlinewidth": 0,
             "ticks": ""
            },
            "type": "mesh3d"
           }
          ],
          "parcoords": [
           {
            "line": {
             "colorbar": {
              "outlinewidth": 0,
              "ticks": ""
             }
            },
            "type": "parcoords"
           }
          ],
          "pie": [
           {
            "automargin": true,
            "type": "pie"
           }
          ],
          "scatter": [
           {
            "marker": {
             "colorbar": {
              "outlinewidth": 0,
              "ticks": ""
             }
            },
            "type": "scatter"
           }
          ],
          "scatter3d": [
           {
            "line": {
             "colorbar": {
              "outlinewidth": 0,
              "ticks": ""
             }
            },
            "marker": {
             "colorbar": {
              "outlinewidth": 0,
              "ticks": ""
             }
            },
            "type": "scatter3d"
           }
          ],
          "scattercarpet": [
           {
            "marker": {
             "colorbar": {
              "outlinewidth": 0,
              "ticks": ""
             }
            },
            "type": "scattercarpet"
           }
          ],
          "scattergeo": [
           {
            "marker": {
             "colorbar": {
              "outlinewidth": 0,
              "ticks": ""
             }
            },
            "type": "scattergeo"
           }
          ],
          "scattergl": [
           {
            "marker": {
             "colorbar": {
              "outlinewidth": 0,
              "ticks": ""
             }
            },
            "type": "scattergl"
           }
          ],
          "scattermapbox": [
           {
            "marker": {
             "colorbar": {
              "outlinewidth": 0,
              "ticks": ""
             }
            },
            "type": "scattermapbox"
           }
          ],
          "scatterpolar": [
           {
            "marker": {
             "colorbar": {
              "outlinewidth": 0,
              "ticks": ""
             }
            },
            "type": "scatterpolar"
           }
          ],
          "scatterpolargl": [
           {
            "marker": {
             "colorbar": {
              "outlinewidth": 0,
              "ticks": ""
             }
            },
            "type": "scatterpolargl"
           }
          ],
          "scatterternary": [
           {
            "marker": {
             "colorbar": {
              "outlinewidth": 0,
              "ticks": ""
             }
            },
            "type": "scatterternary"
           }
          ],
          "surface": [
           {
            "colorbar": {
             "outlinewidth": 0,
             "ticks": ""
            },
            "colorscale": [
             [
              0.0,
              "#0d0887"
             ],
             [
              0.1111111111111111,
              "#46039f"
             ],
             [
              0.2222222222222222,
              "#7201a8"
             ],
             [
              0.3333333333333333,
              "#9c179e"
             ],
             [
              0.4444444444444444,
              "#bd3786"
             ],
             [
              0.5555555555555556,
              "#d8576b"
             ],
             [
              0.6666666666666666,
              "#ed7953"
             ],
             [
              0.7777777777777778,
              "#fb9f3a"
             ],
             [
              0.8888888888888888,
              "#fdca26"
             ],
             [
              1.0,
              "#f0f921"
             ]
            ],
            "type": "surface"
           }
          ],
          "table": [
           {
            "cells": {
             "fill": {
              "color": "#EBF0F8"
             },
             "line": {
              "color": "white"
             }
            },
            "header": {
             "fill": {
              "color": "#C8D4E3"
             },
             "line": {
              "color": "white"
             }
            },
            "type": "table"
           }
          ]
         },
         "layout": {
          "annotationdefaults": {
           "arrowcolor": "#2a3f5f",
           "arrowhead": 0,
           "arrowwidth": 1
          },
          "coloraxis": {
           "colorbar": {
            "outlinewidth": 0,
            "ticks": ""
           }
          },
          "colorscale": {
           "diverging": [
            [
             0,
             "#8e0152"
            ],
            [
             0.1,
             "#c51b7d"
            ],
            [
             0.2,
             "#de77ae"
            ],
            [
             0.3,
             "#f1b6da"
            ],
            [
             0.4,
             "#fde0ef"
            ],
            [
             0.5,
             "#f7f7f7"
            ],
            [
             0.6,
             "#e6f5d0"
            ],
            [
             0.7,
             "#b8e186"
            ],
            [
             0.8,
             "#7fbc41"
            ],
            [
             0.9,
             "#4d9221"
            ],
            [
             1,
             "#276419"
            ]
           ],
           "sequential": [
            [
             0.0,
             "#0d0887"
            ],
            [
             0.1111111111111111,
             "#46039f"
            ],
            [
             0.2222222222222222,
             "#7201a8"
            ],
            [
             0.3333333333333333,
             "#9c179e"
            ],
            [
             0.4444444444444444,
             "#bd3786"
            ],
            [
             0.5555555555555556,
             "#d8576b"
            ],
            [
             0.6666666666666666,
             "#ed7953"
            ],
            [
             0.7777777777777778,
             "#fb9f3a"
            ],
            [
             0.8888888888888888,
             "#fdca26"
            ],
            [
             1.0,
             "#f0f921"
            ]
           ],
           "sequentialminus": [
            [
             0.0,
             "#0d0887"
            ],
            [
             0.1111111111111111,
             "#46039f"
            ],
            [
             0.2222222222222222,
             "#7201a8"
            ],
            [
             0.3333333333333333,
             "#9c179e"
            ],
            [
             0.4444444444444444,
             "#bd3786"
            ],
            [
             0.5555555555555556,
             "#d8576b"
            ],
            [
             0.6666666666666666,
             "#ed7953"
            ],
            [
             0.7777777777777778,
             "#fb9f3a"
            ],
            [
             0.8888888888888888,
             "#fdca26"
            ],
            [
             1.0,
             "#f0f921"
            ]
           ]
          },
          "colorway": [
           "#636efa",
           "#EF553B",
           "#00cc96",
           "#ab63fa",
           "#FFA15A",
           "#19d3f3",
           "#FF6692",
           "#B6E880",
           "#FF97FF",
           "#FECB52"
          ],
          "font": {
           "color": "#2a3f5f"
          },
          "geo": {
           "bgcolor": "white",
           "lakecolor": "white",
           "landcolor": "#E5ECF6",
           "showlakes": true,
           "showland": true,
           "subunitcolor": "white"
          },
          "hoverlabel": {
           "align": "left"
          },
          "hovermode": "closest",
          "mapbox": {
           "style": "light"
          },
          "paper_bgcolor": "white",
          "plot_bgcolor": "#E5ECF6",
          "polar": {
           "angularaxis": {
            "gridcolor": "white",
            "linecolor": "white",
            "ticks": ""
           },
           "bgcolor": "#E5ECF6",
           "radialaxis": {
            "gridcolor": "white",
            "linecolor": "white",
            "ticks": ""
           }
          },
          "scene": {
           "xaxis": {
            "backgroundcolor": "#E5ECF6",
            "gridcolor": "white",
            "gridwidth": 2,
            "linecolor": "white",
            "showbackground": true,
            "ticks": "",
            "zerolinecolor": "white"
           },
           "yaxis": {
            "backgroundcolor": "#E5ECF6",
            "gridcolor": "white",
            "gridwidth": 2,
            "linecolor": "white",
            "showbackground": true,
            "ticks": "",
            "zerolinecolor": "white"
           },
           "zaxis": {
            "backgroundcolor": "#E5ECF6",
            "gridcolor": "white",
            "gridwidth": 2,
            "linecolor": "white",
            "showbackground": true,
            "ticks": "",
            "zerolinecolor": "white"
           }
          },
          "shapedefaults": {
           "line": {
            "color": "#2a3f5f"
           }
          },
          "ternary": {
           "aaxis": {
            "gridcolor": "white",
            "linecolor": "white",
            "ticks": ""
           },
           "baxis": {
            "gridcolor": "white",
            "linecolor": "white",
            "ticks": ""
           },
           "bgcolor": "#E5ECF6",
           "caxis": {
            "gridcolor": "white",
            "linecolor": "white",
            "ticks": ""
           }
          },
          "title": {
           "x": 0.05
          },
          "xaxis": {
           "automargin": true,
           "gridcolor": "white",
           "linecolor": "white",
           "ticks": "",
           "title": {
            "standoff": 15
           },
           "zerolinecolor": "white",
           "zerolinewidth": 2
          },
          "yaxis": {
           "automargin": true,
           "gridcolor": "white",
           "linecolor": "white",
           "ticks": "",
           "title": {
            "standoff": 15
           },
           "zerolinecolor": "white",
           "zerolinewidth": 2
          }
         }
        },
        "title": {
         "text": "Current COVID19 Confirmed Cases In South Korea"
        }
       }
      },
      "text/html": "<div>\n        \n        \n            <div id=\"644609cb-b7db-404e-ab53-ee0c3e19a213\" class=\"plotly-graph-div\" style=\"height:525px; width:100%;\"></div>\n            <script type=\"text/javascript\">\n                require([\"plotly\"], function(Plotly) {\n                    window.PLOTLYENV=window.PLOTLYENV || {};\n                    \n                if (document.getElementById(\"644609cb-b7db-404e-ab53-ee0c3e19a213\")) {\n                    Plotly.newPlot(\n                        '644609cb-b7db-404e-ab53-ee0c3e19a213',\n                        [{\"branchvalues\": \"total\", \"customdata\": [[\"Andong-si\", 15.0], [\"Ansan-si\", 31.0], [\"Anseong-si\", 4.0], [\"Anyang-si\", 54.0], [\"Asan-si\", 13.0], [\"Bonghwa-gun\", 31.0], [\"Bucheon-si\", 144.0], [\"Buk-gu\", 20.0], [\"Bupyeong-gu\", 80.0], [\"Busanjin-gu\", 11.0], [\"Buyeo-gun\", 10.0], [\"Changnyeong-gun\", 6.0], [\"Changwon-si\", 20.0], [\"Cheonan-si\", 100.0], [\"Cheongdo-gun\", 20.0], [\"Cheongju-si\", 14.0], [\"Cheorwon-gun\", 10.0], [\"Chilgok-gun\", 11.0], [\"Chuncheon-si\", 8.0], [\"Chungju-si\", 7.0], [\"Daedeok-gu\", 2.0], [\"Dalseo-gu\", 3.0], [\"Dalsung-gun\", 1.0], [\"Danyang-gun\", 1.0], [\"Dobong-gu\", 57.0], [\"Dong-gu\", 23.0], [\"Dongdaemun-gu\", 37.0], [\"Dongducheon-si\", 5.0], [\"Dongjak-gu\", 41.0], [\"Dongnae-gu\", 33.0], [\"Eumseong-gun\", 5.0], [\"Eunpyeong-gu\", 39.0], [\"Gangbuk-gu\", 20.0], [\"Gangdong-gu\", 28.0], [\"Ganghwa-gun\", 1.0], [\"Gangnam-gu\", 74.0], [\"Gangneung-si\", 4.0], [\"Gangseo-gu\", 68.0], [\"Gapyeong-gun\", 1.0], [\"Geochang-gun\", 17.0], [\"Geoje-si\", 11.0], [\"Geumcheon-gu\", 23.0], [\"Geumjeong-gu\", 6.0], [\"Gijang-gun\", 1.0], [\"Gimcheon-si\", 8.0], [\"Gimhae-si\", 11.0], [\"Gimje-si\", 2.0], [\"Gimpo-si\", 33.0], [\"Goesan-gun\", 7.0], [\"Gongju-si\", 3.0], [\"Goryeong-gun\", 1.0], [\"Goseong-gun\", 2.0], [\"Goyang-si\", 42.0], [\"Gumi-si\", 12.0], [\"Gunpo-si\", 67.0], [\"Gunsan-si\", 4.0], [\"Gunwi-gun\", 4.0], [\"Guri-si\", 9.0], [\"Guro-gu\", 69.0], [\"Gwacheon-si\", 8.0], [\"Gwanak-gu\", 93.0], [\"Gwangjin-gu\", 17.0], [\"Gwangju-si\", 33.0], [\"Gwangmyeong-si\", 25.0], [\"Gwangyang-si\", 1.0], [\"Gyeongju-si\", 37.0], [\"Gyeongsan-si\", 45.0], [\"Gyeryong-si\", 1.0], [\"Gyeyang-gu\", 53.0], [\"Haeundae-gu\", 20.0], [\"Hamyang-gun\", 1.0], [\"Hanam-si\", 10.0], [\"Hapcheon-gun\", 10.0], [\"Hoengseong-gun\", 1.0], [\"Hongseong-gun\", 4.0], [\"Hwaseong-si\", 35.0], [\"Hwasun-gun\", 1.0], [\"Icheon-dong\", 1.0], [\"Icheon-si\", 10.0], [\"Iksan-si\", 1.0], [\"Inje-gun\", 1.0], [\"Jeju-do\", 10.0], [\"Jeonju-si\", 6.0], [\"Jeungpyeong-gun\", 2.0], [\"Jinju-si\", 4.0], [\"Jongno-gu\", 18.0], [\"Jung-gu\", 50.0], [\"Jungnang-gu\", 28.0], [\"Mapo-gu\", 36.0], [\"Michuhol-gu\", 68.0], [\"Miryang-si\", 5.0], [\"Mokpo-si\", 3.0], [\"Muan-gun\", 1.0], [\"Mungyeong-si\", 2.0], [\"Nam-gu\", 25.0], [\"Namdong-gu\", 43.0], [\"Namhae-gun\", 1.0], [\"Namyangju-si\", 44.0], [\"Nonsan-si\", 6.0], [\"Nowon-gu\", 39.0], [\"Osan-si\", 7.0], [\"Paju-si\", 15.0], [\"Pocheon-si\", 17.0], [\"Pohang-si\", 16.0], [\"Pyeongtaek-si\", 52.0], [\"Sacheon-si\", 3.0], [\"Saha-gu\", 10.0], [\"Sangju-si\", 12.0], [\"Sasang-gu\", 2.0], [\"Sejong\", 47.0], [\"Seo-gu\", 48.0], [\"Seocho-gu\", 47.0], [\"Seodaemun-gu\", 29.0], [\"Seongbuk-gu\", 29.0], [\"Seongdong-gu\", 43.0], [\"Seongju-gun\", 14.0], [\"Seongnam-si\", 155.0], [\"Seosan-si\", 8.0], [\"Siheung-si\", 20.0], [\"Sokcho-si\", 1.0], [\"Songpa-gu\", 50.0], [\"Suncheon-si\", 1.0], [\"Suseong-gu\", 2.0], [\"Suwon\", 1.0], [\"Suwon-si\", 92.0], [\"Suyeong-gu\", 9.0], [\"Taebaek-si\", 1.0], [\"Uijeongbu-si\", 42.0], [\"Uiwang-si\", 10.0], [\"Ulju-gun\", 6.0], [\"Wonju-si\", 20.0], [\"Yangcheon-gu\", 67.0], [\"Yangju-si\", 9.0], [\"Yangpyeong-si\", 1.0], [\"Yangsan-si\", 5.0], [\"Yecheon-gun\", 36.0], [\"Yeongcheon-si\", 11.0], [\"Yeongdeungpo-gu\", 52.0], [\"Yeongwol-gun\", 1.0], [\"Yeongyang-gun\", 1.0], [\"Yeonje-gu\", 4.0], [\"Yeonsu-gu\", 44.0], [\"Yeosu-si\", 2.0], [\"Yongin-si\", 86.0], [\"Yongsan-gu\", 48.0], [\"Yuseong-gu\", 28.0], [\"etc\", 76.0], [\"sankyeock-dong\", 1.0], [\"(?)\", 26.91509433962264], [\"(?)\", 9.0], [\"(?)\", 71.6896551724138], [\"(?)\", 2.0], [\"(?)\", 26.266666666666666], [\"(?)\", 12.446808510638299], [\"(?)\", 77.88700564971751], [\"(?)\", 26.608695652173914], [\"(?)\", 11.958333333333334], [\"(?)\", 60.965397923875436], [\"Jeju-do\", 10.0], [\"(?)\", 4.384615384615385], [\"(?)\", 1.8888888888888888], [\"Sejong\", 47.0], [\"(?)\", 53.70967741935484], [\"Ulju-gun\", 6.0]], \"domain\": {\"x\": [0.0, 1.0], \"y\": [0.0, 1.0]}, \"hovertemplate\": \"labels=%{label}<br>counts_sum=%{value}<br>parent=%{parent}<br>id=%{id}<br>city=%{customdata[0]}<br>counts=%{color}<extra></extra>\", \"ids\": [\"Gyeongsangbuk-do/Andong-si\", \"Gyeonggi-do/Ansan-si\", \"Gyeonggi-do/Anseong-si\", \"Gyeonggi-do/Anyang-si\", \"Chungcheongnam-do/Asan-si\", \"Gyeongsangbuk-do/Bonghwa-gun\", \"Gyeonggi-do/Bucheon-si\", \"Busan/Buk-gu\", \"Incheon/Bupyeong-gu\", \"Busan/Busanjin-gu\", \"Chungcheongnam-do/Buyeo-gun\", \"Gyeongsangnam-do/Changnyeong-gun\", \"Gyeongsangnam-do/Changwon-si\", \"Chungcheongnam-do/Cheonan-si\", \"Gyeongsangbuk-do/Cheongdo-gun\", \"Chungcheongbuk-do/Cheongju-si\", \"Gangwon-do/Cheorwon-gun\", \"Gyeongsangbuk-do/Chilgok-gun\", \"Gangwon-do/Chuncheon-si\", \"Chungcheongbuk-do/Chungju-si\", \"Daejeon/Daedeok-gu\", \"Daegu/Dalseo-gu\", \"Daegu/Dalsung-gun\", \"Chungcheongbuk-do/Danyang-gun\", \"Seoul/Dobong-gu\", \"Busan/Dong-gu\", \"Seoul/Dongdaemun-gu\", \"Gyeonggi-do/Dongducheon-si\", \"Seoul/Dongjak-gu\", \"Busan/Dongnae-gu\", \"Chungcheongbuk-do/Eumseong-gun\", \"Seoul/Eunpyeong-gu\", \"Seoul/Gangbuk-gu\", \"Seoul/Gangdong-gu\", \"Incheon/Ganghwa-gun\", \"Seoul/Gangnam-gu\", \"Gangwon-do/Gangneung-si\", \"Seoul/Gangseo-gu\", \"Gyeonggi-do/Gapyeong-gun\", \"Gyeongsangnam-do/Geochang-gun\", \"Gyeongsangnam-do/Geoje-si\", \"Seoul/Geumcheon-gu\", \"Busan/Geumjeong-gu\", \"Busan/Gijang-gun\", \"Gyeongsangbuk-do/Gimcheon-si\", \"Gyeongsangnam-do/Gimhae-si\", \"Jeollabuk-do/Gimje-si\", \"Gyeonggi-do/Gimpo-si\", \"Chungcheongbuk-do/Goesan-gun\", \"Chungcheongnam-do/Gongju-si\", \"Gyeongsangbuk-do/Goryeong-gun\", \"Gyeongsangnam-do/Goseong-gun\", \"Gyeonggi-do/Goyang-si\", \"Gyeongsangbuk-do/Gumi-si\", \"Gyeonggi-do/Gunpo-si\", \"Jeollabuk-do/Gunsan-si\", \"Gyeongsangbuk-do/Gunwi-gun\", \"Gyeonggi-do/Guri-si\", \"Seoul/Guro-gu\", \"Gyeonggi-do/Gwacheon-si\", \"Seoul/Gwanak-gu\", \"Seoul/Gwangjin-gu\", \"Gyeonggi-do/Gwangju-si\", \"Gyeonggi-do/Gwangmyeong-si\", \"Jeollanam-do/Gwangyang-si\", \"Gyeongsangbuk-do/Gyeongju-si\", \"Gyeongsangbuk-do/Gyeongsan-si\", \"Chungcheongnam-do/Gyeryong-si\", \"Incheon/Gyeyang-gu\", \"Busan/Haeundae-gu\", \"Gyeongsangnam-do/Hamyang-gun\", \"Gyeonggi-do/Hanam-si\", \"Gyeongsangnam-do/Hapcheon-gun\", \"Gangwon-do/Hoengseong-gun\", \"Chungcheongnam-do/Hongseong-gun\", \"Gyeonggi-do/Hwaseong-si\", \"Jeollanam-do/Hwasun-gun\", \"Daegu/Icheon-dong\", \"Gyeonggi-do/Icheon-si\", \"Jeollabuk-do/Iksan-si\", \"Gangwon-do/Inje-gun\", \"Jeju-do/Jeju-do\", \"Jeollabuk-do/Jeonju-si\", \"Chungcheongbuk-do/Jeungpyeong-gun\", \"Gyeongsangnam-do/Jinju-si\", \"Seoul/Jongno-gu\", \"Seoul/Jung-gu\", \"Seoul/Jungnang-gu\", \"Seoul/Mapo-gu\", \"Incheon/Michuhol-gu\", \"Gyeongsangnam-do/Miryang-si\", \"Jeollanam-do/Mokpo-si\", \"Jeollanam-do/Muan-gun\", \"Gyeongsangbuk-do/Mungyeong-si\", \"Busan/Nam-gu\", \"Incheon/Namdong-gu\", \"Gyeongsangnam-do/Namhae-gun\", \"Gyeonggi-do/Namyangju-si\", \"Chungcheongnam-do/Nonsan-si\", \"Seoul/Nowon-gu\", \"Gyeonggi-do/Osan-si\", \"Gyeonggi-do/Paju-si\", \"Gyeonggi-do/Pocheon-si\", \"Gyeongsangbuk-do/Pohang-si\", \"Gyeonggi-do/Pyeongtaek-si\", \"Gyeongsangnam-do/Sacheon-si\", \"Busan/Saha-gu\", \"Gyeongsangbuk-do/Sangju-si\", \"Busan/Sasang-gu\", \"Sejong/Sejong\", \"Busan/Seo-gu\", \"Seoul/Seocho-gu\", \"Seoul/Seodaemun-gu\", \"Seoul/Seongbuk-gu\", \"Seoul/Seongdong-gu\", \"Gyeongsangbuk-do/Seongju-gun\", \"Gyeonggi-do/Seongnam-si\", \"Chungcheongnam-do/Seosan-si\", \"Gyeonggi-do/Siheung-si\", \"Gangwon-do/Sokcho-si\", \"Seoul/Songpa-gu\", \"Jeollanam-do/Suncheon-si\", \"Daegu/Suseong-gu\", \"Gyeonggi-do/Suwon\", \"Gyeonggi-do/Suwon-si\", \"Busan/Suyeong-gu\", \"Gangwon-do/Taebaek-si\", \"Gyeonggi-do/Uijeongbu-si\", \"Gyeonggi-do/Uiwang-si\", \"Ulsan/Ulju-gun\", \"Gangwon-do/Wonju-si\", \"Seoul/Yangcheon-gu\", \"Gyeonggi-do/Yangju-si\", \"Gyeonggi-do/Yangpyeong-si\", \"Gyeongsangnam-do/Yangsan-si\", \"Gyeongsangbuk-do/Yecheon-gun\", \"Gyeongsangbuk-do/Yeongcheon-si\", \"Seoul/Yeongdeungpo-gu\", \"Gangwon-do/Yeongwol-gun\", \"Gyeongsangbuk-do/Yeongyang-gun\", \"Busan/Yeonje-gu\", \"Incheon/Yeonsu-gu\", \"Jeollanam-do/Yeosu-si\", \"Gyeonggi-do/Yongin-si\", \"Seoul/Yongsan-gu\", \"Daejeon/Yuseong-gu\", \"Seoul/etc\", \"Daegu/sankyeock-dong\", \"Busan\", \"Chungcheongbuk-do\", \"Chungcheongnam-do\", \"Daegu\", \"Daejeon\", \"Gangwon-do\", \"Gyeonggi-do\", \"Gyeongsangbuk-do\", \"Gyeongsangnam-do\", \"Incheon\", \"Jeju-do\", \"Jeollabuk-do\", \"Jeollanam-do\", \"Sejong\", \"Seoul\", \"Ulsan\"], \"labels\": [\"Andong-si\", \"Ansan-si\", \"Anseong-si\", \"Anyang-si\", \"Asan-si\", \"Bonghwa-gun\", \"Bucheon-si\", \"Buk-gu\", \"Bupyeong-gu\", \"Busanjin-gu\", \"Buyeo-gun\", \"Changnyeong-gun\", \"Changwon-si\", \"Cheonan-si\", \"Cheongdo-gun\", \"Cheongju-si\", \"Cheorwon-gun\", \"Chilgok-gun\", \"Chuncheon-si\", \"Chungju-si\", \"Daedeok-gu\", \"Dalseo-gu\", \"Dalsung-gun\", \"Danyang-gun\", \"Dobong-gu\", \"Dong-gu\", \"Dongdaemun-gu\", \"Dongducheon-si\", \"Dongjak-gu\", \"Dongnae-gu\", \"Eumseong-gun\", \"Eunpyeong-gu\", \"Gangbuk-gu\", \"Gangdong-gu\", \"Ganghwa-gun\", \"Gangnam-gu\", \"Gangneung-si\", \"Gangseo-gu\", \"Gapyeong-gun\", \"Geochang-gun\", \"Geoje-si\", \"Geumcheon-gu\", \"Geumjeong-gu\", \"Gijang-gun\", \"Gimcheon-si\", \"Gimhae-si\", \"Gimje-si\", \"Gimpo-si\", \"Goesan-gun\", \"Gongju-si\", \"Goryeong-gun\", \"Goseong-gun\", \"Goyang-si\", \"Gumi-si\", \"Gunpo-si\", \"Gunsan-si\", \"Gunwi-gun\", \"Guri-si\", \"Guro-gu\", \"Gwacheon-si\", \"Gwanak-gu\", \"Gwangjin-gu\", \"Gwangju-si\", \"Gwangmyeong-si\", \"Gwangyang-si\", \"Gyeongju-si\", \"Gyeongsan-si\", \"Gyeryong-si\", \"Gyeyang-gu\", \"Haeundae-gu\", \"Hamyang-gun\", \"Hanam-si\", \"Hapcheon-gun\", \"Hoengseong-gun\", \"Hongseong-gun\", \"Hwaseong-si\", \"Hwasun-gun\", \"Icheon-dong\", \"Icheon-si\", \"Iksan-si\", \"Inje-gun\", \"Jeju-do\", \"Jeonju-si\", \"Jeungpyeong-gun\", \"Jinju-si\", \"Jongno-gu\", \"Jung-gu\", \"Jungnang-gu\", \"Mapo-gu\", \"Michuhol-gu\", \"Miryang-si\", \"Mokpo-si\", \"Muan-gun\", \"Mungyeong-si\", \"Nam-gu\", \"Namdong-gu\", \"Namhae-gun\", \"Namyangju-si\", \"Nonsan-si\", \"Nowon-gu\", \"Osan-si\", \"Paju-si\", \"Pocheon-si\", \"Pohang-si\", \"Pyeongtaek-si\", \"Sacheon-si\", \"Saha-gu\", \"Sangju-si\", \"Sasang-gu\", \"Sejong\", \"Seo-gu\", \"Seocho-gu\", \"Seodaemun-gu\", \"Seongbuk-gu\", \"Seongdong-gu\", \"Seongju-gun\", \"Seongnam-si\", \"Seosan-si\", \"Siheung-si\", \"Sokcho-si\", \"Songpa-gu\", \"Suncheon-si\", \"Suseong-gu\", \"Suwon\", \"Suwon-si\", \"Suyeong-gu\", \"Taebaek-si\", \"Uijeongbu-si\", \"Uiwang-si\", \"Ulju-gun\", \"Wonju-si\", \"Yangcheon-gu\", \"Yangju-si\", \"Yangpyeong-si\", \"Yangsan-si\", \"Yecheon-gun\", \"Yeongcheon-si\", \"Yeongdeungpo-gu\", \"Yeongwol-gun\", \"Yeongyang-gun\", \"Yeonje-gu\", \"Yeonsu-gu\", \"Yeosu-si\", \"Yongin-si\", \"Yongsan-gu\", \"Yuseong-gu\", \"etc\", \"sankyeock-dong\", \"Busan\", \"Chungcheongbuk-do\", \"Chungcheongnam-do\", \"Daegu\", \"Daejeon\", \"Gangwon-do\", \"Gyeonggi-do\", \"Gyeongsangbuk-do\", \"Gyeongsangnam-do\", \"Incheon\", \"Jeju-do\", \"Jeollabuk-do\", \"Jeollanam-do\", \"Sejong\", \"Seoul\", \"Ulsan\"], \"marker\": {\"coloraxis\": \"coloraxis\", \"colors\": [15.0, 31.0, 4.0, 54.0, 13.0, 31.0, 144.0, 20.0, 80.0, 11.0, 10.0, 6.0, 20.0, 100.0, 20.0, 14.0, 10.0, 11.0, 8.0, 7.0, 2.0, 3.0, 1.0, 1.0, 57.0, 23.0, 37.0, 5.0, 41.0, 33.0, 5.0, 39.0, 20.0, 28.0, 1.0, 74.0, 4.0, 68.0, 1.0, 17.0, 11.0, 23.0, 6.0, 1.0, 8.0, 11.0, 2.0, 33.0, 7.0, 3.0, 1.0, 2.0, 42.0, 12.0, 67.0, 4.0, 4.0, 9.0, 69.0, 8.0, 93.0, 17.0, 33.0, 25.0, 1.0, 37.0, 45.0, 1.0, 53.0, 20.0, 1.0, 10.0, 10.0, 1.0, 4.0, 35.0, 1.0, 1.0, 10.0, 1.0, 1.0, 10.0, 6.0, 2.0, 4.0, 18.0, 50.0, 28.0, 36.0, 68.0, 5.0, 3.0, 1.0, 2.0, 25.0, 43.0, 1.0, 44.0, 6.0, 39.0, 7.0, 15.0, 17.0, 16.0, 52.0, 3.0, 10.0, 12.0, 2.0, 47.0, 48.0, 47.0, 29.0, 29.0, 43.0, 14.0, 155.0, 8.0, 20.0, 1.0, 50.0, 1.0, 2.0, 1.0, 92.0, 9.0, 1.0, 42.0, 10.0, 6.0, 20.0, 67.0, 9.0, 1.0, 5.0, 36.0, 11.0, 52.0, 1.0, 1.0, 4.0, 44.0, 2.0, 86.0, 48.0, 28.0, 76.0, 1.0, 26.91509433962264, 9.0, 71.6896551724138, 2.0, 26.266666666666666, 12.446808510638299, 77.88700564971751, 26.608695652173914, 11.958333333333334, 60.965397923875436, 10.0, 4.384615384615385, 1.8888888888888888, 47.0, 53.70967741935484, 6.0]}, \"name\": \"\", \"parents\": [\"Gyeongsangbuk-do\", \"Gyeonggi-do\", \"Gyeonggi-do\", \"Gyeonggi-do\", \"Chungcheongnam-do\", \"Gyeongsangbuk-do\", \"Gyeonggi-do\", \"Busan\", \"Incheon\", \"Busan\", \"Chungcheongnam-do\", \"Gyeongsangnam-do\", \"Gyeongsangnam-do\", \"Chungcheongnam-do\", \"Gyeongsangbuk-do\", \"Chungcheongbuk-do\", \"Gangwon-do\", \"Gyeongsangbuk-do\", \"Gangwon-do\", \"Chungcheongbuk-do\", \"Daejeon\", \"Daegu\", \"Daegu\", \"Chungcheongbuk-do\", \"Seoul\", \"Busan\", \"Seoul\", \"Gyeonggi-do\", \"Seoul\", \"Busan\", \"Chungcheongbuk-do\", \"Seoul\", \"Seoul\", \"Seoul\", \"Incheon\", \"Seoul\", \"Gangwon-do\", \"Seoul\", \"Gyeonggi-do\", \"Gyeongsangnam-do\", \"Gyeongsangnam-do\", \"Seoul\", \"Busan\", \"Busan\", \"Gyeongsangbuk-do\", \"Gyeongsangnam-do\", \"Jeollabuk-do\", \"Gyeonggi-do\", \"Chungcheongbuk-do\", \"Chungcheongnam-do\", \"Gyeongsangbuk-do\", \"Gyeongsangnam-do\", \"Gyeonggi-do\", \"Gyeongsangbuk-do\", \"Gyeonggi-do\", \"Jeollabuk-do\", \"Gyeongsangbuk-do\", \"Gyeonggi-do\", \"Seoul\", \"Gyeonggi-do\", \"Seoul\", \"Seoul\", \"Gyeonggi-do\", \"Gyeonggi-do\", \"Jeollanam-do\", \"Gyeongsangbuk-do\", \"Gyeongsangbuk-do\", \"Chungcheongnam-do\", \"Incheon\", \"Busan\", \"Gyeongsangnam-do\", \"Gyeonggi-do\", \"Gyeongsangnam-do\", \"Gangwon-do\", \"Chungcheongnam-do\", \"Gyeonggi-do\", \"Jeollanam-do\", \"Daegu\", \"Gyeonggi-do\", \"Jeollabuk-do\", \"Gangwon-do\", \"Jeju-do\", \"Jeollabuk-do\", \"Chungcheongbuk-do\", \"Gyeongsangnam-do\", \"Seoul\", \"Seoul\", \"Seoul\", \"Seoul\", \"Incheon\", \"Gyeongsangnam-do\", \"Jeollanam-do\", \"Jeollanam-do\", \"Gyeongsangbuk-do\", \"Busan\", \"Incheon\", \"Gyeongsangnam-do\", \"Gyeonggi-do\", \"Chungcheongnam-do\", \"Seoul\", \"Gyeonggi-do\", \"Gyeonggi-do\", \"Gyeonggi-do\", \"Gyeongsangbuk-do\", \"Gyeonggi-do\", \"Gyeongsangnam-do\", \"Busan\", \"Gyeongsangbuk-do\", \"Busan\", \"Sejong\", \"Busan\", \"Seoul\", \"Seoul\", \"Seoul\", \"Seoul\", \"Gyeongsangbuk-do\", \"Gyeonggi-do\", \"Chungcheongnam-do\", \"Gyeonggi-do\", \"Gangwon-do\", \"Seoul\", \"Jeollanam-do\", \"Daegu\", \"Gyeonggi-do\", \"Gyeonggi-do\", \"Busan\", \"Gangwon-do\", \"Gyeonggi-do\", \"Gyeonggi-do\", \"Ulsan\", \"Gangwon-do\", \"Seoul\", \"Gyeonggi-do\", \"Gyeonggi-do\", \"Gyeongsangnam-do\", \"Gyeongsangbuk-do\", \"Gyeongsangbuk-do\", \"Seoul\", \"Gangwon-do\", \"Gyeongsangbuk-do\", \"Busan\", \"Incheon\", \"Jeollanam-do\", \"Gyeonggi-do\", \"Seoul\", \"Daejeon\", \"Seoul\", \"Daegu\", \"\", \"\", \"\", \"\", \"\", \"\", \"\", \"\", \"\", \"\", \"\", \"\", \"\", \"\", \"\", \"\"], \"type\": \"treemap\", \"values\": [15, 31, 4, 54, 13, 31, 144, 20, 80, 11, 10, 6, 20, 100, 20, 14, 10, 11, 8, 7, 2, 3, 1, 1, 57, 23, 37, 5, 41, 33, 5, 39, 20, 28, 1, 74, 4, 68, 1, 17, 11, 23, 6, 1, 8, 11, 2, 33, 7, 3, 1, 2, 42, 12, 67, 4, 4, 9, 69, 8, 93, 17, 33, 25, 1, 37, 45, 1, 53, 20, 1, 10, 10, 1, 4, 35, 1, 1, 10, 1, 1, 10, 6, 2, 4, 18, 50, 28, 36, 68, 5, 3, 1, 2, 25, 43, 1, 44, 6, 39, 7, 15, 17, 16, 52, 3, 10, 12, 2, 47, 48, 47, 29, 29, 43, 14, 155, 8, 20, 1, 50, 1, 2, 1, 92, 9, 1, 42, 10, 6, 20, 67, 9, 1, 5, 36, 11, 52, 1, 1, 4, 44, 2, 86, 48, 28, 76, 1, 212, 36, 145, 8, 30, 47, 1062, 276, 96, 289, 10, 13, 9, 47, 1178, 6]}],\n                        {\"coloraxis\": {\"colorbar\": {\"title\": {\"text\": \"counts\"}}, \"colorscale\": [[0.0, \"rgb(253, 237, 176)\"], [0.09090909090909091, \"rgb(250, 205, 145)\"], [0.18181818181818182, \"rgb(246, 173, 119)\"], [0.2727272727272727, \"rgb(240, 142, 98)\"], [0.36363636363636365, \"rgb(231, 109, 84)\"], [0.45454545454545453, \"rgb(216, 80, 83)\"], [0.5454545454545454, \"rgb(195, 56, 90)\"], [0.6363636363636364, \"rgb(168, 40, 96)\"], [0.7272727272727273, \"rgb(138, 29, 99)\"], [0.8181818181818182, \"rgb(107, 24, 93)\"], [0.9090909090909091, \"rgb(76, 21, 80)\"], [1.0, \"rgb(47, 15, 61)\"]]}, \"legend\": {\"tracegroupgap\": 0}, \"template\": {\"data\": {\"bar\": [{\"error_x\": {\"color\": \"#2a3f5f\"}, \"error_y\": {\"color\": \"#2a3f5f\"}, \"marker\": {\"line\": {\"color\": \"#E5ECF6\", \"width\": 0.5}}, \"type\": \"bar\"}], \"barpolar\": [{\"marker\": {\"line\": {\"color\": \"#E5ECF6\", \"width\": 0.5}}, \"type\": \"barpolar\"}], \"carpet\": [{\"aaxis\": {\"endlinecolor\": \"#2a3f5f\", \"gridcolor\": \"white\", \"linecolor\": \"white\", \"minorgridcolor\": \"white\", \"startlinecolor\": \"#2a3f5f\"}, \"baxis\": {\"endlinecolor\": \"#2a3f5f\", \"gridcolor\": \"white\", \"linecolor\": \"white\", \"minorgridcolor\": \"white\", \"startlinecolor\": \"#2a3f5f\"}, \"type\": \"carpet\"}], \"choropleth\": [{\"colorbar\": {\"outlinewidth\": 0, \"ticks\": \"\"}, \"type\": \"choropleth\"}], \"contour\": [{\"colorbar\": {\"outlinewidth\": 0, \"ticks\": \"\"}, \"colorscale\": [[0.0, \"#0d0887\"], [0.1111111111111111, \"#46039f\"], [0.2222222222222222, \"#7201a8\"], [0.3333333333333333, \"#9c179e\"], [0.4444444444444444, \"#bd3786\"], [0.5555555555555556, \"#d8576b\"], [0.6666666666666666, \"#ed7953\"], [0.7777777777777778, \"#fb9f3a\"], [0.8888888888888888, \"#fdca26\"], [1.0, \"#f0f921\"]], \"type\": \"contour\"}], \"contourcarpet\": [{\"colorbar\": {\"outlinewidth\": 0, \"ticks\": \"\"}, \"type\": \"contourcarpet\"}], \"heatmap\": [{\"colorbar\": {\"outlinewidth\": 0, \"ticks\": \"\"}, \"colorscale\": [[0.0, \"#0d0887\"], [0.1111111111111111, \"#46039f\"], [0.2222222222222222, \"#7201a8\"], [0.3333333333333333, \"#9c179e\"], [0.4444444444444444, \"#bd3786\"], [0.5555555555555556, \"#d8576b\"], [0.6666666666666666, \"#ed7953\"], [0.7777777777777778, \"#fb9f3a\"], [0.8888888888888888, \"#fdca26\"], [1.0, \"#f0f921\"]], \"type\": \"heatmap\"}], \"heatmapgl\": [{\"colorbar\": {\"outlinewidth\": 0, \"ticks\": \"\"}, \"colorscale\": [[0.0, \"#0d0887\"], [0.1111111111111111, \"#46039f\"], [0.2222222222222222, \"#7201a8\"], [0.3333333333333333, \"#9c179e\"], [0.4444444444444444, \"#bd3786\"], [0.5555555555555556, \"#d8576b\"], [0.6666666666666666, \"#ed7953\"], [0.7777777777777778, \"#fb9f3a\"], [0.8888888888888888, \"#fdca26\"], [1.0, \"#f0f921\"]], \"type\": \"heatmapgl\"}], \"histogram\": [{\"marker\": {\"colorbar\": {\"outlinewidth\": 0, \"ticks\": \"\"}}, \"type\": \"histogram\"}], \"histogram2d\": [{\"colorbar\": {\"outlinewidth\": 0, \"ticks\": \"\"}, \"colorscale\": [[0.0, \"#0d0887\"], [0.1111111111111111, \"#46039f\"], [0.2222222222222222, \"#7201a8\"], [0.3333333333333333, \"#9c179e\"], [0.4444444444444444, \"#bd3786\"], [0.5555555555555556, \"#d8576b\"], [0.6666666666666666, \"#ed7953\"], [0.7777777777777778, \"#fb9f3a\"], [0.8888888888888888, \"#fdca26\"], [1.0, \"#f0f921\"]], \"type\": \"histogram2d\"}], \"histogram2dcontour\": [{\"colorbar\": {\"outlinewidth\": 0, \"ticks\": \"\"}, \"colorscale\": [[0.0, \"#0d0887\"], [0.1111111111111111, \"#46039f\"], [0.2222222222222222, \"#7201a8\"], [0.3333333333333333, \"#9c179e\"], [0.4444444444444444, \"#bd3786\"], [0.5555555555555556, \"#d8576b\"], [0.6666666666666666, \"#ed7953\"], [0.7777777777777778, \"#fb9f3a\"], [0.8888888888888888, \"#fdca26\"], [1.0, \"#f0f921\"]], \"type\": \"histogram2dcontour\"}], \"mesh3d\": [{\"colorbar\": {\"outlinewidth\": 0, \"ticks\": \"\"}, \"type\": \"mesh3d\"}], \"parcoords\": [{\"line\": {\"colorbar\": {\"outlinewidth\": 0, \"ticks\": \"\"}}, \"type\": \"parcoords\"}], \"pie\": [{\"automargin\": true, \"type\": \"pie\"}], \"scatter\": [{\"marker\": {\"colorbar\": {\"outlinewidth\": 0, \"ticks\": \"\"}}, \"type\": \"scatter\"}], \"scatter3d\": [{\"line\": {\"colorbar\": {\"outlinewidth\": 0, \"ticks\": \"\"}}, \"marker\": {\"colorbar\": {\"outlinewidth\": 0, \"ticks\": \"\"}}, \"type\": \"scatter3d\"}], \"scattercarpet\": [{\"marker\": {\"colorbar\": {\"outlinewidth\": 0, \"ticks\": \"\"}}, \"type\": \"scattercarpet\"}], \"scattergeo\": [{\"marker\": {\"colorbar\": {\"outlinewidth\": 0, \"ticks\": \"\"}}, \"type\": \"scattergeo\"}], \"scattergl\": [{\"marker\": {\"colorbar\": {\"outlinewidth\": 0, \"ticks\": \"\"}}, \"type\": \"scattergl\"}], \"scattermapbox\": [{\"marker\": {\"colorbar\": {\"outlinewidth\": 0, \"ticks\": \"\"}}, \"type\": \"scattermapbox\"}], \"scatterpolar\": [{\"marker\": {\"colorbar\": {\"outlinewidth\": 0, \"ticks\": \"\"}}, \"type\": \"scatterpolar\"}], \"scatterpolargl\": [{\"marker\": {\"colorbar\": {\"outlinewidth\": 0, \"ticks\": \"\"}}, \"type\": \"scatterpolargl\"}], \"scatterternary\": [{\"marker\": {\"colorbar\": {\"outlinewidth\": 0, \"ticks\": \"\"}}, \"type\": \"scatterternary\"}], \"surface\": [{\"colorbar\": {\"outlinewidth\": 0, \"ticks\": \"\"}, \"colorscale\": [[0.0, \"#0d0887\"], [0.1111111111111111, \"#46039f\"], [0.2222222222222222, \"#7201a8\"], [0.3333333333333333, \"#9c179e\"], [0.4444444444444444, \"#bd3786\"], [0.5555555555555556, \"#d8576b\"], [0.6666666666666666, \"#ed7953\"], [0.7777777777777778, \"#fb9f3a\"], [0.8888888888888888, \"#fdca26\"], [1.0, \"#f0f921\"]], \"type\": \"surface\"}], \"table\": [{\"cells\": {\"fill\": {\"color\": \"#EBF0F8\"}, \"line\": {\"color\": \"white\"}}, \"header\": {\"fill\": {\"color\": \"#C8D4E3\"}, \"line\": {\"color\": \"white\"}}, \"type\": \"table\"}]}, \"layout\": {\"annotationdefaults\": {\"arrowcolor\": \"#2a3f5f\", \"arrowhead\": 0, \"arrowwidth\": 1}, \"coloraxis\": {\"colorbar\": {\"outlinewidth\": 0, \"ticks\": \"\"}}, \"colorscale\": {\"diverging\": [[0, \"#8e0152\"], [0.1, \"#c51b7d\"], [0.2, \"#de77ae\"], [0.3, \"#f1b6da\"], [0.4, \"#fde0ef\"], [0.5, \"#f7f7f7\"], [0.6, \"#e6f5d0\"], [0.7, \"#b8e186\"], [0.8, \"#7fbc41\"], [0.9, \"#4d9221\"], [1, \"#276419\"]], \"sequential\": [[0.0, \"#0d0887\"], [0.1111111111111111, \"#46039f\"], [0.2222222222222222, \"#7201a8\"], [0.3333333333333333, \"#9c179e\"], [0.4444444444444444, \"#bd3786\"], [0.5555555555555556, \"#d8576b\"], [0.6666666666666666, \"#ed7953\"], [0.7777777777777778, \"#fb9f3a\"], [0.8888888888888888, \"#fdca26\"], [1.0, \"#f0f921\"]], \"sequentialminus\": [[0.0, \"#0d0887\"], [0.1111111111111111, \"#46039f\"], [0.2222222222222222, \"#7201a8\"], [0.3333333333333333, \"#9c179e\"], [0.4444444444444444, \"#bd3786\"], [0.5555555555555556, \"#d8576b\"], [0.6666666666666666, \"#ed7953\"], [0.7777777777777778, \"#fb9f3a\"], [0.8888888888888888, \"#fdca26\"], [1.0, \"#f0f921\"]]}, \"colorway\": [\"#636efa\", \"#EF553B\", \"#00cc96\", \"#ab63fa\", \"#FFA15A\", \"#19d3f3\", \"#FF6692\", \"#B6E880\", \"#FF97FF\", \"#FECB52\"], \"font\": {\"color\": \"#2a3f5f\"}, \"geo\": {\"bgcolor\": \"white\", \"lakecolor\": \"white\", \"landcolor\": \"#E5ECF6\", \"showlakes\": true, \"showland\": true, \"subunitcolor\": \"white\"}, \"hoverlabel\": {\"align\": \"left\"}, \"hovermode\": \"closest\", \"mapbox\": {\"style\": \"light\"}, \"paper_bgcolor\": \"white\", \"plot_bgcolor\": \"#E5ECF6\", \"polar\": {\"angularaxis\": {\"gridcolor\": \"white\", \"linecolor\": \"white\", \"ticks\": \"\"}, \"bgcolor\": \"#E5ECF6\", \"radialaxis\": {\"gridcolor\": \"white\", \"linecolor\": \"white\", \"ticks\": \"\"}}, \"scene\": {\"xaxis\": {\"backgroundcolor\": \"#E5ECF6\", \"gridcolor\": \"white\", \"gridwidth\": 2, \"linecolor\": \"white\", \"showbackground\": true, \"ticks\": \"\", \"zerolinecolor\": \"white\"}, \"yaxis\": {\"backgroundcolor\": \"#E5ECF6\", \"gridcolor\": \"white\", \"gridwidth\": 2, \"linecolor\": \"white\", \"showbackground\": true, \"ticks\": \"\", \"zerolinecolor\": \"white\"}, \"zaxis\": {\"backgroundcolor\": \"#E5ECF6\", \"gridcolor\": \"white\", \"gridwidth\": 2, \"linecolor\": \"white\", \"showbackground\": true, \"ticks\": \"\", \"zerolinecolor\": \"white\"}}, \"shapedefaults\": {\"line\": {\"color\": \"#2a3f5f\"}}, \"ternary\": {\"aaxis\": {\"gridcolor\": \"white\", \"linecolor\": \"white\", \"ticks\": \"\"}, \"baxis\": {\"gridcolor\": \"white\", \"linecolor\": \"white\", \"ticks\": \"\"}, \"bgcolor\": \"#E5ECF6\", \"caxis\": {\"gridcolor\": \"white\", \"linecolor\": \"white\", \"ticks\": \"\"}}, \"title\": {\"x\": 0.05}, \"xaxis\": {\"automargin\": true, \"gridcolor\": \"white\", \"linecolor\": \"white\", \"ticks\": \"\", \"title\": {\"standoff\": 15}, \"zerolinecolor\": \"white\", \"zerolinewidth\": 2}, \"yaxis\": {\"automargin\": true, \"gridcolor\": \"white\", \"linecolor\": \"white\", \"ticks\": \"\", \"title\": {\"standoff\": 15}, \"zerolinecolor\": \"white\", \"zerolinewidth\": 2}}}, \"title\": {\"text\": \"Current COVID19 Confirmed Cases In South Korea\"}},\n                        {\"responsive\": true}\n                    ).then(function(){\n                            \nvar gd = document.getElementById('644609cb-b7db-404e-ab53-ee0c3e19a213');\nvar x = new MutationObserver(function (mutations, observer) {{\n        var display = window.getComputedStyle(gd).display;\n        if (!display || display === 'none') {{\n            console.log([gd, 'removed!']);\n            Plotly.purge(gd);\n            observer.disconnect();\n        }}\n}});\n\n// Listen for the removal of the full notebook cells\nvar notebookContainer = gd.closest('#notebook-container');\nif (notebookContainer) {{\n    x.observe(notebookContainer, {childList: true});\n}}\n\n// Listen for the clearing of the current output cell\nvar outputEl = gd.closest('.output');\nif (outputEl) {{\n    x.observe(outputEl, {childList: true});\n}}\n\n                        })\n                };\n                });\n            </script>\n        </div>"
     },
     "metadata": {},
     "output_type": "display_data"
    }
   ],
   "source": [
    "fig = px.treemap(result, path=['province','city'], values='counts',\n",
    "                  color='counts', hover_data=['city'],\n",
    "                  color_continuous_scale='matter', title='Current COVID19 Confirmed Cases In South Korea')\n",
    "fig.show()\n"
   ],
   "metadata": {
    "collapsed": false,
    "pycharm": {
     "name": "#%%\n"
    }
   }
  },
  {
   "cell_type": "markdown",
   "source": [
    "# 4. Prediction Model"
   ],
   "metadata": {
    "collapsed": false,
    "pycharm": {
     "name": "#%% md\n"
    }
   }
  },
  {
   "cell_type": "code",
   "execution_count": 138,
   "outputs": [
    {
     "name": "stderr",
     "output_type": "stream",
     "text": [
      "C:\\Users\\grant\\AppData\\Roaming\\Python\\Python38\\site-packages\\IPython\\core\\interactiveshell.py:3062: DtypeWarning:\n",
      "\n",
      "Columns (1) have mixed types.Specify dtype option on import or set low_memory=False.\n",
      "\n"
     ]
    }
   ],
   "source": [
    "#load data\n",
    "train_data = pd.read_csv(\"train.csv\")\n",
    "test_data = pd.read_csv(\"test.csv\")\n",
    "submission = pd.read_csv('submission.csv')"
   ],
   "metadata": {
    "collapsed": false,
    "pycharm": {
     "name": "#%%\n"
    }
   }
  },
  {
   "cell_type": "code",
   "execution_count": 139,
   "outputs": [
    {
     "name": "stdout",
     "output_type": "stream",
     "text": [
      "['Afghanistan' 'Albania' 'Algeria' 'Andorra' 'Angola'\n",
      " 'Antigua and Barbuda' 'Argentina' 'Armenia' 'Australia' 'Austria'\n",
      " 'Azerbaijan' 'Bahamas' 'Bahrain' 'Bangladesh' 'Barbados' 'Belarus'\n",
      " 'Belgium' 'Belize' 'Benin' 'Bhutan' 'Bolivia' 'Bosnia and Herzegovina'\n",
      " 'Botswana' 'Brazil' 'Brunei' 'Bulgaria' 'Burkina Faso' 'Burma' 'Burundi'\n",
      " 'Cabo Verde' 'Cambodia' 'Cameroon' 'Canada' 'Central African Republic'\n",
      " 'Chad' 'Chile' 'China' 'Colombia' 'Comoros' 'Congo (Brazzaville)'\n",
      " 'Congo (Kinshasa)' 'Costa Rica' \"Cote d'Ivoire\" 'Croatia' 'Cuba' 'Cyprus'\n",
      " 'Czechia' 'Denmark' 'Diamond Princess' 'Djibouti' 'Dominica'\n",
      " 'Dominican Republic' 'Ecuador' 'Egypt' 'El Salvador' 'Equatorial Guinea'\n",
      " 'Eritrea' 'Estonia' 'Eswatini' 'Ethiopia' 'Fiji' 'Finland' 'France'\n",
      " 'Gabon' 'Gambia' 'Georgia' 'Germany' 'Ghana' 'Greece' 'Grenada'\n",
      " 'Guatemala' 'Guinea' 'Guinea-Bissau' 'Guyana' 'Haiti' 'Holy See'\n",
      " 'Honduras' 'Hungary' 'Iceland' 'India' 'Indonesia' 'Iran' 'Iraq'\n",
      " 'Ireland' 'Israel' 'Italy' 'Jamaica' 'Japan' 'Jordan' 'Kazakhstan'\n",
      " 'Kenya' 'Korea, South' 'Kosovo' 'Kuwait' 'Kyrgyzstan' 'Laos' 'Latvia'\n",
      " 'Lebanon' 'Liberia' 'Libya' 'Liechtenstein' 'Lithuania' 'Luxembourg'\n",
      " 'MS Zaandam' 'Madagascar' 'Malawi' 'Malaysia' 'Maldives' 'Mali' 'Malta'\n",
      " 'Mauritania' 'Mauritius' 'Mexico' 'Moldova' 'Monaco' 'Mongolia'\n",
      " 'Montenegro' 'Morocco' 'Mozambique' 'Namibia' 'Nepal' 'Netherlands'\n",
      " 'New Zealand' 'Nicaragua' 'Niger' 'Nigeria' 'North Macedonia' 'Norway'\n",
      " 'Oman' 'Pakistan' 'Panama' 'Papua New Guinea' 'Paraguay' 'Peru'\n",
      " 'Philippines' 'Poland' 'Portugal' 'Qatar' 'Romania' 'Russia' 'Rwanda'\n",
      " 'Saint Kitts and Nevis' 'Saint Lucia' 'Saint Vincent and the Grenadines'\n",
      " 'San Marino' 'Sao Tome and Principe' 'Saudi Arabia' 'Senegal' 'Serbia'\n",
      " 'Seychelles' 'Sierra Leone' 'Singapore' 'Slovakia' 'Slovenia' 'Somalia'\n",
      " 'South Africa' 'South Sudan' 'Spain' 'Sri Lanka' 'Sudan' 'Suriname'\n",
      " 'Sweden' 'Switzerland' 'Syria' 'Taiwan*' 'Tajikistan' 'Tanzania'\n",
      " 'Thailand' 'Timor-Leste' 'Togo' 'Trinidad and Tobago' 'Tunisia' 'Turkey'\n",
      " 'US' 'Uganda' 'Ukraine' 'United Arab Emirates' 'United Kingdom' 'Uruguay'\n",
      " 'Uzbekistan' 'Venezuela' 'Vietnam' 'West Bank and Gaza' 'Western Sahara'\n",
      " 'Yemen' 'Zambia' 'Zimbabwe']\n"
     ]
    }
   ],
   "source": [
    "#get the name of 'south korean'\n",
    "country =train_data.Country_Region.unique()\n",
    "print(country)"
   ],
   "metadata": {
    "collapsed": false,
    "pycharm": {
     "name": "#%%\n"
    }
   }
  },
  {
   "cell_type": "code",
   "execution_count": 140,
   "outputs": [
    {
     "data": {
      "text/plain": "       Population    Weight        Date  Target  TargetValue\n43680    25281000  0.058666  2020-01-23       1            0\n43681    25281000  0.586663  2020-01-23       0            0\n43682    25281000  0.058666  2020-01-24       1            1\n43683    25281000  0.586663  2020-01-24       0            0\n43684    25281000  0.058666  2020-01-25       1            0",
      "text/html": "<div>\n<style scoped>\n    .dataframe tbody tr th:only-of-type {\n        vertical-align: middle;\n    }\n\n    .dataframe tbody tr th {\n        vertical-align: top;\n    }\n\n    .dataframe thead th {\n        text-align: right;\n    }\n</style>\n<table border=\"1\" class=\"dataframe\">\n  <thead>\n    <tr style=\"text-align: right;\">\n      <th></th>\n      <th>Population</th>\n      <th>Weight</th>\n      <th>Date</th>\n      <th>Target</th>\n      <th>TargetValue</th>\n    </tr>\n  </thead>\n  <tbody>\n    <tr>\n      <th>43680</th>\n      <td>25281000</td>\n      <td>0.058666</td>\n      <td>2020-01-23</td>\n      <td>1</td>\n      <td>0</td>\n    </tr>\n    <tr>\n      <th>43681</th>\n      <td>25281000</td>\n      <td>0.586663</td>\n      <td>2020-01-23</td>\n      <td>0</td>\n      <td>0</td>\n    </tr>\n    <tr>\n      <th>43682</th>\n      <td>25281000</td>\n      <td>0.058666</td>\n      <td>2020-01-24</td>\n      <td>1</td>\n      <td>1</td>\n    </tr>\n    <tr>\n      <th>43683</th>\n      <td>25281000</td>\n      <td>0.586663</td>\n      <td>2020-01-24</td>\n      <td>0</td>\n      <td>0</td>\n    </tr>\n    <tr>\n      <th>43684</th>\n      <td>25281000</td>\n      <td>0.058666</td>\n      <td>2020-01-25</td>\n      <td>1</td>\n      <td>0</td>\n    </tr>\n  </tbody>\n</table>\n</div>"
     },
     "execution_count": 140,
     "metadata": {},
     "output_type": "execute_result"
    }
   ],
   "source": [
    "# filter to extrect korean data\n",
    "train_data=train_data[train_data['Country_Region']=='Korea, South']\n",
    "\n",
    "# check head and drop unuseful columns\n",
    "train=train_data.drop(['Id','County','Province_State','Country_Region'],axis=1)\n",
    "\n",
    "# convert the target value to integer, confirmedCases to 1, Fatalities to 0\n",
    "train['Target'].replace({'ConfirmedCases':1, 'Fatalities':0}, inplace=True)\n",
    "\n",
    "train.head()"
   ],
   "metadata": {
    "collapsed": false,
    "pycharm": {
     "name": "#%%\n"
    }
   }
  },
  {
   "cell_type": "code",
   "execution_count": 141,
   "outputs": [
    {
     "data": {
      "text/plain": "       Population    Weight        Date  Target\n14040    25281000  0.058666  2020-04-27       1\n14041    25281000  0.586663  2020-04-27       0\n14042    25281000  0.058666  2020-04-28       1\n14043    25281000  0.586663  2020-04-28       0\n14044    25281000  0.058666  2020-04-29       1\n...           ...       ...         ...     ...\n14125    25281000  0.586663  2020-06-08       0\n14126    25281000  0.058666  2020-06-09       1\n14127    25281000  0.586663  2020-06-09       0\n14128    25281000  0.058666  2020-06-10       1\n14129    25281000  0.586663  2020-06-10       0\n\n[90 rows x 4 columns]",
      "text/html": "<div>\n<style scoped>\n    .dataframe tbody tr th:only-of-type {\n        vertical-align: middle;\n    }\n\n    .dataframe tbody tr th {\n        vertical-align: top;\n    }\n\n    .dataframe thead th {\n        text-align: right;\n    }\n</style>\n<table border=\"1\" class=\"dataframe\">\n  <thead>\n    <tr style=\"text-align: right;\">\n      <th></th>\n      <th>Population</th>\n      <th>Weight</th>\n      <th>Date</th>\n      <th>Target</th>\n    </tr>\n  </thead>\n  <tbody>\n    <tr>\n      <th>14040</th>\n      <td>25281000</td>\n      <td>0.058666</td>\n      <td>2020-04-27</td>\n      <td>1</td>\n    </tr>\n    <tr>\n      <th>14041</th>\n      <td>25281000</td>\n      <td>0.586663</td>\n      <td>2020-04-27</td>\n      <td>0</td>\n    </tr>\n    <tr>\n      <th>14042</th>\n      <td>25281000</td>\n      <td>0.058666</td>\n      <td>2020-04-28</td>\n      <td>1</td>\n    </tr>\n    <tr>\n      <th>14043</th>\n      <td>25281000</td>\n      <td>0.586663</td>\n      <td>2020-04-28</td>\n      <td>0</td>\n    </tr>\n    <tr>\n      <th>14044</th>\n      <td>25281000</td>\n      <td>0.058666</td>\n      <td>2020-04-29</td>\n      <td>1</td>\n    </tr>\n    <tr>\n      <th>...</th>\n      <td>...</td>\n      <td>...</td>\n      <td>...</td>\n      <td>...</td>\n    </tr>\n    <tr>\n      <th>14125</th>\n      <td>25281000</td>\n      <td>0.586663</td>\n      <td>2020-06-08</td>\n      <td>0</td>\n    </tr>\n    <tr>\n      <th>14126</th>\n      <td>25281000</td>\n      <td>0.058666</td>\n      <td>2020-06-09</td>\n      <td>1</td>\n    </tr>\n    <tr>\n      <th>14127</th>\n      <td>25281000</td>\n      <td>0.586663</td>\n      <td>2020-06-09</td>\n      <td>0</td>\n    </tr>\n    <tr>\n      <th>14128</th>\n      <td>25281000</td>\n      <td>0.058666</td>\n      <td>2020-06-10</td>\n      <td>1</td>\n    </tr>\n    <tr>\n      <th>14129</th>\n      <td>25281000</td>\n      <td>0.586663</td>\n      <td>2020-06-10</td>\n      <td>0</td>\n    </tr>\n  </tbody>\n</table>\n<p>90 rows × 4 columns</p>\n</div>"
     },
     "execution_count": 141,
     "metadata": {},
     "output_type": "execute_result"
    }
   ],
   "source": [
    "# filter to extrect korean data\n",
    "test_data=test_data[test_data['Country_Region']=='Korea, South']\n",
    "\n",
    "# check head and drop unuseful columns\n",
    "test=test_data.drop(['ForecastId','County','Province_State','Country_Region'],axis=1)\n",
    "\n",
    "# convert the target value to integer, confirmedCases to 1, Fatalities to 0\n",
    "test['Target'].replace({'ConfirmedCases':1, 'Fatalities':0}, inplace=True)\n",
    "\n",
    "test"
   ],
   "metadata": {
    "collapsed": false,
    "pycharm": {
     "name": "#%%\n"
    }
   }
  },
  {
   "cell_type": "code",
   "execution_count": 142,
   "outputs": [
    {
     "data": {
      "text/plain": "       Population    Weight  Target  day  month  quarter  dayofweek  \\\n43680    25281000  0.058666       1   23      1        1          3   \n43681    25281000  0.586663       0   23      1        1          3   \n43682    25281000  0.058666       1   24      1        1          4   \n43683    25281000  0.586663       0   24      1        1          4   \n43684    25281000  0.058666       1   25      1        1          5   \n\n       dayofyear  weekofyear  \n43680         23           4  \n43681         23           4  \n43682         24           4  \n43683         24           4  \n43684         25           4  ",
      "text/html": "<div>\n<style scoped>\n    .dataframe tbody tr th:only-of-type {\n        vertical-align: middle;\n    }\n\n    .dataframe tbody tr th {\n        vertical-align: top;\n    }\n\n    .dataframe thead th {\n        text-align: right;\n    }\n</style>\n<table border=\"1\" class=\"dataframe\">\n  <thead>\n    <tr style=\"text-align: right;\">\n      <th></th>\n      <th>Population</th>\n      <th>Weight</th>\n      <th>Target</th>\n      <th>day</th>\n      <th>month</th>\n      <th>quarter</th>\n      <th>dayofweek</th>\n      <th>dayofyear</th>\n      <th>weekofyear</th>\n    </tr>\n  </thead>\n  <tbody>\n    <tr>\n      <th>43680</th>\n      <td>25281000</td>\n      <td>0.058666</td>\n      <td>1</td>\n      <td>23</td>\n      <td>1</td>\n      <td>1</td>\n      <td>3</td>\n      <td>23</td>\n      <td>4</td>\n    </tr>\n    <tr>\n      <th>43681</th>\n      <td>25281000</td>\n      <td>0.586663</td>\n      <td>0</td>\n      <td>23</td>\n      <td>1</td>\n      <td>1</td>\n      <td>3</td>\n      <td>23</td>\n      <td>4</td>\n    </tr>\n    <tr>\n      <th>43682</th>\n      <td>25281000</td>\n      <td>0.058666</td>\n      <td>1</td>\n      <td>24</td>\n      <td>1</td>\n      <td>1</td>\n      <td>4</td>\n      <td>24</td>\n      <td>4</td>\n    </tr>\n    <tr>\n      <th>43683</th>\n      <td>25281000</td>\n      <td>0.586663</td>\n      <td>0</td>\n      <td>24</td>\n      <td>1</td>\n      <td>1</td>\n      <td>4</td>\n      <td>24</td>\n      <td>4</td>\n    </tr>\n    <tr>\n      <th>43684</th>\n      <td>25281000</td>\n      <td>0.058666</td>\n      <td>1</td>\n      <td>25</td>\n      <td>1</td>\n      <td>1</td>\n      <td>5</td>\n      <td>25</td>\n      <td>4</td>\n    </tr>\n  </tbody>\n</table>\n</div>"
     },
     "execution_count": 142,
     "metadata": {},
     "output_type": "execute_result"
    }
   ],
   "source": [
    "# create useful features for data mining tools to increase performance\n",
    "# By transforming 'Date' into single values such as 'day' 'dayofweek' 'month'...\n",
    "train['Date']=pd.to_datetime(train['Date'],format = '%Y-%m-%d')\n",
    "train['day']=train['Date'].dt.day\n",
    "train['month'] = train['Date'].dt.month\n",
    "train['quarter'] = train['Date'].dt.quarter\n",
    "train['dayofweek'] = train['Date'].dt.dayofweek\n",
    "train['dayofyear'] = train['Date'].dt.dayofyear\n",
    "train['weekofyear'] = train['Date'].dt.weekofyear\n",
    "train=train.drop(['Date'],axis=1)\n",
    "X=train.drop(['TargetValue'],axis=1)\n",
    "y=train['TargetValue']\n",
    "X.head()"
   ],
   "metadata": {
    "collapsed": false,
    "pycharm": {
     "name": "#%%\n"
    }
   }
  },
  {
   "cell_type": "code",
   "execution_count": 143,
   "outputs": [
    {
     "data": {
      "text/plain": "       Population    Weight  Target  day  month  quarter  dayofweek  \\\n14040    25281000  0.058666       1   27      4        2          0   \n14041    25281000  0.586663       0   27      4        2          0   \n14042    25281000  0.058666       1   28      4        2          1   \n14043    25281000  0.586663       0   28      4        2          1   \n14044    25281000  0.058666       1   29      4        2          2   \n\n       dayofyear  weekofyear  \n14040        118          18  \n14041        118          18  \n14042        119          18  \n14043        119          18  \n14044        120          18  ",
      "text/html": "<div>\n<style scoped>\n    .dataframe tbody tr th:only-of-type {\n        vertical-align: middle;\n    }\n\n    .dataframe tbody tr th {\n        vertical-align: top;\n    }\n\n    .dataframe thead th {\n        text-align: right;\n    }\n</style>\n<table border=\"1\" class=\"dataframe\">\n  <thead>\n    <tr style=\"text-align: right;\">\n      <th></th>\n      <th>Population</th>\n      <th>Weight</th>\n      <th>Target</th>\n      <th>day</th>\n      <th>month</th>\n      <th>quarter</th>\n      <th>dayofweek</th>\n      <th>dayofyear</th>\n      <th>weekofyear</th>\n    </tr>\n  </thead>\n  <tbody>\n    <tr>\n      <th>14040</th>\n      <td>25281000</td>\n      <td>0.058666</td>\n      <td>1</td>\n      <td>27</td>\n      <td>4</td>\n      <td>2</td>\n      <td>0</td>\n      <td>118</td>\n      <td>18</td>\n    </tr>\n    <tr>\n      <th>14041</th>\n      <td>25281000</td>\n      <td>0.586663</td>\n      <td>0</td>\n      <td>27</td>\n      <td>4</td>\n      <td>2</td>\n      <td>0</td>\n      <td>118</td>\n      <td>18</td>\n    </tr>\n    <tr>\n      <th>14042</th>\n      <td>25281000</td>\n      <td>0.058666</td>\n      <td>1</td>\n      <td>28</td>\n      <td>4</td>\n      <td>2</td>\n      <td>1</td>\n      <td>119</td>\n      <td>18</td>\n    </tr>\n    <tr>\n      <th>14043</th>\n      <td>25281000</td>\n      <td>0.586663</td>\n      <td>0</td>\n      <td>28</td>\n      <td>4</td>\n      <td>2</td>\n      <td>1</td>\n      <td>119</td>\n      <td>18</td>\n    </tr>\n    <tr>\n      <th>14044</th>\n      <td>25281000</td>\n      <td>0.058666</td>\n      <td>1</td>\n      <td>29</td>\n      <td>4</td>\n      <td>2</td>\n      <td>2</td>\n      <td>120</td>\n      <td>18</td>\n    </tr>\n  </tbody>\n</table>\n</div>"
     },
     "execution_count": 143,
     "metadata": {},
     "output_type": "execute_result"
    }
   ],
   "source": [
    "# modify the features of test data also\n",
    "# perform the predict model with good score\n",
    "test['Date']=pd.to_datetime(test['Date'],format = '%Y-%m-%d')\n",
    "test['day']=test['Date'].dt.day\n",
    "test['month'] = test['Date'].dt.month\n",
    "test['quarter'] = test['Date'].dt.quarter\n",
    "test['dayofweek'] = test['Date'].dt.dayofweek\n",
    "test['dayofyear'] = test['Date'].dt.dayofyear\n",
    "test['weekofyear'] = test['Date'].dt.weekofyear\n",
    "test=test.drop(['Date'],axis=1)\n",
    "test.head()"
   ],
   "metadata": {
    "collapsed": false,
    "pycharm": {
     "name": "#%%\n"
    }
   }
  },
  {
   "cell_type": "markdown",
   "source": [
    "## 4.1. The model is established and the predicted value is output"
   ],
   "metadata": {
    "collapsed": false,
    "pycharm": {
     "name": "#%% md\n"
    }
   }
  },
  {
   "cell_type": "code",
   "execution_count": 144,
   "outputs": [],
   "source": [
    "# X_train, X_test, y_train, y_test = train_test_split(X, y,test_size=0.23)"
   ],
   "metadata": {
    "collapsed": false,
    "pycharm": {
     "name": "#%%\n"
    }
   }
  },
  {
   "cell_type": "code",
   "execution_count": 145,
   "outputs": [],
   "source": [
    "# gradient_model = make_pipeline(\n",
    "#     GradientBoostingClassifier(n_estimators =70,max_depth=3, min_samples_leaf =1)\n",
    "# )\n",
    "# random_f_model = make_pipeline(\n",
    "#     RandomForestClassifier(n_estimators =200,max_depth =9, min_samples_leaf=40)\n",
    "# )\n",
    "# neural_net_model = make_pipeline(\n",
    "#     MLPClassifier(solver ='lbfgs',hidden_layer_sizes=(11,11),activation ='logistic')\n",
    "# )\n",
    "#\n",
    "# knn_model = make_pipeline(\n",
    "#         KNeighborsClassifier(n_neighbors=10)\n",
    "# )\n",
    "#\n",
    "# models = [gradient_model,random_f_model,neural_net_model,knn_model]\n",
    "#\n",
    "# for i, m in enumerate(models):\n",
    "#     m.fit(X_train, y_train)\n",
    "#     print(metrics.accuracy_score(y_test, m.predict(X_test)))"
   ],
   "metadata": {
    "collapsed": false,
    "pycharm": {
     "name": "#%%\n"
    }
   }
  },
  {
   "cell_type": "code",
   "execution_count": 146,
   "outputs": [],
   "source": [
    "# knn_model = make_pipeline(\n",
    "#         KNeighborsClassifier(n_neighbors=10)\n",
    "# )\n",
    "# knn_model.fit(X_train, y_train)\n",
    "# predictions = knn_model.predict(test)\n",
    "# pd.Series(predictions).to_csv('output.txt', index=False, header=False)"
   ],
   "metadata": {
    "collapsed": false,
    "pycharm": {
     "name": "#%%\n"
    }
   }
  },
  {
   "cell_type": "markdown",
   "source": [
    "## 4.2. Conduct k-fold validation and report precision. recall and accuracy for each validation"
   ],
   "metadata": {
    "collapsed": false,
    "pycharm": {
     "name": "#%% md\n"
    }
   }
  },
  {
   "cell_type": "code",
   "execution_count": null,
   "outputs": [],
   "source": [
    "#split data\n",
    "kf =KFold(n_splits =10)\n",
    "\n",
    "#create pipeline\n",
    "dt_model = make_pipeline(\n",
    "    tree.DecisionTreeClassifier()\n",
    ")\n",
    "\n",
    "#train model\n",
    "#dt_model.fit(X_train,y_train)\n",
    "iteration = 1\n",
    "macro_precision =0\n",
    "macro_recall =0\n",
    "for train_index, test_index in kf.split(X):\n",
    "    #split data\n",
    "    X_train, X_test = X.iloc[train_index], X.iloc[test_index]\n",
    "    y_train, y_test = y.iloc[train_index], y.iloc[test_index]\n",
    "    #train data\n",
    "    dt_model.fit(X_train,y_train)\n",
    "    y_predicted = dt_model.predict(X_test)\n",
    "    print('Iteration #',iteration,':')\n",
    "    iteration += 1\n",
    "    print(classification_report(y_test,y_predicted))\n",
    "    report = classification_report(y_test,y_predicted,output_dict=True)\n",
    "    macro_precision += report['macro avg']['precision']\n",
    "    macro_recall += report['macro avg']['recall']\n",
    "\n",
    "    # print scores to check overfiting\n",
    "    print('*******************')"
   ],
   "metadata": {
    "collapsed": false,
    "pycharm": {
     "name": "#%%\n"
    }
   }
  }
 ],
 "metadata": {
  "kernelspec": {
   "name": "pycharm-7cc73c60",
   "language": "python",
   "display_name": "PyCharm (cmpt353finalproject)"
  },
  "language_info": {
   "codemirror_mode": {
    "name": "ipython",
    "version": 3
   },
   "file_extension": ".py",
   "mimetype": "text/x-python",
   "name": "python",
   "nbconvert_exporter": "python",
   "pygments_lexer": "ipython3",
   "version": "3.8.3"
  }
 },
 "nbformat": 4,
 "nbformat_minor": 4
}