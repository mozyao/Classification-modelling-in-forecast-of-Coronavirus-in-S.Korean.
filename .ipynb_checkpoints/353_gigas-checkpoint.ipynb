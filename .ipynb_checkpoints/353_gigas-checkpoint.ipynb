{
 "cells": [
  {
   "cell_type": "markdown",
   "metadata": {},
   "source": [
    "#CMPT353 summer 2020\n",
    "#SFU\n",
    "#Course Porject\n",
    "#Author: Wei Yao (yaoweiy@sfu.ca) Yiran Zhang(yiran_zhang_2@sfu.ca)\n",
    "#Dataset 1: Covid-19\n",
    "#Resource Ref: https://www.kaggle.com/kimjihoo/coronavirusdataset\n",
    "\n",
    "#Dataset 2: COVID19 Global Forecasting\n",
    "#https://www.kaggle.com/c/covid19-global-forecasting-week-5"
   ]
  },
  {
   "cell_type": "code",
   "execution_count": null,
   "metadata": {},
   "outputs": [],
   "source": []
  },
  {
   "cell_type": "code",
   "execution_count": 1,
   "metadata": {},
   "outputs": [],
   "source": [
    "\n",
    "import numpy as np\n",
    "import pandas as pd\n"
   ]
  },
  {
   "cell_type": "code",
   "execution_count": null,
   "metadata": {},
   "outputs": [],
   "source": [
    "\n",
    "import matplotlib.pyplot as plt\n",
    "from sklearn.model_selection import train_test_split\n",
    "from sklearn.naive_bayes import GaussianNB\n",
    "from sklearn.preprocessing import FunctionTransformer\n",
    "from sklearn.pipeline import make_pipeline\n",
    "from sklearn.neighbors import KNeighborsClassifier\n",
    "from sklearn.ensemble import RandomForestClassifier\n",
    "from sklearn.preprocessing import MinMaxScaler\n",
    "from sklearn.cluster import KMeans\n",
    "from sklearn.decomposition import PCA\n",
    "from sklearn.svm import SVC\n",
    "from sklearn.preprocessing import StandardScaler\n",
    "from sklearn.feature_selection import chi2\n",
    "from sklearn import preprocessing\n",
    "from sklearn.ensemble import GradientBoostingClassifier\n",
    "from sklearn.ensemble import AdaBoostClassifier\n",
    "from sklearn.neural_network import MLPClassifier\n",
    "from sklearn import metrics\n",
    "from sklearn.neighbors import KNeighborsClassifier\n",
    "\n"
   ]
  },
  {
   "cell_type": "markdown",
   "metadata": {},
   "source": [
    "# 2) Insights from Policy\n",
    "\n",
    "# 2.1 Distribution of policy types"
   ]
  },
  {
   "cell_type": "code",
   "execution_count": null,
   "metadata": {},
   "outputs": [],
   "source": [
    "policy_df = pd.read_csv('Policy.csv')\n",
    "df_type=policy_df['type'].tolist()\n",
    "len(df_type)"
   ]
  },
  {
   "cell_type": "code",
   "execution_count": null,
   "metadata": {},
   "outputs": [],
   "source": [
    "policy_df['type'].value_counts(dropna=True)"
   ]
  },
  {
   "cell_type": "code",
   "execution_count": null,
   "metadata": {},
   "outputs": [],
   "source": [
    "type_df = pd.DataFrame({'Policy': [15/61, 15/61 , 10/61,6/61,5/61,4/61,3/61,3/61]  } ,                 \n",
    "                  index=['Immigration', 'Education', 'Health','Technology','Social','Alert','Administrative','Transformation'])\n",
    "plot=type_df.plot.pie(y='Policy',figsize=(10,18))"
   ]
  },
  {
   "cell_type": "markdown",
   "metadata": {},
   "source": [
    "# 2.2 Detailed Policy application Date"
   ]
  },
  {
   "cell_type": "code",
   "execution_count": null,
   "metadata": {},
   "outputs": [],
   "source": [
    "# pre-process\n",
    "policy_df.head()\n"
   ]
  },
  {
   "cell_type": "code",
   "execution_count": null,
   "metadata": {},
   "outputs": [],
   "source": [
    "df_gov_policy=policy_df['gov_policy'].tolist()\n",
    "policy_df['gov_policy'].value_counts(dropna=True)\n",
    "# sort data by date\n",
    "\n",
    "policy_sort = policy_df.sort_values('start_date')"
   ]
  },
  {
   "cell_type": "code",
   "execution_count": null,
   "metadata": {},
   "outputs": [],
   "source": [
    "#replace long terms by short-cut\n",
    "policy_sort['gov_policy']=policy_sort['gov_policy'].map({'Special Immigration Procedure': 'SIP',\n",
    "                             'School Opening with Online Class':'SOOC',\n",
    "                             'Emergency Use Authorization of Diagnostic Kit':'WUA',\n",
    "                             'School Opening Delay':'SOD',\n",
    "                             'Social Distancing Campaign':'SDC',\n",
    "                             'Infectious Disease Alert Level':'IDAL',\n",
    "                             'Mask Distribution':'MD',\n",
    "                             'Wearing of masks':'WM',\n",
    "                             'Drive-Through Screening Center':'D-T',\n",
    "                             'Electronic Wristbands':'EW',\n",
    "                             'Self-Quarantine Safety Protection App':'S-Q',\n",
    "                             'Self-Diagnosis App':'S-D',\n",
    "                             'Open Data ':'OD',\n",
    "                             'Extends Tightened Quarantine Measures ':'ET',\n",
    "                             'Close bars and clubs':'CB',\n",
    "                             'School Closure':'SC',\n",
    "                             'Mandatory 14-day Self-Quarantine':'M14',\n",
    "                             'Open API':'OA',\n",
    "                             'Close karaoke':'CK',\n",
    "                             'Logistics center':'LC',\n",
    "                             'local government Administrative orders':'LG',\n",
    "                             'KI-Pass: Korea Internet - Pass':'KI',\n",
    "                             'Thanks to Challenge korea':'TC',\n",
    "                             'Mandatory Self-Quarantine & Diagonostic Tests':'MS'\n",
    "                             \n",
    "      \n",
    "              })"
   ]
  },
  {
   "cell_type": "code",
   "execution_count": null,
   "metadata": {},
   "outputs": [],
   "source": [
    "pd.set_option('display.max_rows', None)\n",
    "policy_sort['gov_policy']\n",
    "#plt.plot(policy_df['gov_policy'],policy_df['start_date'])"
   ]
  },
  {
   "cell_type": "code",
   "execution_count": null,
   "metadata": {},
   "outputs": [],
   "source": [
    "plt.figure(figsize=(12, 17))\n",
    "plt.title('Policy start date ')\n",
    "plt.xlabel('Policy_name')\n",
    "plt.ylabel('Time')\n",
    "plt.scatter(policy_sort['gov_policy'],policy_sort['start_date'])\n",
    "plt.plot(policy_sort['gov_policy'],policy_sort['start_date'])"
   ]
  },
  {
   "cell_type": "markdown",
   "metadata": {},
   "source": [
    "# 3) Seoul Floating"
   ]
  },
  {
   "cell_type": "code",
   "execution_count": null,
   "metadata": {},
   "outputs": [],
   "source": [
    "df = pd.read_csv('SeoulFloating.csv')\n",
    "df.head()"
   ]
  },
  {
   "cell_type": "code",
   "execution_count": null,
   "metadata": {},
   "outputs": [],
   "source": [
    "df.dropna()\n",
    "df['date']=pd.to_datetime(df['date'],format = '%Y-%m-%d')\n",
    "df_male = df[df['sex']=='male']\n",
    "df_male.head()"
   ]
  },
  {
   "cell_type": "code",
   "execution_count": null,
   "metadata": {},
   "outputs": [],
   "source": [
    "plt.figure(figsize=(12, 4))\n",
    "plt.xticks(rotation=25)\n",
    "plt.title('Seoul_Floating Population ')\n",
    "plt.xlabel('Time')\n",
    "plt.ylabel('Population(millions)')\n",
    "plt.plot(df['date'],df['fp_num'],'r.')\n",
    "plt.plot(df_male['date'],df_male['fp_num'],'b.')\n",
    "plt.legend(['Male and Female','Male'])\n",
    "plt.show()"
   ]
  },
  {
   "cell_type": "markdown",
   "metadata": {},
   "source": [
    "# 4) Explore the Forecast Dataset"
   ]
  },
  {
   "cell_type": "code",
   "execution_count": null,
   "metadata": {},
   "outputs": [],
   "source": [
    "# Preprocess"
   ]
  },
  {
   "cell_type": "code",
   "execution_count": null,
   "metadata": {},
   "outputs": [],
   "source": [
    "#load data\n",
    "train_data = pd.read_csv(\"train.csv\")\n",
    "test_data = pd.read_csv(\"test.csv\")\n",
    "submission = pd.read_csv('submission.csv')"
   ]
  },
  {
   "cell_type": "code",
   "execution_count": null,
   "metadata": {},
   "outputs": [],
   "source": [
    " # filter to extrect korean data\n",
    "train_data=train_data[train_data['Country_Region']=='Korea, South']\n",
    "train=train_data.drop(['Id','County','Province_State','Country_Region'],axis=1)\n",
    "\n",
    "# convert the target value to integer, confirmedCases to 1, Fatalities to 0\n",
    "train['Target'].replace({'ConfirmedCases':1, 'Fatalities':0}, inplace=True)\n",
    "\n",
    "train.head()\n",
    "# test_data=test_data[test_data['Country_Region']=='Korea, South']\n",
    "# test=test_data.drop(['ForecastId','County','Province_State','Country_Region','Target'],axis=1)"
   ]
  },
  {
   "cell_type": "code",
   "execution_count": null,
   "metadata": {},
   "outputs": [],
   "source": [
    "# create useful features for data mining tools to increase performance\n",
    "# By transforming 'Date' into single values such as 'day' 'dayofweek' 'month'...\n",
    "train['Date']= pd.to_datetime(train['Date'],format = '%Y-%m-%d')\n",
    "train['day']=train['Date'].dt.day\n",
    "train['month'] = train['Date'].dt.month\n",
    "train['quarter'] = train['Date'].dt.quarter\n",
    "train['dayofweek'] = train['Date'].dt.dayofweek\n",
    "train['dayofyear'] = train['Date'].dt.dayofyear\n",
    "train['weekofyear'] = train['Date'].dt.weekofyear\n",
    "train=train.drop(['Date'],axis=1)\n",
    "X=train.drop(['TargetValue'],axis=1)\n",
    "y=train['TargetValue']\n",
    "X.head()"
   ]
  },
  {
   "cell_type": "code",
   "execution_count": null,
   "metadata": {},
   "outputs": [],
   "source": [
    "\n",
    "test.head()"
   ]
  },
  {
   "cell_type": "code",
   "execution_count": null,
   "metadata": {},
   "outputs": [],
   "source": [
    "X_train, X_test, y_train, y_test = train_test_split(X, y,test_size=0.23)"
   ]
  },
  {
   "cell_type": "code",
   "execution_count": null,
   "metadata": {},
   "outputs": [],
   "source": [
    "gradient_model = make_pipeline(\n",
    "    GradientBoostingClassifier(n_estimators =70,max_depth=3, min_samples_leaf =1)\n",
    "\n",
    "\n",
    ")\n",
    "random_f_model = make_pipeline(\n",
    "    RandomForestClassifier(n_estimators =200,max_depth =9, min_samples_leaf=40)\n",
    ")\n",
    "neural_net_model = make_pipeline(\n",
    "    MLPClassifier(solver ='lbfgs',hidden_layer_sizes=(11,11),activation ='logistic')\n",
    ")\n",
    "\n",
    "knn_model = make_pipeline(\n",
    "        KNeighborsClassifier(n_neighbors=10)\n",
    ")\n",
    "\n",
    "\n",
    "models = [gradient_model,random_f_model,neural_net_model,knn_model]\n",
    "\n",
    "for i, m in enumerate(models):  \n",
    "    m.fit(X_train, y_train)\n",
    "    print(metrics.accuracy_score(y_test, m.predict(X_test)))\n"
   ]
  },
  {
   "cell_type": "code",
   "execution_count": null,
   "metadata": {},
   "outputs": [],
   "source": []
  }
 ],
 "metadata": {
  "kernelspec": {
   "display_name": "Python 3",
   "language": "python",
   "name": "python3"
  },
  "language_info": {
   "codemirror_mode": {
    "name": "ipython",
    "version": 3
   },
   "file_extension": ".py",
   "mimetype": "text/x-python",
   "name": "python",
   "nbconvert_exporter": "python",
   "pygments_lexer": "ipython3",
   "version": "3.7.6"
  }
 },
 "nbformat": 4,
 "nbformat_minor": 4
}
